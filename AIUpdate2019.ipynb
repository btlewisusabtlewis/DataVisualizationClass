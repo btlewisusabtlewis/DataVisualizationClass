{
  "nbformat": 4,
  "nbformat_minor": 0,
  "metadata": {
    "colab": {
      "name": "AIUpdate2019.ipynb",
      "provenance": [],
      "collapsed_sections": [],
      "include_colab_link": true
    },
    "kernelspec": {
      "name": "python3",
      "display_name": "Python 3"
    }
  },
  "cells": [
    {
      "cell_type": "markdown",
      "metadata": {
        "id": "view-in-github",
        "colab_type": "text"
      },
      "source": [
        "<a href=\"https://colab.research.google.com/github/btlewisusabtlewis/DataVisualizationClass/blob/master/AIUpdate2019.ipynb\" target=\"_parent\"><img src=\"https://colab.research.google.com/assets/colab-badge.svg\" alt=\"Open In Colab\"/></a>"
      ]
    },
    {
      "cell_type": "code",
      "metadata": {
        "id": "ucPklwqoSAIB",
        "colab_type": "code",
        "colab": {}
      },
      "source": [
        "import altair as alt"
      ],
      "execution_count": 0,
      "outputs": []
    },
    {
      "cell_type": "code",
      "metadata": {
        "id": "OSwDgyCXMrl4",
        "colab_type": "code",
        "colab": {}
      },
      "source": [
        "from altair import Chart"
      ],
      "execution_count": 0,
      "outputs": []
    },
    {
      "cell_type": "code",
      "metadata": {
        "id": "pOgSvYIHRjwp",
        "colab_type": "code",
        "colab": {}
      },
      "source": [
        "import pandas as pd"
      ],
      "execution_count": 0,
      "outputs": []
    },
    {
      "cell_type": "code",
      "metadata": {
        "id": "s7LqXAFNjrtj",
        "colab_type": "code",
        "colab": {
          "base_uri": "https://localhost:8080/",
          "height": 34
        },
        "outputId": "0ec4bf95-68bd-4778-8cd7-c6fc02cd66f2"
      },
      "source": [
        "alt.themes.enable('fivethirtyeight')"
      ],
      "execution_count": 159,
      "outputs": [
        {
          "output_type": "execute_result",
          "data": {
            "text/plain": [
              "ThemeRegistry.enable('fivethirtyeight')"
            ]
          },
          "metadata": {
            "tags": []
          },
          "execution_count": 159
        }
      ]
    },
    {
      "cell_type": "code",
      "metadata": {
        "id": "53ev_8pQQF2P",
        "colab_type": "code",
        "colab": {}
      },
      "source": [
        "arxiv_src = 'https://raw.githubusercontent.com/btlewisusabtlewis/DataVisualizationClass/master/arXiv%20-%20AI%20papers%201998%20to%202017.csv'"
      ],
      "execution_count": 0,
      "outputs": []
    },
    {
      "cell_type": "code",
      "metadata": {
        "id": "jXfCcxEaSGLb",
        "colab_type": "code",
        "colab": {}
      },
      "source": [
        "arxiv = pd.read_csv(arxiv_src)"
      ],
      "execution_count": 0,
      "outputs": []
    },
    {
      "cell_type": "code",
      "metadata": {
        "id": "yxikHTA1SQob",
        "colab_type": "code",
        "colab": {
          "base_uri": "https://localhost:8080/",
          "height": 204
        },
        "outputId": "41e39649-c049-4a8f-c154-5d99aa520b7b"
      },
      "source": [
        "arxiv.head()"
      ],
      "execution_count": 162,
      "outputs": [
        {
          "output_type": "execute_result",
          "data": {
            "text/html": [
              "<div>\n",
              "<style scoped>\n",
              "    .dataframe tbody tr th:only-of-type {\n",
              "        vertical-align: middle;\n",
              "    }\n",
              "\n",
              "    .dataframe tbody tr th {\n",
              "        vertical-align: top;\n",
              "    }\n",
              "\n",
              "    .dataframe thead th {\n",
              "        text-align: right;\n",
              "    }\n",
              "</style>\n",
              "<table border=\"1\" class=\"dataframe\">\n",
              "  <thead>\n",
              "    <tr style=\"text-align: right;\">\n",
              "      <th></th>\n",
              "      <th>Year</th>\n",
              "      <th>Artificial Intelligence</th>\n",
              "      <th>Natural  Language Processing</th>\n",
              "      <th>Computer Vision</th>\n",
              "      <th>Machine Learning</th>\n",
              "      <th>Neural Computing</th>\n",
              "      <th>Robotics</th>\n",
              "      <th>Sum</th>\n",
              "    </tr>\n",
              "  </thead>\n",
              "  <tbody>\n",
              "    <tr>\n",
              "      <th>0</th>\n",
              "      <td>1998</td>\n",
              "      <td>18</td>\n",
              "      <td>32</td>\n",
              "      <td>2</td>\n",
              "      <td>2</td>\n",
              "      <td>10</td>\n",
              "      <td>1</td>\n",
              "      <td>65</td>\n",
              "    </tr>\n",
              "    <tr>\n",
              "      <th>1</th>\n",
              "      <td>1999</td>\n",
              "      <td>9</td>\n",
              "      <td>56</td>\n",
              "      <td>1</td>\n",
              "      <td>10</td>\n",
              "      <td>4</td>\n",
              "      <td>0</td>\n",
              "      <td>80</td>\n",
              "    </tr>\n",
              "    <tr>\n",
              "      <th>2</th>\n",
              "      <td>2000</td>\n",
              "      <td>72</td>\n",
              "      <td>116</td>\n",
              "      <td>10</td>\n",
              "      <td>13</td>\n",
              "      <td>3</td>\n",
              "      <td>8</td>\n",
              "      <td>222</td>\n",
              "    </tr>\n",
              "    <tr>\n",
              "      <th>3</th>\n",
              "      <td>2001</td>\n",
              "      <td>30</td>\n",
              "      <td>69</td>\n",
              "      <td>4</td>\n",
              "      <td>11</td>\n",
              "      <td>6</td>\n",
              "      <td>0</td>\n",
              "      <td>120</td>\n",
              "    </tr>\n",
              "    <tr>\n",
              "      <th>4</th>\n",
              "      <td>2002</td>\n",
              "      <td>79</td>\n",
              "      <td>56</td>\n",
              "      <td>4</td>\n",
              "      <td>33</td>\n",
              "      <td>11</td>\n",
              "      <td>4</td>\n",
              "      <td>187</td>\n",
              "    </tr>\n",
              "  </tbody>\n",
              "</table>\n",
              "</div>"
            ],
            "text/plain": [
              "   Year  Artificial Intelligence  ...  Robotics  Sum\n",
              "0  1998                       18  ...         1   65\n",
              "1  1999                        9  ...         0   80\n",
              "2  2000                       72  ...         8  222\n",
              "3  2001                       30  ...         0  120\n",
              "4  2002                       79  ...         4  187\n",
              "\n",
              "[5 rows x 8 columns]"
            ]
          },
          "metadata": {
            "tags": []
          },
          "execution_count": 162
        }
      ]
    },
    {
      "cell_type": "code",
      "metadata": {
        "id": "50UU2MW5neFw",
        "colab_type": "code",
        "colab": {}
      },
      "source": [
        "arxiv = arxiv.drop(['Robotics', 'Sum'], axis=1)"
      ],
      "execution_count": 0,
      "outputs": []
    },
    {
      "cell_type": "code",
      "metadata": {
        "id": "rAELbPJPSW7s",
        "colab_type": "code",
        "colab": {}
      },
      "source": [
        "arxpub = pd.melt(arxiv, id_vars =['Year'], var_name ='Category', value_name ='Publications')"
      ],
      "execution_count": 0,
      "outputs": []
    },
    {
      "cell_type": "code",
      "metadata": {
        "id": "vYyeEZ6NSl-H",
        "colab_type": "code",
        "colab": {
          "base_uri": "https://localhost:8080/",
          "height": 204
        },
        "outputId": "2e2c909c-173e-497c-872e-27b0939c0587"
      },
      "source": [
        "arxpub.head()"
      ],
      "execution_count": 165,
      "outputs": [
        {
          "output_type": "execute_result",
          "data": {
            "text/html": [
              "<div>\n",
              "<style scoped>\n",
              "    .dataframe tbody tr th:only-of-type {\n",
              "        vertical-align: middle;\n",
              "    }\n",
              "\n",
              "    .dataframe tbody tr th {\n",
              "        vertical-align: top;\n",
              "    }\n",
              "\n",
              "    .dataframe thead th {\n",
              "        text-align: right;\n",
              "    }\n",
              "</style>\n",
              "<table border=\"1\" class=\"dataframe\">\n",
              "  <thead>\n",
              "    <tr style=\"text-align: right;\">\n",
              "      <th></th>\n",
              "      <th>Year</th>\n",
              "      <th>Category</th>\n",
              "      <th>Publications</th>\n",
              "    </tr>\n",
              "  </thead>\n",
              "  <tbody>\n",
              "    <tr>\n",
              "      <th>0</th>\n",
              "      <td>1998</td>\n",
              "      <td>Artificial Intelligence</td>\n",
              "      <td>18</td>\n",
              "    </tr>\n",
              "    <tr>\n",
              "      <th>1</th>\n",
              "      <td>1999</td>\n",
              "      <td>Artificial Intelligence</td>\n",
              "      <td>9</td>\n",
              "    </tr>\n",
              "    <tr>\n",
              "      <th>2</th>\n",
              "      <td>2000</td>\n",
              "      <td>Artificial Intelligence</td>\n",
              "      <td>72</td>\n",
              "    </tr>\n",
              "    <tr>\n",
              "      <th>3</th>\n",
              "      <td>2001</td>\n",
              "      <td>Artificial Intelligence</td>\n",
              "      <td>30</td>\n",
              "    </tr>\n",
              "    <tr>\n",
              "      <th>4</th>\n",
              "      <td>2002</td>\n",
              "      <td>Artificial Intelligence</td>\n",
              "      <td>79</td>\n",
              "    </tr>\n",
              "  </tbody>\n",
              "</table>\n",
              "</div>"
            ],
            "text/plain": [
              "   Year                 Category  Publications\n",
              "0  1998  Artificial Intelligence            18\n",
              "1  1999  Artificial Intelligence             9\n",
              "2  2000  Artificial Intelligence            72\n",
              "3  2001  Artificial Intelligence            30\n",
              "4  2002  Artificial Intelligence            79"
            ]
          },
          "metadata": {
            "tags": []
          },
          "execution_count": 165
        }
      ]
    },
    {
      "cell_type": "code",
      "metadata": {
        "id": "Y00I4EGMBwvj",
        "colab_type": "code",
        "colab": {}
      },
      "source": [
        "arxpub = arxpub[arxpub.Year >= 2000]"
      ],
      "execution_count": 0,
      "outputs": []
    },
    {
      "cell_type": "code",
      "metadata": {
        "id": "jYgOYgAECCJJ",
        "colab_type": "code",
        "colab": {
          "base_uri": "https://localhost:8080/",
          "height": 204
        },
        "outputId": "0cc05036-6846-4761-eea3-2034f3b219f8"
      },
      "source": [
        "arxpub.head()"
      ],
      "execution_count": 167,
      "outputs": [
        {
          "output_type": "execute_result",
          "data": {
            "text/html": [
              "<div>\n",
              "<style scoped>\n",
              "    .dataframe tbody tr th:only-of-type {\n",
              "        vertical-align: middle;\n",
              "    }\n",
              "\n",
              "    .dataframe tbody tr th {\n",
              "        vertical-align: top;\n",
              "    }\n",
              "\n",
              "    .dataframe thead th {\n",
              "        text-align: right;\n",
              "    }\n",
              "</style>\n",
              "<table border=\"1\" class=\"dataframe\">\n",
              "  <thead>\n",
              "    <tr style=\"text-align: right;\">\n",
              "      <th></th>\n",
              "      <th>Year</th>\n",
              "      <th>Category</th>\n",
              "      <th>Publications</th>\n",
              "    </tr>\n",
              "  </thead>\n",
              "  <tbody>\n",
              "    <tr>\n",
              "      <th>2</th>\n",
              "      <td>2000</td>\n",
              "      <td>Artificial Intelligence</td>\n",
              "      <td>72</td>\n",
              "    </tr>\n",
              "    <tr>\n",
              "      <th>3</th>\n",
              "      <td>2001</td>\n",
              "      <td>Artificial Intelligence</td>\n",
              "      <td>30</td>\n",
              "    </tr>\n",
              "    <tr>\n",
              "      <th>4</th>\n",
              "      <td>2002</td>\n",
              "      <td>Artificial Intelligence</td>\n",
              "      <td>79</td>\n",
              "    </tr>\n",
              "    <tr>\n",
              "      <th>5</th>\n",
              "      <td>2003</td>\n",
              "      <td>Artificial Intelligence</td>\n",
              "      <td>86</td>\n",
              "    </tr>\n",
              "    <tr>\n",
              "      <th>6</th>\n",
              "      <td>2004</td>\n",
              "      <td>Artificial Intelligence</td>\n",
              "      <td>105</td>\n",
              "    </tr>\n",
              "  </tbody>\n",
              "</table>\n",
              "</div>"
            ],
            "text/plain": [
              "   Year                 Category  Publications\n",
              "2  2000  Artificial Intelligence            72\n",
              "3  2001  Artificial Intelligence            30\n",
              "4  2002  Artificial Intelligence            79\n",
              "5  2003  Artificial Intelligence            86\n",
              "6  2004  Artificial Intelligence           105"
            ]
          },
          "metadata": {
            "tags": []
          },
          "execution_count": 167
        }
      ]
    },
    {
      "cell_type": "code",
      "metadata": {
        "id": "AzRwZABxSob_",
        "colab_type": "code",
        "colab": {
          "base_uri": "https://localhost:8080/",
          "height": 691
        },
        "outputId": "50bf602c-83e4-4149-8132-5af34baafc02"
      },
      "source": [
        "arxiv_pubs = Chart(arxpub, title=\"arXiv: AI Publications by Category 2000 to 2017\").properties(\n",
        "    width=800, \n",
        "    height=550,\n",
        "    background='#F9F9F9'\n",
        ").mark_line(\n",
        "    strokeWidth=4\n",
        ").encode(\n",
        "    x='Year:O',\n",
        "    y=alt.Y('Publications:Q', title = 'Number of Publications'),\n",
        "    color='Category:N'\n",
        ")\n",
        "arxiv_pubs.configure_legend(\n",
        "    strokeColor='gray',\n",
        "    fillColor='#FFFFFF',\n",
        "    padding=10,\n",
        "    cornerRadius=10,\n",
        "    orient='top-left'\n",
        ")"
      ],
      "execution_count": 317,
      "outputs": [
        {
          "output_type": "execute_result",
          "data": {
            "text/plain": [
              "alt.Chart(...)"
            ],
            "text/html": [
              "<!DOCTYPE html>\n",
              "<html>\n",
              "<head>\n",
              "  <style>\n",
              "    .vega-actions a {\n",
              "        margin-right: 12px;\n",
              "        color: #757575;\n",
              "        font-weight: normal;\n",
              "        font-size: 13px;\n",
              "    }\n",
              "    .error {\n",
              "        color: red;\n",
              "    }\n",
              "  </style>\n",
              "  <script type=\"text/javascript\" src=\"https://cdn.jsdelivr.net/npm//vega@5\"></script>\n",
              "  <script type=\"text/javascript\" src=\"https://cdn.jsdelivr.net/npm//vega-lite@3.4.0\"></script>\n",
              "  <script type=\"text/javascript\" src=\"https://cdn.jsdelivr.net/npm//vega-embed@4\"></script>\n",
              "</head>\n",
              "<body>\n",
              "  <div id=\"altair-viz\"></div>\n",
              "  <script>\n",
              "    (function(vegaEmbed) {\n",
              "      var spec = {\"usermeta\": {\"embedOptions\": {\"theme\": \"fivethirtyeight\"}}, \"config\": {\"view\": {\"width\": 400, \"height\": 300}, \"mark\": {\"tooltip\": null}, \"legend\": {\"cornerRadius\": 10, \"fillColor\": \"#FFFFFF\", \"orient\": \"top-left\", \"padding\": 10, \"strokeColor\": \"gray\"}}, \"data\": {\"name\": \"data-d676238ab394846494c8bf04c028a492\"}, \"mark\": {\"type\": \"line\", \"strokeWidth\": 4}, \"background\": \"#F9F9F9\", \"encoding\": {\"color\": {\"type\": \"nominal\", \"field\": \"Category\"}, \"x\": {\"type\": \"ordinal\", \"field\": \"Year\"}, \"y\": {\"type\": \"quantitative\", \"field\": \"Publications\", \"title\": \"Number of Publications\"}}, \"height\": 550, \"title\": \"arXiv: AI Publications by Category 2000 to 2017\", \"width\": 800, \"$schema\": \"https://vega.github.io/schema/vega-lite/v3.4.0.json\", \"datasets\": {\"data-d676238ab394846494c8bf04c028a492\": [{\"Year\": 2000, \"Category\": \"Artificial Intelligence\", \"Publications\": 72}, {\"Year\": 2001, \"Category\": \"Artificial Intelligence\", \"Publications\": 30}, {\"Year\": 2002, \"Category\": \"Artificial Intelligence\", \"Publications\": 79}, {\"Year\": 2003, \"Category\": \"Artificial Intelligence\", \"Publications\": 86}, {\"Year\": 2004, \"Category\": \"Artificial Intelligence\", \"Publications\": 105}, {\"Year\": 2005, \"Category\": \"Artificial Intelligence\", \"Publications\": 77}, {\"Year\": 2006, \"Category\": \"Artificial Intelligence\", \"Publications\": 106}, {\"Year\": 2007, \"Category\": \"Artificial Intelligence\", \"Publications\": 101}, {\"Year\": 2008, \"Category\": \"Artificial Intelligence\", \"Publications\": 146}, {\"Year\": 2009, \"Category\": \"Artificial Intelligence\", \"Publications\": 232}, {\"Year\": 2010, \"Category\": \"Artificial Intelligence\", \"Publications\": 312}, {\"Year\": 2011, \"Category\": \"Artificial Intelligence\", \"Publications\": 541}, {\"Year\": 2012, \"Category\": \"Artificial Intelligence\", \"Publications\": 681}, {\"Year\": 2013, \"Category\": \"Artificial Intelligence\", \"Publications\": 1419}, {\"Year\": 2014, \"Category\": \"Artificial Intelligence\", \"Publications\": 665}, {\"Year\": 2015, \"Category\": \"Artificial Intelligence\", \"Publications\": 587}, {\"Year\": 2016, \"Category\": \"Artificial Intelligence\", \"Publications\": 877}, {\"Year\": 2017, \"Category\": \"Artificial Intelligence\", \"Publications\": 1204}, {\"Year\": 2000, \"Category\": \"Natural  Language Processing\", \"Publications\": 116}, {\"Year\": 2001, \"Category\": \"Natural  Language Processing\", \"Publications\": 69}, {\"Year\": 2002, \"Category\": \"Natural  Language Processing\", \"Publications\": 56}, {\"Year\": 2003, \"Category\": \"Natural  Language Processing\", \"Publications\": 46}, {\"Year\": 2004, \"Category\": \"Natural  Language Processing\", \"Publications\": 45}, {\"Year\": 2005, \"Category\": \"Natural  Language Processing\", \"Publications\": 14}, {\"Year\": 2006, \"Category\": \"Natural  Language Processing\", \"Publications\": 35}, {\"Year\": 2007, \"Category\": \"Natural  Language Processing\", \"Publications\": 46}, {\"Year\": 2008, \"Category\": \"Natural  Language Processing\", \"Publications\": 48}, {\"Year\": 2009, \"Category\": \"Natural  Language Processing\", \"Publications\": 72}, {\"Year\": 2010, \"Category\": \"Natural  Language Processing\", \"Publications\": 67}, {\"Year\": 2011, \"Category\": \"Natural  Language Processing\", \"Publications\": 93}, {\"Year\": 2012, \"Category\": \"Natural  Language Processing\", \"Publications\": 147}, {\"Year\": 2013, \"Category\": \"Natural  Language Processing\", \"Publications\": 216}, {\"Year\": 2014, \"Category\": \"Natural  Language Processing\", \"Publications\": 339}, {\"Year\": 2015, \"Category\": \"Natural  Language Processing\", \"Publications\": 582}, {\"Year\": 2016, \"Category\": \"Natural  Language Processing\", \"Publications\": 1306}, {\"Year\": 2017, \"Category\": \"Natural  Language Processing\", \"Publications\": 1921}, {\"Year\": 2000, \"Category\": \"Computer Vision\", \"Publications\": 10}, {\"Year\": 2001, \"Category\": \"Computer Vision\", \"Publications\": 4}, {\"Year\": 2002, \"Category\": \"Computer Vision\", \"Publications\": 4}, {\"Year\": 2003, \"Category\": \"Computer Vision\", \"Publications\": 16}, {\"Year\": 2004, \"Category\": \"Computer Vision\", \"Publications\": 17}, {\"Year\": 2005, \"Category\": \"Computer Vision\", \"Publications\": 22}, {\"Year\": 2006, \"Category\": \"Computer Vision\", \"Publications\": 25}, {\"Year\": 2007, \"Category\": \"Computer Vision\", \"Publications\": 38}, {\"Year\": 2008, \"Category\": \"Computer Vision\", \"Publications\": 59}, {\"Year\": 2009, \"Category\": \"Computer Vision\", \"Publications\": 101}, {\"Year\": 2010, \"Category\": \"Computer Vision\", \"Publications\": 239}, {\"Year\": 2011, \"Category\": \"Computer Vision\", \"Publications\": 278}, {\"Year\": 2012, \"Category\": \"Computer Vision\", \"Publications\": 423}, {\"Year\": 2013, \"Category\": \"Computer Vision\", \"Publications\": 653}, {\"Year\": 2014, \"Category\": \"Computer Vision\", \"Publications\": 1099}, {\"Year\": 2015, \"Category\": \"Computer Vision\", \"Publications\": 1857}, {\"Year\": 2016, \"Category\": \"Computer Vision\", \"Publications\": 3085}, {\"Year\": 2017, \"Category\": \"Computer Vision\", \"Publications\": 4895}, {\"Year\": 2000, \"Category\": \"Machine Learning\", \"Publications\": 13}, {\"Year\": 2001, \"Category\": \"Machine Learning\", \"Publications\": 11}, {\"Year\": 2002, \"Category\": \"Machine Learning\", \"Publications\": 33}, {\"Year\": 2003, \"Category\": \"Machine Learning\", \"Publications\": 11}, {\"Year\": 2004, \"Category\": \"Machine Learning\", \"Publications\": 16}, {\"Year\": 2005, \"Category\": \"Machine Learning\", \"Publications\": 39}, {\"Year\": 2006, \"Category\": \"Machine Learning\", \"Publications\": 40}, {\"Year\": 2007, \"Category\": \"Machine Learning\", \"Publications\": 46}, {\"Year\": 2008, \"Category\": \"Machine Learning\", \"Publications\": 77}, {\"Year\": 2009, \"Category\": \"Machine Learning\", \"Publications\": 128}, {\"Year\": 2010, \"Category\": \"Machine Learning\", \"Publications\": 190}, {\"Year\": 2011, \"Category\": \"Machine Learning\", \"Publications\": 245}, {\"Year\": 2012, \"Category\": \"Machine Learning\", \"Publications\": 783}, {\"Year\": 2013, \"Category\": \"Machine Learning\", \"Publications\": 714}, {\"Year\": 2014, \"Category\": \"Machine Learning\", \"Publications\": 737}, {\"Year\": 2015, \"Category\": \"Machine Learning\", \"Publications\": 1121}, {\"Year\": 2016, \"Category\": \"Machine Learning\", \"Publications\": 1525}, {\"Year\": 2017, \"Category\": \"Machine Learning\", \"Publications\": 2332}, {\"Year\": 2000, \"Category\": \"Neural Computing\", \"Publications\": 3}, {\"Year\": 2001, \"Category\": \"Neural Computing\", \"Publications\": 6}, {\"Year\": 2002, \"Category\": \"Neural Computing\", \"Publications\": 11}, {\"Year\": 2003, \"Category\": \"Neural Computing\", \"Publications\": 15}, {\"Year\": 2004, \"Category\": \"Neural Computing\", \"Publications\": 28}, {\"Year\": 2005, \"Category\": \"Neural Computing\", \"Publications\": 42}, {\"Year\": 2006, \"Category\": \"Neural Computing\", \"Publications\": 26}, {\"Year\": 2007, \"Category\": \"Neural Computing\", \"Publications\": 55}, {\"Year\": 2008, \"Category\": \"Neural Computing\", \"Publications\": 95}, {\"Year\": 2009, \"Category\": \"Neural Computing\", \"Publications\": 71}, {\"Year\": 2010, \"Category\": \"Neural Computing\", \"Publications\": 93}, {\"Year\": 2011, \"Category\": \"Neural Computing\", \"Publications\": 91}, {\"Year\": 2012, \"Category\": \"Neural Computing\", \"Publications\": 151}, {\"Year\": 2013, \"Category\": \"Neural Computing\", \"Publications\": 194}, {\"Year\": 2014, \"Category\": \"Neural Computing\", \"Publications\": 252}, {\"Year\": 2015, \"Category\": \"Neural Computing\", \"Publications\": 256}, {\"Year\": 2016, \"Category\": \"Neural Computing\", \"Publications\": 313}, {\"Year\": 2017, \"Category\": \"Neural Computing\", \"Publications\": 413}]}};\n",
              "      var embedOpt = {\"mode\": \"vega-lite\"};\n",
              "\n",
              "      function showError(el, error){\n",
              "          el.innerHTML = ('<div class=\"error\" style=\"color:red;\">'\n",
              "                          + '<p>JavaScript Error: ' + error.message + '</p>'\n",
              "                          + \"<p>This usually means there's a typo in your chart specification. \"\n",
              "                          + \"See the javascript console for the full traceback.</p>\"\n",
              "                          + '</div>');\n",
              "          throw error;\n",
              "      }\n",
              "      const el = document.getElementById('altair-viz');\n",
              "      vegaEmbed(\"#altair-viz\", spec, embedOpt)\n",
              "        .catch(error => showError(el, error));\n",
              "    })(vegaEmbed);\n",
              "\n",
              "  </script>\n",
              "</body>\n",
              "</html>"
            ]
          },
          "metadata": {
            "tags": []
          },
          "execution_count": 317
        }
      ]
    },
    {
      "cell_type": "code",
      "metadata": {
        "id": "h400oud5Tyw3",
        "colab_type": "code",
        "colab": {}
      },
      "source": [
        "aig_source = 'https://raw.githubusercontent.com/btlewisusabtlewis/DataVisualizationClass/master/Scopus%20-%20AI%20vs%20CS%20paper%20growth%201996%20to%202018.csv'"
      ],
      "execution_count": 0,
      "outputs": []
    },
    {
      "cell_type": "code",
      "metadata": {
        "id": "xPzutIjBdgZ_",
        "colab_type": "code",
        "colab": {}
      },
      "source": [
        "aig = pd.read_csv(aig_source)"
      ],
      "execution_count": 0,
      "outputs": []
    },
    {
      "cell_type": "code",
      "metadata": {
        "id": "oFAG0iJgdqh-",
        "colab_type": "code",
        "colab": {
          "base_uri": "https://localhost:8080/",
          "height": 204
        },
        "outputId": "e8a3ee04-467f-4bd6-ad35-222f57d2ab6b"
      },
      "source": [
        "aig.head()"
      ],
      "execution_count": 171,
      "outputs": [
        {
          "output_type": "execute_result",
          "data": {
            "text/html": [
              "<div>\n",
              "<style scoped>\n",
              "    .dataframe tbody tr th:only-of-type {\n",
              "        vertical-align: middle;\n",
              "    }\n",
              "\n",
              "    .dataframe tbody tr th {\n",
              "        vertical-align: top;\n",
              "    }\n",
              "\n",
              "    .dataframe thead th {\n",
              "        text-align: right;\n",
              "    }\n",
              "</style>\n",
              "<table border=\"1\" class=\"dataframe\">\n",
              "  <thead>\n",
              "    <tr style=\"text-align: right;\">\n",
              "      <th></th>\n",
              "      <th>Year</th>\n",
              "      <th>AI Papers Published</th>\n",
              "      <th>CS Papers Published</th>\n",
              "      <th>AI Paper Growth</th>\n",
              "      <th>CS Paper Growth</th>\n",
              "    </tr>\n",
              "  </thead>\n",
              "  <tbody>\n",
              "    <tr>\n",
              "      <th>0</th>\n",
              "      <td>1996</td>\n",
              "      <td>2,868</td>\n",
              "      <td>63,629</td>\n",
              "      <td>1.00</td>\n",
              "      <td>1.00</td>\n",
              "    </tr>\n",
              "    <tr>\n",
              "      <th>1</th>\n",
              "      <td>1997</td>\n",
              "      <td>3,413</td>\n",
              "      <td>69,844</td>\n",
              "      <td>1.19</td>\n",
              "      <td>1.10</td>\n",
              "    </tr>\n",
              "    <tr>\n",
              "      <th>2</th>\n",
              "      <td>1998</td>\n",
              "      <td>3,446</td>\n",
              "      <td>77,690</td>\n",
              "      <td>1.20</td>\n",
              "      <td>1.22</td>\n",
              "    </tr>\n",
              "    <tr>\n",
              "      <th>3</th>\n",
              "      <td>1999</td>\n",
              "      <td>3,599</td>\n",
              "      <td>75,387</td>\n",
              "      <td>1.25</td>\n",
              "      <td>1.18</td>\n",
              "    </tr>\n",
              "    <tr>\n",
              "      <th>4</th>\n",
              "      <td>2000</td>\n",
              "      <td>3,416</td>\n",
              "      <td>80,289</td>\n",
              "      <td>1.19</td>\n",
              "      <td>1.26</td>\n",
              "    </tr>\n",
              "  </tbody>\n",
              "</table>\n",
              "</div>"
            ],
            "text/plain": [
              "   Year AI Papers Published  ... AI Paper Growth  CS Paper Growth\n",
              "0  1996               2,868  ...            1.00             1.00\n",
              "1  1997               3,413  ...            1.19             1.10\n",
              "2  1998               3,446  ...            1.20             1.22\n",
              "3  1999               3,599  ...            1.25             1.18\n",
              "4  2000               3,416  ...            1.19             1.26\n",
              "\n",
              "[5 rows x 5 columns]"
            ]
          },
          "metadata": {
            "tags": []
          },
          "execution_count": 171
        }
      ]
    },
    {
      "cell_type": "code",
      "metadata": {
        "id": "SG9I1mmIdvbP",
        "colab_type": "code",
        "colab": {}
      },
      "source": [
        "aig_growth_sub = aig[['Year', 'AI Paper Growth', 'CS Paper Growth']]"
      ],
      "execution_count": 0,
      "outputs": []
    },
    {
      "cell_type": "code",
      "metadata": {
        "id": "GxA75v8GeK2H",
        "colab_type": "code",
        "colab": {
          "base_uri": "https://localhost:8080/",
          "height": 204
        },
        "outputId": "bf008d6b-4fab-409f-ec9c-d3935926cb48"
      },
      "source": [
        "aig_growth_sub.head()"
      ],
      "execution_count": 173,
      "outputs": [
        {
          "output_type": "execute_result",
          "data": {
            "text/html": [
              "<div>\n",
              "<style scoped>\n",
              "    .dataframe tbody tr th:only-of-type {\n",
              "        vertical-align: middle;\n",
              "    }\n",
              "\n",
              "    .dataframe tbody tr th {\n",
              "        vertical-align: top;\n",
              "    }\n",
              "\n",
              "    .dataframe thead th {\n",
              "        text-align: right;\n",
              "    }\n",
              "</style>\n",
              "<table border=\"1\" class=\"dataframe\">\n",
              "  <thead>\n",
              "    <tr style=\"text-align: right;\">\n",
              "      <th></th>\n",
              "      <th>Year</th>\n",
              "      <th>AI Paper Growth</th>\n",
              "      <th>CS Paper Growth</th>\n",
              "    </tr>\n",
              "  </thead>\n",
              "  <tbody>\n",
              "    <tr>\n",
              "      <th>0</th>\n",
              "      <td>1996</td>\n",
              "      <td>1.00</td>\n",
              "      <td>1.00</td>\n",
              "    </tr>\n",
              "    <tr>\n",
              "      <th>1</th>\n",
              "      <td>1997</td>\n",
              "      <td>1.19</td>\n",
              "      <td>1.10</td>\n",
              "    </tr>\n",
              "    <tr>\n",
              "      <th>2</th>\n",
              "      <td>1998</td>\n",
              "      <td>1.20</td>\n",
              "      <td>1.22</td>\n",
              "    </tr>\n",
              "    <tr>\n",
              "      <th>3</th>\n",
              "      <td>1999</td>\n",
              "      <td>1.25</td>\n",
              "      <td>1.18</td>\n",
              "    </tr>\n",
              "    <tr>\n",
              "      <th>4</th>\n",
              "      <td>2000</td>\n",
              "      <td>1.19</td>\n",
              "      <td>1.26</td>\n",
              "    </tr>\n",
              "  </tbody>\n",
              "</table>\n",
              "</div>"
            ],
            "text/plain": [
              "   Year  AI Paper Growth  CS Paper Growth\n",
              "0  1996             1.00             1.00\n",
              "1  1997             1.19             1.10\n",
              "2  1998             1.20             1.22\n",
              "3  1999             1.25             1.18\n",
              "4  2000             1.19             1.26"
            ]
          },
          "metadata": {
            "tags": []
          },
          "execution_count": 173
        }
      ]
    },
    {
      "cell_type": "code",
      "metadata": {
        "id": "ine_SwPWgTku",
        "colab_type": "code",
        "colab": {}
      },
      "source": [
        "aig_growth_sub = aig_growth_sub.rename(columns={\"AI Paper Growth\": \"AI Papers\", \"CS Paper Growth\": \"CS Papers\"})"
      ],
      "execution_count": 0,
      "outputs": []
    },
    {
      "cell_type": "code",
      "metadata": {
        "id": "oz-yf19UgoUE",
        "colab_type": "code",
        "colab": {
          "base_uri": "https://localhost:8080/",
          "height": 204
        },
        "outputId": "d544f298-8ebc-43ff-cde1-cf85fe130ddf"
      },
      "source": [
        "aig_growth_sub.head()"
      ],
      "execution_count": 175,
      "outputs": [
        {
          "output_type": "execute_result",
          "data": {
            "text/html": [
              "<div>\n",
              "<style scoped>\n",
              "    .dataframe tbody tr th:only-of-type {\n",
              "        vertical-align: middle;\n",
              "    }\n",
              "\n",
              "    .dataframe tbody tr th {\n",
              "        vertical-align: top;\n",
              "    }\n",
              "\n",
              "    .dataframe thead th {\n",
              "        text-align: right;\n",
              "    }\n",
              "</style>\n",
              "<table border=\"1\" class=\"dataframe\">\n",
              "  <thead>\n",
              "    <tr style=\"text-align: right;\">\n",
              "      <th></th>\n",
              "      <th>Year</th>\n",
              "      <th>AI Papers</th>\n",
              "      <th>CS Papers</th>\n",
              "    </tr>\n",
              "  </thead>\n",
              "  <tbody>\n",
              "    <tr>\n",
              "      <th>0</th>\n",
              "      <td>1996</td>\n",
              "      <td>1.00</td>\n",
              "      <td>1.00</td>\n",
              "    </tr>\n",
              "    <tr>\n",
              "      <th>1</th>\n",
              "      <td>1997</td>\n",
              "      <td>1.19</td>\n",
              "      <td>1.10</td>\n",
              "    </tr>\n",
              "    <tr>\n",
              "      <th>2</th>\n",
              "      <td>1998</td>\n",
              "      <td>1.20</td>\n",
              "      <td>1.22</td>\n",
              "    </tr>\n",
              "    <tr>\n",
              "      <th>3</th>\n",
              "      <td>1999</td>\n",
              "      <td>1.25</td>\n",
              "      <td>1.18</td>\n",
              "    </tr>\n",
              "    <tr>\n",
              "      <th>4</th>\n",
              "      <td>2000</td>\n",
              "      <td>1.19</td>\n",
              "      <td>1.26</td>\n",
              "    </tr>\n",
              "  </tbody>\n",
              "</table>\n",
              "</div>"
            ],
            "text/plain": [
              "   Year  AI Papers  CS Papers\n",
              "0  1996       1.00       1.00\n",
              "1  1997       1.19       1.10\n",
              "2  1998       1.20       1.22\n",
              "3  1999       1.25       1.18\n",
              "4  2000       1.19       1.26"
            ]
          },
          "metadata": {
            "tags": []
          },
          "execution_count": 175
        }
      ]
    },
    {
      "cell_type": "code",
      "metadata": {
        "id": "6EyE9nmle4T5",
        "colab_type": "code",
        "colab": {}
      },
      "source": [
        "aig_growth = pd.melt(aig_growth_sub, id_vars =['Year'], var_name ='Category', value_name ='Growth')"
      ],
      "execution_count": 0,
      "outputs": []
    },
    {
      "cell_type": "code",
      "metadata": {
        "id": "stU6tEwQgA35",
        "colab_type": "code",
        "colab": {
          "base_uri": "https://localhost:8080/",
          "height": 204
        },
        "outputId": "e4732a29-81f3-4a75-a9bf-07a31d30d89c"
      },
      "source": [
        "aig_growth.head()"
      ],
      "execution_count": 177,
      "outputs": [
        {
          "output_type": "execute_result",
          "data": {
            "text/html": [
              "<div>\n",
              "<style scoped>\n",
              "    .dataframe tbody tr th:only-of-type {\n",
              "        vertical-align: middle;\n",
              "    }\n",
              "\n",
              "    .dataframe tbody tr th {\n",
              "        vertical-align: top;\n",
              "    }\n",
              "\n",
              "    .dataframe thead th {\n",
              "        text-align: right;\n",
              "    }\n",
              "</style>\n",
              "<table border=\"1\" class=\"dataframe\">\n",
              "  <thead>\n",
              "    <tr style=\"text-align: right;\">\n",
              "      <th></th>\n",
              "      <th>Year</th>\n",
              "      <th>Category</th>\n",
              "      <th>Growth</th>\n",
              "    </tr>\n",
              "  </thead>\n",
              "  <tbody>\n",
              "    <tr>\n",
              "      <th>0</th>\n",
              "      <td>1996</td>\n",
              "      <td>AI Papers</td>\n",
              "      <td>1.00</td>\n",
              "    </tr>\n",
              "    <tr>\n",
              "      <th>1</th>\n",
              "      <td>1997</td>\n",
              "      <td>AI Papers</td>\n",
              "      <td>1.19</td>\n",
              "    </tr>\n",
              "    <tr>\n",
              "      <th>2</th>\n",
              "      <td>1998</td>\n",
              "      <td>AI Papers</td>\n",
              "      <td>1.20</td>\n",
              "    </tr>\n",
              "    <tr>\n",
              "      <th>3</th>\n",
              "      <td>1999</td>\n",
              "      <td>AI Papers</td>\n",
              "      <td>1.25</td>\n",
              "    </tr>\n",
              "    <tr>\n",
              "      <th>4</th>\n",
              "      <td>2000</td>\n",
              "      <td>AI Papers</td>\n",
              "      <td>1.19</td>\n",
              "    </tr>\n",
              "  </tbody>\n",
              "</table>\n",
              "</div>"
            ],
            "text/plain": [
              "   Year   Category  Growth\n",
              "0  1996  AI Papers    1.00\n",
              "1  1997  AI Papers    1.19\n",
              "2  1998  AI Papers    1.20\n",
              "3  1999  AI Papers    1.25\n",
              "4  2000  AI Papers    1.19"
            ]
          },
          "metadata": {
            "tags": []
          },
          "execution_count": 177
        }
      ]
    },
    {
      "cell_type": "code",
      "metadata": {
        "id": "8DLJlilVgFmh",
        "colab_type": "code",
        "colab": {
          "base_uri": "https://localhost:8080/",
          "height": 397
        },
        "outputId": "9ddc6152-452a-41f2-856e-1844b01d6f29"
      },
      "source": [
        "Chart(aig_growth).properties(\n",
        "    width=500, \n",
        "    height=300,\n",
        "    background='#F9F9F9'\n",
        ").mark_line().encode(\n",
        "    x='Year:O',\n",
        "    y=alt.Y('Growth:Q', axis=alt.Axis(format='%')),\n",
        "    color='Category:N'\n",
        ")"
      ],
      "execution_count": 318,
      "outputs": [
        {
          "output_type": "execute_result",
          "data": {
            "text/plain": [
              "alt.Chart(...)"
            ],
            "text/html": [
              "<!DOCTYPE html>\n",
              "<html>\n",
              "<head>\n",
              "  <style>\n",
              "    .vega-actions a {\n",
              "        margin-right: 12px;\n",
              "        color: #757575;\n",
              "        font-weight: normal;\n",
              "        font-size: 13px;\n",
              "    }\n",
              "    .error {\n",
              "        color: red;\n",
              "    }\n",
              "  </style>\n",
              "  <script type=\"text/javascript\" src=\"https://cdn.jsdelivr.net/npm//vega@5\"></script>\n",
              "  <script type=\"text/javascript\" src=\"https://cdn.jsdelivr.net/npm//vega-lite@3.4.0\"></script>\n",
              "  <script type=\"text/javascript\" src=\"https://cdn.jsdelivr.net/npm//vega-embed@4\"></script>\n",
              "</head>\n",
              "<body>\n",
              "  <div id=\"altair-viz\"></div>\n",
              "  <script>\n",
              "    (function(vegaEmbed) {\n",
              "      var spec = {\"usermeta\": {\"embedOptions\": {\"theme\": \"fivethirtyeight\"}}, \"config\": {\"view\": {\"width\": 400, \"height\": 300}, \"mark\": {\"tooltip\": null}}, \"data\": {\"name\": \"data-fed5479d7de12e45d02a111fa26a592e\"}, \"mark\": \"line\", \"background\": \"#F9F9F9\", \"encoding\": {\"color\": {\"type\": \"nominal\", \"field\": \"Category\"}, \"x\": {\"type\": \"ordinal\", \"field\": \"Year\"}, \"y\": {\"type\": \"quantitative\", \"axis\": {\"format\": \"%\"}, \"field\": \"Growth\"}}, \"height\": 300, \"width\": 500, \"$schema\": \"https://vega.github.io/schema/vega-lite/v3.4.0.json\", \"datasets\": {\"data-fed5479d7de12e45d02a111fa26a592e\": [{\"Year\": 1996, \"Category\": \"AI Papers\", \"Growth\": 1.0}, {\"Year\": 1997, \"Category\": \"AI Papers\", \"Growth\": 1.19}, {\"Year\": 1998, \"Category\": \"AI Papers\", \"Growth\": 1.2}, {\"Year\": 1999, \"Category\": \"AI Papers\", \"Growth\": 1.25}, {\"Year\": 2000, \"Category\": \"AI Papers\", \"Growth\": 1.19}, {\"Year\": 2001, \"Category\": \"AI Papers\", \"Growth\": 1.49}, {\"Year\": 2002, \"Category\": \"AI Papers\", \"Growth\": 1.78}, {\"Year\": 2003, \"Category\": \"AI Papers\", \"Growth\": 2.16}, {\"Year\": 2004, \"Category\": \"AI Papers\", \"Growth\": 2.78}, {\"Year\": 2005, \"Category\": \"AI Papers\", \"Growth\": 2.97}, {\"Year\": 2006, \"Category\": \"AI Papers\", \"Growth\": 3.34}, {\"Year\": 2007, \"Category\": \"AI Papers\", \"Growth\": 3.85}, {\"Year\": 2008, \"Category\": \"AI Papers\", \"Growth\": 4.95}, {\"Year\": 2009, \"Category\": \"AI Papers\", \"Growth\": 4.43}, {\"Year\": 2010, \"Category\": \"AI Papers\", \"Growth\": 4.91}, {\"Year\": 2011, \"Category\": \"AI Papers\", \"Growth\": 5.6}, {\"Year\": 2012, \"Category\": \"AI Papers\", \"Growth\": 6.04}, {\"Year\": 2013, \"Category\": \"AI Papers\", \"Growth\": 5.83}, {\"Year\": 2014, \"Category\": \"AI Papers\", \"Growth\": 6.93}, {\"Year\": 2015, \"Category\": \"AI Papers\", \"Growth\": 7.95}, {\"Year\": 2016, \"Category\": \"AI Papers\", \"Growth\": 8.06}, {\"Year\": 2017, \"Category\": \"AI Papers\", \"Growth\": 8.34}, {\"Year\": 2018, \"Category\": \"AI Papers\", \"Growth\": 5.76}, {\"Year\": 1996, \"Category\": \"CS Papers\", \"Growth\": 1.0}, {\"Year\": 1997, \"Category\": \"CS Papers\", \"Growth\": 1.1}, {\"Year\": 1998, \"Category\": \"CS Papers\", \"Growth\": 1.22}, {\"Year\": 1999, \"Category\": \"CS Papers\", \"Growth\": 1.18}, {\"Year\": 2000, \"Category\": \"CS Papers\", \"Growth\": 1.26}, {\"Year\": 2001, \"Category\": \"CS Papers\", \"Growth\": 1.55}, {\"Year\": 2002, \"Category\": \"CS Papers\", \"Growth\": 1.7}, {\"Year\": 2003, \"Category\": \"CS Papers\", \"Growth\": 1.93}, {\"Year\": 2004, \"Category\": \"CS Papers\", \"Growth\": 1.81}, {\"Year\": 2005, \"Category\": \"CS Papers\", \"Growth\": 2.34}, {\"Year\": 2006, \"Category\": \"CS Papers\", \"Growth\": 2.92}, {\"Year\": 2007, \"Category\": \"CS Papers\", \"Growth\": 3.5}, {\"Year\": 2008, \"Category\": \"CS Papers\", \"Growth\": 4.14}, {\"Year\": 2009, \"Category\": \"CS Papers\", \"Growth\": 4.72}, {\"Year\": 2010, \"Category\": \"CS Papers\", \"Growth\": 4.96}, {\"Year\": 2011, \"Category\": \"CS Papers\", \"Growth\": 4.99}, {\"Year\": 2012, \"Category\": \"CS Papers\", \"Growth\": 5.0}, {\"Year\": 2013, \"Category\": \"CS Papers\", \"Growth\": 4.97}, {\"Year\": 2014, \"Category\": \"CS Papers\", \"Growth\": 5.04}, {\"Year\": 2015, \"Category\": \"CS Papers\", \"Growth\": 5.25}, {\"Year\": 2016, \"Category\": \"CS Papers\", \"Growth\": 5.62}, {\"Year\": 2017, \"Category\": \"CS Papers\", \"Growth\": 6.02}, {\"Year\": 2018, \"Category\": \"CS Papers\", \"Growth\": 4.47}]}};\n",
              "      var embedOpt = {\"mode\": \"vega-lite\"};\n",
              "\n",
              "      function showError(el, error){\n",
              "          el.innerHTML = ('<div class=\"error\" style=\"color:red;\">'\n",
              "                          + '<p>JavaScript Error: ' + error.message + '</p>'\n",
              "                          + \"<p>This usually means there's a typo in your chart specification. \"\n",
              "                          + \"See the javascript console for the full traceback.</p>\"\n",
              "                          + '</div>');\n",
              "          throw error;\n",
              "      }\n",
              "      const el = document.getElementById('altair-viz');\n",
              "      vegaEmbed(\"#altair-viz\", spec, embedOpt)\n",
              "        .catch(error => showError(el, error));\n",
              "    })(vegaEmbed);\n",
              "\n",
              "  </script>\n",
              "</body>\n",
              "</html>"
            ]
          },
          "metadata": {
            "tags": []
          },
          "execution_count": 318
        }
      ]
    },
    {
      "cell_type": "code",
      "metadata": {
        "id": "OEm1oUCphE_s",
        "colab_type": "code",
        "colab": {}
      },
      "source": [
        "aig_growth_not2018 = aig_growth[aig_growth.Year != 2018]"
      ],
      "execution_count": 0,
      "outputs": []
    },
    {
      "cell_type": "code",
      "metadata": {
        "id": "SHdgYL3uifKs",
        "colab_type": "code",
        "colab": {
          "base_uri": "https://localhost:8080/",
          "height": 691
        },
        "outputId": "d1a75b74-b2cb-405c-e643-3f4d8e2ad282"
      },
      "source": [
        "chart = Chart(aig_growth_not2018, title=\"Scopus: Growth of AI and All CS Publications since 1996\").properties(\n",
        "    width=800, \n",
        "    height=550,\n",
        "    background='#F9F9F9'\n",
        ").mark_line(\n",
        "    strokeWidth=4\n",
        ").encode(\n",
        "    x='Year:O',\n",
        "    y=alt.Y('Growth:Q', axis=alt.Axis(format='%'), title = 'Publication Growth Since 1996'),\n",
        "    color='Category:N'\n",
        ")\n",
        "chart.configure_legend(\n",
        "    strokeColor='gray',\n",
        "    fillColor='#FFFFFF',\n",
        "    padding=10,\n",
        "    cornerRadius=10,\n",
        "    orient='top-left'\n",
        ")"
      ],
      "execution_count": 319,
      "outputs": [
        {
          "output_type": "execute_result",
          "data": {
            "text/plain": [
              "alt.Chart(...)"
            ],
            "text/html": [
              "<!DOCTYPE html>\n",
              "<html>\n",
              "<head>\n",
              "  <style>\n",
              "    .vega-actions a {\n",
              "        margin-right: 12px;\n",
              "        color: #757575;\n",
              "        font-weight: normal;\n",
              "        font-size: 13px;\n",
              "    }\n",
              "    .error {\n",
              "        color: red;\n",
              "    }\n",
              "  </style>\n",
              "  <script type=\"text/javascript\" src=\"https://cdn.jsdelivr.net/npm//vega@5\"></script>\n",
              "  <script type=\"text/javascript\" src=\"https://cdn.jsdelivr.net/npm//vega-lite@3.4.0\"></script>\n",
              "  <script type=\"text/javascript\" src=\"https://cdn.jsdelivr.net/npm//vega-embed@4\"></script>\n",
              "</head>\n",
              "<body>\n",
              "  <div id=\"altair-viz\"></div>\n",
              "  <script>\n",
              "    (function(vegaEmbed) {\n",
              "      var spec = {\"usermeta\": {\"embedOptions\": {\"theme\": \"fivethirtyeight\"}}, \"config\": {\"view\": {\"width\": 400, \"height\": 300}, \"mark\": {\"tooltip\": null}, \"legend\": {\"cornerRadius\": 10, \"fillColor\": \"#FFFFFF\", \"orient\": \"top-left\", \"padding\": 10, \"strokeColor\": \"gray\"}}, \"data\": {\"name\": \"data-f94c055ee2bab1a57574508190811e5e\"}, \"mark\": {\"type\": \"line\", \"strokeWidth\": 4}, \"background\": \"#F9F9F9\", \"encoding\": {\"color\": {\"type\": \"nominal\", \"field\": \"Category\"}, \"x\": {\"type\": \"ordinal\", \"field\": \"Year\"}, \"y\": {\"type\": \"quantitative\", \"axis\": {\"format\": \"%\"}, \"field\": \"Growth\", \"title\": \"Publication Growth Since 1996\"}}, \"height\": 550, \"title\": \"Scopus: Growth of AI and All CS Publications since 1996\", \"width\": 800, \"$schema\": \"https://vega.github.io/schema/vega-lite/v3.4.0.json\", \"datasets\": {\"data-f94c055ee2bab1a57574508190811e5e\": [{\"Year\": 1996, \"Category\": \"AI Papers\", \"Growth\": 1.0}, {\"Year\": 1997, \"Category\": \"AI Papers\", \"Growth\": 1.19}, {\"Year\": 1998, \"Category\": \"AI Papers\", \"Growth\": 1.2}, {\"Year\": 1999, \"Category\": \"AI Papers\", \"Growth\": 1.25}, {\"Year\": 2000, \"Category\": \"AI Papers\", \"Growth\": 1.19}, {\"Year\": 2001, \"Category\": \"AI Papers\", \"Growth\": 1.49}, {\"Year\": 2002, \"Category\": \"AI Papers\", \"Growth\": 1.78}, {\"Year\": 2003, \"Category\": \"AI Papers\", \"Growth\": 2.16}, {\"Year\": 2004, \"Category\": \"AI Papers\", \"Growth\": 2.78}, {\"Year\": 2005, \"Category\": \"AI Papers\", \"Growth\": 2.97}, {\"Year\": 2006, \"Category\": \"AI Papers\", \"Growth\": 3.34}, {\"Year\": 2007, \"Category\": \"AI Papers\", \"Growth\": 3.85}, {\"Year\": 2008, \"Category\": \"AI Papers\", \"Growth\": 4.95}, {\"Year\": 2009, \"Category\": \"AI Papers\", \"Growth\": 4.43}, {\"Year\": 2010, \"Category\": \"AI Papers\", \"Growth\": 4.91}, {\"Year\": 2011, \"Category\": \"AI Papers\", \"Growth\": 5.6}, {\"Year\": 2012, \"Category\": \"AI Papers\", \"Growth\": 6.04}, {\"Year\": 2013, \"Category\": \"AI Papers\", \"Growth\": 5.83}, {\"Year\": 2014, \"Category\": \"AI Papers\", \"Growth\": 6.93}, {\"Year\": 2015, \"Category\": \"AI Papers\", \"Growth\": 7.95}, {\"Year\": 2016, \"Category\": \"AI Papers\", \"Growth\": 8.06}, {\"Year\": 2017, \"Category\": \"AI Papers\", \"Growth\": 8.34}, {\"Year\": 1996, \"Category\": \"CS Papers\", \"Growth\": 1.0}, {\"Year\": 1997, \"Category\": \"CS Papers\", \"Growth\": 1.1}, {\"Year\": 1998, \"Category\": \"CS Papers\", \"Growth\": 1.22}, {\"Year\": 1999, \"Category\": \"CS Papers\", \"Growth\": 1.18}, {\"Year\": 2000, \"Category\": \"CS Papers\", \"Growth\": 1.26}, {\"Year\": 2001, \"Category\": \"CS Papers\", \"Growth\": 1.55}, {\"Year\": 2002, \"Category\": \"CS Papers\", \"Growth\": 1.7}, {\"Year\": 2003, \"Category\": \"CS Papers\", \"Growth\": 1.93}, {\"Year\": 2004, \"Category\": \"CS Papers\", \"Growth\": 1.81}, {\"Year\": 2005, \"Category\": \"CS Papers\", \"Growth\": 2.34}, {\"Year\": 2006, \"Category\": \"CS Papers\", \"Growth\": 2.92}, {\"Year\": 2007, \"Category\": \"CS Papers\", \"Growth\": 3.5}, {\"Year\": 2008, \"Category\": \"CS Papers\", \"Growth\": 4.14}, {\"Year\": 2009, \"Category\": \"CS Papers\", \"Growth\": 4.72}, {\"Year\": 2010, \"Category\": \"CS Papers\", \"Growth\": 4.96}, {\"Year\": 2011, \"Category\": \"CS Papers\", \"Growth\": 4.99}, {\"Year\": 2012, \"Category\": \"CS Papers\", \"Growth\": 5.0}, {\"Year\": 2013, \"Category\": \"CS Papers\", \"Growth\": 4.97}, {\"Year\": 2014, \"Category\": \"CS Papers\", \"Growth\": 5.04}, {\"Year\": 2015, \"Category\": \"CS Papers\", \"Growth\": 5.25}, {\"Year\": 2016, \"Category\": \"CS Papers\", \"Growth\": 5.62}, {\"Year\": 2017, \"Category\": \"CS Papers\", \"Growth\": 6.02}]}};\n",
              "      var embedOpt = {\"mode\": \"vega-lite\"};\n",
              "\n",
              "      function showError(el, error){\n",
              "          el.innerHTML = ('<div class=\"error\" style=\"color:red;\">'\n",
              "                          + '<p>JavaScript Error: ' + error.message + '</p>'\n",
              "                          + \"<p>This usually means there's a typo in your chart specification. \"\n",
              "                          + \"See the javascript console for the full traceback.</p>\"\n",
              "                          + '</div>');\n",
              "          throw error;\n",
              "      }\n",
              "      const el = document.getElementById('altair-viz');\n",
              "      vegaEmbed(\"#altair-viz\", spec, embedOpt)\n",
              "        .catch(error => showError(el, error));\n",
              "    })(vegaEmbed);\n",
              "\n",
              "  </script>\n",
              "</body>\n",
              "</html>"
            ]
          },
          "metadata": {
            "tags": []
          },
          "execution_count": 319
        }
      ]
    },
    {
      "cell_type": "code",
      "metadata": {
        "id": "V6Ml4mfsjX6n",
        "colab_type": "code",
        "colab": {}
      },
      "source": [
        "aipub_source = 'https://raw.githubusercontent.com/btlewisusabtlewis/DataVisualizationClass/master/Scopus%20-%20AI%20publications%20by%20category%201998%20to%202018.csv'"
      ],
      "execution_count": 0,
      "outputs": []
    },
    {
      "cell_type": "code",
      "metadata": {
        "id": "Py0HV5uNl4S8",
        "colab_type": "code",
        "colab": {}
      },
      "source": [
        "aip = pd.read_csv(aipub_source)"
      ],
      "execution_count": 0,
      "outputs": []
    },
    {
      "cell_type": "code",
      "metadata": {
        "id": "_pLvM7oEl_BW",
        "colab_type": "code",
        "colab": {
          "base_uri": "https://localhost:8080/",
          "height": 204
        },
        "outputId": "a56745d0-0323-4b8a-fc37-3c9a0348bef1"
      },
      "source": [
        "aip.head()"
      ],
      "execution_count": 183,
      "outputs": [
        {
          "output_type": "execute_result",
          "data": {
            "text/html": [
              "<div>\n",
              "<style scoped>\n",
              "    .dataframe tbody tr th:only-of-type {\n",
              "        vertical-align: middle;\n",
              "    }\n",
              "\n",
              "    .dataframe tbody tr th {\n",
              "        vertical-align: top;\n",
              "    }\n",
              "\n",
              "    .dataframe thead th {\n",
              "        text-align: right;\n",
              "    }\n",
              "</style>\n",
              "<table border=\"1\" class=\"dataframe\">\n",
              "  <thead>\n",
              "    <tr style=\"text-align: right;\">\n",
              "      <th></th>\n",
              "      <th>Categories</th>\n",
              "      <th>Machine Learning and Probabilistic Reasoning</th>\n",
              "      <th>Neural Networks</th>\n",
              "      <th>Computer Vision</th>\n",
              "      <th>Search and Optimization</th>\n",
              "      <th>NLP and Knowledge Representation</th>\n",
              "      <th>Fuzzy Systems</th>\n",
              "      <th>Planning and Decision Making</th>\n",
              "      <th>Total</th>\n",
              "    </tr>\n",
              "  </thead>\n",
              "  <tbody>\n",
              "    <tr>\n",
              "      <th>0</th>\n",
              "      <td>1998</td>\n",
              "      <td>4,319</td>\n",
              "      <td>4,680</td>\n",
              "      <td>3,460</td>\n",
              "      <td>1,396</td>\n",
              "      <td>2,087</td>\n",
              "      <td>2,362</td>\n",
              "      <td>771</td>\n",
              "      <td>9220</td>\n",
              "    </tr>\n",
              "    <tr>\n",
              "      <th>1</th>\n",
              "      <td>1999</td>\n",
              "      <td>4,826</td>\n",
              "      <td>5,569</td>\n",
              "      <td>3,868</td>\n",
              "      <td>1,597</td>\n",
              "      <td>2,142</td>\n",
              "      <td>2,605</td>\n",
              "      <td>872</td>\n",
              "      <td>10265</td>\n",
              "    </tr>\n",
              "    <tr>\n",
              "      <th>2</th>\n",
              "      <td>2000</td>\n",
              "      <td>4,636</td>\n",
              "      <td>5,383</td>\n",
              "      <td>4,087</td>\n",
              "      <td>1,765</td>\n",
              "      <td>2,424</td>\n",
              "      <td>2,471</td>\n",
              "      <td>1,096</td>\n",
              "      <td>10693</td>\n",
              "    </tr>\n",
              "    <tr>\n",
              "      <th>3</th>\n",
              "      <td>2001</td>\n",
              "      <td>5,191</td>\n",
              "      <td>5,659</td>\n",
              "      <td>4,430</td>\n",
              "      <td>2,099</td>\n",
              "      <td>2,597</td>\n",
              "      <td>2,923</td>\n",
              "      <td>1,492</td>\n",
              "      <td>12074</td>\n",
              "    </tr>\n",
              "    <tr>\n",
              "      <th>4</th>\n",
              "      <td>2002</td>\n",
              "      <td>6,189</td>\n",
              "      <td>6,320</td>\n",
              "      <td>5,366</td>\n",
              "      <td>2,427</td>\n",
              "      <td>3,018</td>\n",
              "      <td>2,894</td>\n",
              "      <td>1,833</td>\n",
              "      <td>13976</td>\n",
              "    </tr>\n",
              "  </tbody>\n",
              "</table>\n",
              "</div>"
            ],
            "text/plain": [
              "   Categories  ...  Total\n",
              "0        1998  ...   9220\n",
              "1        1999  ...  10265\n",
              "2        2000  ...  10693\n",
              "3        2001  ...  12074\n",
              "4        2002  ...  13976\n",
              "\n",
              "[5 rows x 9 columns]"
            ]
          },
          "metadata": {
            "tags": []
          },
          "execution_count": 183
        }
      ]
    },
    {
      "cell_type": "code",
      "metadata": {
        "id": "vaZS3b_fmA-H",
        "colab_type": "code",
        "colab": {}
      },
      "source": [
        "aip.rename(columns = {'Categories':'Year', 'Machine Learning and Probabilistic Reasoning':'ML', 'NLP and Knowledge Representation':'NLP', 'Planning and Decision Making':'Planning', 'Search and Optimization':'Search', 'Neural Networks':'DNN'},\n",
        "                              inplace = True)"
      ],
      "execution_count": 0,
      "outputs": []
    },
    {
      "cell_type": "code",
      "metadata": {
        "id": "IG1o1NQwmqBc",
        "colab_type": "code",
        "colab": {
          "base_uri": "https://localhost:8080/",
          "height": 204
        },
        "outputId": "20383a40-21f6-4e2c-b57d-56dc762841dd"
      },
      "source": [
        "aip.head()"
      ],
      "execution_count": 185,
      "outputs": [
        {
          "output_type": "execute_result",
          "data": {
            "text/html": [
              "<div>\n",
              "<style scoped>\n",
              "    .dataframe tbody tr th:only-of-type {\n",
              "        vertical-align: middle;\n",
              "    }\n",
              "\n",
              "    .dataframe tbody tr th {\n",
              "        vertical-align: top;\n",
              "    }\n",
              "\n",
              "    .dataframe thead th {\n",
              "        text-align: right;\n",
              "    }\n",
              "</style>\n",
              "<table border=\"1\" class=\"dataframe\">\n",
              "  <thead>\n",
              "    <tr style=\"text-align: right;\">\n",
              "      <th></th>\n",
              "      <th>Year</th>\n",
              "      <th>ML</th>\n",
              "      <th>DNN</th>\n",
              "      <th>Computer Vision</th>\n",
              "      <th>Search</th>\n",
              "      <th>NLP</th>\n",
              "      <th>Fuzzy Systems</th>\n",
              "      <th>Planning</th>\n",
              "      <th>Total</th>\n",
              "    </tr>\n",
              "  </thead>\n",
              "  <tbody>\n",
              "    <tr>\n",
              "      <th>0</th>\n",
              "      <td>1998</td>\n",
              "      <td>4,319</td>\n",
              "      <td>4,680</td>\n",
              "      <td>3,460</td>\n",
              "      <td>1,396</td>\n",
              "      <td>2,087</td>\n",
              "      <td>2,362</td>\n",
              "      <td>771</td>\n",
              "      <td>9220</td>\n",
              "    </tr>\n",
              "    <tr>\n",
              "      <th>1</th>\n",
              "      <td>1999</td>\n",
              "      <td>4,826</td>\n",
              "      <td>5,569</td>\n",
              "      <td>3,868</td>\n",
              "      <td>1,597</td>\n",
              "      <td>2,142</td>\n",
              "      <td>2,605</td>\n",
              "      <td>872</td>\n",
              "      <td>10265</td>\n",
              "    </tr>\n",
              "    <tr>\n",
              "      <th>2</th>\n",
              "      <td>2000</td>\n",
              "      <td>4,636</td>\n",
              "      <td>5,383</td>\n",
              "      <td>4,087</td>\n",
              "      <td>1,765</td>\n",
              "      <td>2,424</td>\n",
              "      <td>2,471</td>\n",
              "      <td>1,096</td>\n",
              "      <td>10693</td>\n",
              "    </tr>\n",
              "    <tr>\n",
              "      <th>3</th>\n",
              "      <td>2001</td>\n",
              "      <td>5,191</td>\n",
              "      <td>5,659</td>\n",
              "      <td>4,430</td>\n",
              "      <td>2,099</td>\n",
              "      <td>2,597</td>\n",
              "      <td>2,923</td>\n",
              "      <td>1,492</td>\n",
              "      <td>12074</td>\n",
              "    </tr>\n",
              "    <tr>\n",
              "      <th>4</th>\n",
              "      <td>2002</td>\n",
              "      <td>6,189</td>\n",
              "      <td>6,320</td>\n",
              "      <td>5,366</td>\n",
              "      <td>2,427</td>\n",
              "      <td>3,018</td>\n",
              "      <td>2,894</td>\n",
              "      <td>1,833</td>\n",
              "      <td>13976</td>\n",
              "    </tr>\n",
              "  </tbody>\n",
              "</table>\n",
              "</div>"
            ],
            "text/plain": [
              "   Year     ML    DNN Computer Vision  ...    NLP Fuzzy Systems Planning  Total\n",
              "0  1998  4,319  4,680           3,460  ...  2,087         2,362      771   9220\n",
              "1  1999  4,826  5,569           3,868  ...  2,142         2,605      872  10265\n",
              "2  2000  4,636  5,383           4,087  ...  2,424         2,471    1,096  10693\n",
              "3  2001  5,191  5,659           4,430  ...  2,597         2,923    1,492  12074\n",
              "4  2002  6,189  6,320           5,366  ...  3,018         2,894    1,833  13976\n",
              "\n",
              "[5 rows x 9 columns]"
            ]
          },
          "metadata": {
            "tags": []
          },
          "execution_count": 185
        }
      ]
    },
    {
      "cell_type": "code",
      "metadata": {
        "id": "nycMye9SpLOB",
        "colab_type": "code",
        "colab": {}
      },
      "source": [
        "aip_nototal = aip.drop('Total', axis=1)"
      ],
      "execution_count": 0,
      "outputs": []
    },
    {
      "cell_type": "code",
      "metadata": {
        "id": "aOZluYaZpkzx",
        "colab_type": "code",
        "colab": {
          "base_uri": "https://localhost:8080/",
          "height": 204
        },
        "outputId": "424f71c2-1302-452a-a333-b2b766f599f5"
      },
      "source": [
        "aip_nototal.head()"
      ],
      "execution_count": 187,
      "outputs": [
        {
          "output_type": "execute_result",
          "data": {
            "text/html": [
              "<div>\n",
              "<style scoped>\n",
              "    .dataframe tbody tr th:only-of-type {\n",
              "        vertical-align: middle;\n",
              "    }\n",
              "\n",
              "    .dataframe tbody tr th {\n",
              "        vertical-align: top;\n",
              "    }\n",
              "\n",
              "    .dataframe thead th {\n",
              "        text-align: right;\n",
              "    }\n",
              "</style>\n",
              "<table border=\"1\" class=\"dataframe\">\n",
              "  <thead>\n",
              "    <tr style=\"text-align: right;\">\n",
              "      <th></th>\n",
              "      <th>Year</th>\n",
              "      <th>ML</th>\n",
              "      <th>DNN</th>\n",
              "      <th>Computer Vision</th>\n",
              "      <th>Search</th>\n",
              "      <th>NLP</th>\n",
              "      <th>Fuzzy Systems</th>\n",
              "      <th>Planning</th>\n",
              "    </tr>\n",
              "  </thead>\n",
              "  <tbody>\n",
              "    <tr>\n",
              "      <th>0</th>\n",
              "      <td>1998</td>\n",
              "      <td>4,319</td>\n",
              "      <td>4,680</td>\n",
              "      <td>3,460</td>\n",
              "      <td>1,396</td>\n",
              "      <td>2,087</td>\n",
              "      <td>2,362</td>\n",
              "      <td>771</td>\n",
              "    </tr>\n",
              "    <tr>\n",
              "      <th>1</th>\n",
              "      <td>1999</td>\n",
              "      <td>4,826</td>\n",
              "      <td>5,569</td>\n",
              "      <td>3,868</td>\n",
              "      <td>1,597</td>\n",
              "      <td>2,142</td>\n",
              "      <td>2,605</td>\n",
              "      <td>872</td>\n",
              "    </tr>\n",
              "    <tr>\n",
              "      <th>2</th>\n",
              "      <td>2000</td>\n",
              "      <td>4,636</td>\n",
              "      <td>5,383</td>\n",
              "      <td>4,087</td>\n",
              "      <td>1,765</td>\n",
              "      <td>2,424</td>\n",
              "      <td>2,471</td>\n",
              "      <td>1,096</td>\n",
              "    </tr>\n",
              "    <tr>\n",
              "      <th>3</th>\n",
              "      <td>2001</td>\n",
              "      <td>5,191</td>\n",
              "      <td>5,659</td>\n",
              "      <td>4,430</td>\n",
              "      <td>2,099</td>\n",
              "      <td>2,597</td>\n",
              "      <td>2,923</td>\n",
              "      <td>1,492</td>\n",
              "    </tr>\n",
              "    <tr>\n",
              "      <th>4</th>\n",
              "      <td>2002</td>\n",
              "      <td>6,189</td>\n",
              "      <td>6,320</td>\n",
              "      <td>5,366</td>\n",
              "      <td>2,427</td>\n",
              "      <td>3,018</td>\n",
              "      <td>2,894</td>\n",
              "      <td>1,833</td>\n",
              "    </tr>\n",
              "  </tbody>\n",
              "</table>\n",
              "</div>"
            ],
            "text/plain": [
              "   Year     ML    DNN Computer Vision Search    NLP Fuzzy Systems Planning\n",
              "0  1998  4,319  4,680           3,460  1,396  2,087         2,362      771\n",
              "1  1999  4,826  5,569           3,868  1,597  2,142         2,605      872\n",
              "2  2000  4,636  5,383           4,087  1,765  2,424         2,471    1,096\n",
              "3  2001  5,191  5,659           4,430  2,099  2,597         2,923    1,492\n",
              "4  2002  6,189  6,320           5,366  2,427  3,018         2,894    1,833"
            ]
          },
          "metadata": {
            "tags": []
          },
          "execution_count": 187
        }
      ]
    },
    {
      "cell_type": "code",
      "metadata": {
        "id": "KIn7OpU9C3s5",
        "colab_type": "code",
        "colab": {
          "base_uri": "https://localhost:8080/",
          "height": 204
        },
        "outputId": "b4c518f1-4635-4378-daf8-44c9f0e16ec8"
      },
      "source": [
        "aip_nototal = aip_nototal[aip_nototal.Year >= 2000]\n",
        "aip_nototal.head()"
      ],
      "execution_count": 188,
      "outputs": [
        {
          "output_type": "execute_result",
          "data": {
            "text/html": [
              "<div>\n",
              "<style scoped>\n",
              "    .dataframe tbody tr th:only-of-type {\n",
              "        vertical-align: middle;\n",
              "    }\n",
              "\n",
              "    .dataframe tbody tr th {\n",
              "        vertical-align: top;\n",
              "    }\n",
              "\n",
              "    .dataframe thead th {\n",
              "        text-align: right;\n",
              "    }\n",
              "</style>\n",
              "<table border=\"1\" class=\"dataframe\">\n",
              "  <thead>\n",
              "    <tr style=\"text-align: right;\">\n",
              "      <th></th>\n",
              "      <th>Year</th>\n",
              "      <th>ML</th>\n",
              "      <th>DNN</th>\n",
              "      <th>Computer Vision</th>\n",
              "      <th>Search</th>\n",
              "      <th>NLP</th>\n",
              "      <th>Fuzzy Systems</th>\n",
              "      <th>Planning</th>\n",
              "    </tr>\n",
              "  </thead>\n",
              "  <tbody>\n",
              "    <tr>\n",
              "      <th>2</th>\n",
              "      <td>2000</td>\n",
              "      <td>4,636</td>\n",
              "      <td>5,383</td>\n",
              "      <td>4,087</td>\n",
              "      <td>1,765</td>\n",
              "      <td>2,424</td>\n",
              "      <td>2,471</td>\n",
              "      <td>1,096</td>\n",
              "    </tr>\n",
              "    <tr>\n",
              "      <th>3</th>\n",
              "      <td>2001</td>\n",
              "      <td>5,191</td>\n",
              "      <td>5,659</td>\n",
              "      <td>4,430</td>\n",
              "      <td>2,099</td>\n",
              "      <td>2,597</td>\n",
              "      <td>2,923</td>\n",
              "      <td>1,492</td>\n",
              "    </tr>\n",
              "    <tr>\n",
              "      <th>4</th>\n",
              "      <td>2002</td>\n",
              "      <td>6,189</td>\n",
              "      <td>6,320</td>\n",
              "      <td>5,366</td>\n",
              "      <td>2,427</td>\n",
              "      <td>3,018</td>\n",
              "      <td>2,894</td>\n",
              "      <td>1,833</td>\n",
              "    </tr>\n",
              "    <tr>\n",
              "      <th>5</th>\n",
              "      <td>2003</td>\n",
              "      <td>7,325</td>\n",
              "      <td>6,819</td>\n",
              "      <td>6,186</td>\n",
              "      <td>2,885</td>\n",
              "      <td>3,780</td>\n",
              "      <td>3,344</td>\n",
              "      <td>2,531</td>\n",
              "    </tr>\n",
              "    <tr>\n",
              "      <th>6</th>\n",
              "      <td>2004</td>\n",
              "      <td>10,256</td>\n",
              "      <td>8,590</td>\n",
              "      <td>8,132</td>\n",
              "      <td>3,711</td>\n",
              "      <td>4,976</td>\n",
              "      <td>4,189</td>\n",
              "      <td>3,239</td>\n",
              "    </tr>\n",
              "  </tbody>\n",
              "</table>\n",
              "</div>"
            ],
            "text/plain": [
              "   Year      ML    DNN Computer Vision Search    NLP Fuzzy Systems Planning\n",
              "2  2000   4,636  5,383           4,087  1,765  2,424         2,471    1,096\n",
              "3  2001   5,191  5,659           4,430  2,099  2,597         2,923    1,492\n",
              "4  2002   6,189  6,320           5,366  2,427  3,018         2,894    1,833\n",
              "5  2003   7,325  6,819           6,186  2,885  3,780         3,344    2,531\n",
              "6  2004  10,256  8,590           8,132  3,711  4,976         4,189    3,239"
            ]
          },
          "metadata": {
            "tags": []
          },
          "execution_count": 188
        }
      ]
    },
    {
      "cell_type": "code",
      "metadata": {
        "id": "mjy9NJ5gmtyb",
        "colab_type": "code",
        "colab": {}
      },
      "source": [
        "ai_categories = pd.melt(aip_nototal, id_vars =['Year'], var_name ='Category', value_name ='Papers')"
      ],
      "execution_count": 0,
      "outputs": []
    },
    {
      "cell_type": "code",
      "metadata": {
        "id": "twSGkXfWpwyR",
        "colab_type": "code",
        "colab": {
          "base_uri": "https://localhost:8080/",
          "height": 204
        },
        "outputId": "5f30eb4a-8cb9-4f83-90ba-d6bbe01e8eee"
      },
      "source": [
        "ai_categories.head()"
      ],
      "execution_count": 190,
      "outputs": [
        {
          "output_type": "execute_result",
          "data": {
            "text/html": [
              "<div>\n",
              "<style scoped>\n",
              "    .dataframe tbody tr th:only-of-type {\n",
              "        vertical-align: middle;\n",
              "    }\n",
              "\n",
              "    .dataframe tbody tr th {\n",
              "        vertical-align: top;\n",
              "    }\n",
              "\n",
              "    .dataframe thead th {\n",
              "        text-align: right;\n",
              "    }\n",
              "</style>\n",
              "<table border=\"1\" class=\"dataframe\">\n",
              "  <thead>\n",
              "    <tr style=\"text-align: right;\">\n",
              "      <th></th>\n",
              "      <th>Year</th>\n",
              "      <th>Category</th>\n",
              "      <th>Papers</th>\n",
              "    </tr>\n",
              "  </thead>\n",
              "  <tbody>\n",
              "    <tr>\n",
              "      <th>0</th>\n",
              "      <td>2000</td>\n",
              "      <td>ML</td>\n",
              "      <td>4,636</td>\n",
              "    </tr>\n",
              "    <tr>\n",
              "      <th>1</th>\n",
              "      <td>2001</td>\n",
              "      <td>ML</td>\n",
              "      <td>5,191</td>\n",
              "    </tr>\n",
              "    <tr>\n",
              "      <th>2</th>\n",
              "      <td>2002</td>\n",
              "      <td>ML</td>\n",
              "      <td>6,189</td>\n",
              "    </tr>\n",
              "    <tr>\n",
              "      <th>3</th>\n",
              "      <td>2003</td>\n",
              "      <td>ML</td>\n",
              "      <td>7,325</td>\n",
              "    </tr>\n",
              "    <tr>\n",
              "      <th>4</th>\n",
              "      <td>2004</td>\n",
              "      <td>ML</td>\n",
              "      <td>10,256</td>\n",
              "    </tr>\n",
              "  </tbody>\n",
              "</table>\n",
              "</div>"
            ],
            "text/plain": [
              "   Year Category  Papers\n",
              "0  2000       ML   4,636\n",
              "1  2001       ML   5,191\n",
              "2  2002       ML   6,189\n",
              "3  2003       ML   7,325\n",
              "4  2004       ML  10,256"
            ]
          },
          "metadata": {
            "tags": []
          },
          "execution_count": 190
        }
      ]
    },
    {
      "cell_type": "code",
      "metadata": {
        "id": "IeOXwVT_rpd-",
        "colab_type": "code",
        "colab": {}
      },
      "source": [
        "ai_categories['Papers'] = ai_categories['Papers'].str.replace(',', '')"
      ],
      "execution_count": 0,
      "outputs": []
    },
    {
      "cell_type": "code",
      "metadata": {
        "id": "LK7Q-H7Nr3gK",
        "colab_type": "code",
        "colab": {
          "base_uri": "https://localhost:8080/",
          "height": 204
        },
        "outputId": "4279d696-4b6e-4ffc-a8ff-40e448bc1406"
      },
      "source": [
        "ai_categories.head()"
      ],
      "execution_count": 192,
      "outputs": [
        {
          "output_type": "execute_result",
          "data": {
            "text/html": [
              "<div>\n",
              "<style scoped>\n",
              "    .dataframe tbody tr th:only-of-type {\n",
              "        vertical-align: middle;\n",
              "    }\n",
              "\n",
              "    .dataframe tbody tr th {\n",
              "        vertical-align: top;\n",
              "    }\n",
              "\n",
              "    .dataframe thead th {\n",
              "        text-align: right;\n",
              "    }\n",
              "</style>\n",
              "<table border=\"1\" class=\"dataframe\">\n",
              "  <thead>\n",
              "    <tr style=\"text-align: right;\">\n",
              "      <th></th>\n",
              "      <th>Year</th>\n",
              "      <th>Category</th>\n",
              "      <th>Papers</th>\n",
              "    </tr>\n",
              "  </thead>\n",
              "  <tbody>\n",
              "    <tr>\n",
              "      <th>0</th>\n",
              "      <td>2000</td>\n",
              "      <td>ML</td>\n",
              "      <td>4636</td>\n",
              "    </tr>\n",
              "    <tr>\n",
              "      <th>1</th>\n",
              "      <td>2001</td>\n",
              "      <td>ML</td>\n",
              "      <td>5191</td>\n",
              "    </tr>\n",
              "    <tr>\n",
              "      <th>2</th>\n",
              "      <td>2002</td>\n",
              "      <td>ML</td>\n",
              "      <td>6189</td>\n",
              "    </tr>\n",
              "    <tr>\n",
              "      <th>3</th>\n",
              "      <td>2003</td>\n",
              "      <td>ML</td>\n",
              "      <td>7325</td>\n",
              "    </tr>\n",
              "    <tr>\n",
              "      <th>4</th>\n",
              "      <td>2004</td>\n",
              "      <td>ML</td>\n",
              "      <td>10256</td>\n",
              "    </tr>\n",
              "  </tbody>\n",
              "</table>\n",
              "</div>"
            ],
            "text/plain": [
              "   Year Category Papers\n",
              "0  2000       ML   4636\n",
              "1  2001       ML   5191\n",
              "2  2002       ML   6189\n",
              "3  2003       ML   7325\n",
              "4  2004       ML  10256"
            ]
          },
          "metadata": {
            "tags": []
          },
          "execution_count": 192
        }
      ]
    },
    {
      "cell_type": "code",
      "metadata": {
        "id": "7OHSbb9hpzMd",
        "colab_type": "code",
        "colab": {
          "base_uri": "https://localhost:8080/",
          "height": 397
        },
        "outputId": "d09bab62-68dd-4198-9e10-de24f7b39f68"
      },
      "source": [
        "Chart(ai_categories).properties(width=500, height=300).mark_line().encode(\n",
        "    x='Year:O',\n",
        "    y='Papers:Q',\n",
        "    color='Category:N'\n",
        ")"
      ],
      "execution_count": 193,
      "outputs": [
        {
          "output_type": "execute_result",
          "data": {
            "text/plain": [
              "alt.Chart(...)"
            ],
            "text/html": [
              "<!DOCTYPE html>\n",
              "<html>\n",
              "<head>\n",
              "  <style>\n",
              "    .vega-actions a {\n",
              "        margin-right: 12px;\n",
              "        color: #757575;\n",
              "        font-weight: normal;\n",
              "        font-size: 13px;\n",
              "    }\n",
              "    .error {\n",
              "        color: red;\n",
              "    }\n",
              "  </style>\n",
              "  <script type=\"text/javascript\" src=\"https://cdn.jsdelivr.net/npm//vega@5\"></script>\n",
              "  <script type=\"text/javascript\" src=\"https://cdn.jsdelivr.net/npm//vega-lite@3.4.0\"></script>\n",
              "  <script type=\"text/javascript\" src=\"https://cdn.jsdelivr.net/npm//vega-embed@4\"></script>\n",
              "</head>\n",
              "<body>\n",
              "  <div id=\"altair-viz\"></div>\n",
              "  <script>\n",
              "    (function(vegaEmbed) {\n",
              "      var spec = {\"usermeta\": {\"embedOptions\": {\"theme\": \"fivethirtyeight\"}}, \"config\": {\"view\": {\"width\": 400, \"height\": 300}, \"mark\": {\"tooltip\": null}}, \"data\": {\"name\": \"data-40a3d4a34603354e547add5c070b2e25\"}, \"mark\": \"line\", \"encoding\": {\"color\": {\"type\": \"nominal\", \"field\": \"Category\"}, \"x\": {\"type\": \"ordinal\", \"field\": \"Year\"}, \"y\": {\"type\": \"quantitative\", \"field\": \"Papers\"}}, \"height\": 300, \"width\": 500, \"$schema\": \"https://vega.github.io/schema/vega-lite/v3.4.0.json\", \"datasets\": {\"data-40a3d4a34603354e547add5c070b2e25\": [{\"Year\": 2000, \"Category\": \"ML\", \"Papers\": \"4636\"}, {\"Year\": 2001, \"Category\": \"ML\", \"Papers\": \"5191\"}, {\"Year\": 2002, \"Category\": \"ML\", \"Papers\": \"6189\"}, {\"Year\": 2003, \"Category\": \"ML\", \"Papers\": \"7325\"}, {\"Year\": 2004, \"Category\": \"ML\", \"Papers\": \"10256\"}, {\"Year\": 2005, \"Category\": \"ML\", \"Papers\": \"11743\"}, {\"Year\": 2006, \"Category\": \"ML\", \"Papers\": \"13068\"}, {\"Year\": 2007, \"Category\": \"ML\", \"Papers\": \"15453\"}, {\"Year\": 2008, \"Category\": \"ML\", \"Papers\": \"19786\"}, {\"Year\": 2009, \"Category\": \"ML\", \"Papers\": \"16699\"}, {\"Year\": 2010, \"Category\": \"ML\", \"Papers\": \"17122\"}, {\"Year\": 2011, \"Category\": \"ML\", \"Papers\": \"16962\"}, {\"Year\": 2012, \"Category\": \"ML\", \"Papers\": \"17657\"}, {\"Year\": 2013, \"Category\": \"ML\", \"Papers\": \"18243\"}, {\"Year\": 2014, \"Category\": \"ML\", \"Papers\": \"21263\"}, {\"Year\": 2015, \"Category\": \"ML\", \"Papers\": \"25289\"}, {\"Year\": 2016, \"Category\": \"ML\", \"Papers\": \"28785\"}, {\"Year\": 2017, \"Category\": \"ML\", \"Papers\": \"34461\"}, {\"Year\": 2000, \"Category\": \"DNN\", \"Papers\": \"5383\"}, {\"Year\": 2001, \"Category\": \"DNN\", \"Papers\": \"5659\"}, {\"Year\": 2002, \"Category\": \"DNN\", \"Papers\": \"6320\"}, {\"Year\": 2003, \"Category\": \"DNN\", \"Papers\": \"6819\"}, {\"Year\": 2004, \"Category\": \"DNN\", \"Papers\": \"8590\"}, {\"Year\": 2005, \"Category\": \"DNN\", \"Papers\": \"9520\"}, {\"Year\": 2006, \"Category\": \"DNN\", \"Papers\": \"10487\"}, {\"Year\": 2007, \"Category\": \"DNN\", \"Papers\": \"11594\"}, {\"Year\": 2008, \"Category\": \"DNN\", \"Papers\": \"14454\"}, {\"Year\": 2009, \"Category\": \"DNN\", \"Papers\": \"14270\"}, {\"Year\": 2010, \"Category\": \"DNN\", \"Papers\": \"14302\"}, {\"Year\": 2011, \"Category\": \"DNN\", \"Papers\": \"13853\"}, {\"Year\": 2012, \"Category\": \"DNN\", \"Papers\": \"13601\"}, {\"Year\": 2013, \"Category\": \"DNN\", \"Papers\": \"14325\"}, {\"Year\": 2014, \"Category\": \"DNN\", \"Papers\": \"15851\"}, {\"Year\": 2015, \"Category\": \"DNN\", \"Papers\": \"17683\"}, {\"Year\": 2016, \"Category\": \"DNN\", \"Papers\": \"22301\"}, {\"Year\": 2017, \"Category\": \"DNN\", \"Papers\": \"29584\"}, {\"Year\": 2000, \"Category\": \"Computer Vision\", \"Papers\": \"4087\"}, {\"Year\": 2001, \"Category\": \"Computer Vision\", \"Papers\": \"4430\"}, {\"Year\": 2002, \"Category\": \"Computer Vision\", \"Papers\": \"5366\"}, {\"Year\": 2003, \"Category\": \"Computer Vision\", \"Papers\": \"6186\"}, {\"Year\": 2004, \"Category\": \"Computer Vision\", \"Papers\": \"8132\"}, {\"Year\": 2005, \"Category\": \"Computer Vision\", \"Papers\": \"9274\"}, {\"Year\": 2006, \"Category\": \"Computer Vision\", \"Papers\": \"10670\"}, {\"Year\": 2007, \"Category\": \"Computer Vision\", \"Papers\": \"12849\"}, {\"Year\": 2008, \"Category\": \"Computer Vision\", \"Papers\": \"16942\"}, {\"Year\": 2009, \"Category\": \"Computer Vision\", \"Papers\": \"14041\"}, {\"Year\": 2010, \"Category\": \"Computer Vision\", \"Papers\": \"14298\"}, {\"Year\": 2011, \"Category\": \"Computer Vision\", \"Papers\": \"14193\"}, {\"Year\": 2012, \"Category\": \"Computer Vision\", \"Papers\": \"13451\"}, {\"Year\": 2013, \"Category\": \"Computer Vision\", \"Papers\": \"13629\"}, {\"Year\": 2014, \"Category\": \"Computer Vision\", \"Papers\": \"15877\"}, {\"Year\": 2015, \"Category\": \"Computer Vision\", \"Papers\": \"18854\"}, {\"Year\": 2016, \"Category\": \"Computer Vision\", \"Papers\": \"21330\"}, {\"Year\": 2017, \"Category\": \"Computer Vision\", \"Papers\": \"25006\"}, {\"Year\": 2000, \"Category\": \"Search\", \"Papers\": \"1765\"}, {\"Year\": 2001, \"Category\": \"Search\", \"Papers\": \"2099\"}, {\"Year\": 2002, \"Category\": \"Search\", \"Papers\": \"2427\"}, {\"Year\": 2003, \"Category\": \"Search\", \"Papers\": \"2885\"}, {\"Year\": 2004, \"Category\": \"Search\", \"Papers\": \"3711\"}, {\"Year\": 2005, \"Category\": \"Search\", \"Papers\": \"4094\"}, {\"Year\": 2006, \"Category\": \"Search\", \"Papers\": \"4847\"}, {\"Year\": 2007, \"Category\": \"Search\", \"Papers\": \"6039\"}, {\"Year\": 2008, \"Category\": \"Search\", \"Papers\": \"7598\"}, {\"Year\": 2009, \"Category\": \"Search\", \"Papers\": \"7193\"}, {\"Year\": 2010, \"Category\": \"Search\", \"Papers\": \"7595\"}, {\"Year\": 2011, \"Category\": \"Search\", \"Papers\": \"7379\"}, {\"Year\": 2012, \"Category\": \"Search\", \"Papers\": \"7026\"}, {\"Year\": 2013, \"Category\": \"Search\", \"Papers\": \"7255\"}, {\"Year\": 2014, \"Category\": \"Search\", \"Papers\": \"7423\"}, {\"Year\": 2015, \"Category\": \"Search\", \"Papers\": \"8195\"}, {\"Year\": 2016, \"Category\": \"Search\", \"Papers\": \"8816\"}, {\"Year\": 2017, \"Category\": \"Search\", \"Papers\": \"9333\"}, {\"Year\": 2000, \"Category\": \"NLP\", \"Papers\": \"2424\"}, {\"Year\": 2001, \"Category\": \"NLP\", \"Papers\": \"2597\"}, {\"Year\": 2002, \"Category\": \"NLP\", \"Papers\": \"3018\"}, {\"Year\": 2003, \"Category\": \"NLP\", \"Papers\": \"3780\"}, {\"Year\": 2004, \"Category\": \"NLP\", \"Papers\": \"4976\"}, {\"Year\": 2005, \"Category\": \"NLP\", \"Papers\": \"5715\"}, {\"Year\": 2006, \"Category\": \"NLP\", \"Papers\": \"6361\"}, {\"Year\": 2007, \"Category\": \"NLP\", \"Papers\": \"6717\"}, {\"Year\": 2008, \"Category\": \"NLP\", \"Papers\": \"8381\"}, {\"Year\": 2009, \"Category\": \"NLP\", \"Papers\": \"7776\"}, {\"Year\": 2010, \"Category\": \"NLP\", \"Papers\": \"8117\"}, {\"Year\": 2011, \"Category\": \"NLP\", \"Papers\": \"7124\"}, {\"Year\": 2012, \"Category\": \"NLP\", \"Papers\": \"7302\"}, {\"Year\": 2013, \"Category\": \"NLP\", \"Papers\": \"6635\"}, {\"Year\": 2014, \"Category\": \"NLP\", \"Papers\": \"7816\"}, {\"Year\": 2015, \"Category\": \"NLP\", \"Papers\": \"9339\"}, {\"Year\": 2016, \"Category\": \"NLP\", \"Papers\": \"9810\"}, {\"Year\": 2017, \"Category\": \"NLP\", \"Papers\": \"9099\"}, {\"Year\": 2000, \"Category\": \"Fuzzy Systems\", \"Papers\": \"2471\"}, {\"Year\": 2001, \"Category\": \"Fuzzy Systems\", \"Papers\": \"2923\"}, {\"Year\": 2002, \"Category\": \"Fuzzy Systems\", \"Papers\": \"2894\"}, {\"Year\": 2003, \"Category\": \"Fuzzy Systems\", \"Papers\": \"3344\"}, {\"Year\": 2004, \"Category\": \"Fuzzy Systems\", \"Papers\": \"4189\"}, {\"Year\": 2005, \"Category\": \"Fuzzy Systems\", \"Papers\": \"4161\"}, {\"Year\": 2006, \"Category\": \"Fuzzy Systems\", \"Papers\": \"4587\"}, {\"Year\": 2007, \"Category\": \"Fuzzy Systems\", \"Papers\": \"5144\"}, {\"Year\": 2008, \"Category\": \"Fuzzy Systems\", \"Papers\": \"6717\"}, {\"Year\": 2009, \"Category\": \"Fuzzy Systems\", \"Papers\": \"7160\"}, {\"Year\": 2010, \"Category\": \"Fuzzy Systems\", \"Papers\": \"7002\"}, {\"Year\": 2011, \"Category\": \"Fuzzy Systems\", \"Papers\": \"6162\"}, {\"Year\": 2012, \"Category\": \"Fuzzy Systems\", \"Papers\": \"5310\"}, {\"Year\": 2013, \"Category\": \"Fuzzy Systems\", \"Papers\": \"5330\"}, {\"Year\": 2014, \"Category\": \"Fuzzy Systems\", \"Papers\": \"5210\"}, {\"Year\": 2015, \"Category\": \"Fuzzy Systems\", \"Papers\": \"5597\"}, {\"Year\": 2016, \"Category\": \"Fuzzy Systems\", \"Papers\": \"6390\"}, {\"Year\": 2017, \"Category\": \"Fuzzy Systems\", \"Papers\": \"6290\"}, {\"Year\": 2000, \"Category\": \"Planning\", \"Papers\": \"1096\"}, {\"Year\": 2001, \"Category\": \"Planning\", \"Papers\": \"1492\"}, {\"Year\": 2002, \"Category\": \"Planning\", \"Papers\": \"1833\"}, {\"Year\": 2003, \"Category\": \"Planning\", \"Papers\": \"2531\"}, {\"Year\": 2004, \"Category\": \"Planning\", \"Papers\": \"3239\"}, {\"Year\": 2005, \"Category\": \"Planning\", \"Papers\": \"3911\"}, {\"Year\": 2006, \"Category\": \"Planning\", \"Papers\": \"3901\"}, {\"Year\": 2007, \"Category\": \"Planning\", \"Papers\": \"4162\"}, {\"Year\": 2008, \"Category\": \"Planning\", \"Papers\": \"4436\"}, {\"Year\": 2009, \"Category\": \"Planning\", \"Papers\": \"4186\"}, {\"Year\": 2010, \"Category\": \"Planning\", \"Papers\": \"3787\"}, {\"Year\": 2011, \"Category\": \"Planning\", \"Papers\": \"4454\"}, {\"Year\": 2012, \"Category\": \"Planning\", \"Papers\": \"3293\"}, {\"Year\": 2013, \"Category\": \"Planning\", \"Papers\": \"3388\"}, {\"Year\": 2014, \"Category\": \"Planning\", \"Papers\": \"3278\"}, {\"Year\": 2015, \"Category\": \"Planning\", \"Papers\": \"3825\"}, {\"Year\": 2016, \"Category\": \"Planning\", \"Papers\": \"3881\"}, {\"Year\": 2017, \"Category\": \"Planning\", \"Papers\": \"3892\"}]}};\n",
              "      var embedOpt = {\"mode\": \"vega-lite\"};\n",
              "\n",
              "      function showError(el, error){\n",
              "          el.innerHTML = ('<div class=\"error\" style=\"color:red;\">'\n",
              "                          + '<p>JavaScript Error: ' + error.message + '</p>'\n",
              "                          + \"<p>This usually means there's a typo in your chart specification. \"\n",
              "                          + \"See the javascript console for the full traceback.</p>\"\n",
              "                          + '</div>');\n",
              "          throw error;\n",
              "      }\n",
              "      const el = document.getElementById('altair-viz');\n",
              "      vegaEmbed(\"#altair-viz\", spec, embedOpt)\n",
              "        .catch(error => showError(el, error));\n",
              "    })(vegaEmbed);\n",
              "\n",
              "  </script>\n",
              "</body>\n",
              "</html>"
            ]
          },
          "metadata": {
            "tags": []
          },
          "execution_count": 193
        }
      ]
    },
    {
      "cell_type": "code",
      "metadata": {
        "id": "u8bQXs5jqAdF",
        "colab_type": "code",
        "colab": {}
      },
      "source": [
        "ai_categories2 = ai_categories[ai_categories.Category != 'Planning']"
      ],
      "execution_count": 0,
      "outputs": []
    },
    {
      "cell_type": "code",
      "metadata": {
        "id": "HkxyOrf7tTrk",
        "colab_type": "code",
        "colab": {}
      },
      "source": [
        "ai_categories2 = ai_categories2[ai_categories2.Category != 'Search']"
      ],
      "execution_count": 0,
      "outputs": []
    },
    {
      "cell_type": "code",
      "metadata": {
        "id": "7ExIQl82t62T",
        "colab_type": "code",
        "colab": {}
      },
      "source": [
        "ai_categories2 = ai_categories2[ai_categories2.Category != 'Fuzzy Systems']"
      ],
      "execution_count": 0,
      "outputs": []
    },
    {
      "cell_type": "code",
      "metadata": {
        "id": "DY8ulMD_xq5V",
        "colab_type": "code",
        "colab": {
          "base_uri": "https://localhost:8080/",
          "height": 153
        },
        "outputId": "612fa1bc-4542-4fc2-cc49-1a1e26ad8f63"
      },
      "source": [
        "ai_categories2.info()"
      ],
      "execution_count": 197,
      "outputs": [
        {
          "output_type": "stream",
          "text": [
            "<class 'pandas.core.frame.DataFrame'>\n",
            "Int64Index: 72 entries, 0 to 89\n",
            "Data columns (total 3 columns):\n",
            "Year        72 non-null int64\n",
            "Category    72 non-null object\n",
            "Papers      72 non-null object\n",
            "dtypes: int64(1), object(2)\n",
            "memory usage: 2.2+ KB\n"
          ],
          "name": "stdout"
        }
      ]
    },
    {
      "cell_type": "code",
      "metadata": {
        "id": "pfI3Y2YcxuD5",
        "colab_type": "code",
        "colab": {
          "base_uri": "https://localhost:8080/",
          "height": 686
        },
        "outputId": "36715ef1-8faa-4c9a-882f-0142eff98b77"
      },
      "source": [
        "scopus_pubs = Chart(ai_categories2, title=\"Scopus: AI Publications by Category 2000 to 2017\").properties(\n",
        "    width=800, \n",
        "    height=550, \n",
        "    background='#F9F9F9'\n",
        ").mark_line(\n",
        "    strokeWidth=4\n",
        ").encode(\n",
        "    x='Year:O',\n",
        "    y=alt.Y('Papers:Q', title = 'Number of Publications'),\n",
        "    color='Category:N'\n",
        ")\n",
        "scopus_pubs.configure_legend(\n",
        "    strokeColor='gray',\n",
        "    fillColor='#FFFFFF',\n",
        "    padding=10,\n",
        "    cornerRadius=10,\n",
        "    orient='top-left'\n",
        ")"
      ],
      "execution_count": 320,
      "outputs": [
        {
          "output_type": "execute_result",
          "data": {
            "text/plain": [
              "alt.Chart(...)"
            ],
            "text/html": [
              "<!DOCTYPE html>\n",
              "<html>\n",
              "<head>\n",
              "  <style>\n",
              "    .vega-actions a {\n",
              "        margin-right: 12px;\n",
              "        color: #757575;\n",
              "        font-weight: normal;\n",
              "        font-size: 13px;\n",
              "    }\n",
              "    .error {\n",
              "        color: red;\n",
              "    }\n",
              "  </style>\n",
              "  <script type=\"text/javascript\" src=\"https://cdn.jsdelivr.net/npm//vega@5\"></script>\n",
              "  <script type=\"text/javascript\" src=\"https://cdn.jsdelivr.net/npm//vega-lite@3.4.0\"></script>\n",
              "  <script type=\"text/javascript\" src=\"https://cdn.jsdelivr.net/npm//vega-embed@4\"></script>\n",
              "</head>\n",
              "<body>\n",
              "  <div id=\"altair-viz\"></div>\n",
              "  <script>\n",
              "    (function(vegaEmbed) {\n",
              "      var spec = {\"usermeta\": {\"embedOptions\": {\"theme\": \"fivethirtyeight\"}}, \"config\": {\"view\": {\"width\": 400, \"height\": 300}, \"mark\": {\"tooltip\": null}, \"legend\": {\"cornerRadius\": 10, \"fillColor\": \"#FFFFFF\", \"orient\": \"top-left\", \"padding\": 10, \"strokeColor\": \"gray\"}}, \"data\": {\"name\": \"data-558cde9523f9fcf94d8565cc22dccfa3\"}, \"mark\": {\"type\": \"line\", \"strokeWidth\": 4}, \"background\": \"#F9F9F9\", \"encoding\": {\"color\": {\"type\": \"nominal\", \"field\": \"Category\"}, \"x\": {\"type\": \"ordinal\", \"field\": \"Year\"}, \"y\": {\"type\": \"quantitative\", \"field\": \"Papers\", \"title\": \"Number of Publications\"}}, \"height\": 550, \"title\": \"Scopus: AI Publications by Category 2000 to 2017\", \"width\": 800, \"$schema\": \"https://vega.github.io/schema/vega-lite/v3.4.0.json\", \"datasets\": {\"data-558cde9523f9fcf94d8565cc22dccfa3\": [{\"Year\": 2000, \"Category\": \"ML\", \"Papers\": \"4636\"}, {\"Year\": 2001, \"Category\": \"ML\", \"Papers\": \"5191\"}, {\"Year\": 2002, \"Category\": \"ML\", \"Papers\": \"6189\"}, {\"Year\": 2003, \"Category\": \"ML\", \"Papers\": \"7325\"}, {\"Year\": 2004, \"Category\": \"ML\", \"Papers\": \"10256\"}, {\"Year\": 2005, \"Category\": \"ML\", \"Papers\": \"11743\"}, {\"Year\": 2006, \"Category\": \"ML\", \"Papers\": \"13068\"}, {\"Year\": 2007, \"Category\": \"ML\", \"Papers\": \"15453\"}, {\"Year\": 2008, \"Category\": \"ML\", \"Papers\": \"19786\"}, {\"Year\": 2009, \"Category\": \"ML\", \"Papers\": \"16699\"}, {\"Year\": 2010, \"Category\": \"ML\", \"Papers\": \"17122\"}, {\"Year\": 2011, \"Category\": \"ML\", \"Papers\": \"16962\"}, {\"Year\": 2012, \"Category\": \"ML\", \"Papers\": \"17657\"}, {\"Year\": 2013, \"Category\": \"ML\", \"Papers\": \"18243\"}, {\"Year\": 2014, \"Category\": \"ML\", \"Papers\": \"21263\"}, {\"Year\": 2015, \"Category\": \"ML\", \"Papers\": \"25289\"}, {\"Year\": 2016, \"Category\": \"ML\", \"Papers\": \"28785\"}, {\"Year\": 2017, \"Category\": \"ML\", \"Papers\": \"34461\"}, {\"Year\": 2000, \"Category\": \"DNN\", \"Papers\": \"5383\"}, {\"Year\": 2001, \"Category\": \"DNN\", \"Papers\": \"5659\"}, {\"Year\": 2002, \"Category\": \"DNN\", \"Papers\": \"6320\"}, {\"Year\": 2003, \"Category\": \"DNN\", \"Papers\": \"6819\"}, {\"Year\": 2004, \"Category\": \"DNN\", \"Papers\": \"8590\"}, {\"Year\": 2005, \"Category\": \"DNN\", \"Papers\": \"9520\"}, {\"Year\": 2006, \"Category\": \"DNN\", \"Papers\": \"10487\"}, {\"Year\": 2007, \"Category\": \"DNN\", \"Papers\": \"11594\"}, {\"Year\": 2008, \"Category\": \"DNN\", \"Papers\": \"14454\"}, {\"Year\": 2009, \"Category\": \"DNN\", \"Papers\": \"14270\"}, {\"Year\": 2010, \"Category\": \"DNN\", \"Papers\": \"14302\"}, {\"Year\": 2011, \"Category\": \"DNN\", \"Papers\": \"13853\"}, {\"Year\": 2012, \"Category\": \"DNN\", \"Papers\": \"13601\"}, {\"Year\": 2013, \"Category\": \"DNN\", \"Papers\": \"14325\"}, {\"Year\": 2014, \"Category\": \"DNN\", \"Papers\": \"15851\"}, {\"Year\": 2015, \"Category\": \"DNN\", \"Papers\": \"17683\"}, {\"Year\": 2016, \"Category\": \"DNN\", \"Papers\": \"22301\"}, {\"Year\": 2017, \"Category\": \"DNN\", \"Papers\": \"29584\"}, {\"Year\": 2000, \"Category\": \"Computer Vision\", \"Papers\": \"4087\"}, {\"Year\": 2001, \"Category\": \"Computer Vision\", \"Papers\": \"4430\"}, {\"Year\": 2002, \"Category\": \"Computer Vision\", \"Papers\": \"5366\"}, {\"Year\": 2003, \"Category\": \"Computer Vision\", \"Papers\": \"6186\"}, {\"Year\": 2004, \"Category\": \"Computer Vision\", \"Papers\": \"8132\"}, {\"Year\": 2005, \"Category\": \"Computer Vision\", \"Papers\": \"9274\"}, {\"Year\": 2006, \"Category\": \"Computer Vision\", \"Papers\": \"10670\"}, {\"Year\": 2007, \"Category\": \"Computer Vision\", \"Papers\": \"12849\"}, {\"Year\": 2008, \"Category\": \"Computer Vision\", \"Papers\": \"16942\"}, {\"Year\": 2009, \"Category\": \"Computer Vision\", \"Papers\": \"14041\"}, {\"Year\": 2010, \"Category\": \"Computer Vision\", \"Papers\": \"14298\"}, {\"Year\": 2011, \"Category\": \"Computer Vision\", \"Papers\": \"14193\"}, {\"Year\": 2012, \"Category\": \"Computer Vision\", \"Papers\": \"13451\"}, {\"Year\": 2013, \"Category\": \"Computer Vision\", \"Papers\": \"13629\"}, {\"Year\": 2014, \"Category\": \"Computer Vision\", \"Papers\": \"15877\"}, {\"Year\": 2015, \"Category\": \"Computer Vision\", \"Papers\": \"18854\"}, {\"Year\": 2016, \"Category\": \"Computer Vision\", \"Papers\": \"21330\"}, {\"Year\": 2017, \"Category\": \"Computer Vision\", \"Papers\": \"25006\"}, {\"Year\": 2000, \"Category\": \"NLP\", \"Papers\": \"2424\"}, {\"Year\": 2001, \"Category\": \"NLP\", \"Papers\": \"2597\"}, {\"Year\": 2002, \"Category\": \"NLP\", \"Papers\": \"3018\"}, {\"Year\": 2003, \"Category\": \"NLP\", \"Papers\": \"3780\"}, {\"Year\": 2004, \"Category\": \"NLP\", \"Papers\": \"4976\"}, {\"Year\": 2005, \"Category\": \"NLP\", \"Papers\": \"5715\"}, {\"Year\": 2006, \"Category\": \"NLP\", \"Papers\": \"6361\"}, {\"Year\": 2007, \"Category\": \"NLP\", \"Papers\": \"6717\"}, {\"Year\": 2008, \"Category\": \"NLP\", \"Papers\": \"8381\"}, {\"Year\": 2009, \"Category\": \"NLP\", \"Papers\": \"7776\"}, {\"Year\": 2010, \"Category\": \"NLP\", \"Papers\": \"8117\"}, {\"Year\": 2011, \"Category\": \"NLP\", \"Papers\": \"7124\"}, {\"Year\": 2012, \"Category\": \"NLP\", \"Papers\": \"7302\"}, {\"Year\": 2013, \"Category\": \"NLP\", \"Papers\": \"6635\"}, {\"Year\": 2014, \"Category\": \"NLP\", \"Papers\": \"7816\"}, {\"Year\": 2015, \"Category\": \"NLP\", \"Papers\": \"9339\"}, {\"Year\": 2016, \"Category\": \"NLP\", \"Papers\": \"9810\"}, {\"Year\": 2017, \"Category\": \"NLP\", \"Papers\": \"9099\"}]}};\n",
              "      var embedOpt = {\"mode\": \"vega-lite\"};\n",
              "\n",
              "      function showError(el, error){\n",
              "          el.innerHTML = ('<div class=\"error\" style=\"color:red;\">'\n",
              "                          + '<p>JavaScript Error: ' + error.message + '</p>'\n",
              "                          + \"<p>This usually means there's a typo in your chart specification. \"\n",
              "                          + \"See the javascript console for the full traceback.</p>\"\n",
              "                          + '</div>');\n",
              "          throw error;\n",
              "      }\n",
              "      const el = document.getElementById('altair-viz');\n",
              "      vegaEmbed(\"#altair-viz\", spec, embedOpt)\n",
              "        .catch(error => showError(el, error));\n",
              "    })(vegaEmbed);\n",
              "\n",
              "  </script>\n",
              "</body>\n",
              "</html>"
            ]
          },
          "metadata": {
            "tags": []
          },
          "execution_count": 320
        }
      ]
    },
    {
      "cell_type": "code",
      "metadata": {
        "id": "iFhTKHjf7ywD",
        "colab_type": "code",
        "colab": {}
      },
      "source": [
        "aic_source = 'https://raw.githubusercontent.com/btlewisusabtlewis/DataVisualizationClass/master/AI%20Conference%20Attendance.csv'"
      ],
      "execution_count": 0,
      "outputs": []
    },
    {
      "cell_type": "code",
      "metadata": {
        "id": "zpnLl_kv9xRe",
        "colab_type": "code",
        "colab": {}
      },
      "source": [
        "aic = pd.read_csv(aic_source)"
      ],
      "execution_count": 0,
      "outputs": []
    },
    {
      "cell_type": "code",
      "metadata": {
        "id": "-z5-X5Ct92qe",
        "colab_type": "code",
        "colab": {
          "base_uri": "https://localhost:8080/",
          "height": 204
        },
        "outputId": "2aa8eb26-afa6-449d-ee4c-1f0f8c76bc6e"
      },
      "source": [
        "aic.head()"
      ],
      "execution_count": 201,
      "outputs": [
        {
          "output_type": "execute_result",
          "data": {
            "text/html": [
              "<div>\n",
              "<style scoped>\n",
              "    .dataframe tbody tr th:only-of-type {\n",
              "        vertical-align: middle;\n",
              "    }\n",
              "\n",
              "    .dataframe tbody tr th {\n",
              "        vertical-align: top;\n",
              "    }\n",
              "\n",
              "    .dataframe thead th {\n",
              "        text-align: right;\n",
              "    }\n",
              "</style>\n",
              "<table border=\"1\" class=\"dataframe\">\n",
              "  <thead>\n",
              "    <tr style=\"text-align: right;\">\n",
              "      <th></th>\n",
              "      <th>Unnamed: 0</th>\n",
              "      <th>2018</th>\n",
              "      <th>2017</th>\n",
              "      <th>2016</th>\n",
              "      <th>2015</th>\n",
              "      <th>2014</th>\n",
              "      <th>2013</th>\n",
              "      <th>2012</th>\n",
              "      <th>2011</th>\n",
              "      <th>2010</th>\n",
              "      <th>2009</th>\n",
              "      <th>2008</th>\n",
              "      <th>2007</th>\n",
              "      <th>2006</th>\n",
              "      <th>2005</th>\n",
              "      <th>2004</th>\n",
              "      <th>2003</th>\n",
              "      <th>2002</th>\n",
              "      <th>2001</th>\n",
              "      <th>2000</th>\n",
              "      <th>1999</th>\n",
              "      <th>1998</th>\n",
              "      <th>1997</th>\n",
              "      <th>1996</th>\n",
              "      <th>1995</th>\n",
              "      <th>1994</th>\n",
              "      <th>1993</th>\n",
              "      <th>1992</th>\n",
              "      <th>1991</th>\n",
              "      <th>1990</th>\n",
              "      <th>1989</th>\n",
              "      <th>1988</th>\n",
              "      <th>1987</th>\n",
              "      <th>1986</th>\n",
              "      <th>1985</th>\n",
              "      <th>1984</th>\n",
              "    </tr>\n",
              "  </thead>\n",
              "  <tbody>\n",
              "    <tr>\n",
              "      <th>0</th>\n",
              "      <td>CVPR</td>\n",
              "      <td>6,512</td>\n",
              "      <td>4,976</td>\n",
              "      <td>3,606</td>\n",
              "      <td>2,750</td>\n",
              "      <td>2,061</td>\n",
              "      <td>1,991</td>\n",
              "      <td>1,811</td>\n",
              "      <td>1,496</td>\n",
              "      <td>1,306</td>\n",
              "      <td>1,116</td>\n",
              "      <td>NaN</td>\n",
              "      <td>NaN</td>\n",
              "      <td>NaN</td>\n",
              "      <td>NaN</td>\n",
              "      <td>NaN</td>\n",
              "      <td>NaN</td>\n",
              "      <td>NaN</td>\n",
              "      <td>NaN</td>\n",
              "      <td>NaN</td>\n",
              "      <td>NaN</td>\n",
              "      <td>NaN</td>\n",
              "      <td>NaN</td>\n",
              "      <td>NaN</td>\n",
              "      <td>NaN</td>\n",
              "      <td>NaN</td>\n",
              "      <td>NaN</td>\n",
              "      <td>NaN</td>\n",
              "      <td>NaN</td>\n",
              "      <td>NaN</td>\n",
              "      <td>NaN</td>\n",
              "      <td>NaN</td>\n",
              "      <td>NaN</td>\n",
              "      <td>NaN</td>\n",
              "      <td>NaN</td>\n",
              "      <td>NaN</td>\n",
              "    </tr>\n",
              "    <tr>\n",
              "      <th>1</th>\n",
              "      <td>IJCAI</td>\n",
              "      <td>2,560</td>\n",
              "      <td>2,987</td>\n",
              "      <td>1,671</td>\n",
              "      <td>1,134</td>\n",
              "      <td>1,027</td>\n",
              "      <td>920</td>\n",
              "      <td>1,206</td>\n",
              "      <td>1,493</td>\n",
              "      <td>1,379</td>\n",
              "      <td>1,265</td>\n",
              "      <td>1,240</td>\n",
              "      <td>1,215</td>\n",
              "      <td>1,116</td>\n",
              "      <td>1,018</td>\n",
              "      <td>1,025</td>\n",
              "      <td>1,050</td>\n",
              "      <td>1,100</td>\n",
              "      <td>1,150</td>\n",
              "      <td>1,261</td>\n",
              "      <td>1,373</td>\n",
              "      <td>1,349</td>\n",
              "      <td>1,325</td>\n",
              "      <td>1,692</td>\n",
              "      <td>2,059</td>\n",
              "      <td>2,200</td>\n",
              "      <td>2,500</td>\n",
              "      <td>2,800</td>\n",
              "      <td>3,100</td>\n",
              "      <td>3,400</td>\n",
              "      <td>3,700</td>\n",
              "      <td>4,000</td>\n",
              "      <td>4,200</td>\n",
              "      <td>4,500</td>\n",
              "      <td>4,995</td>\n",
              "      <td>NaN</td>\n",
              "    </tr>\n",
              "    <tr>\n",
              "      <th>2</th>\n",
              "      <td>AAAI</td>\n",
              "      <td>2,251</td>\n",
              "      <td>1,838</td>\n",
              "      <td>1,289</td>\n",
              "      <td>1,380</td>\n",
              "      <td>1,019</td>\n",
              "      <td>807</td>\n",
              "      <td>934</td>\n",
              "      <td>1,108</td>\n",
              "      <td>918</td>\n",
              "      <td>1,015</td>\n",
              "      <td>1,113</td>\n",
              "      <td>1,064</td>\n",
              "      <td>1,263</td>\n",
              "      <td>1,116</td>\n",
              "      <td>1,534</td>\n",
              "      <td>1,466</td>\n",
              "      <td>1,399</td>\n",
              "      <td>1,378</td>\n",
              "      <td>1,358</td>\n",
              "      <td>1,250</td>\n",
              "      <td>1,417</td>\n",
              "      <td>1,262</td>\n",
              "      <td>1,371</td>\n",
              "      <td>1,667</td>\n",
              "      <td>1,964</td>\n",
              "      <td>1,379</td>\n",
              "      <td>1,685</td>\n",
              "      <td>1,950</td>\n",
              "      <td>2,800</td>\n",
              "      <td>3,385</td>\n",
              "      <td>3,970</td>\n",
              "      <td>4,733</td>\n",
              "      <td>5,334</td>\n",
              "      <td>4,317</td>\n",
              "      <td>3,300</td>\n",
              "    </tr>\n",
              "    <tr>\n",
              "      <th>3</th>\n",
              "      <td>NeurIPS</td>\n",
              "      <td>8,000</td>\n",
              "      <td>7,755</td>\n",
              "      <td>5,230</td>\n",
              "      <td>3,852</td>\n",
              "      <td>2,581</td>\n",
              "      <td>1,994</td>\n",
              "      <td>1,676</td>\n",
              "      <td>1,452</td>\n",
              "      <td>1,354</td>\n",
              "      <td>1,239</td>\n",
              "      <td>1,000</td>\n",
              "      <td>1,050</td>\n",
              "      <td>913</td>\n",
              "      <td>926</td>\n",
              "      <td>815</td>\n",
              "      <td>721</td>\n",
              "      <td>708</td>\n",
              "      <td>680</td>\n",
              "      <td>650</td>\n",
              "      <td>620</td>\n",
              "      <td>590</td>\n",
              "      <td>560</td>\n",
              "      <td>530</td>\n",
              "      <td>500</td>\n",
              "      <td>NaN</td>\n",
              "      <td>NaN</td>\n",
              "      <td>NaN</td>\n",
              "      <td>NaN</td>\n",
              "      <td>NaN</td>\n",
              "      <td>NaN</td>\n",
              "      <td>NaN</td>\n",
              "      <td>NaN</td>\n",
              "      <td>NaN</td>\n",
              "      <td>NaN</td>\n",
              "      <td>NaN</td>\n",
              "    </tr>\n",
              "    <tr>\n",
              "      <th>4</th>\n",
              "      <td>ICML</td>\n",
              "      <td>5,023</td>\n",
              "      <td>2,431</td>\n",
              "      <td>3,103</td>\n",
              "      <td>1,200</td>\n",
              "      <td>800</td>\n",
              "      <td>500</td>\n",
              "      <td>744</td>\n",
              "      <td>546</td>\n",
              "      <td>514</td>\n",
              "      <td>579</td>\n",
              "      <td>540</td>\n",
              "      <td>406</td>\n",
              "      <td>NaN</td>\n",
              "      <td>NaN</td>\n",
              "      <td>NaN</td>\n",
              "      <td>NaN</td>\n",
              "      <td>NaN</td>\n",
              "      <td>NaN</td>\n",
              "      <td>NaN</td>\n",
              "      <td>NaN</td>\n",
              "      <td>NaN</td>\n",
              "      <td>NaN</td>\n",
              "      <td>NaN</td>\n",
              "      <td>NaN</td>\n",
              "      <td>NaN</td>\n",
              "      <td>NaN</td>\n",
              "      <td>NaN</td>\n",
              "      <td>NaN</td>\n",
              "      <td>NaN</td>\n",
              "      <td>NaN</td>\n",
              "      <td>NaN</td>\n",
              "      <td>NaN</td>\n",
              "      <td>NaN</td>\n",
              "      <td>NaN</td>\n",
              "      <td>NaN</td>\n",
              "    </tr>\n",
              "  </tbody>\n",
              "</table>\n",
              "</div>"
            ],
            "text/plain": [
              "  Unnamed: 0   2018   2017   2016   2015  ...   1988   1987   1986   1985   1984\n",
              "0       CVPR  6,512  4,976  3,606  2,750  ...    NaN    NaN    NaN    NaN    NaN\n",
              "1      IJCAI  2,560  2,987  1,671  1,134  ...  4,000  4,200  4,500  4,995    NaN\n",
              "2       AAAI  2,251  1,838  1,289  1,380  ...  3,970  4,733  5,334  4,317  3,300\n",
              "3    NeurIPS  8,000  7,755  5,230  3,852  ...    NaN    NaN    NaN    NaN    NaN\n",
              "4       ICML  5,023  2,431  3,103  1,200  ...    NaN    NaN    NaN    NaN    NaN\n",
              "\n",
              "[5 rows x 36 columns]"
            ]
          },
          "metadata": {
            "tags": []
          },
          "execution_count": 201
        }
      ]
    },
    {
      "cell_type": "code",
      "metadata": {
        "id": "uQJEgPfU94en",
        "colab_type": "code",
        "colab": {}
      },
      "source": [
        "aic = aic.fillna(0)"
      ],
      "execution_count": 0,
      "outputs": []
    },
    {
      "cell_type": "code",
      "metadata": {
        "id": "afTmZI2k-w1A",
        "colab_type": "code",
        "colab": {}
      },
      "source": [
        "aic = aic.rename(columns={\"Unnamed: 0\": \"Conference\"})"
      ],
      "execution_count": 0,
      "outputs": []
    },
    {
      "cell_type": "code",
      "metadata": {
        "id": "6vJ8YzbG_btC",
        "colab_type": "code",
        "colab": {
          "base_uri": "https://localhost:8080/",
          "height": 204
        },
        "outputId": "b631f7f4-d077-4bf1-8eec-d51e05037e4d"
      },
      "source": [
        "aic.head()"
      ],
      "execution_count": 204,
      "outputs": [
        {
          "output_type": "execute_result",
          "data": {
            "text/html": [
              "<div>\n",
              "<style scoped>\n",
              "    .dataframe tbody tr th:only-of-type {\n",
              "        vertical-align: middle;\n",
              "    }\n",
              "\n",
              "    .dataframe tbody tr th {\n",
              "        vertical-align: top;\n",
              "    }\n",
              "\n",
              "    .dataframe thead th {\n",
              "        text-align: right;\n",
              "    }\n",
              "</style>\n",
              "<table border=\"1\" class=\"dataframe\">\n",
              "  <thead>\n",
              "    <tr style=\"text-align: right;\">\n",
              "      <th></th>\n",
              "      <th>Conference</th>\n",
              "      <th>2018</th>\n",
              "      <th>2017</th>\n",
              "      <th>2016</th>\n",
              "      <th>2015</th>\n",
              "      <th>2014</th>\n",
              "      <th>2013</th>\n",
              "      <th>2012</th>\n",
              "      <th>2011</th>\n",
              "      <th>2010</th>\n",
              "      <th>2009</th>\n",
              "      <th>2008</th>\n",
              "      <th>2007</th>\n",
              "      <th>2006</th>\n",
              "      <th>2005</th>\n",
              "      <th>2004</th>\n",
              "      <th>2003</th>\n",
              "      <th>2002</th>\n",
              "      <th>2001</th>\n",
              "      <th>2000</th>\n",
              "      <th>1999</th>\n",
              "      <th>1998</th>\n",
              "      <th>1997</th>\n",
              "      <th>1996</th>\n",
              "      <th>1995</th>\n",
              "      <th>1994</th>\n",
              "      <th>1993</th>\n",
              "      <th>1992</th>\n",
              "      <th>1991</th>\n",
              "      <th>1990</th>\n",
              "      <th>1989</th>\n",
              "      <th>1988</th>\n",
              "      <th>1987</th>\n",
              "      <th>1986</th>\n",
              "      <th>1985</th>\n",
              "      <th>1984</th>\n",
              "    </tr>\n",
              "  </thead>\n",
              "  <tbody>\n",
              "    <tr>\n",
              "      <th>0</th>\n",
              "      <td>CVPR</td>\n",
              "      <td>6,512</td>\n",
              "      <td>4,976</td>\n",
              "      <td>3,606</td>\n",
              "      <td>2,750</td>\n",
              "      <td>2,061</td>\n",
              "      <td>1,991</td>\n",
              "      <td>1,811</td>\n",
              "      <td>1,496</td>\n",
              "      <td>1,306</td>\n",
              "      <td>1,116</td>\n",
              "      <td>0</td>\n",
              "      <td>0</td>\n",
              "      <td>0</td>\n",
              "      <td>0</td>\n",
              "      <td>0</td>\n",
              "      <td>0</td>\n",
              "      <td>0</td>\n",
              "      <td>0</td>\n",
              "      <td>0</td>\n",
              "      <td>0</td>\n",
              "      <td>0</td>\n",
              "      <td>0</td>\n",
              "      <td>0</td>\n",
              "      <td>0</td>\n",
              "      <td>0</td>\n",
              "      <td>0</td>\n",
              "      <td>0</td>\n",
              "      <td>0</td>\n",
              "      <td>0</td>\n",
              "      <td>0</td>\n",
              "      <td>0</td>\n",
              "      <td>0</td>\n",
              "      <td>0</td>\n",
              "      <td>0</td>\n",
              "      <td>0</td>\n",
              "    </tr>\n",
              "    <tr>\n",
              "      <th>1</th>\n",
              "      <td>IJCAI</td>\n",
              "      <td>2,560</td>\n",
              "      <td>2,987</td>\n",
              "      <td>1,671</td>\n",
              "      <td>1,134</td>\n",
              "      <td>1,027</td>\n",
              "      <td>920</td>\n",
              "      <td>1,206</td>\n",
              "      <td>1,493</td>\n",
              "      <td>1,379</td>\n",
              "      <td>1,265</td>\n",
              "      <td>1,240</td>\n",
              "      <td>1,215</td>\n",
              "      <td>1,116</td>\n",
              "      <td>1,018</td>\n",
              "      <td>1,025</td>\n",
              "      <td>1,050</td>\n",
              "      <td>1,100</td>\n",
              "      <td>1,150</td>\n",
              "      <td>1,261</td>\n",
              "      <td>1,373</td>\n",
              "      <td>1,349</td>\n",
              "      <td>1,325</td>\n",
              "      <td>1,692</td>\n",
              "      <td>2,059</td>\n",
              "      <td>2,200</td>\n",
              "      <td>2,500</td>\n",
              "      <td>2,800</td>\n",
              "      <td>3,100</td>\n",
              "      <td>3,400</td>\n",
              "      <td>3,700</td>\n",
              "      <td>4,000</td>\n",
              "      <td>4,200</td>\n",
              "      <td>4,500</td>\n",
              "      <td>4,995</td>\n",
              "      <td>0</td>\n",
              "    </tr>\n",
              "    <tr>\n",
              "      <th>2</th>\n",
              "      <td>AAAI</td>\n",
              "      <td>2,251</td>\n",
              "      <td>1,838</td>\n",
              "      <td>1,289</td>\n",
              "      <td>1,380</td>\n",
              "      <td>1,019</td>\n",
              "      <td>807</td>\n",
              "      <td>934</td>\n",
              "      <td>1,108</td>\n",
              "      <td>918</td>\n",
              "      <td>1,015</td>\n",
              "      <td>1,113</td>\n",
              "      <td>1,064</td>\n",
              "      <td>1,263</td>\n",
              "      <td>1,116</td>\n",
              "      <td>1,534</td>\n",
              "      <td>1,466</td>\n",
              "      <td>1,399</td>\n",
              "      <td>1,378</td>\n",
              "      <td>1,358</td>\n",
              "      <td>1,250</td>\n",
              "      <td>1,417</td>\n",
              "      <td>1,262</td>\n",
              "      <td>1,371</td>\n",
              "      <td>1,667</td>\n",
              "      <td>1,964</td>\n",
              "      <td>1,379</td>\n",
              "      <td>1,685</td>\n",
              "      <td>1,950</td>\n",
              "      <td>2,800</td>\n",
              "      <td>3,385</td>\n",
              "      <td>3,970</td>\n",
              "      <td>4,733</td>\n",
              "      <td>5,334</td>\n",
              "      <td>4,317</td>\n",
              "      <td>3,300</td>\n",
              "    </tr>\n",
              "    <tr>\n",
              "      <th>3</th>\n",
              "      <td>NeurIPS</td>\n",
              "      <td>8,000</td>\n",
              "      <td>7,755</td>\n",
              "      <td>5,230</td>\n",
              "      <td>3,852</td>\n",
              "      <td>2,581</td>\n",
              "      <td>1,994</td>\n",
              "      <td>1,676</td>\n",
              "      <td>1,452</td>\n",
              "      <td>1,354</td>\n",
              "      <td>1,239</td>\n",
              "      <td>1,000</td>\n",
              "      <td>1,050</td>\n",
              "      <td>913</td>\n",
              "      <td>926</td>\n",
              "      <td>815</td>\n",
              "      <td>721</td>\n",
              "      <td>708</td>\n",
              "      <td>680</td>\n",
              "      <td>650</td>\n",
              "      <td>620</td>\n",
              "      <td>590</td>\n",
              "      <td>560</td>\n",
              "      <td>530</td>\n",
              "      <td>500</td>\n",
              "      <td>0</td>\n",
              "      <td>0</td>\n",
              "      <td>0</td>\n",
              "      <td>0</td>\n",
              "      <td>0</td>\n",
              "      <td>0</td>\n",
              "      <td>0</td>\n",
              "      <td>0</td>\n",
              "      <td>0</td>\n",
              "      <td>0</td>\n",
              "      <td>0</td>\n",
              "    </tr>\n",
              "    <tr>\n",
              "      <th>4</th>\n",
              "      <td>ICML</td>\n",
              "      <td>5,023</td>\n",
              "      <td>2,431</td>\n",
              "      <td>3,103</td>\n",
              "      <td>1,200</td>\n",
              "      <td>800</td>\n",
              "      <td>500</td>\n",
              "      <td>744</td>\n",
              "      <td>546</td>\n",
              "      <td>514</td>\n",
              "      <td>579</td>\n",
              "      <td>540</td>\n",
              "      <td>406</td>\n",
              "      <td>0</td>\n",
              "      <td>0</td>\n",
              "      <td>0</td>\n",
              "      <td>0</td>\n",
              "      <td>0</td>\n",
              "      <td>0</td>\n",
              "      <td>0</td>\n",
              "      <td>0</td>\n",
              "      <td>0</td>\n",
              "      <td>0</td>\n",
              "      <td>0</td>\n",
              "      <td>0</td>\n",
              "      <td>0</td>\n",
              "      <td>0</td>\n",
              "      <td>0</td>\n",
              "      <td>0</td>\n",
              "      <td>0</td>\n",
              "      <td>0</td>\n",
              "      <td>0</td>\n",
              "      <td>0</td>\n",
              "      <td>0</td>\n",
              "      <td>0</td>\n",
              "      <td>0</td>\n",
              "    </tr>\n",
              "  </tbody>\n",
              "</table>\n",
              "</div>"
            ],
            "text/plain": [
              "  Conference   2018   2017   2016   2015  ...   1988   1987   1986   1985   1984\n",
              "0       CVPR  6,512  4,976  3,606  2,750  ...      0      0      0      0      0\n",
              "1      IJCAI  2,560  2,987  1,671  1,134  ...  4,000  4,200  4,500  4,995      0\n",
              "2       AAAI  2,251  1,838  1,289  1,380  ...  3,970  4,733  5,334  4,317  3,300\n",
              "3    NeurIPS  8,000  7,755  5,230  3,852  ...      0      0      0      0      0\n",
              "4       ICML  5,023  2,431  3,103  1,200  ...      0      0      0      0      0\n",
              "\n",
              "[5 rows x 36 columns]"
            ]
          },
          "metadata": {
            "tags": []
          },
          "execution_count": 204
        }
      ]
    },
    {
      "cell_type": "code",
      "metadata": {
        "id": "VwudJzy3_Wj2",
        "colab_type": "code",
        "colab": {}
      },
      "source": [
        "ai_attendance = pd.melt(aic, id_vars =['Conference'], var_name ='Year', value_name ='Attendance')"
      ],
      "execution_count": 0,
      "outputs": []
    },
    {
      "cell_type": "code",
      "metadata": {
        "id": "WWCZ1wRLBGxH",
        "colab_type": "code",
        "colab": {}
      },
      "source": [
        "ai_attendance['Attendance'] = ai_attendance['Attendance'].str.replace(',', '')"
      ],
      "execution_count": 0,
      "outputs": []
    },
    {
      "cell_type": "code",
      "metadata": {
        "id": "FRua66Gq_1WX",
        "colab_type": "code",
        "colab": {
          "base_uri": "https://localhost:8080/",
          "height": 204
        },
        "outputId": "f81008f7-5c92-4fa2-8830-03049a42f7fa"
      },
      "source": [
        "ai_attendance.head()"
      ],
      "execution_count": 207,
      "outputs": [
        {
          "output_type": "execute_result",
          "data": {
            "text/html": [
              "<div>\n",
              "<style scoped>\n",
              "    .dataframe tbody tr th:only-of-type {\n",
              "        vertical-align: middle;\n",
              "    }\n",
              "\n",
              "    .dataframe tbody tr th {\n",
              "        vertical-align: top;\n",
              "    }\n",
              "\n",
              "    .dataframe thead th {\n",
              "        text-align: right;\n",
              "    }\n",
              "</style>\n",
              "<table border=\"1\" class=\"dataframe\">\n",
              "  <thead>\n",
              "    <tr style=\"text-align: right;\">\n",
              "      <th></th>\n",
              "      <th>Conference</th>\n",
              "      <th>Year</th>\n",
              "      <th>Attendance</th>\n",
              "    </tr>\n",
              "  </thead>\n",
              "  <tbody>\n",
              "    <tr>\n",
              "      <th>0</th>\n",
              "      <td>CVPR</td>\n",
              "      <td>2018</td>\n",
              "      <td>6512</td>\n",
              "    </tr>\n",
              "    <tr>\n",
              "      <th>1</th>\n",
              "      <td>IJCAI</td>\n",
              "      <td>2018</td>\n",
              "      <td>2560</td>\n",
              "    </tr>\n",
              "    <tr>\n",
              "      <th>2</th>\n",
              "      <td>AAAI</td>\n",
              "      <td>2018</td>\n",
              "      <td>2251</td>\n",
              "    </tr>\n",
              "    <tr>\n",
              "      <th>3</th>\n",
              "      <td>NeurIPS</td>\n",
              "      <td>2018</td>\n",
              "      <td>8000</td>\n",
              "    </tr>\n",
              "    <tr>\n",
              "      <th>4</th>\n",
              "      <td>ICML</td>\n",
              "      <td>2018</td>\n",
              "      <td>5023</td>\n",
              "    </tr>\n",
              "  </tbody>\n",
              "</table>\n",
              "</div>"
            ],
            "text/plain": [
              "  Conference  Year Attendance\n",
              "0       CVPR  2018       6512\n",
              "1      IJCAI  2018       2560\n",
              "2       AAAI  2018       2251\n",
              "3    NeurIPS  2018       8000\n",
              "4       ICML  2018       5023"
            ]
          },
          "metadata": {
            "tags": []
          },
          "execution_count": 207
        }
      ]
    },
    {
      "cell_type": "code",
      "metadata": {
        "id": "92fzzQ-u_3zl",
        "colab_type": "code",
        "colab": {
          "base_uri": "https://localhost:8080/",
          "height": 153
        },
        "outputId": "96c2ab8c-5450-4473-f0d0-b2865befbb04"
      },
      "source": [
        "ai_attendance.info()"
      ],
      "execution_count": 208,
      "outputs": [
        {
          "output_type": "stream",
          "text": [
            "<class 'pandas.core.frame.DataFrame'>\n",
            "RangeIndex: 175 entries, 0 to 174\n",
            "Data columns (total 3 columns):\n",
            "Conference    175 non-null object\n",
            "Year          175 non-null object\n",
            "Attendance    115 non-null object\n",
            "dtypes: object(3)\n",
            "memory usage: 4.2+ KB\n"
          ],
          "name": "stdout"
        }
      ]
    },
    {
      "cell_type": "code",
      "metadata": {
        "id": "aM1rwjKID4Q3",
        "colab_type": "code",
        "colab": {
          "base_uri": "https://localhost:8080/",
          "height": 153
        },
        "outputId": "ccc01a50-732a-4eb7-b7ac-3aed0df1736c"
      },
      "source": [
        "ai_attendance.astype({\"Year\": int})\n",
        "ai_attendance.info()"
      ],
      "execution_count": 209,
      "outputs": [
        {
          "output_type": "stream",
          "text": [
            "<class 'pandas.core.frame.DataFrame'>\n",
            "RangeIndex: 175 entries, 0 to 174\n",
            "Data columns (total 3 columns):\n",
            "Conference    175 non-null object\n",
            "Year          175 non-null object\n",
            "Attendance    115 non-null object\n",
            "dtypes: object(3)\n",
            "memory usage: 4.2+ KB\n"
          ],
          "name": "stdout"
        }
      ]
    },
    {
      "cell_type": "code",
      "metadata": {
        "id": "dxLJFT0_DRSy",
        "colab_type": "code",
        "colab": {}
      },
      "source": [
        "ai_attendance = ai_attendance[ai_attendance.Year >= '2000']"
      ],
      "execution_count": 0,
      "outputs": []
    },
    {
      "cell_type": "code",
      "metadata": {
        "id": "4ZypLNsqASaj",
        "colab_type": "code",
        "colab": {
          "base_uri": "https://localhost:8080/",
          "height": 691
        },
        "outputId": "7bdaf2ff-99ba-4536-85d1-2f4a675af601"
      },
      "source": [
        "conf_attendance = Chart(ai_attendance, title=\"Attendance at Large AI Conferences 1984 to 2018\").properties(\n",
        "    width=800, \n",
        "    height=550,\n",
        "    background='#F9F9F9'\n",
        ").mark_line(\n",
        "    strokeWidth=4\n",
        ").encode(\n",
        "    x='Year:O',\n",
        "    y=alt.Y('Attendance:Q', title = 'Conference Attendance'),\n",
        "    color='Conference:N'\n",
        ")\n",
        "conf_attendance.configure_legend(\n",
        "    strokeColor='gray',\n",
        "    fillColor='#FFFFFF',\n",
        "    padding=10,\n",
        "    cornerRadius=10,\n",
        "    orient='top-left'\n",
        ")"
      ],
      "execution_count": 321,
      "outputs": [
        {
          "output_type": "execute_result",
          "data": {
            "text/plain": [
              "alt.Chart(...)"
            ],
            "text/html": [
              "<!DOCTYPE html>\n",
              "<html>\n",
              "<head>\n",
              "  <style>\n",
              "    .vega-actions a {\n",
              "        margin-right: 12px;\n",
              "        color: #757575;\n",
              "        font-weight: normal;\n",
              "        font-size: 13px;\n",
              "    }\n",
              "    .error {\n",
              "        color: red;\n",
              "    }\n",
              "  </style>\n",
              "  <script type=\"text/javascript\" src=\"https://cdn.jsdelivr.net/npm//vega@5\"></script>\n",
              "  <script type=\"text/javascript\" src=\"https://cdn.jsdelivr.net/npm//vega-lite@3.4.0\"></script>\n",
              "  <script type=\"text/javascript\" src=\"https://cdn.jsdelivr.net/npm//vega-embed@4\"></script>\n",
              "</head>\n",
              "<body>\n",
              "  <div id=\"altair-viz\"></div>\n",
              "  <script>\n",
              "    (function(vegaEmbed) {\n",
              "      var spec = {\"usermeta\": {\"embedOptions\": {\"theme\": \"fivethirtyeight\"}}, \"config\": {\"view\": {\"width\": 400, \"height\": 300}, \"mark\": {\"tooltip\": null}, \"legend\": {\"cornerRadius\": 10, \"fillColor\": \"#FFFFFF\", \"orient\": \"top-left\", \"padding\": 10, \"strokeColor\": \"gray\"}}, \"data\": {\"name\": \"data-82a5ed5312ee5770eef535d7ae7fd1d2\"}, \"mark\": {\"type\": \"line\", \"strokeWidth\": 4}, \"background\": \"#F9F9F9\", \"encoding\": {\"color\": {\"type\": \"nominal\", \"field\": \"Conference\"}, \"x\": {\"type\": \"ordinal\", \"field\": \"Year\"}, \"y\": {\"type\": \"quantitative\", \"field\": \"Attendance\", \"title\": \"Conference Attendance\"}}, \"height\": 550, \"title\": \"Attendance at Large AI Conferences 1984 to 2018\", \"width\": 800, \"$schema\": \"https://vega.github.io/schema/vega-lite/v3.4.0.json\", \"datasets\": {\"data-82a5ed5312ee5770eef535d7ae7fd1d2\": [{\"Conference\": \"CVPR\", \"Year\": \"2018\", \"Attendance\": \"6512\"}, {\"Conference\": \"IJCAI\", \"Year\": \"2018\", \"Attendance\": \"2560\"}, {\"Conference\": \"AAAI\", \"Year\": \"2018\", \"Attendance\": \"2251\"}, {\"Conference\": \"NeurIPS\", \"Year\": \"2018\", \"Attendance\": \"8000\"}, {\"Conference\": \"ICML\", \"Year\": \"2018\", \"Attendance\": \"5023\"}, {\"Conference\": \"CVPR\", \"Year\": \"2017\", \"Attendance\": \"4976\"}, {\"Conference\": \"IJCAI\", \"Year\": \"2017\", \"Attendance\": \"2987\"}, {\"Conference\": \"AAAI\", \"Year\": \"2017\", \"Attendance\": \"1838\"}, {\"Conference\": \"NeurIPS\", \"Year\": \"2017\", \"Attendance\": \"7755\"}, {\"Conference\": \"ICML\", \"Year\": \"2017\", \"Attendance\": \"2431\"}, {\"Conference\": \"CVPR\", \"Year\": \"2016\", \"Attendance\": \"3606\"}, {\"Conference\": \"IJCAI\", \"Year\": \"2016\", \"Attendance\": \"1671\"}, {\"Conference\": \"AAAI\", \"Year\": \"2016\", \"Attendance\": \"1289\"}, {\"Conference\": \"NeurIPS\", \"Year\": \"2016\", \"Attendance\": \"5230\"}, {\"Conference\": \"ICML\", \"Year\": \"2016\", \"Attendance\": \"3103\"}, {\"Conference\": \"CVPR\", \"Year\": \"2015\", \"Attendance\": \"2750\"}, {\"Conference\": \"IJCAI\", \"Year\": \"2015\", \"Attendance\": \"1134\"}, {\"Conference\": \"AAAI\", \"Year\": \"2015\", \"Attendance\": \"1380\"}, {\"Conference\": \"NeurIPS\", \"Year\": \"2015\", \"Attendance\": \"3852\"}, {\"Conference\": \"ICML\", \"Year\": \"2015\", \"Attendance\": \"1200\"}, {\"Conference\": \"CVPR\", \"Year\": \"2014\", \"Attendance\": \"2061\"}, {\"Conference\": \"IJCAI\", \"Year\": \"2014\", \"Attendance\": \"1027\"}, {\"Conference\": \"AAAI\", \"Year\": \"2014\", \"Attendance\": \"1019\"}, {\"Conference\": \"NeurIPS\", \"Year\": \"2014\", \"Attendance\": \"2581\"}, {\"Conference\": \"ICML\", \"Year\": \"2014\", \"Attendance\": \"800\"}, {\"Conference\": \"CVPR\", \"Year\": \"2013\", \"Attendance\": \"1991\"}, {\"Conference\": \"IJCAI\", \"Year\": \"2013\", \"Attendance\": \"920\"}, {\"Conference\": \"AAAI\", \"Year\": \"2013\", \"Attendance\": \"807\"}, {\"Conference\": \"NeurIPS\", \"Year\": \"2013\", \"Attendance\": \"1994\"}, {\"Conference\": \"ICML\", \"Year\": \"2013\", \"Attendance\": \"500\"}, {\"Conference\": \"CVPR\", \"Year\": \"2012\", \"Attendance\": \"1811\"}, {\"Conference\": \"IJCAI\", \"Year\": \"2012\", \"Attendance\": \"1206\"}, {\"Conference\": \"AAAI\", \"Year\": \"2012\", \"Attendance\": \"934\"}, {\"Conference\": \"NeurIPS\", \"Year\": \"2012\", \"Attendance\": \"1676\"}, {\"Conference\": \"ICML\", \"Year\": \"2012\", \"Attendance\": \"744\"}, {\"Conference\": \"CVPR\", \"Year\": \"2011\", \"Attendance\": \"1496\"}, {\"Conference\": \"IJCAI\", \"Year\": \"2011\", \"Attendance\": \"1493\"}, {\"Conference\": \"AAAI\", \"Year\": \"2011\", \"Attendance\": \"1108\"}, {\"Conference\": \"NeurIPS\", \"Year\": \"2011\", \"Attendance\": \"1452\"}, {\"Conference\": \"ICML\", \"Year\": \"2011\", \"Attendance\": \"546\"}, {\"Conference\": \"CVPR\", \"Year\": \"2010\", \"Attendance\": \"1306\"}, {\"Conference\": \"IJCAI\", \"Year\": \"2010\", \"Attendance\": \"1379\"}, {\"Conference\": \"AAAI\", \"Year\": \"2010\", \"Attendance\": \"918\"}, {\"Conference\": \"NeurIPS\", \"Year\": \"2010\", \"Attendance\": \"1354\"}, {\"Conference\": \"ICML\", \"Year\": \"2010\", \"Attendance\": \"514\"}, {\"Conference\": \"CVPR\", \"Year\": \"2009\", \"Attendance\": \"1116\"}, {\"Conference\": \"IJCAI\", \"Year\": \"2009\", \"Attendance\": \"1265\"}, {\"Conference\": \"AAAI\", \"Year\": \"2009\", \"Attendance\": \"1015\"}, {\"Conference\": \"NeurIPS\", \"Year\": \"2009\", \"Attendance\": \"1239\"}, {\"Conference\": \"ICML\", \"Year\": \"2009\", \"Attendance\": \"579\"}, {\"Conference\": \"CVPR\", \"Year\": \"2008\", \"Attendance\": null}, {\"Conference\": \"IJCAI\", \"Year\": \"2008\", \"Attendance\": \"1240\"}, {\"Conference\": \"AAAI\", \"Year\": \"2008\", \"Attendance\": \"1113\"}, {\"Conference\": \"NeurIPS\", \"Year\": \"2008\", \"Attendance\": \"1000\"}, {\"Conference\": \"ICML\", \"Year\": \"2008\", \"Attendance\": \"540\"}, {\"Conference\": \"CVPR\", \"Year\": \"2007\", \"Attendance\": null}, {\"Conference\": \"IJCAI\", \"Year\": \"2007\", \"Attendance\": \"1215\"}, {\"Conference\": \"AAAI\", \"Year\": \"2007\", \"Attendance\": \"1064\"}, {\"Conference\": \"NeurIPS\", \"Year\": \"2007\", \"Attendance\": \"1050\"}, {\"Conference\": \"ICML\", \"Year\": \"2007\", \"Attendance\": \"406\"}, {\"Conference\": \"CVPR\", \"Year\": \"2006\", \"Attendance\": null}, {\"Conference\": \"IJCAI\", \"Year\": \"2006\", \"Attendance\": \"1116\"}, {\"Conference\": \"AAAI\", \"Year\": \"2006\", \"Attendance\": \"1263\"}, {\"Conference\": \"NeurIPS\", \"Year\": \"2006\", \"Attendance\": \"913\"}, {\"Conference\": \"ICML\", \"Year\": \"2006\", \"Attendance\": null}, {\"Conference\": \"CVPR\", \"Year\": \"2005\", \"Attendance\": null}, {\"Conference\": \"IJCAI\", \"Year\": \"2005\", \"Attendance\": \"1018\"}, {\"Conference\": \"AAAI\", \"Year\": \"2005\", \"Attendance\": \"1116\"}, {\"Conference\": \"NeurIPS\", \"Year\": \"2005\", \"Attendance\": \"926\"}, {\"Conference\": \"ICML\", \"Year\": \"2005\", \"Attendance\": null}, {\"Conference\": \"CVPR\", \"Year\": \"2004\", \"Attendance\": null}, {\"Conference\": \"IJCAI\", \"Year\": \"2004\", \"Attendance\": \"1025\"}, {\"Conference\": \"AAAI\", \"Year\": \"2004\", \"Attendance\": \"1534\"}, {\"Conference\": \"NeurIPS\", \"Year\": \"2004\", \"Attendance\": \"815\"}, {\"Conference\": \"ICML\", \"Year\": \"2004\", \"Attendance\": null}, {\"Conference\": \"CVPR\", \"Year\": \"2003\", \"Attendance\": null}, {\"Conference\": \"IJCAI\", \"Year\": \"2003\", \"Attendance\": \"1050\"}, {\"Conference\": \"AAAI\", \"Year\": \"2003\", \"Attendance\": \"1466\"}, {\"Conference\": \"NeurIPS\", \"Year\": \"2003\", \"Attendance\": \"721\"}, {\"Conference\": \"ICML\", \"Year\": \"2003\", \"Attendance\": null}, {\"Conference\": \"CVPR\", \"Year\": \"2002\", \"Attendance\": null}, {\"Conference\": \"IJCAI\", \"Year\": \"2002\", \"Attendance\": \"1100\"}, {\"Conference\": \"AAAI\", \"Year\": \"2002\", \"Attendance\": \"1399\"}, {\"Conference\": \"NeurIPS\", \"Year\": \"2002\", \"Attendance\": \"708\"}, {\"Conference\": \"ICML\", \"Year\": \"2002\", \"Attendance\": null}, {\"Conference\": \"CVPR\", \"Year\": \"2001\", \"Attendance\": null}, {\"Conference\": \"IJCAI\", \"Year\": \"2001\", \"Attendance\": \"1150\"}, {\"Conference\": \"AAAI\", \"Year\": \"2001\", \"Attendance\": \"1378\"}, {\"Conference\": \"NeurIPS\", \"Year\": \"2001\", \"Attendance\": \"680\"}, {\"Conference\": \"ICML\", \"Year\": \"2001\", \"Attendance\": null}, {\"Conference\": \"CVPR\", \"Year\": \"2000\", \"Attendance\": null}, {\"Conference\": \"IJCAI\", \"Year\": \"2000\", \"Attendance\": \"1261\"}, {\"Conference\": \"AAAI\", \"Year\": \"2000\", \"Attendance\": \"1358\"}, {\"Conference\": \"NeurIPS\", \"Year\": \"2000\", \"Attendance\": \"650\"}, {\"Conference\": \"ICML\", \"Year\": \"2000\", \"Attendance\": null}]}};\n",
              "      var embedOpt = {\"mode\": \"vega-lite\"};\n",
              "\n",
              "      function showError(el, error){\n",
              "          el.innerHTML = ('<div class=\"error\" style=\"color:red;\">'\n",
              "                          + '<p>JavaScript Error: ' + error.message + '</p>'\n",
              "                          + \"<p>This usually means there's a typo in your chart specification. \"\n",
              "                          + \"See the javascript console for the full traceback.</p>\"\n",
              "                          + '</div>');\n",
              "          throw error;\n",
              "      }\n",
              "      const el = document.getElementById('altair-viz');\n",
              "      vegaEmbed(\"#altair-viz\", spec, embedOpt)\n",
              "        .catch(error => showError(el, error));\n",
              "    })(vegaEmbed);\n",
              "\n",
              "  </script>\n",
              "</body>\n",
              "</html>"
            ]
          },
          "metadata": {
            "tags": []
          },
          "execution_count": 321
        }
      ]
    },
    {
      "cell_type": "code",
      "metadata": {
        "id": "D76gQbOnAy1k",
        "colab_type": "code",
        "colab": {}
      },
      "source": [
        "jobs_source = 'https://raw.githubusercontent.com/btlewisusabtlewis/DataVisualizationClass/master/Monster%20-%20AI%20Job%20Openings.csv'"
      ],
      "execution_count": 0,
      "outputs": []
    },
    {
      "cell_type": "code",
      "metadata": {
        "id": "Ut_UlbHPJNOo",
        "colab_type": "code",
        "colab": {}
      },
      "source": [
        "jobs_raw = pd.read_csv(jobs_source)"
      ],
      "execution_count": 0,
      "outputs": []
    },
    {
      "cell_type": "code",
      "metadata": {
        "id": "CkWbK_ajJTLX",
        "colab_type": "code",
        "colab": {
          "base_uri": "https://localhost:8080/",
          "height": 173
        },
        "outputId": "6627191c-53cf-4f48-b812-8b27cf55a906"
      },
      "source": [
        "jobs_raw.describe()"
      ],
      "execution_count": 214,
      "outputs": [
        {
          "output_type": "execute_result",
          "data": {
            "text/html": [
              "<div>\n",
              "<style scoped>\n",
              "    .dataframe tbody tr th:only-of-type {\n",
              "        vertical-align: middle;\n",
              "    }\n",
              "\n",
              "    .dataframe tbody tr th {\n",
              "        vertical-align: top;\n",
              "    }\n",
              "\n",
              "    .dataframe thead th {\n",
              "        text-align: right;\n",
              "    }\n",
              "</style>\n",
              "<table border=\"1\" class=\"dataframe\">\n",
              "  <thead>\n",
              "    <tr style=\"text-align: right;\">\n",
              "      <th></th>\n",
              "      <th>Unnamed: 0</th>\n",
              "      <th>2015</th>\n",
              "      <th>2016</th>\n",
              "      <th>2017</th>\n",
              "    </tr>\n",
              "  </thead>\n",
              "  <tbody>\n",
              "    <tr>\n",
              "      <th>count</th>\n",
              "      <td>7</td>\n",
              "      <td>7</td>\n",
              "      <td>7</td>\n",
              "      <td>7</td>\n",
              "    </tr>\n",
              "    <tr>\n",
              "      <th>unique</th>\n",
              "      <td>7</td>\n",
              "      <td>7</td>\n",
              "      <td>7</td>\n",
              "      <td>7</td>\n",
              "    </tr>\n",
              "    <tr>\n",
              "      <th>top</th>\n",
              "      <td>Computer vision</td>\n",
              "      <td>2,274</td>\n",
              "      <td>193</td>\n",
              "      <td>5,210</td>\n",
              "    </tr>\n",
              "    <tr>\n",
              "      <th>freq</th>\n",
              "      <td>1</td>\n",
              "      <td>1</td>\n",
              "      <td>1</td>\n",
              "      <td>1</td>\n",
              "    </tr>\n",
              "  </tbody>\n",
              "</table>\n",
              "</div>"
            ],
            "text/plain": [
              "             Unnamed: 0   2015 2016   2017\n",
              "count                 7      7    7      7\n",
              "unique                7      7    7      7\n",
              "top     Computer vision  2,274  193  5,210\n",
              "freq                  1      1    1      1"
            ]
          },
          "metadata": {
            "tags": []
          },
          "execution_count": 214
        }
      ]
    },
    {
      "cell_type": "code",
      "metadata": {
        "id": "OOjmV6MiJVr3",
        "colab_type": "code",
        "colab": {
          "base_uri": "https://localhost:8080/",
          "height": 204
        },
        "outputId": "350338e4-3903-4857-b767-80e4a2a963a7"
      },
      "source": [
        "jobs_raw.head()"
      ],
      "execution_count": 215,
      "outputs": [
        {
          "output_type": "execute_result",
          "data": {
            "text/html": [
              "<div>\n",
              "<style scoped>\n",
              "    .dataframe tbody tr th:only-of-type {\n",
              "        vertical-align: middle;\n",
              "    }\n",
              "\n",
              "    .dataframe tbody tr th {\n",
              "        vertical-align: top;\n",
              "    }\n",
              "\n",
              "    .dataframe thead th {\n",
              "        text-align: right;\n",
              "    }\n",
              "</style>\n",
              "<table border=\"1\" class=\"dataframe\">\n",
              "  <thead>\n",
              "    <tr style=\"text-align: right;\">\n",
              "      <th></th>\n",
              "      <th>Unnamed: 0</th>\n",
              "      <th>2015</th>\n",
              "      <th>2016</th>\n",
              "      <th>2017</th>\n",
              "    </tr>\n",
              "  </thead>\n",
              "  <tbody>\n",
              "    <tr>\n",
              "      <th>0</th>\n",
              "      <td>AI</td>\n",
              "      <td>7,032</td>\n",
              "      <td>11,183</td>\n",
              "      <td>36,042</td>\n",
              "    </tr>\n",
              "    <tr>\n",
              "      <th>1</th>\n",
              "      <td>NLP</td>\n",
              "      <td>1,578</td>\n",
              "      <td>1,889</td>\n",
              "      <td>5,210</td>\n",
              "    </tr>\n",
              "    <tr>\n",
              "      <th>2</th>\n",
              "      <td>ML techniques</td>\n",
              "      <td>2,274</td>\n",
              "      <td>5,015</td>\n",
              "      <td>14,597</td>\n",
              "    </tr>\n",
              "    <tr>\n",
              "      <th>3</th>\n",
              "      <td>Deep learning</td>\n",
              "      <td>235</td>\n",
              "      <td>1,091</td>\n",
              "      <td>8,212</td>\n",
              "    </tr>\n",
              "    <tr>\n",
              "      <th>4</th>\n",
              "      <td>Computer vision</td>\n",
              "      <td>364</td>\n",
              "      <td>953</td>\n",
              "      <td>3,275</td>\n",
              "    </tr>\n",
              "  </tbody>\n",
              "</table>\n",
              "</div>"
            ],
            "text/plain": [
              "        Unnamed: 0   2015    2016    2017\n",
              "0               AI  7,032  11,183  36,042\n",
              "1              NLP  1,578   1,889   5,210\n",
              "2    ML techniques  2,274   5,015  14,597\n",
              "3    Deep learning    235   1,091   8,212\n",
              "4  Computer vision    364     953   3,275"
            ]
          },
          "metadata": {
            "tags": []
          },
          "execution_count": 215
        }
      ]
    },
    {
      "cell_type": "code",
      "metadata": {
        "id": "uTtuaXztJai0",
        "colab_type": "code",
        "colab": {}
      },
      "source": [
        "jobs_raw = jobs_raw.rename(columns={\"Unnamed: 0\": \"AI Skill\"})"
      ],
      "execution_count": 0,
      "outputs": []
    },
    {
      "cell_type": "code",
      "metadata": {
        "id": "3RuZo80GJ2YZ",
        "colab_type": "code",
        "colab": {
          "base_uri": "https://localhost:8080/",
          "height": 204
        },
        "outputId": "90251eaf-2810-4816-e021-56d80d9224fb"
      },
      "source": [
        "jobs_raw.head()"
      ],
      "execution_count": 217,
      "outputs": [
        {
          "output_type": "execute_result",
          "data": {
            "text/html": [
              "<div>\n",
              "<style scoped>\n",
              "    .dataframe tbody tr th:only-of-type {\n",
              "        vertical-align: middle;\n",
              "    }\n",
              "\n",
              "    .dataframe tbody tr th {\n",
              "        vertical-align: top;\n",
              "    }\n",
              "\n",
              "    .dataframe thead th {\n",
              "        text-align: right;\n",
              "    }\n",
              "</style>\n",
              "<table border=\"1\" class=\"dataframe\">\n",
              "  <thead>\n",
              "    <tr style=\"text-align: right;\">\n",
              "      <th></th>\n",
              "      <th>AI Skill</th>\n",
              "      <th>2015</th>\n",
              "      <th>2016</th>\n",
              "      <th>2017</th>\n",
              "    </tr>\n",
              "  </thead>\n",
              "  <tbody>\n",
              "    <tr>\n",
              "      <th>0</th>\n",
              "      <td>AI</td>\n",
              "      <td>7,032</td>\n",
              "      <td>11,183</td>\n",
              "      <td>36,042</td>\n",
              "    </tr>\n",
              "    <tr>\n",
              "      <th>1</th>\n",
              "      <td>NLP</td>\n",
              "      <td>1,578</td>\n",
              "      <td>1,889</td>\n",
              "      <td>5,210</td>\n",
              "    </tr>\n",
              "    <tr>\n",
              "      <th>2</th>\n",
              "      <td>ML techniques</td>\n",
              "      <td>2,274</td>\n",
              "      <td>5,015</td>\n",
              "      <td>14,597</td>\n",
              "    </tr>\n",
              "    <tr>\n",
              "      <th>3</th>\n",
              "      <td>Deep learning</td>\n",
              "      <td>235</td>\n",
              "      <td>1,091</td>\n",
              "      <td>8,212</td>\n",
              "    </tr>\n",
              "    <tr>\n",
              "      <th>4</th>\n",
              "      <td>Computer vision</td>\n",
              "      <td>364</td>\n",
              "      <td>953</td>\n",
              "      <td>3,275</td>\n",
              "    </tr>\n",
              "  </tbody>\n",
              "</table>\n",
              "</div>"
            ],
            "text/plain": [
              "          AI Skill   2015    2016    2017\n",
              "0               AI  7,032  11,183  36,042\n",
              "1              NLP  1,578   1,889   5,210\n",
              "2    ML techniques  2,274   5,015  14,597\n",
              "3    Deep learning    235   1,091   8,212\n",
              "4  Computer vision    364     953   3,275"
            ]
          },
          "metadata": {
            "tags": []
          },
          "execution_count": 217
        }
      ]
    },
    {
      "cell_type": "code",
      "metadata": {
        "id": "YgMm6eckJ5AK",
        "colab_type": "code",
        "colab": {}
      },
      "source": [
        "ai_jobs = pd.melt(jobs_raw, id_vars =['AI Skill'], var_name ='Year', value_name ='Number')"
      ],
      "execution_count": 0,
      "outputs": []
    },
    {
      "cell_type": "code",
      "metadata": {
        "id": "FYfsrnpHKL2R",
        "colab_type": "code",
        "colab": {
          "base_uri": "https://localhost:8080/",
          "height": 204
        },
        "outputId": "ff7efb5b-9b26-4e13-a52b-a5b022c2f171"
      },
      "source": [
        "ai_jobs.head()"
      ],
      "execution_count": 219,
      "outputs": [
        {
          "output_type": "execute_result",
          "data": {
            "text/html": [
              "<div>\n",
              "<style scoped>\n",
              "    .dataframe tbody tr th:only-of-type {\n",
              "        vertical-align: middle;\n",
              "    }\n",
              "\n",
              "    .dataframe tbody tr th {\n",
              "        vertical-align: top;\n",
              "    }\n",
              "\n",
              "    .dataframe thead th {\n",
              "        text-align: right;\n",
              "    }\n",
              "</style>\n",
              "<table border=\"1\" class=\"dataframe\">\n",
              "  <thead>\n",
              "    <tr style=\"text-align: right;\">\n",
              "      <th></th>\n",
              "      <th>AI Skill</th>\n",
              "      <th>Year</th>\n",
              "      <th>Number</th>\n",
              "    </tr>\n",
              "  </thead>\n",
              "  <tbody>\n",
              "    <tr>\n",
              "      <th>0</th>\n",
              "      <td>AI</td>\n",
              "      <td>2015</td>\n",
              "      <td>7,032</td>\n",
              "    </tr>\n",
              "    <tr>\n",
              "      <th>1</th>\n",
              "      <td>NLP</td>\n",
              "      <td>2015</td>\n",
              "      <td>1,578</td>\n",
              "    </tr>\n",
              "    <tr>\n",
              "      <th>2</th>\n",
              "      <td>ML techniques</td>\n",
              "      <td>2015</td>\n",
              "      <td>2,274</td>\n",
              "    </tr>\n",
              "    <tr>\n",
              "      <th>3</th>\n",
              "      <td>Deep learning</td>\n",
              "      <td>2015</td>\n",
              "      <td>235</td>\n",
              "    </tr>\n",
              "    <tr>\n",
              "      <th>4</th>\n",
              "      <td>Computer vision</td>\n",
              "      <td>2015</td>\n",
              "      <td>364</td>\n",
              "    </tr>\n",
              "  </tbody>\n",
              "</table>\n",
              "</div>"
            ],
            "text/plain": [
              "          AI Skill  Year Number\n",
              "0               AI  2015  7,032\n",
              "1              NLP  2015  1,578\n",
              "2    ML techniques  2015  2,274\n",
              "3    Deep learning  2015    235\n",
              "4  Computer vision  2015    364"
            ]
          },
          "metadata": {
            "tags": []
          },
          "execution_count": 219
        }
      ]
    },
    {
      "cell_type": "code",
      "metadata": {
        "id": "S5cCPiGrKNtl",
        "colab_type": "code",
        "colab": {}
      },
      "source": [
        "ai_jobs['Number'] = ai_jobs['Number'].str.replace(',', '')"
      ],
      "execution_count": 0,
      "outputs": []
    },
    {
      "cell_type": "code",
      "metadata": {
        "id": "9zIGvqnhKZYl",
        "colab_type": "code",
        "colab": {
          "base_uri": "https://localhost:8080/",
          "height": 204
        },
        "outputId": "90967fb1-fa04-4c59-dc38-4e19154c0aac"
      },
      "source": [
        "ai_jobs.head()"
      ],
      "execution_count": 221,
      "outputs": [
        {
          "output_type": "execute_result",
          "data": {
            "text/html": [
              "<div>\n",
              "<style scoped>\n",
              "    .dataframe tbody tr th:only-of-type {\n",
              "        vertical-align: middle;\n",
              "    }\n",
              "\n",
              "    .dataframe tbody tr th {\n",
              "        vertical-align: top;\n",
              "    }\n",
              "\n",
              "    .dataframe thead th {\n",
              "        text-align: right;\n",
              "    }\n",
              "</style>\n",
              "<table border=\"1\" class=\"dataframe\">\n",
              "  <thead>\n",
              "    <tr style=\"text-align: right;\">\n",
              "      <th></th>\n",
              "      <th>AI Skill</th>\n",
              "      <th>Year</th>\n",
              "      <th>Number</th>\n",
              "    </tr>\n",
              "  </thead>\n",
              "  <tbody>\n",
              "    <tr>\n",
              "      <th>0</th>\n",
              "      <td>AI</td>\n",
              "      <td>2015</td>\n",
              "      <td>7032</td>\n",
              "    </tr>\n",
              "    <tr>\n",
              "      <th>1</th>\n",
              "      <td>NLP</td>\n",
              "      <td>2015</td>\n",
              "      <td>1578</td>\n",
              "    </tr>\n",
              "    <tr>\n",
              "      <th>2</th>\n",
              "      <td>ML techniques</td>\n",
              "      <td>2015</td>\n",
              "      <td>2274</td>\n",
              "    </tr>\n",
              "    <tr>\n",
              "      <th>3</th>\n",
              "      <td>Deep learning</td>\n",
              "      <td>2015</td>\n",
              "      <td>235</td>\n",
              "    </tr>\n",
              "    <tr>\n",
              "      <th>4</th>\n",
              "      <td>Computer vision</td>\n",
              "      <td>2015</td>\n",
              "      <td>364</td>\n",
              "    </tr>\n",
              "  </tbody>\n",
              "</table>\n",
              "</div>"
            ],
            "text/plain": [
              "          AI Skill  Year Number\n",
              "0               AI  2015   7032\n",
              "1              NLP  2015   1578\n",
              "2    ML techniques  2015   2274\n",
              "3    Deep learning  2015    235\n",
              "4  Computer vision  2015    364"
            ]
          },
          "metadata": {
            "tags": []
          },
          "execution_count": 221
        }
      ]
    },
    {
      "cell_type": "code",
      "metadata": {
        "id": "87OBlc0BLklv",
        "colab_type": "code",
        "colab": {}
      },
      "source": [
        "ai_jobs = ai_jobs[ai_jobs['AI Skill'] != 'Speech recognition']"
      ],
      "execution_count": 0,
      "outputs": []
    },
    {
      "cell_type": "code",
      "metadata": {
        "id": "HCINcPgLMCVj",
        "colab_type": "code",
        "colab": {}
      },
      "source": [
        "ai_jobs = ai_jobs[ai_jobs['AI Skill'] != 'Robotics']"
      ],
      "execution_count": 0,
      "outputs": []
    },
    {
      "cell_type": "code",
      "metadata": {
        "id": "7Heyn_j9Kb94",
        "colab_type": "code",
        "colab": {
          "base_uri": "https://localhost:8080/",
          "height": 691
        },
        "outputId": "a45b3196-7ae2-4998-fd62-09462743b919"
      },
      "source": [
        "ai_job_openings = Chart(ai_jobs, title=\"Monster: AI Job Openings 2015 to 2017\").properties(\n",
        "    width=800, \n",
        "    height=550,\n",
        "    background='#F9F9F9'\n",
        ").mark_line(\n",
        "    strokeWidth=4\n",
        ").encode(\n",
        "    x='Year:O', \n",
        "    y=alt.Y('Number:Q', title = 'Number of Job Openings'),\n",
        "    color='AI Skill:N'\n",
        ")\n",
        "ai_job_openings.configure_legend(\n",
        "    strokeColor='gray',\n",
        "    fillColor='#FFFFFF',\n",
        "    padding=10,\n",
        "    cornerRadius=10,\n",
        "    orient='top-left'\n",
        ")"
      ],
      "execution_count": 334,
      "outputs": [
        {
          "output_type": "execute_result",
          "data": {
            "text/plain": [
              "alt.Chart(...)"
            ],
            "text/html": [
              "<!DOCTYPE html>\n",
              "<html>\n",
              "<head>\n",
              "  <style>\n",
              "    .vega-actions a {\n",
              "        margin-right: 12px;\n",
              "        color: #757575;\n",
              "        font-weight: normal;\n",
              "        font-size: 13px;\n",
              "    }\n",
              "    .error {\n",
              "        color: red;\n",
              "    }\n",
              "  </style>\n",
              "  <script type=\"text/javascript\" src=\"https://cdn.jsdelivr.net/npm//vega@5\"></script>\n",
              "  <script type=\"text/javascript\" src=\"https://cdn.jsdelivr.net/npm//vega-lite@3.4.0\"></script>\n",
              "  <script type=\"text/javascript\" src=\"https://cdn.jsdelivr.net/npm//vega-embed@4\"></script>\n",
              "</head>\n",
              "<body>\n",
              "  <div id=\"altair-viz\"></div>\n",
              "  <script>\n",
              "    (function(vegaEmbed) {\n",
              "      var spec = {\"usermeta\": {\"embedOptions\": {\"theme\": \"fivethirtyeight\"}}, \"config\": {\"view\": {\"width\": 400, \"height\": 300}, \"mark\": {\"tooltip\": null}, \"legend\": {\"cornerRadius\": 10, \"fillColor\": \"#FFFFFF\", \"orient\": \"top-left\", \"padding\": 10, \"strokeColor\": \"gray\"}}, \"data\": {\"name\": \"data-fcf36709e8532ed82fa4e0b71ffc0102\"}, \"mark\": {\"type\": \"line\", \"strokeWidth\": 4}, \"background\": \"#F9F9F9\", \"encoding\": {\"color\": {\"type\": \"nominal\", \"field\": \"AI Skill\"}, \"x\": {\"type\": \"ordinal\", \"field\": \"Year\"}, \"y\": {\"type\": \"quantitative\", \"field\": \"Number\", \"title\": \"Number of Job Openings\"}}, \"height\": 550, \"title\": \"Monster: AI Job Openings 2015 to 2017\", \"width\": 800, \"$schema\": \"https://vega.github.io/schema/vega-lite/v3.4.0.json\", \"datasets\": {\"data-fcf36709e8532ed82fa4e0b71ffc0102\": [{\"AI Skill\": \"AI\", \"Year\": \"2015\", \"Number\": \"7032\"}, {\"AI Skill\": \"NLP\", \"Year\": \"2015\", \"Number\": \"1578\"}, {\"AI Skill\": \"ML techniques\", \"Year\": \"2015\", \"Number\": \"2274\"}, {\"AI Skill\": \"Deep learning\", \"Year\": \"2015\", \"Number\": \"235\"}, {\"AI Skill\": \"Computer vision\", \"Year\": \"2015\", \"Number\": \"364\"}, {\"AI Skill\": \"AI\", \"Year\": \"2016\", \"Number\": \"11183\"}, {\"AI Skill\": \"NLP\", \"Year\": \"2016\", \"Number\": \"1889\"}, {\"AI Skill\": \"ML techniques\", \"Year\": \"2016\", \"Number\": \"5015\"}, {\"AI Skill\": \"Deep learning\", \"Year\": \"2016\", \"Number\": \"1091\"}, {\"AI Skill\": \"Computer vision\", \"Year\": \"2016\", \"Number\": \"953\"}, {\"AI Skill\": \"AI\", \"Year\": \"2017\", \"Number\": \"36042\"}, {\"AI Skill\": \"NLP\", \"Year\": \"2017\", \"Number\": \"5210\"}, {\"AI Skill\": \"ML techniques\", \"Year\": \"2017\", \"Number\": \"14597\"}, {\"AI Skill\": \"Deep learning\", \"Year\": \"2017\", \"Number\": \"8212\"}, {\"AI Skill\": \"Computer vision\", \"Year\": \"2017\", \"Number\": \"3275\"}]}};\n",
              "      var embedOpt = {\"mode\": \"vega-lite\"};\n",
              "\n",
              "      function showError(el, error){\n",
              "          el.innerHTML = ('<div class=\"error\" style=\"color:red;\">'\n",
              "                          + '<p>JavaScript Error: ' + error.message + '</p>'\n",
              "                          + \"<p>This usually means there's a typo in your chart specification. \"\n",
              "                          + \"See the javascript console for the full traceback.</p>\"\n",
              "                          + '</div>');\n",
              "          throw error;\n",
              "      }\n",
              "      const el = document.getElementById('altair-viz');\n",
              "      vegaEmbed(\"#altair-viz\", spec, embedOpt)\n",
              "        .catch(error => showError(el, error));\n",
              "    })(vegaEmbed);\n",
              "\n",
              "  </script>\n",
              "</body>\n",
              "</html>"
            ]
          },
          "metadata": {
            "tags": []
          },
          "execution_count": 334
        }
      ]
    },
    {
      "cell_type": "code",
      "metadata": {
        "id": "CpMX4pO6LAra",
        "colab_type": "code",
        "colab": {}
      },
      "source": [
        "class_source = ''"
      ],
      "execution_count": 0,
      "outputs": []
    },
    {
      "cell_type": "code",
      "metadata": {
        "id": "KdRua4IONnVJ",
        "colab_type": "code",
        "colab": {}
      },
      "source": [
        "class_raw = pd.read_csv(class_source)"
      ],
      "execution_count": 0,
      "outputs": []
    },
    {
      "cell_type": "code",
      "metadata": {
        "id": "1GyniJLuNt8W",
        "colab_type": "code",
        "colab": {
          "base_uri": "https://localhost:8080/",
          "height": 204
        },
        "outputId": "9bd18163-f76c-4a06-bbdc-d20996d12dfa"
      },
      "source": [
        "class_raw.head()"
      ],
      "execution_count": 227,
      "outputs": [
        {
          "output_type": "execute_result",
          "data": {
            "text/html": [
              "<div>\n",
              "<style scoped>\n",
              "    .dataframe tbody tr th:only-of-type {\n",
              "        vertical-align: middle;\n",
              "    }\n",
              "\n",
              "    .dataframe tbody tr th {\n",
              "        vertical-align: top;\n",
              "    }\n",
              "\n",
              "    .dataframe thead th {\n",
              "        text-align: right;\n",
              "    }\n",
              "</style>\n",
              "<table border=\"1\" class=\"dataframe\">\n",
              "  <thead>\n",
              "    <tr style=\"text-align: right;\">\n",
              "      <th></th>\n",
              "      <th>Year</th>\n",
              "      <th>Berkeley</th>\n",
              "      <th>Stanford</th>\n",
              "      <th>UIUC</th>\n",
              "      <th>UW</th>\n",
              "    </tr>\n",
              "  </thead>\n",
              "  <tbody>\n",
              "    <tr>\n",
              "      <th>0</th>\n",
              "      <td>2010</td>\n",
              "      <td>0.02</td>\n",
              "      <td>0.03</td>\n",
              "      <td>0.01</td>\n",
              "      <td>0.00</td>\n",
              "    </tr>\n",
              "    <tr>\n",
              "      <th>1</th>\n",
              "      <td>2011</td>\n",
              "      <td>0.02</td>\n",
              "      <td>0.03</td>\n",
              "      <td>0.00</td>\n",
              "      <td>0.00</td>\n",
              "    </tr>\n",
              "    <tr>\n",
              "      <th>2</th>\n",
              "      <td>2012</td>\n",
              "      <td>0.03</td>\n",
              "      <td>0.03</td>\n",
              "      <td>0.01</td>\n",
              "      <td>0.00</td>\n",
              "    </tr>\n",
              "    <tr>\n",
              "      <th>3</th>\n",
              "      <td>2013</td>\n",
              "      <td>0.03</td>\n",
              "      <td>0.03</td>\n",
              "      <td>0.01</td>\n",
              "      <td>0.01</td>\n",
              "    </tr>\n",
              "    <tr>\n",
              "      <th>4</th>\n",
              "      <td>2014</td>\n",
              "      <td>0.04</td>\n",
              "      <td>0.05</td>\n",
              "      <td>0.01</td>\n",
              "      <td>0.01</td>\n",
              "    </tr>\n",
              "  </tbody>\n",
              "</table>\n",
              "</div>"
            ],
            "text/plain": [
              "   Year  Berkeley  Stanford  UIUC    UW\n",
              "0  2010      0.02      0.03  0.01  0.00\n",
              "1  2011      0.02      0.03  0.00  0.00\n",
              "2  2012      0.03      0.03  0.01  0.00\n",
              "3  2013      0.03      0.03  0.01  0.01\n",
              "4  2014      0.04      0.05  0.01  0.01"
            ]
          },
          "metadata": {
            "tags": []
          },
          "execution_count": 227
        }
      ]
    },
    {
      "cell_type": "code",
      "metadata": {
        "id": "i0eqOIJQNxWN",
        "colab_type": "code",
        "colab": {}
      },
      "source": [
        "ai_class = pd.melt(class_raw, id_vars =['Year'], var_name ='University', value_name ='Percentage')"
      ],
      "execution_count": 0,
      "outputs": []
    },
    {
      "cell_type": "code",
      "metadata": {
        "id": "SM_wtx7jOHad",
        "colab_type": "code",
        "colab": {
          "base_uri": "https://localhost:8080/",
          "height": 204
        },
        "outputId": "298bc680-e97e-4044-e016-59b369ff03f0"
      },
      "source": [
        "ai_class.head()"
      ],
      "execution_count": 229,
      "outputs": [
        {
          "output_type": "execute_result",
          "data": {
            "text/html": [
              "<div>\n",
              "<style scoped>\n",
              "    .dataframe tbody tr th:only-of-type {\n",
              "        vertical-align: middle;\n",
              "    }\n",
              "\n",
              "    .dataframe tbody tr th {\n",
              "        vertical-align: top;\n",
              "    }\n",
              "\n",
              "    .dataframe thead th {\n",
              "        text-align: right;\n",
              "    }\n",
              "</style>\n",
              "<table border=\"1\" class=\"dataframe\">\n",
              "  <thead>\n",
              "    <tr style=\"text-align: right;\">\n",
              "      <th></th>\n",
              "      <th>Year</th>\n",
              "      <th>University</th>\n",
              "      <th>Percentage</th>\n",
              "    </tr>\n",
              "  </thead>\n",
              "  <tbody>\n",
              "    <tr>\n",
              "      <th>0</th>\n",
              "      <td>2010</td>\n",
              "      <td>Berkeley</td>\n",
              "      <td>0.02</td>\n",
              "    </tr>\n",
              "    <tr>\n",
              "      <th>1</th>\n",
              "      <td>2011</td>\n",
              "      <td>Berkeley</td>\n",
              "      <td>0.02</td>\n",
              "    </tr>\n",
              "    <tr>\n",
              "      <th>2</th>\n",
              "      <td>2012</td>\n",
              "      <td>Berkeley</td>\n",
              "      <td>0.03</td>\n",
              "    </tr>\n",
              "    <tr>\n",
              "      <th>3</th>\n",
              "      <td>2013</td>\n",
              "      <td>Berkeley</td>\n",
              "      <td>0.03</td>\n",
              "    </tr>\n",
              "    <tr>\n",
              "      <th>4</th>\n",
              "      <td>2014</td>\n",
              "      <td>Berkeley</td>\n",
              "      <td>0.04</td>\n",
              "    </tr>\n",
              "  </tbody>\n",
              "</table>\n",
              "</div>"
            ],
            "text/plain": [
              "   Year University  Percentage\n",
              "0  2010   Berkeley        0.02\n",
              "1  2011   Berkeley        0.02\n",
              "2  2012   Berkeley        0.03\n",
              "3  2013   Berkeley        0.03\n",
              "4  2014   Berkeley        0.04"
            ]
          },
          "metadata": {
            "tags": []
          },
          "execution_count": 229
        }
      ]
    },
    {
      "cell_type": "code",
      "metadata": {
        "id": "OvUY31dyOJWB",
        "colab_type": "code",
        "colab": {
          "base_uri": "https://localhost:8080/",
          "height": 511
        },
        "outputId": "c0950fb0-5c37-451b-a459-7ef9e2569e4b"
      },
      "source": [
        "ai_intro_class = Chart(ai_class, title=\"Percent of Undergraduates Enrolled in Intro to AI 2010 to 2017\").properties(\n",
        "    width=800, \n",
        "    height=370,\n",
        "    background='#F9F9F9'\n",
        ").mark_line(\n",
        "    strokeWidth=4\n",
        ").encode(\n",
        "    x='Year:O',\n",
        "    y=alt.Y('Percentage:Q', axis=alt.Axis(format='%'), title = 'Percent of Undergraduates Enrolled in Intro to AI'), \n",
        "    color='University:N'\n",
        ")\n",
        "\n",
        "ai_intro_class.configure_legend(\n",
        "    strokeColor='gray',\n",
        "    fillColor='#FFFFFF',\n",
        "    padding=10,\n",
        "    cornerRadius=10,\n",
        "    orient='top-left'\n",
        ")"
      ],
      "execution_count": 335,
      "outputs": [
        {
          "output_type": "execute_result",
          "data": {
            "text/plain": [
              "alt.Chart(...)"
            ],
            "text/html": [
              "<!DOCTYPE html>\n",
              "<html>\n",
              "<head>\n",
              "  <style>\n",
              "    .vega-actions a {\n",
              "        margin-right: 12px;\n",
              "        color: #757575;\n",
              "        font-weight: normal;\n",
              "        font-size: 13px;\n",
              "    }\n",
              "    .error {\n",
              "        color: red;\n",
              "    }\n",
              "  </style>\n",
              "  <script type=\"text/javascript\" src=\"https://cdn.jsdelivr.net/npm//vega@5\"></script>\n",
              "  <script type=\"text/javascript\" src=\"https://cdn.jsdelivr.net/npm//vega-lite@3.4.0\"></script>\n",
              "  <script type=\"text/javascript\" src=\"https://cdn.jsdelivr.net/npm//vega-embed@4\"></script>\n",
              "</head>\n",
              "<body>\n",
              "  <div id=\"altair-viz\"></div>\n",
              "  <script>\n",
              "    (function(vegaEmbed) {\n",
              "      var spec = {\"usermeta\": {\"embedOptions\": {\"theme\": \"fivethirtyeight\"}}, \"config\": {\"view\": {\"width\": 400, \"height\": 300}, \"mark\": {\"tooltip\": null}, \"legend\": {\"cornerRadius\": 10, \"fillColor\": \"#FFFFFF\", \"orient\": \"top-left\", \"padding\": 10, \"strokeColor\": \"gray\"}}, \"data\": {\"name\": \"data-732b7c093a9847725a0b313a6531086c\"}, \"mark\": {\"type\": \"line\", \"strokeWidth\": 4}, \"background\": \"#F9F9F9\", \"encoding\": {\"color\": {\"type\": \"nominal\", \"field\": \"University\"}, \"x\": {\"type\": \"ordinal\", \"field\": \"Year\"}, \"y\": {\"type\": \"quantitative\", \"axis\": {\"format\": \"%\"}, \"field\": \"Percentage\", \"title\": \"Percent of Undergraduates Enrolled in Intro to AI\"}}, \"height\": 370, \"title\": \"Percent of Undergraduates Enrolled in Intro to AI 2010 to 2017\", \"width\": 800, \"$schema\": \"https://vega.github.io/schema/vega-lite/v3.4.0.json\", \"datasets\": {\"data-732b7c093a9847725a0b313a6531086c\": [{\"Year\": 2010, \"University\": \"Berkeley\", \"Percentage\": 0.02}, {\"Year\": 2011, \"University\": \"Berkeley\", \"Percentage\": 0.02}, {\"Year\": 2012, \"University\": \"Berkeley\", \"Percentage\": 0.03}, {\"Year\": 2013, \"University\": \"Berkeley\", \"Percentage\": 0.03}, {\"Year\": 2014, \"University\": \"Berkeley\", \"Percentage\": 0.04}, {\"Year\": 2015, \"University\": \"Berkeley\", \"Percentage\": 0.04}, {\"Year\": 2016, \"University\": \"Berkeley\", \"Percentage\": 0.03}, {\"Year\": 2017, \"University\": \"Berkeley\", \"Percentage\": 0.04}, {\"Year\": 2010, \"University\": \"Stanford\", \"Percentage\": 0.03}, {\"Year\": 2011, \"University\": \"Stanford\", \"Percentage\": 0.03}, {\"Year\": 2012, \"University\": \"Stanford\", \"Percentage\": 0.03}, {\"Year\": 2013, \"University\": \"Stanford\", \"Percentage\": 0.03}, {\"Year\": 2014, \"University\": \"Stanford\", \"Percentage\": 0.05}, {\"Year\": 2015, \"University\": \"Stanford\", \"Percentage\": 0.08}, {\"Year\": 2016, \"University\": \"Stanford\", \"Percentage\": 0.09}, {\"Year\": 2017, \"University\": \"Stanford\", \"Percentage\": 0.12}, {\"Year\": 2010, \"University\": \"UIUC\", \"Percentage\": 0.01}, {\"Year\": 2011, \"University\": \"UIUC\", \"Percentage\": 0.0}, {\"Year\": 2012, \"University\": \"UIUC\", \"Percentage\": 0.01}, {\"Year\": 2013, \"University\": \"UIUC\", \"Percentage\": 0.01}, {\"Year\": 2014, \"University\": \"UIUC\", \"Percentage\": 0.01}, {\"Year\": 2015, \"University\": \"UIUC\", \"Percentage\": 0.01}, {\"Year\": 2016, \"University\": \"UIUC\", \"Percentage\": 0.01}, {\"Year\": 2017, \"University\": \"UIUC\", \"Percentage\": 0.03}, {\"Year\": 2010, \"University\": \"UW\", \"Percentage\": 0.0}, {\"Year\": 2011, \"University\": \"UW\", \"Percentage\": 0.0}, {\"Year\": 2012, \"University\": \"UW\", \"Percentage\": 0.0}, {\"Year\": 2013, \"University\": \"UW\", \"Percentage\": 0.01}, {\"Year\": 2014, \"University\": \"UW\", \"Percentage\": 0.01}, {\"Year\": 2015, \"University\": \"UW\", \"Percentage\": 0.01}, {\"Year\": 2016, \"University\": \"UW\", \"Percentage\": 0.01}, {\"Year\": 2017, \"University\": \"UW\", \"Percentage\": 0.02}]}};\n",
              "      var embedOpt = {\"mode\": \"vega-lite\"};\n",
              "\n",
              "      function showError(el, error){\n",
              "          el.innerHTML = ('<div class=\"error\" style=\"color:red;\">'\n",
              "                          + '<p>JavaScript Error: ' + error.message + '</p>'\n",
              "                          + \"<p>This usually means there's a typo in your chart specification. \"\n",
              "                          + \"See the javascript console for the full traceback.</p>\"\n",
              "                          + '</div>');\n",
              "          throw error;\n",
              "      }\n",
              "      const el = document.getElementById('altair-viz');\n",
              "      vegaEmbed(\"#altair-viz\", spec, embedOpt)\n",
              "        .catch(error => showError(el, error));\n",
              "    })(vegaEmbed);\n",
              "\n",
              "  </script>\n",
              "</body>\n",
              "</html>"
            ]
          },
          "metadata": {
            "tags": []
          },
          "execution_count": 335
        }
      ]
    },
    {
      "cell_type": "code",
      "metadata": {
        "id": "AACH2KjbO8l9",
        "colab_type": "code",
        "colab": {}
      },
      "source": [
        "gans_source = 'https://raw.githubusercontent.com/hindupuravinash/the-gan-zoo/master/gans.tsv'"
      ],
      "execution_count": 0,
      "outputs": []
    },
    {
      "cell_type": "code",
      "metadata": {
        "id": "AocLQHPpZ02D",
        "colab_type": "code",
        "colab": {}
      },
      "source": [
        "gans_raw = pd.read_table(gans_source)"
      ],
      "execution_count": 0,
      "outputs": []
    },
    {
      "cell_type": "code",
      "metadata": {
        "id": "DBBm_Q8gaBrb",
        "colab_type": "code",
        "colab": {
          "base_uri": "https://localhost:8080/",
          "height": 204
        },
        "outputId": "6d4fc45a-b913-41ff-885d-fe8c2a9f254e"
      },
      "source": [
        "gans_raw.head()"
      ],
      "execution_count": 233,
      "outputs": [
        {
          "output_type": "execute_result",
          "data": {
            "text/html": [
              "<div>\n",
              "<style scoped>\n",
              "    .dataframe tbody tr th:only-of-type {\n",
              "        vertical-align: middle;\n",
              "    }\n",
              "\n",
              "    .dataframe tbody tr th {\n",
              "        vertical-align: top;\n",
              "    }\n",
              "\n",
              "    .dataframe thead th {\n",
              "        text-align: right;\n",
              "    }\n",
              "</style>\n",
              "<table border=\"1\" class=\"dataframe\">\n",
              "  <thead>\n",
              "    <tr style=\"text-align: right;\">\n",
              "      <th></th>\n",
              "      <th>Year</th>\n",
              "      <th>Month</th>\n",
              "      <th>Abbr.</th>\n",
              "      <th>Title</th>\n",
              "      <th>Arxiv</th>\n",
              "      <th>Official_Code</th>\n",
              "      <th>Watches</th>\n",
              "      <th>Stars</th>\n",
              "      <th>Forks</th>\n",
              "    </tr>\n",
              "  </thead>\n",
              "  <tbody>\n",
              "    <tr>\n",
              "      <th>0</th>\n",
              "      <td>2014</td>\n",
              "      <td>6</td>\n",
              "      <td>GAN</td>\n",
              "      <td>Generative Adversarial Networks</td>\n",
              "      <td>https://arxiv.org/abs/1406.2661</td>\n",
              "      <td>https://github.com/goodfeli/adversarial</td>\n",
              "      <td>108.0</td>\n",
              "      <td>1736.0</td>\n",
              "      <td>666.0</td>\n",
              "    </tr>\n",
              "    <tr>\n",
              "      <th>1</th>\n",
              "      <td>2014</td>\n",
              "      <td>11</td>\n",
              "      <td>CGAN</td>\n",
              "      <td>Conditional Generative Adversarial Nets</td>\n",
              "      <td>https://arxiv.org/abs/1411.1784</td>\n",
              "      <td>-</td>\n",
              "      <td>NaN</td>\n",
              "      <td>NaN</td>\n",
              "      <td>NaN</td>\n",
              "    </tr>\n",
              "    <tr>\n",
              "      <th>2</th>\n",
              "      <td>2015</td>\n",
              "      <td>6</td>\n",
              "      <td>LAPGAN</td>\n",
              "      <td>Deep Generative Image Models using a Laplacian...</td>\n",
              "      <td>https://arxiv.org/abs/1506.05751</td>\n",
              "      <td>https://github.com/facebook/eyescream</td>\n",
              "      <td>52.0</td>\n",
              "      <td>581.0</td>\n",
              "      <td>138.0</td>\n",
              "    </tr>\n",
              "    <tr>\n",
              "      <th>3</th>\n",
              "      <td>2015</td>\n",
              "      <td>11</td>\n",
              "      <td>CatGAN</td>\n",
              "      <td>Unsupervised and Semi-supervised Learning with...</td>\n",
              "      <td>https://arxiv.org/abs/1511.06390v2</td>\n",
              "      <td>-</td>\n",
              "      <td>NaN</td>\n",
              "      <td>NaN</td>\n",
              "      <td>NaN</td>\n",
              "    </tr>\n",
              "    <tr>\n",
              "      <th>4</th>\n",
              "      <td>2015</td>\n",
              "      <td>11</td>\n",
              "      <td>DCGAN</td>\n",
              "      <td>Unsupervised Representation Learning with Deep...</td>\n",
              "      <td>https://arxiv.org/abs/1511.06434</td>\n",
              "      <td>https://github.com/Newmu/dcgan_code</td>\n",
              "      <td>168.0</td>\n",
              "      <td>2849.0</td>\n",
              "      <td>581.0</td>\n",
              "    </tr>\n",
              "  </tbody>\n",
              "</table>\n",
              "</div>"
            ],
            "text/plain": [
              "   Year  Month   Abbr.  ... Watches   Stars  Forks\n",
              "0  2014      6     GAN  ...   108.0  1736.0  666.0\n",
              "1  2014     11    CGAN  ...     NaN     NaN    NaN\n",
              "2  2015      6  LAPGAN  ...    52.0   581.0  138.0\n",
              "3  2015     11  CatGAN  ...     NaN     NaN    NaN\n",
              "4  2015     11   DCGAN  ...   168.0  2849.0  581.0\n",
              "\n",
              "[5 rows x 9 columns]"
            ]
          },
          "metadata": {
            "tags": []
          },
          "execution_count": 233
        }
      ]
    },
    {
      "cell_type": "code",
      "metadata": {
        "id": "3lfAnJQocvbG",
        "colab_type": "code",
        "colab": {}
      },
      "source": [
        "gans_raw['hasgan'] = 1"
      ],
      "execution_count": 0,
      "outputs": []
    },
    {
      "cell_type": "code",
      "metadata": {
        "id": "FWgd9dLAaMon",
        "colab_type": "code",
        "colab": {}
      },
      "source": [
        "gans_raw['cum_gans'] = gans_raw.hasgan.cumsum()"
      ],
      "execution_count": 0,
      "outputs": []
    },
    {
      "cell_type": "code",
      "metadata": {
        "id": "BS_gZpQqdcij",
        "colab_type": "code",
        "colab": {
          "base_uri": "https://localhost:8080/",
          "height": 204
        },
        "outputId": "ef10a699-268c-46ad-8966-caa8914d0929"
      },
      "source": [
        "gans_raw.head()"
      ],
      "execution_count": 236,
      "outputs": [
        {
          "output_type": "execute_result",
          "data": {
            "text/html": [
              "<div>\n",
              "<style scoped>\n",
              "    .dataframe tbody tr th:only-of-type {\n",
              "        vertical-align: middle;\n",
              "    }\n",
              "\n",
              "    .dataframe tbody tr th {\n",
              "        vertical-align: top;\n",
              "    }\n",
              "\n",
              "    .dataframe thead th {\n",
              "        text-align: right;\n",
              "    }\n",
              "</style>\n",
              "<table border=\"1\" class=\"dataframe\">\n",
              "  <thead>\n",
              "    <tr style=\"text-align: right;\">\n",
              "      <th></th>\n",
              "      <th>Year</th>\n",
              "      <th>Month</th>\n",
              "      <th>Abbr.</th>\n",
              "      <th>Title</th>\n",
              "      <th>Arxiv</th>\n",
              "      <th>Official_Code</th>\n",
              "      <th>Watches</th>\n",
              "      <th>Stars</th>\n",
              "      <th>Forks</th>\n",
              "      <th>hasgan</th>\n",
              "      <th>cum_gans</th>\n",
              "    </tr>\n",
              "  </thead>\n",
              "  <tbody>\n",
              "    <tr>\n",
              "      <th>0</th>\n",
              "      <td>2014</td>\n",
              "      <td>6</td>\n",
              "      <td>GAN</td>\n",
              "      <td>Generative Adversarial Networks</td>\n",
              "      <td>https://arxiv.org/abs/1406.2661</td>\n",
              "      <td>https://github.com/goodfeli/adversarial</td>\n",
              "      <td>108.0</td>\n",
              "      <td>1736.0</td>\n",
              "      <td>666.0</td>\n",
              "      <td>1</td>\n",
              "      <td>1</td>\n",
              "    </tr>\n",
              "    <tr>\n",
              "      <th>1</th>\n",
              "      <td>2014</td>\n",
              "      <td>11</td>\n",
              "      <td>CGAN</td>\n",
              "      <td>Conditional Generative Adversarial Nets</td>\n",
              "      <td>https://arxiv.org/abs/1411.1784</td>\n",
              "      <td>-</td>\n",
              "      <td>NaN</td>\n",
              "      <td>NaN</td>\n",
              "      <td>NaN</td>\n",
              "      <td>1</td>\n",
              "      <td>2</td>\n",
              "    </tr>\n",
              "    <tr>\n",
              "      <th>2</th>\n",
              "      <td>2015</td>\n",
              "      <td>6</td>\n",
              "      <td>LAPGAN</td>\n",
              "      <td>Deep Generative Image Models using a Laplacian...</td>\n",
              "      <td>https://arxiv.org/abs/1506.05751</td>\n",
              "      <td>https://github.com/facebook/eyescream</td>\n",
              "      <td>52.0</td>\n",
              "      <td>581.0</td>\n",
              "      <td>138.0</td>\n",
              "      <td>1</td>\n",
              "      <td>3</td>\n",
              "    </tr>\n",
              "    <tr>\n",
              "      <th>3</th>\n",
              "      <td>2015</td>\n",
              "      <td>11</td>\n",
              "      <td>CatGAN</td>\n",
              "      <td>Unsupervised and Semi-supervised Learning with...</td>\n",
              "      <td>https://arxiv.org/abs/1511.06390v2</td>\n",
              "      <td>-</td>\n",
              "      <td>NaN</td>\n",
              "      <td>NaN</td>\n",
              "      <td>NaN</td>\n",
              "      <td>1</td>\n",
              "      <td>4</td>\n",
              "    </tr>\n",
              "    <tr>\n",
              "      <th>4</th>\n",
              "      <td>2015</td>\n",
              "      <td>11</td>\n",
              "      <td>DCGAN</td>\n",
              "      <td>Unsupervised Representation Learning with Deep...</td>\n",
              "      <td>https://arxiv.org/abs/1511.06434</td>\n",
              "      <td>https://github.com/Newmu/dcgan_code</td>\n",
              "      <td>168.0</td>\n",
              "      <td>2849.0</td>\n",
              "      <td>581.0</td>\n",
              "      <td>1</td>\n",
              "      <td>5</td>\n",
              "    </tr>\n",
              "  </tbody>\n",
              "</table>\n",
              "</div>"
            ],
            "text/plain": [
              "   Year  Month   Abbr.  ...  Forks hasgan cum_gans\n",
              "0  2014      6     GAN  ...  666.0      1        1\n",
              "1  2014     11    CGAN  ...    NaN      1        2\n",
              "2  2015      6  LAPGAN  ...  138.0      1        3\n",
              "3  2015     11  CatGAN  ...    NaN      1        4\n",
              "4  2015     11   DCGAN  ...  581.0      1        5\n",
              "\n",
              "[5 rows x 11 columns]"
            ]
          },
          "metadata": {
            "tags": []
          },
          "execution_count": 236
        }
      ]
    },
    {
      "cell_type": "code",
      "metadata": {
        "id": "W3-_tNDdgKMn",
        "colab_type": "code",
        "colab": {}
      },
      "source": [
        "gans_raw['Day'] = 1"
      ],
      "execution_count": 0,
      "outputs": []
    },
    {
      "cell_type": "code",
      "metadata": {
        "id": "b41OxG7VggIW",
        "colab_type": "code",
        "colab": {}
      },
      "source": [
        "gans_raw['Date'] = pd.to_datetime(gans_raw[['Year', 'Month', 'Day']])"
      ],
      "execution_count": 0,
      "outputs": []
    },
    {
      "cell_type": "code",
      "metadata": {
        "id": "wUuUjVUDgqBa",
        "colab_type": "code",
        "colab": {
          "base_uri": "https://localhost:8080/",
          "height": 204
        },
        "outputId": "50f65550-3654-47f3-f6fd-a926883083a9"
      },
      "source": [
        "gans_raw.head()"
      ],
      "execution_count": 239,
      "outputs": [
        {
          "output_type": "execute_result",
          "data": {
            "text/html": [
              "<div>\n",
              "<style scoped>\n",
              "    .dataframe tbody tr th:only-of-type {\n",
              "        vertical-align: middle;\n",
              "    }\n",
              "\n",
              "    .dataframe tbody tr th {\n",
              "        vertical-align: top;\n",
              "    }\n",
              "\n",
              "    .dataframe thead th {\n",
              "        text-align: right;\n",
              "    }\n",
              "</style>\n",
              "<table border=\"1\" class=\"dataframe\">\n",
              "  <thead>\n",
              "    <tr style=\"text-align: right;\">\n",
              "      <th></th>\n",
              "      <th>Year</th>\n",
              "      <th>Month</th>\n",
              "      <th>Abbr.</th>\n",
              "      <th>Title</th>\n",
              "      <th>Arxiv</th>\n",
              "      <th>Official_Code</th>\n",
              "      <th>Watches</th>\n",
              "      <th>Stars</th>\n",
              "      <th>Forks</th>\n",
              "      <th>hasgan</th>\n",
              "      <th>cum_gans</th>\n",
              "      <th>Day</th>\n",
              "      <th>Date</th>\n",
              "    </tr>\n",
              "  </thead>\n",
              "  <tbody>\n",
              "    <tr>\n",
              "      <th>0</th>\n",
              "      <td>2014</td>\n",
              "      <td>6</td>\n",
              "      <td>GAN</td>\n",
              "      <td>Generative Adversarial Networks</td>\n",
              "      <td>https://arxiv.org/abs/1406.2661</td>\n",
              "      <td>https://github.com/goodfeli/adversarial</td>\n",
              "      <td>108.0</td>\n",
              "      <td>1736.0</td>\n",
              "      <td>666.0</td>\n",
              "      <td>1</td>\n",
              "      <td>1</td>\n",
              "      <td>1</td>\n",
              "      <td>2014-06-01</td>\n",
              "    </tr>\n",
              "    <tr>\n",
              "      <th>1</th>\n",
              "      <td>2014</td>\n",
              "      <td>11</td>\n",
              "      <td>CGAN</td>\n",
              "      <td>Conditional Generative Adversarial Nets</td>\n",
              "      <td>https://arxiv.org/abs/1411.1784</td>\n",
              "      <td>-</td>\n",
              "      <td>NaN</td>\n",
              "      <td>NaN</td>\n",
              "      <td>NaN</td>\n",
              "      <td>1</td>\n",
              "      <td>2</td>\n",
              "      <td>1</td>\n",
              "      <td>2014-11-01</td>\n",
              "    </tr>\n",
              "    <tr>\n",
              "      <th>2</th>\n",
              "      <td>2015</td>\n",
              "      <td>6</td>\n",
              "      <td>LAPGAN</td>\n",
              "      <td>Deep Generative Image Models using a Laplacian...</td>\n",
              "      <td>https://arxiv.org/abs/1506.05751</td>\n",
              "      <td>https://github.com/facebook/eyescream</td>\n",
              "      <td>52.0</td>\n",
              "      <td>581.0</td>\n",
              "      <td>138.0</td>\n",
              "      <td>1</td>\n",
              "      <td>3</td>\n",
              "      <td>1</td>\n",
              "      <td>2015-06-01</td>\n",
              "    </tr>\n",
              "    <tr>\n",
              "      <th>3</th>\n",
              "      <td>2015</td>\n",
              "      <td>11</td>\n",
              "      <td>CatGAN</td>\n",
              "      <td>Unsupervised and Semi-supervised Learning with...</td>\n",
              "      <td>https://arxiv.org/abs/1511.06390v2</td>\n",
              "      <td>-</td>\n",
              "      <td>NaN</td>\n",
              "      <td>NaN</td>\n",
              "      <td>NaN</td>\n",
              "      <td>1</td>\n",
              "      <td>4</td>\n",
              "      <td>1</td>\n",
              "      <td>2015-11-01</td>\n",
              "    </tr>\n",
              "    <tr>\n",
              "      <th>4</th>\n",
              "      <td>2015</td>\n",
              "      <td>11</td>\n",
              "      <td>DCGAN</td>\n",
              "      <td>Unsupervised Representation Learning with Deep...</td>\n",
              "      <td>https://arxiv.org/abs/1511.06434</td>\n",
              "      <td>https://github.com/Newmu/dcgan_code</td>\n",
              "      <td>168.0</td>\n",
              "      <td>2849.0</td>\n",
              "      <td>581.0</td>\n",
              "      <td>1</td>\n",
              "      <td>5</td>\n",
              "      <td>1</td>\n",
              "      <td>2015-11-01</td>\n",
              "    </tr>\n",
              "  </tbody>\n",
              "</table>\n",
              "</div>"
            ],
            "text/plain": [
              "   Year  Month   Abbr.  ... cum_gans Day       Date\n",
              "0  2014      6     GAN  ...        1   1 2014-06-01\n",
              "1  2014     11    CGAN  ...        2   1 2014-11-01\n",
              "2  2015      6  LAPGAN  ...        3   1 2015-06-01\n",
              "3  2015     11  CatGAN  ...        4   1 2015-11-01\n",
              "4  2015     11   DCGAN  ...        5   1 2015-11-01\n",
              "\n",
              "[5 rows x 13 columns]"
            ]
          },
          "metadata": {
            "tags": []
          },
          "execution_count": 239
        }
      ]
    },
    {
      "cell_type": "code",
      "metadata": {
        "id": "48SBemywd7rs",
        "colab_type": "code",
        "colab": {
          "base_uri": "https://localhost:8080/",
          "height": 628
        },
        "outputId": "4b63a98f-d194-49b5-b17f-d456b8fa29ac"
      },
      "source": [
        "Chart(gans_raw, title=\"Cumulative Number of GAN Papers by Year 2014-2018\").properties(width=800, height=500).transform_window(\n",
        "    cumulative_count=\"count()\",\n",
        "    sort=[{\"field\": \"Date\"}]\n",
        ").mark_area(\n",
        "    color='blue', \n",
        "    #interpolate='step-after'\n",
        ").encode(\n",
        "    x=alt.X('yearmonth(Date):T', title='Year', axis=alt.Axis(format='%Y', tickCount=5)),\n",
        "    y=alt.Y('cumulative_count:Q', title = 'All GAN Papers Since 2014')\n",
        ")"
      ],
      "execution_count": 240,
      "outputs": [
        {
          "output_type": "execute_result",
          "data": {
            "text/plain": [
              "alt.Chart(...)"
            ],
            "text/html": [
              "<!DOCTYPE html>\n",
              "<html>\n",
              "<head>\n",
              "  <style>\n",
              "    .vega-actions a {\n",
              "        margin-right: 12px;\n",
              "        color: #757575;\n",
              "        font-weight: normal;\n",
              "        font-size: 13px;\n",
              "    }\n",
              "    .error {\n",
              "        color: red;\n",
              "    }\n",
              "  </style>\n",
              "  <script type=\"text/javascript\" src=\"https://cdn.jsdelivr.net/npm//vega@5\"></script>\n",
              "  <script type=\"text/javascript\" src=\"https://cdn.jsdelivr.net/npm//vega-lite@3.4.0\"></script>\n",
              "  <script type=\"text/javascript\" src=\"https://cdn.jsdelivr.net/npm//vega-embed@4\"></script>\n",
              "</head>\n",
              "<body>\n",
              "  <div id=\"altair-viz\"></div>\n",
              "  <script>\n",
              "    (function(vegaEmbed) {\n",
              "      var spec = {\"usermeta\": {\"embedOptions\": {\"theme\": \"fivethirtyeight\"}}, \"config\": {\"view\": {\"width\": 400, \"height\": 300}, \"mark\": {\"tooltip\": null}}, \"data\": {\"name\": \"data-8fbcea6ff5d74e07fff831f03c7a5c70\"}, \"mark\": {\"type\": \"area\", \"color\": \"blue\"}, \"encoding\": {\"x\": {\"type\": \"temporal\", \"axis\": {\"format\": \"%Y\", \"tickCount\": 5}, \"field\": \"Date\", \"timeUnit\": \"yearmonth\", \"title\": \"Year\"}, \"y\": {\"type\": \"quantitative\", \"field\": \"cumulative_count\", \"title\": \"All GAN Papers Since 2014\"}}, \"height\": 500, \"title\": \"Cumulative Number of GAN Papers by Year 2014-2018\", \"transform\": [{\"window\": [{\"op\": \"count\", \"as\": \"cumulative_count\"}], \"sort\": [{\"field\": \"Date\"}]}], \"width\": 800, \"$schema\": \"https://vega.github.io/schema/vega-lite/v3.4.0.json\", \"datasets\": {\"data-8fbcea6ff5d74e07fff831f03c7a5c70\": [{\"Year\": 2014, \"Month\": 6, \"Abbr.\": \"GAN\", \"Title\": \"Generative Adversarial Networks\", \"Arxiv\": \"https://arxiv.org/abs/1406.2661\", \"Official_Code\": \"https://github.com/goodfeli/adversarial\", \"Watches\": 108.0, \"Stars\": 1736.0, \"Forks\": 666.0, \"hasgan\": 1, \"cum_gans\": 1, \"Day\": 1, \"Date\": \"2014-06-01T00:00:00\"}, {\"Year\": 2014, \"Month\": 11, \"Abbr.\": \"CGAN\", \"Title\": \"Conditional Generative Adversarial Nets\", \"Arxiv\": \"https://arxiv.org/abs/1411.1784\", \"Official_Code\": \"-\", \"Watches\": null, \"Stars\": null, \"Forks\": null, \"hasgan\": 1, \"cum_gans\": 2, \"Day\": 1, \"Date\": \"2014-11-01T00:00:00\"}, {\"Year\": 2015, \"Month\": 6, \"Abbr.\": \"LAPGAN\", \"Title\": \"Deep Generative Image Models using a Laplacian Pyramid of Adversarial Networks\", \"Arxiv\": \"https://arxiv.org/abs/1506.05751\", \"Official_Code\": \"https://github.com/facebook/eyescream\", \"Watches\": 52.0, \"Stars\": 581.0, \"Forks\": 138.0, \"hasgan\": 1, \"cum_gans\": 3, \"Day\": 1, \"Date\": \"2015-06-01T00:00:00\"}, {\"Year\": 2015, \"Month\": 11, \"Abbr.\": \"CatGAN\", \"Title\": \"Unsupervised and Semi-supervised Learning with Categorical Generative Adversarial Networks\", \"Arxiv\": \"https://arxiv.org/abs/1511.06390v2\", \"Official_Code\": \"-\", \"Watches\": null, \"Stars\": null, \"Forks\": null, \"hasgan\": 1, \"cum_gans\": 4, \"Day\": 1, \"Date\": \"2015-11-01T00:00:00\"}, {\"Year\": 2015, \"Month\": 11, \"Abbr.\": \"DCGAN\", \"Title\": \"Unsupervised Representation Learning with Deep Convolutional Generative Adversarial Networks\", \"Arxiv\": \"https://arxiv.org/abs/1511.06434\", \"Official_Code\": \"https://github.com/Newmu/dcgan_code\", \"Watches\": 168.0, \"Stars\": 2849.0, \"Forks\": 581.0, \"hasgan\": 1, \"cum_gans\": 5, \"Day\": 1, \"Date\": \"2015-11-01T00:00:00\"}, {\"Year\": 2015, \"Month\": 12, \"Abbr.\": \"VAE-GAN\", \"Title\": \"Autoencoding beyond pixels using a learned similarity metric\", \"Arxiv\": \"https://arxiv.org/abs/1512.09300\", \"Official_Code\": \"-\", \"Watches\": null, \"Stars\": null, \"Forks\": null, \"hasgan\": 1, \"cum_gans\": 6, \"Day\": 1, \"Date\": \"2015-12-01T00:00:00\"}, {\"Year\": 2016, \"Month\": 2, \"Abbr.\": \"GRAN\", \"Title\": \"Generating images with recurrent adversarial networks\", \"Arxiv\": \"https://arxiv.org/abs/1602.05110\", \"Official_Code\": \"https://github.com/jiwoongim/GRAN\", \"Watches\": 7.0, \"Stars\": 104.0, \"Forks\": 31.0, \"hasgan\": 1, \"cum_gans\": 7, \"Day\": 1, \"Date\": \"2016-02-01T00:00:00\"}, {\"Year\": 2016, \"Month\": 3, \"Abbr.\": \"S^2GAN\", \"Title\": \"Generative Image Modeling using Style and Structure Adversarial Networks\", \"Arxiv\": \"https://arxiv.org/abs/1603.05631v2\", \"Official_Code\": \"-\", \"Watches\": null, \"Stars\": null, \"Forks\": null, \"hasgan\": 1, \"cum_gans\": 8, \"Day\": 1, \"Date\": \"2016-03-01T00:00:00\"}, {\"Year\": 2016, \"Month\": 4, \"Abbr.\": \"MGAN\", \"Title\": \"Precomputed Real-Time Texture Synthesis with Markovian Generative Adversarial Networks\", \"Arxiv\": \"https://arxiv.org/abs/1604.04382\", \"Official_Code\": \"https://github.com/chuanli11/MGANs\", \"Watches\": 23.0, \"Stars\": 241.0, \"Forks\": 43.0, \"hasgan\": 1, \"cum_gans\": 9, \"Day\": 1, \"Date\": \"2016-04-01T00:00:00\"}, {\"Year\": 2016, \"Month\": 5, \"Abbr.\": \"BiGAN\", \"Title\": \"Adversarial Feature Learning\", \"Arxiv\": \"https://arxiv.org/abs/1605.09782v7\", \"Official_Code\": \"-\", \"Watches\": null, \"Stars\": null, \"Forks\": null, \"hasgan\": 1, \"cum_gans\": 10, \"Day\": 1, \"Date\": \"2016-05-01T00:00:00\"}, {\"Year\": 2016, \"Month\": 5, \"Abbr.\": \"GAN-CLS\", \"Title\": \"Generative Adversarial Text to Image Synthesis\", \"Arxiv\": \"https://arxiv.org/abs/1605.05396\", \"Official_Code\": \"https://github.com/reedscot/icml2016\", \"Watches\": 39.0, \"Stars\": 677.0, \"Forks\": 155.0, \"hasgan\": 1, \"cum_gans\": 11, \"Day\": 1, \"Date\": \"2016-05-01T00:00:00\"}, {\"Year\": 2016, \"Month\": 6, \"Abbr.\": \"ALI\", \"Title\": \"Adversarially Learned Inference\", \"Arxiv\": \"https://arxiv.org/abs/1606.00704\", \"Official_Code\": \"https://github.com/IshmaelBelghazi/ALI\", \"Watches\": 16.0, \"Stars\": 262.0, \"Forks\": 72.0, \"hasgan\": 1, \"cum_gans\": 12, \"Day\": 1, \"Date\": \"2016-06-01T00:00:00\"}, {\"Year\": 2016, \"Month\": 6, \"Abbr.\": \"CoGAN\", \"Title\": \"Coupled Generative Adversarial Networks\", \"Arxiv\": \"https://arxiv.org/abs/1606.07536v2\", \"Official_Code\": \"-\", \"Watches\": null, \"Stars\": null, \"Forks\": null, \"hasgan\": 1, \"cum_gans\": 13, \"Day\": 1, \"Date\": \"2016-06-01T00:00:00\"}, {\"Year\": 2016, \"Month\": 6, \"Abbr.\": \"f-GAN\", \"Title\": \"f-GAN: Training Generative Neural Samplers using Variational Divergence Minimization\", \"Arxiv\": \"https://arxiv.org/abs/1606.00709\", \"Official_Code\": \"-\", \"Watches\": null, \"Stars\": null, \"Forks\": null, \"hasgan\": 1, \"cum_gans\": 14, \"Day\": 1, \"Date\": \"2016-06-01T00:00:00\"}, {\"Year\": 2016, \"Month\": 6, \"Abbr.\": \"Improved GAN\", \"Title\": \"Improved Techniques for Training GANs\", \"Arxiv\": \"https://arxiv.org/abs/1606.03498\", \"Official_Code\": \"https://github.com/openai/improved-gan\", \"Watches\": 143.0, \"Stars\": 1462.0, \"Forks\": 445.0, \"hasgan\": 1, \"cum_gans\": 15, \"Day\": 1, \"Date\": \"2016-06-01T00:00:00\"}, {\"Year\": 2016, \"Month\": 6, \"Abbr.\": \"InfoGAN\", \"Title\": \"InfoGAN: Interpretable Representation Learning by Information Maximizing Generative Adversarial Nets\", \"Arxiv\": \"https://arxiv.org/abs/1606.03657v1\", \"Official_Code\": \"https://github.com/openai/InfoGAN\", \"Watches\": 100.0, \"Stars\": 666.0, \"Forks\": 211.0, \"hasgan\": 1, \"cum_gans\": 16, \"Day\": 1, \"Date\": \"2016-06-01T00:00:00\"}, {\"Year\": 2016, \"Month\": 7, \"Abbr.\": \"SketchGAN\", \"Title\": \"Adversarial Training For Sketch Retrieval\", \"Arxiv\": \"https://arxiv.org/abs/1607.02748\", \"Official_Code\": \"-\", \"Watches\": null, \"Stars\": null, \"Forks\": null, \"hasgan\": 1, \"cum_gans\": 17, \"Day\": 1, \"Date\": \"2016-07-01T00:00:00\"}, {\"Year\": 2016, \"Month\": 9, \"Abbr.\": \"Context-RNN-GAN\", \"Title\": \"Contextual RNN-GANs for Abstract Reasoning Diagram Generation\", \"Arxiv\": \"https://arxiv.org/abs/1609.09444\", \"Official_Code\": \"-\", \"Watches\": null, \"Stars\": null, \"Forks\": null, \"hasgan\": 1, \"cum_gans\": 18, \"Day\": 1, \"Date\": \"2016-09-01T00:00:00\"}, {\"Year\": 2016, \"Month\": 9, \"Abbr.\": \"EBGAN\", \"Title\": \"Energy-based Generative Adversarial Network\", \"Arxiv\": \"https://arxiv.org/abs/1609.03126v4\", \"Official_Code\": \"-\", \"Watches\": null, \"Stars\": null, \"Forks\": null, \"hasgan\": 1, \"cum_gans\": 19, \"Day\": 1, \"Date\": \"2016-09-01T00:00:00\"}, {\"Year\": 2016, \"Month\": 9, \"Abbr.\": \"IAN\", \"Title\": \"Neural Photo Editing with Introspective Adversarial Networks\", \"Arxiv\": \"https://arxiv.org/abs/1609.07093\", \"Official_Code\": \"https://github.com/ajbrock/Neural-Photo-Editor\", \"Watches\": 74.0, \"Stars\": 1753.0, \"Forks\": 152.0, \"hasgan\": 1, \"cum_gans\": 20, \"Day\": 1, \"Date\": \"2016-09-01T00:00:00\"}, {\"Year\": 2016, \"Month\": 9, \"Abbr.\": \"iGAN\", \"Title\": \"Generative Visual Manipulation on the Natural Image Manifold\", \"Arxiv\": \"https://arxiv.org/abs/1609.03552v2\", \"Official_Code\": \"https://github.com/junyanz/iGAN\", \"Watches\": 151.0, \"Stars\": 2984.0, \"Forks\": 425.0, \"hasgan\": 1, \"cum_gans\": 21, \"Day\": 1, \"Date\": \"2016-09-01T00:00:00\"}, {\"Year\": 2016, \"Month\": 9, \"Abbr.\": \"SeqGAN\", \"Title\": \"SeqGAN: Sequence Generative Adversarial Nets with Policy Gradient\", \"Arxiv\": \"https://arxiv.org/abs/1609.05473v5\", \"Official_Code\": \"https://github.com/LantaoYu/SeqGAN\", \"Watches\": 71.0, \"Stars\": 1243.0, \"Forks\": 464.0, \"hasgan\": 1, \"cum_gans\": 22, \"Day\": 1, \"Date\": \"2016-09-01T00:00:00\"}, {\"Year\": 2016, \"Month\": 9, \"Abbr.\": \"SRGAN\", \"Title\": \"Photo-Realistic Single Image Super-Resolution Using a Generative Adversarial Network\", \"Arxiv\": \"https://arxiv.org/abs/1609.04802\", \"Official_Code\": \"-\", \"Watches\": null, \"Stars\": null, \"Forks\": null, \"hasgan\": 1, \"cum_gans\": 23, \"Day\": 1, \"Date\": \"2016-09-01T00:00:00\"}, {\"Year\": 2016, \"Month\": 9, \"Abbr.\": \"VGAN\", \"Title\": \"Generating Videos with Scene Dynamics\", \"Arxiv\": \"https://arxiv.org/abs/1609.02612\", \"Official_Code\": \"https://github.com/cvondrick/videogan\", \"Watches\": 34.0, \"Stars\": 556.0, \"Forks\": 114.0, \"hasgan\": 1, \"cum_gans\": 24, \"Day\": 1, \"Date\": \"2016-09-01T00:00:00\"}, {\"Year\": 2016, \"Month\": 10, \"Abbr.\": \"3D-GAN\", \"Title\": \"Learning a Probabilistic Latent Space of Object Shapes via 3D Generative-Adversarial Modeling\", \"Arxiv\": \"https://arxiv.org/abs/1610.07584\", \"Official_Code\": \"https://github.com/zck119/3dgan-release\", \"Watches\": 44.0, \"Stars\": 437.0, \"Forks\": 122.0, \"hasgan\": 1, \"cum_gans\": 25, \"Day\": 1, \"Date\": \"2016-10-01T00:00:00\"}, {\"Year\": 2016, \"Month\": 10, \"Abbr.\": \"AC-GAN\", \"Title\": \"Conditional Image Synthesis With Auxiliary Classifier GANs\", \"Arxiv\": \"https://arxiv.org/abs/1610.09585\", \"Official_Code\": \"-\", \"Watches\": null, \"Stars\": null, \"Forks\": null, \"hasgan\": 1, \"cum_gans\": 26, \"Day\": 1, \"Date\": \"2016-10-01T00:00:00\"}, {\"Year\": 2016, \"Month\": 10, \"Abbr.\": \"AffGAN\", \"Title\": \"Amortised MAP Inference for Image Super-resolution\", \"Arxiv\": \"https://arxiv.org/abs/1610.04490\", \"Official_Code\": \"-\", \"Watches\": null, \"Stars\": null, \"Forks\": null, \"hasgan\": 1, \"cum_gans\": 27, \"Day\": 1, \"Date\": \"2016-10-01T00:00:00\"}, {\"Year\": 2016, \"Month\": 10, \"Abbr.\": \"GAWWN\", \"Title\": \"Learning What and Where to Draw\", \"Arxiv\": \"https://arxiv.org/abs/1610.02454\", \"Official_Code\": \"https://github.com/reedscot/nips2016\", \"Watches\": 22.0, \"Stars\": 299.0, \"Forks\": 55.0, \"hasgan\": 1, \"cum_gans\": 28, \"Day\": 1, \"Date\": \"2016-10-01T00:00:00\"}, {\"Year\": 2016, \"Month\": 11, \"Abbr.\": \"b-GAN\", \"Title\": \"Generative Adversarial Nets from a Density Ratio Estimation Perspective\", \"Arxiv\": \"https://arxiv.org/abs/1610.02920\", \"Official_Code\": \"-\", \"Watches\": null, \"Stars\": null, \"Forks\": null, \"hasgan\": 1, \"cum_gans\": 29, \"Day\": 1, \"Date\": \"2016-11-01T00:00:00\"}, {\"Year\": 2016, \"Month\": 11, \"Abbr.\": \"C-RNN-GAN\", \"Title\": \"C-RNN-GAN: Continuous recurrent neural networks with adversarial training\", \"Arxiv\": \"https://arxiv.org/abs/1611.09904\", \"Official_Code\": \"https://github.com/olofmogren/c-rnn-gan/\", \"Watches\": 13.0, \"Stars\": 188.0, \"Forks\": 67.0, \"hasgan\": 1, \"cum_gans\": 30, \"Day\": 1, \"Date\": \"2016-11-01T00:00:00\"}, {\"Year\": 2016, \"Month\": 11, \"Abbr.\": \"CC-GAN\", \"Title\": \"Semi-Supervised Learning with Context-Conditional Generative Adversarial Networks\", \"Arxiv\": \"https://arxiv.org/abs/1611.06430\", \"Official_Code\": \"https://github.com/edenton/cc-gan\", \"Watches\": 5.0, \"Stars\": 16.0, \"Forks\": 2.0, \"hasgan\": 1, \"cum_gans\": 31, \"Day\": 1, \"Date\": \"2016-11-01T00:00:00\"}, {\"Year\": 2016, \"Month\": 11, \"Abbr.\": \"DTN\", \"Title\": \"Unsupervised Cross-Domain Image Generation\", \"Arxiv\": \"https://arxiv.org/abs/1611.02200\", \"Official_Code\": \"-\", \"Watches\": null, \"Stars\": null, \"Forks\": null, \"hasgan\": 1, \"cum_gans\": 32, \"Day\": 1, \"Date\": \"2016-11-01T00:00:00\"}, {\"Year\": 2016, \"Month\": 11, \"Abbr.\": \"GMAN\", \"Title\": \"Generative Multi-Adversarial Networks\", \"Arxiv\": \"http://arxiv.org/abs/1611.01673\", \"Official_Code\": \"-\", \"Watches\": null, \"Stars\": null, \"Forks\": null, \"hasgan\": 1, \"cum_gans\": 33, \"Day\": 1, \"Date\": \"2016-11-01T00:00:00\"}, {\"Year\": 2016, \"Month\": 11, \"Abbr.\": \"IcGAN\", \"Title\": \"Invertible Conditional GANs for image editing\", \"Arxiv\": \"https://arxiv.org/abs/1611.06355\", \"Official_Code\": \"https://github.com/Guim3/IcGAN\", \"Watches\": 6.0, \"Stars\": 188.0, \"Forks\": 285.0, \"hasgan\": 1, \"cum_gans\": 34, \"Day\": 1, \"Date\": \"2016-11-01T00:00:00\"}, {\"Year\": 2016, \"Month\": 11, \"Abbr.\": \"LSGAN\", \"Title\": \"Least Squares Generative Adversarial Networks\", \"Arxiv\": \"https://arxiv.org/abs/1611.04076v3\", \"Official_Code\": \"-\", \"Watches\": null, \"Stars\": null, \"Forks\": null, \"hasgan\": 1, \"cum_gans\": 35, \"Day\": 1, \"Date\": \"2016-11-01T00:00:00\"}, {\"Year\": 2016, \"Month\": 11, \"Abbr.\": \"MV-BiGAN\", \"Title\": \"Multi-view Generative Adversarial Networks\", \"Arxiv\": \"https://arxiv.org/abs/1611.02019v1\", \"Official_Code\": \"-\", \"Watches\": null, \"Stars\": null, \"Forks\": null, \"hasgan\": 1, \"cum_gans\": 36, \"Day\": 1, \"Date\": \"2016-11-01T00:00:00\"}, {\"Year\": 2016, \"Month\": 11, \"Abbr.\": \"pix2pix\", \"Title\": \"Image-to-Image Translation with Conditional Adversarial Networks\", \"Arxiv\": \"https://arxiv.org/abs/1611.07004\", \"Official_Code\": \"https://github.com/phillipi/pix2pix\", \"Watches\": 248.0, \"Stars\": 5260.0, \"Forks\": 839.0, \"hasgan\": 1, \"cum_gans\": 37, \"Day\": 1, \"Date\": \"2016-11-01T00:00:00\"}, {\"Year\": 2016, \"Month\": 11, \"Abbr.\": \"RenderGAN\", \"Title\": \"RenderGAN: Generating Realistic Labeled Data\", \"Arxiv\": \"https://arxiv.org/abs/1611.01331\", \"Official_Code\": \"-\", \"Watches\": null, \"Stars\": null, \"Forks\": null, \"hasgan\": 1, \"cum_gans\": 38, \"Day\": 1, \"Date\": \"2016-11-01T00:00:00\"}, {\"Year\": 2016, \"Month\": 11, \"Abbr.\": \"SAD-GAN\", \"Title\": \"SAD-GAN: Synthetic Autonomous Driving using Generative Adversarial Networks\", \"Arxiv\": \"https://arxiv.org/abs/1611.08788v1\", \"Official_Code\": \"-\", \"Watches\": null, \"Stars\": null, \"Forks\": null, \"hasgan\": 1, \"cum_gans\": 39, \"Day\": 1, \"Date\": \"2016-11-01T00:00:00\"}, {\"Year\": 2016, \"Month\": 11, \"Abbr.\": \"SGAN\", \"Title\": \"Texture Synthesis with Spatial Generative Adversarial Networks\", \"Arxiv\": \"https://arxiv.org/abs/1611.08207\", \"Official_Code\": \"-\", \"Watches\": null, \"Stars\": null, \"Forks\": null, \"hasgan\": 1, \"cum_gans\": 40, \"Day\": 1, \"Date\": \"2016-11-01T00:00:00\"}, {\"Year\": 2016, \"Month\": 11, \"Abbr.\": \"SSL-GAN\", \"Title\": \"Semi-Supervised Learning with Context-Conditional Generative Adversarial Networks\", \"Arxiv\": \"https://arxiv.org/abs/1611.06430v1\", \"Official_Code\": \"-\", \"Watches\": null, \"Stars\": null, \"Forks\": null, \"hasgan\": 1, \"cum_gans\": 41, \"Day\": 1, \"Date\": \"2016-11-01T00:00:00\"}, {\"Year\": 2016, \"Month\": 11, \"Abbr.\": \"TGAN\", \"Title\": \"Temporal Generative Adversarial Nets\", \"Arxiv\": \"https://arxiv.org/abs/1611.06624v1\", \"Official_Code\": \"-\", \"Watches\": null, \"Stars\": null, \"Forks\": null, \"hasgan\": 1, \"cum_gans\": 42, \"Day\": 1, \"Date\": \"2016-11-01T00:00:00\"}, {\"Year\": 2016, \"Month\": 11, \"Abbr.\": \"Unrolled GAN\", \"Title\": \"Unrolled Generative Adversarial Networks\", \"Arxiv\": \"https://arxiv.org/abs/1611.02163\", \"Official_Code\": \"https://github.com/poolio/unrolled_gan\", \"Watches\": 14.0, \"Stars\": 234.0, \"Forks\": 40.0, \"hasgan\": 1, \"cum_gans\": 43, \"Day\": 1, \"Date\": \"2016-11-01T00:00:00\"}, {\"Year\": 2016, \"Month\": 11, \"Abbr.\": \"VGAN\", \"Title\": \"Generative Adversarial Networks as Variational Training of Energy Based Models\", \"Arxiv\": \"https://arxiv.org/abs/1611.01799\", \"Official_Code\": \"https://github.com/Shuangfei/vgan\", \"Watches\": 3.0, \"Stars\": 15.0, \"Forks\": 10.0, \"hasgan\": 1, \"cum_gans\": 44, \"Day\": 1, \"Date\": \"2016-11-01T00:00:00\"}, {\"Year\": 2016, \"Month\": 12, \"Abbr.\": \"AL-CGAN\", \"Title\": \"Learning to Generate Images of Outdoor Scenes from Attributes and Semantic Layouts\", \"Arxiv\": \"https://arxiv.org/abs/1612.00215\", \"Official_Code\": \"-\", \"Watches\": null, \"Stars\": null, \"Forks\": null, \"hasgan\": 1, \"cum_gans\": 45, \"Day\": 1, \"Date\": \"2016-12-01T00:00:00\"}, {\"Year\": 2016, \"Month\": 12, \"Abbr.\": \"MARTA-GAN\", \"Title\": \"Deep Unsupervised Representation Learning for Remote Sensing Images\", \"Arxiv\": \"https://arxiv.org/abs/1612.08879\", \"Official_Code\": \"-\", \"Watches\": null, \"Stars\": null, \"Forks\": null, \"hasgan\": 1, \"cum_gans\": 46, \"Day\": 1, \"Date\": \"2016-12-01T00:00:00\"}, {\"Year\": 2016, \"Month\": 12, \"Abbr.\": \"MDGAN\", \"Title\": \"Mode Regularized Generative Adversarial Networks\", \"Arxiv\": \"https://arxiv.org/abs/1612.02136\", \"Official_Code\": \"-\", \"Watches\": null, \"Stars\": null, \"Forks\": null, \"hasgan\": 1, \"cum_gans\": 47, \"Day\": 1, \"Date\": \"2016-12-01T00:00:00\"}, {\"Year\": 2016, \"Month\": 12, \"Abbr.\": \"MPM-GAN\", \"Title\": \"Message Passing Multi-Agent GANs\", \"Arxiv\": \"https://arxiv.org/abs/1612.01294\", \"Official_Code\": \"-\", \"Watches\": null, \"Stars\": null, \"Forks\": null, \"hasgan\": 1, \"cum_gans\": 48, \"Day\": 1, \"Date\": \"2016-12-01T00:00:00\"}, {\"Year\": 2016, \"Month\": 12, \"Abbr.\": \"PPGN\", \"Title\": \"Plug & Play Generative Networks: Conditional Iterative Generation of Images in Latent Space\", \"Arxiv\": \"https://arxiv.org/abs/1612.00005\", \"Official_Code\": \"-\", \"Watches\": null, \"Stars\": null, \"Forks\": null, \"hasgan\": 1, \"cum_gans\": 49, \"Day\": 1, \"Date\": \"2016-12-01T00:00:00\"}, {\"Year\": 2016, \"Month\": 12, \"Abbr.\": \"PrGAN\", \"Title\": \"3D Shape Induction from 2D Views of Multiple Objects\", \"Arxiv\": \"https://arxiv.org/abs/1612.05872\", \"Official_Code\": \"-\", \"Watches\": null, \"Stars\": null, \"Forks\": null, \"hasgan\": 1, \"cum_gans\": 50, \"Day\": 1, \"Date\": \"2016-12-01T00:00:00\"}, {\"Year\": 2016, \"Month\": 12, \"Abbr.\": \"SGAN\", \"Title\": \"Stacked Generative Adversarial Networks\", \"Arxiv\": \"https://arxiv.org/abs/1612.04357v4\", \"Official_Code\": \"https://github.com/xunhuang1995/SGAN\", \"Watches\": 8.0, \"Stars\": 202.0, \"Forks\": 49.0, \"hasgan\": 1, \"cum_gans\": 51, \"Day\": 1, \"Date\": \"2016-12-01T00:00:00\"}, {\"Year\": 2016, \"Month\": 12, \"Abbr.\": \"SimGAN\", \"Title\": \"Learning from Simulated and Unsupervised Images through Adversarial Training\", \"Arxiv\": \"https://arxiv.org/abs/1612.07828\", \"Official_Code\": \"-\", \"Watches\": null, \"Stars\": null, \"Forks\": null, \"hasgan\": 1, \"cum_gans\": 52, \"Day\": 1, \"Date\": \"2016-12-01T00:00:00\"}, {\"Year\": 2016, \"Month\": 12, \"Abbr.\": \"StackGAN\", \"Title\": \"StackGAN: Text to Photo-realistic Image Synthesis with Stacked Generative Adversarial Networks\", \"Arxiv\": \"https://arxiv.org/abs/1612.03242v1\", \"Official_Code\": \"https://github.com/hanzhanggit/StackGAN\", \"Watches\": 59.0, \"Stars\": 1201.0, \"Forks\": 295.0, \"hasgan\": 1, \"cum_gans\": 53, \"Day\": 1, \"Date\": \"2016-12-01T00:00:00\"}, {\"Year\": 2016, \"Month\": 12, \"Abbr.\": \"textGAN\", \"Title\": \"Generating Text via Adversarial Training\", \"Arxiv\": \"https://zhegan27.github.io/Papers/textGAN_nips2016_workshop.pdf\", \"Official_Code\": \"-\", \"Watches\": null, \"Stars\": null, \"Forks\": null, \"hasgan\": 1, \"cum_gans\": 54, \"Day\": 1, \"Date\": \"2016-12-01T00:00:00\"}, {\"Year\": 2017, \"Month\": 1, \"Abbr.\": \"AdaGAN\", \"Title\": \"AdaGAN: Boosting Generative Models\", \"Arxiv\": \"https://arxiv.org/abs/1701.02386v1\", \"Official_Code\": \"-\", \"Watches\": null, \"Stars\": null, \"Forks\": null, \"hasgan\": 1, \"cum_gans\": 55, \"Day\": 1, \"Date\": \"2017-01-01T00:00:00\"}, {\"Year\": 2017, \"Month\": 1, \"Abbr.\": \"ID-CGAN\", \"Title\": \"Image De-raining Using a Conditional Generative Adversarial Network\", \"Arxiv\": \"https://arxiv.org/abs/1701.05957v3\", \"Official_Code\": \"-\", \"Watches\": null, \"Stars\": null, \"Forks\": null, \"hasgan\": 1, \"cum_gans\": 56, \"Day\": 1, \"Date\": \"2017-01-01T00:00:00\"}, {\"Year\": 2017, \"Month\": 1, \"Abbr.\": \"LAGAN\", \"Title\": \"Learning Particle Physics by Example: Location-Aware Generative Adversarial Networks for Physics Synthesis\", \"Arxiv\": \"https://arxiv.org/abs/1701.05927\", \"Official_Code\": \"-\", \"Watches\": null, \"Stars\": null, \"Forks\": null, \"hasgan\": 1, \"cum_gans\": 57, \"Day\": 1, \"Date\": \"2017-01-01T00:00:00\"}, {\"Year\": 2017, \"Month\": 1, \"Abbr.\": \"LS-GAN\", \"Title\": \"Loss-Sensitive Generative Adversarial Networks on Lipschitz Densities\", \"Arxiv\": \"https://arxiv.org/abs/1701.06264\", \"Official_Code\": \"-\", \"Watches\": null, \"Stars\": null, \"Forks\": null, \"hasgan\": 1, \"cum_gans\": 58, \"Day\": 1, \"Date\": \"2017-01-01T00:00:00\"}, {\"Year\": 2017, \"Month\": 1, \"Abbr.\": \"SalGAN\", \"Title\": \"SalGAN: Visual Saliency Prediction with Generative Adversarial Networks\", \"Arxiv\": \"https://arxiv.org/abs/1701.01081\", \"Official_Code\": \"https://github.com/imatge-upc/saliency-salgan-2017\", \"Watches\": 15.0, \"Stars\": 180.0, \"Forks\": 80.0, \"hasgan\": 1, \"cum_gans\": 59, \"Day\": 1, \"Date\": \"2017-01-01T00:00:00\"}, {\"Year\": 2017, \"Month\": 1, \"Abbr.\": \"Unim2im\", \"Title\": \"Unsupervised Image-to-Image Translation with Generative Adversarial Networks \", \"Arxiv\": \"https://arxiv.org/abs/1701.02676\", \"Official_Code\": \"http://github.com/zsdonghao/Unsup-Im2Im\", \"Watches\": 7.0, \"Stars\": 48.0, \"Forks\": 12.0, \"hasgan\": 1, \"cum_gans\": 60, \"Day\": 1, \"Date\": \"2017-01-01T00:00:00\"}, {\"Year\": 2017, \"Month\": 1, \"Abbr.\": \"ViGAN\", \"Title\": \"Image Generation and Editing with Variational Info Generative Adversarial Networks\", \"Arxiv\": \"https://arxiv.org/abs/1701.04568v1\", \"Official_Code\": \"-\", \"Watches\": null, \"Stars\": null, \"Forks\": null, \"hasgan\": 1, \"cum_gans\": 61, \"Day\": 1, \"Date\": \"2017-01-01T00:00:00\"}, {\"Year\": 2017, \"Month\": 1, \"Abbr.\": \"WGAN\", \"Title\": \"Wasserstein GAN\", \"Arxiv\": \"https://arxiv.org/abs/1701.07875v2\", \"Official_Code\": \"https://github.com/martinarjovsky/WassersteinGAN\", \"Watches\": 99.0, \"Stars\": 1939.0, \"Forks\": 469.0, \"hasgan\": 1, \"cum_gans\": 62, \"Day\": 1, \"Date\": \"2017-01-01T00:00:00\"}, {\"Year\": 2017, \"Month\": 2, \"Abbr.\": \"acGAN\", \"Title\": \"Face Aging With Conditional Generative Adversarial Networks\", \"Arxiv\": \"https://arxiv.org/abs/1702.01983\", \"Official_Code\": \"-\", \"Watches\": null, \"Stars\": null, \"Forks\": null, \"hasgan\": 1, \"cum_gans\": 63, \"Day\": 1, \"Date\": \"2017-02-01T00:00:00\"}, {\"Year\": 2017, \"Month\": 2, \"Abbr.\": \"ArtGAN\", \"Title\": \"ArtGAN: Artwork Synthesis with Conditional Categorial GANs\", \"Arxiv\": \"https://arxiv.org/abs/1702.03410\", \"Official_Code\": \"-\", \"Watches\": null, \"Stars\": null, \"Forks\": null, \"hasgan\": 1, \"cum_gans\": 64, \"Day\": 1, \"Date\": \"2017-02-01T00:00:00\"}, {\"Year\": 2017, \"Month\": 2, \"Abbr.\": \"Bayesian GAN\", \"Title\": \"Deep and Hierarchical Implicit Models\", \"Arxiv\": \"https://arxiv.org/abs/1702.08896\", \"Official_Code\": \"-\", \"Watches\": null, \"Stars\": null, \"Forks\": null, \"hasgan\": 1, \"cum_gans\": 65, \"Day\": 1, \"Date\": \"2017-02-01T00:00:00\"}, {\"Year\": 2017, \"Month\": 2, \"Abbr.\": \"BS-GAN\", \"Title\": \"Boundary-Seeking Generative Adversarial Networks\", \"Arxiv\": \"https://arxiv.org/abs/1702.08431v1\", \"Official_Code\": \"-\", \"Watches\": null, \"Stars\": null, \"Forks\": null, \"hasgan\": 1, \"cum_gans\": 66, \"Day\": 1, \"Date\": \"2017-02-01T00:00:00\"}, {\"Year\": 2017, \"Month\": 2, \"Abbr.\": \"MalGAN\", \"Title\": \"Generating Adversarial Malware Examples for Black-Box Attacks Based on GAN\", \"Arxiv\": \"https://arxiv.org/abs/1702.05983v1\", \"Official_Code\": \"-\", \"Watches\": null, \"Stars\": null, \"Forks\": null, \"hasgan\": 1, \"cum_gans\": 67, \"Day\": 1, \"Date\": \"2017-02-01T00:00:00\"}, {\"Year\": 2017, \"Month\": 2, \"Abbr.\": \"MaliGAN\", \"Title\": \"Maximum-Likelihood Augmented Discrete Generative Adversarial Networks\", \"Arxiv\": \"https://arxiv.org/abs/1702.07983\", \"Official_Code\": \"-\", \"Watches\": null, \"Stars\": null, \"Forks\": null, \"hasgan\": 1, \"cum_gans\": 68, \"Day\": 1, \"Date\": \"2017-02-01T00:00:00\"}, {\"Year\": 2017, \"Month\": 2, \"Abbr.\": \"McGAN\", \"Title\": \"McGan: Mean and Covariance Feature Matching GAN\", \"Arxiv\": \"https://arxiv.org/abs/1702.08398v1\", \"Official_Code\": \"-\", \"Watches\": null, \"Stars\": null, \"Forks\": null, \"hasgan\": 1, \"cum_gans\": 69, \"Day\": 1, \"Date\": \"2017-02-01T00:00:00\"}, {\"Year\": 2017, \"Month\": 2, \"Abbr.\": \"ST-GAN\", \"Title\": \"Style Transfer Generative Adversarial Networks: Learning to Play Chess Differently\", \"Arxiv\": \"https://arxiv.org/abs/1702.06762\", \"Official_Code\": \"-\", \"Watches\": null, \"Stars\": null, \"Forks\": null, \"hasgan\": 1, \"cum_gans\": 70, \"Day\": 1, \"Date\": \"2017-02-01T00:00:00\"}, {\"Year\": 2017, \"Month\": 2, \"Abbr.\": \"WaterGAN\", \"Title\": \"WaterGAN: Unsupervised Generative Network to Enable Real-time Color Correction of Monocular Underwater Images\", \"Arxiv\": \"https://arxiv.org/abs/1702.07392v1\", \"Official_Code\": \"-\", \"Watches\": null, \"Stars\": null, \"Forks\": null, \"hasgan\": 1, \"cum_gans\": 71, \"Day\": 1, \"Date\": \"2017-02-01T00:00:00\"}, {\"Year\": 2017, \"Month\": 3, \"Abbr.\": \"AEGAN\", \"Title\": \"Learning Inverse Mapping by Autoencoder based Generative Adversarial Nets\", \"Arxiv\": \"https://arxiv.org/abs/1703.10094\", \"Official_Code\": \"-\", \"Watches\": null, \"Stars\": null, \"Forks\": null, \"hasgan\": 1, \"cum_gans\": 72, \"Day\": 1, \"Date\": \"2017-03-01T00:00:00\"}, {\"Year\": 2017, \"Month\": 3, \"Abbr.\": \"AM-GAN\", \"Title\": \"Activation Maximization Generative Adversarial Nets\", \"Arxiv\": \"https://arxiv.org/abs/1703.02000\", \"Official_Code\": \"-\", \"Watches\": null, \"Stars\": null, \"Forks\": null, \"hasgan\": 1, \"cum_gans\": 73, \"Day\": 1, \"Date\": \"2017-03-01T00:00:00\"}, {\"Year\": 2017, \"Month\": 3, \"Abbr.\": \"AnoGAN\", \"Title\": \"Unsupervised Anomaly Detection with Generative Adversarial Networks to Guide Marker Discovery\", \"Arxiv\": \"https://arxiv.org/abs/1703.05921v1\", \"Official_Code\": \"-\", \"Watches\": null, \"Stars\": null, \"Forks\": null, \"hasgan\": 1, \"cum_gans\": 74, \"Day\": 1, \"Date\": \"2017-03-01T00:00:00\"}, {\"Year\": 2017, \"Month\": 3, \"Abbr.\": \"BEGAN\", \"Title\": \"BEGAN: Boundary Equilibrium Generative Adversarial Networks\", \"Arxiv\": \"https://arxiv.org/abs/1703.10717\", \"Official_Code\": \"-\", \"Watches\": null, \"Stars\": null, \"Forks\": null, \"hasgan\": 1, \"cum_gans\": 75, \"Day\": 1, \"Date\": \"2017-03-01T00:00:00\"}, {\"Year\": 2017, \"Month\": 3, \"Abbr.\": \"CS-GAN\", \"Title\": \"Improving Neural Machine Translation with Conditional Sequence Generative Adversarial Nets\", \"Arxiv\": \"https://arxiv.org/abs/1703.04887\", \"Official_Code\": \"-\", \"Watches\": null, \"Stars\": null, \"Forks\": null, \"hasgan\": 1, \"cum_gans\": 76, \"Day\": 1, \"Date\": \"2017-03-01T00:00:00\"}, {\"Year\": 2017, \"Month\": 3, \"Abbr.\": \"CVAE-GAN\", \"Title\": \"CVAE-GAN: Fine-Grained Image Generation through Asymmetric Training\", \"Arxiv\": \"https://arxiv.org/abs/1703.10155\", \"Official_Code\": \"-\", \"Watches\": null, \"Stars\": null, \"Forks\": null, \"hasgan\": 1, \"cum_gans\": 77, \"Day\": 1, \"Date\": \"2017-03-01T00:00:00\"}, {\"Year\": 2017, \"Month\": 3, \"Abbr.\": \"CycleGAN\", \"Title\": \"Unpaired Image-to-Image Translation using Cycle-Consistent Adversarial Networks\", \"Arxiv\": \"https://arxiv.org/abs/1703.10593\", \"Official_Code\": \"https://github.com/junyanz/CycleGAN\", \"Watches\": 345.0, \"Stars\": 7114.0, \"Forks\": 1099.0, \"hasgan\": 1, \"cum_gans\": 78, \"Day\": 1, \"Date\": \"2017-03-01T00:00:00\"}, {\"Year\": 2017, \"Month\": 3, \"Abbr.\": \"DiscoGAN\", \"Title\": \"Learning to Discover Cross-Domain Relations with Generative Adversarial Networks\", \"Arxiv\": \"https://arxiv.org/abs/1703.05192v1\", \"Official_Code\": \"-\", \"Watches\": null, \"Stars\": null, \"Forks\": null, \"hasgan\": 1, \"cum_gans\": 79, \"Day\": 1, \"Date\": \"2017-03-01T00:00:00\"}, {\"Year\": 2017, \"Month\": 3, \"Abbr.\": \"GP-GAN\", \"Title\": \"GP-GAN: Towards Realistic High-Resolution Image Blending\", \"Arxiv\": \"https://arxiv.org/abs/1703.07195\", \"Official_Code\": \"https://github.com/wuhuikai/GP-GAN\", \"Watches\": 6.0, \"Stars\": 127.0, \"Forks\": 29.0, \"hasgan\": 1, \"cum_gans\": 80, \"Day\": 1, \"Date\": \"2017-03-01T00:00:00\"}, {\"Year\": 2017, \"Month\": 3, \"Abbr.\": \"LR-GAN\", \"Title\": \"LR-GAN: Layered Recursive Generative Adversarial Networks for Image Generation\", \"Arxiv\": \"https://arxiv.org/abs/1703.01560v1\", \"Official_Code\": \"-\", \"Watches\": null, \"Stars\": null, \"Forks\": null, \"hasgan\": 1, \"cum_gans\": 81, \"Day\": 1, \"Date\": \"2017-03-01T00:00:00\"}, {\"Year\": 2017, \"Month\": 3, \"Abbr.\": \"MedGAN\", \"Title\": \"Generating Multi-label Discrete Electronic Health Records using Generative Adversarial Networks\", \"Arxiv\": \"https://arxiv.org/abs/1703.06490v1\", \"Official_Code\": \"-\", \"Watches\": null, \"Stars\": null, \"Forks\": null, \"hasgan\": 1, \"cum_gans\": 82, \"Day\": 1, \"Date\": \"2017-03-01T00:00:00\"}, {\"Year\": 2017, \"Month\": 3, \"Abbr.\": \"MIX+GAN\", \"Title\": \"Generalization and Equilibrium in Generative Adversarial Nets (GANs)\", \"Arxiv\": \"https://arxiv.org/abs/1703.00573v3\", \"Official_Code\": \"-\", \"Watches\": null, \"Stars\": null, \"Forks\": null, \"hasgan\": 1, \"cum_gans\": 83, \"Day\": 1, \"Date\": \"2017-03-01T00:00:00\"}, {\"Year\": 2017, \"Month\": 3, \"Abbr.\": \"RTT-GAN\", \"Title\": \"Recurrent Topic-Transition GAN for Visual Paragraph Generation\", \"Arxiv\": \"https://arxiv.org/abs/1703.07022v2\", \"Official_Code\": \"-\", \"Watches\": null, \"Stars\": null, \"Forks\": null, \"hasgan\": 1, \"cum_gans\": 84, \"Day\": 1, \"Date\": \"2017-03-01T00:00:00\"}, {\"Year\": 2017, \"Month\": 3, \"Abbr.\": \"SEGAN\", \"Title\": \"SEGAN: Speech Enhancement Generative Adversarial Network\", \"Arxiv\": \"https://arxiv.org/abs/1703.09452v1\", \"Official_Code\": \"-\", \"Watches\": null, \"Stars\": null, \"Forks\": null, \"hasgan\": 1, \"cum_gans\": 85, \"Day\": 1, \"Date\": \"2017-03-01T00:00:00\"}, {\"Year\": 2017, \"Month\": 3, \"Abbr.\": \"SeGAN\", \"Title\": \"SeGAN: Segmenting and Generating the Invisible\", \"Arxiv\": \"https://arxiv.org/abs/1703.10239\", \"Official_Code\": \"-\", \"Watches\": null, \"Stars\": null, \"Forks\": null, \"hasgan\": 1, \"cum_gans\": 86, \"Day\": 1, \"Date\": \"2017-03-01T00:00:00\"}, {\"Year\": 2017, \"Month\": 3, \"Abbr.\": \"SGAN\", \"Title\": \"Steganographic Generative Adversarial Networks\", \"Arxiv\": \"https://arxiv.org/abs/1703.05502\", \"Official_Code\": \"-\", \"Watches\": null, \"Stars\": null, \"Forks\": null, \"hasgan\": 1, \"cum_gans\": 87, \"Day\": 1, \"Date\": \"2017-03-01T00:00:00\"}, {\"Year\": 2017, \"Month\": 3, \"Abbr.\": \"TAC-GAN\", \"Title\": \"TAC-GAN - Text Conditioned Auxiliary Classifier Generative Adversarial Network\", \"Arxiv\": \"https://arxiv.org/abs/1703.06412v2\", \"Official_Code\": \"https://github.com/dashayushman/TAC-GAN\", \"Watches\": 3.0, \"Stars\": 36.0, \"Forks\": 15.0, \"hasgan\": 1, \"cum_gans\": 88, \"Day\": 1, \"Date\": \"2017-03-01T00:00:00\"}, {\"Year\": 2017, \"Month\": 3, \"Abbr.\": \"Triple-GAN\", \"Title\": \"Triple Generative Adversarial Nets\", \"Arxiv\": \"https://arxiv.org/abs/1703.02291v2\", \"Official_Code\": \"-\", \"Watches\": null, \"Stars\": null, \"Forks\": null, \"hasgan\": 1, \"cum_gans\": 89, \"Day\": 1, \"Date\": \"2017-03-01T00:00:00\"}, {\"Year\": 2017, \"Month\": 3, \"Abbr.\": \"UNIT\", \"Title\": \"Unsupervised Image-to-image Translation Networks\", \"Arxiv\": \"https://arxiv.org/abs/1703.00848\", \"Official_Code\": \"https://github.com/mingyuliutw/UNIT\", \"Watches\": 55.0, \"Stars\": 1094.0, \"Forks\": 201.0, \"hasgan\": 1, \"cum_gans\": 90, \"Day\": 1, \"Date\": \"2017-03-01T00:00:00\"}, {\"Year\": 2017, \"Month\": 4, \"Abbr.\": \"DualGAN\", \"Title\": \"DualGAN: Unsupervised Dual Learning for Image-to-Image Translation\", \"Arxiv\": \"https://arxiv.org/abs/1704.02510v1\", \"Official_Code\": \"-\", \"Watches\": null, \"Stars\": null, \"Forks\": null, \"hasgan\": 1, \"cum_gans\": 91, \"Day\": 1, \"Date\": \"2017-04-01T00:00:00\"}, {\"Year\": 2017, \"Month\": 4, \"Abbr.\": \"FF-GAN\", \"Title\": \"Towards Large-Pose Face Frontalization in the Wild\", \"Arxiv\": \"https://arxiv.org/abs/1704.06244\", \"Official_Code\": \"-\", \"Watches\": null, \"Stars\": null, \"Forks\": null, \"hasgan\": 1, \"cum_gans\": 92, \"Day\": 1, \"Date\": \"2017-04-01T00:00:00\"}, {\"Year\": 2017, \"Month\": 4, \"Abbr.\": \"GoGAN\", \"Title\": \"Gang of GANs: Generative Adversarial Networks with Maximum Margin Ranking\", \"Arxiv\": \"https://arxiv.org/abs/1704.04865\", \"Official_Code\": \"-\", \"Watches\": null, \"Stars\": null, \"Forks\": null, \"hasgan\": 1, \"cum_gans\": 93, \"Day\": 1, \"Date\": \"2017-04-01T00:00:00\"}, {\"Year\": 2017, \"Month\": 4, \"Abbr.\": \"MAD-GAN\", \"Title\": \"Multi-Agent Diverse Generative Adversarial Networks\", \"Arxiv\": \"https://arxiv.org/abs/1704.02906\", \"Official_Code\": \"-\", \"Watches\": null, \"Stars\": null, \"Forks\": null, \"hasgan\": 1, \"cum_gans\": 94, \"Day\": 1, \"Date\": \"2017-04-01T00:00:00\"}, {\"Year\": 2017, \"Month\": 4, \"Abbr.\": \"MAGAN\", \"Title\": \"MAGAN: Margin Adaptation for Generative Adversarial Networks\", \"Arxiv\": \"https://arxiv.org/abs/1704.03817v1\", \"Official_Code\": \"-\", \"Watches\": null, \"Stars\": null, \"Forks\": null, \"hasgan\": 1, \"cum_gans\": 95, \"Day\": 1, \"Date\": \"2017-04-01T00:00:00\"}, {\"Year\": 2017, \"Month\": 4, \"Abbr.\": \"SL-GAN\", \"Title\": \"Semi-Latent GAN: Learning to generate and modify facial images from attributes\", \"Arxiv\": \"https://arxiv.org/abs/1704.02166\", \"Official_Code\": \"-\", \"Watches\": null, \"Stars\": null, \"Forks\": null, \"hasgan\": 1, \"cum_gans\": 96, \"Day\": 1, \"Date\": \"2017-04-01T00:00:00\"}, {\"Year\": 2017, \"Month\": 4, \"Abbr.\": \"Softmax GAN\", \"Title\": \"Softmax GAN\", \"Arxiv\": \"https://arxiv.org/abs/1704.06191\", \"Official_Code\": \"-\", \"Watches\": null, \"Stars\": null, \"Forks\": null, \"hasgan\": 1, \"cum_gans\": 97, \"Day\": 1, \"Date\": \"2017-04-01T00:00:00\"}, {\"Year\": 2017, \"Month\": 4, \"Abbr.\": \"TAN\", \"Title\": \"Outline Colorization through Tandem Adversarial Networks\", \"Arxiv\": \"https://arxiv.org/abs/1704.08834\", \"Official_Code\": \"-\", \"Watches\": null, \"Stars\": null, \"Forks\": null, \"hasgan\": 1, \"cum_gans\": 98, \"Day\": 1, \"Date\": \"2017-04-01T00:00:00\"}, {\"Year\": 2017, \"Month\": 4, \"Abbr.\": \"TP-GAN\", \"Title\": \"Beyond Face Rotation: Global and Local Perception GAN for Photorealistic and Identity Preserving Frontal View Synthesis\", \"Arxiv\": \"https://arxiv.org/abs/1704.04086\", \"Official_Code\": \"-\", \"Watches\": null, \"Stars\": null, \"Forks\": null, \"hasgan\": 1, \"cum_gans\": 99, \"Day\": 1, \"Date\": \"2017-04-01T00:00:00\"}, {\"Year\": 2017, \"Month\": 4, \"Abbr.\": \"VariGAN\", \"Title\": \"Multi-View Image Generation from a Single-View\", \"Arxiv\": \"https://arxiv.org/abs/1704.04886\", \"Official_Code\": \"-\", \"Watches\": null, \"Stars\": null, \"Forks\": null, \"hasgan\": 1, \"cum_gans\": 100, \"Day\": 1, \"Date\": \"2017-04-01T00:00:00\"}, {\"Year\": 2017, \"Month\": 4, \"Abbr.\": \"VAW-GAN\", \"Title\": \"Voice Conversion from Unaligned Corpora using Variational Autoencoding Wasserstein Generative Adversarial Networks\", \"Arxiv\": \"https://arxiv.org/abs/1704.00849\", \"Official_Code\": \"-\", \"Watches\": null, \"Stars\": null, \"Forks\": null, \"hasgan\": 1, \"cum_gans\": 101, \"Day\": 1, \"Date\": \"2017-04-01T00:00:00\"}, {\"Year\": 2017, \"Month\": 4, \"Abbr.\": \"WGAN-GP\", \"Title\": \"Improved Training of Wasserstein GANs\", \"Arxiv\": \"https://arxiv.org/abs/1704.00028\", \"Official_Code\": \"https://github.com/igul222/improved_wgan_training\", \"Watches\": 67.0, \"Stars\": 1277.0, \"Forks\": 415.0, \"hasgan\": 1, \"cum_gans\": 102, \"Day\": 1, \"Date\": \"2017-04-01T00:00:00\"}, {\"Year\": 2017, \"Month\": 4, \"Abbr.\": \"\\u03b2-GAN\", \"Title\": \"Annealed Generative Adversarial Networks\", \"Arxiv\": \"https://arxiv.org/abs/1705.07505\", \"Official_Code\": \"-\", \"Watches\": null, \"Stars\": null, \"Forks\": null, \"hasgan\": 1, \"cum_gans\": 103, \"Day\": 1, \"Date\": \"2017-04-01T00:00:00\"}, {\"Year\": 2017, \"Month\": 5, \"Abbr.\": \"Bayesian GAN\", \"Title\": \"Bayesian GAN\", \"Arxiv\": \"https://arxiv.org/abs/1705.09558\", \"Official_Code\": \"https://github.com/andrewgordonwilson/bayesgan/\", \"Watches\": 53.0, \"Stars\": 929.0, \"Forks\": 148.0, \"hasgan\": 1, \"cum_gans\": 104, \"Day\": 1, \"Date\": \"2017-05-01T00:00:00\"}, {\"Year\": 2017, \"Month\": 5, \"Abbr.\": \"CaloGAN\", \"Title\": \"CaloGAN: Simulating 3D High Energy Particle Showers in Multi-Layer Electromagnetic Calorimeters with Generative Adversarial Networks\", \"Arxiv\": \"https://arxiv.org/abs/1705.02355\", \"Official_Code\": \"https://github.com/hep-lbdl/CaloGAN\", \"Watches\": 9.0, \"Stars\": 64.0, \"Forks\": 26.0, \"hasgan\": 1, \"cum_gans\": 105, \"Day\": 1, \"Date\": \"2017-05-01T00:00:00\"}, {\"Year\": 2017, \"Month\": 5, \"Abbr.\": \"Conditional cycleGAN\", \"Title\": \"Conditional CycleGAN for Attribute Guided Face Image Generation\", \"Arxiv\": \"https://arxiv.org/abs/1705.09966\", \"Official_Code\": \"-\", \"Watches\": null, \"Stars\": null, \"Forks\": null, \"hasgan\": 1, \"cum_gans\": 106, \"Day\": 1, \"Date\": \"2017-05-01T00:00:00\"}, {\"Year\": 2017, \"Month\": 5, \"Abbr.\": \"Cram\\u00e8r GAN \", \"Title\": \"The Cramer Distance as a Solution to Biased Wasserstein Gradients\", \"Arxiv\": \"https://arxiv.org/abs/1705.10743\", \"Official_Code\": \"-\", \"Watches\": null, \"Stars\": null, \"Forks\": null, \"hasgan\": 1, \"cum_gans\": 107, \"Day\": 1, \"Date\": \"2017-05-01T00:00:00\"}, {\"Year\": 2017, \"Month\": 5, \"Abbr.\": \"DR-GAN\", \"Title\": \"Representation Learning by Rotating Your Faces\", \"Arxiv\": \"https://arxiv.org/abs/1705.11136\", \"Official_Code\": \"-\", \"Watches\": null, \"Stars\": null, \"Forks\": null, \"hasgan\": 1, \"cum_gans\": 108, \"Day\": 1, \"Date\": \"2017-05-01T00:00:00\"}, {\"Year\": 2017, \"Month\": 5, \"Abbr.\": \"DRAGAN\", \"Title\": \"How to Train Your DRAGAN\", \"Arxiv\": \"https://arxiv.org/abs/1705.07215\", \"Official_Code\": \"https://github.com/kodalinaveen3/DRAGAN\", \"Watches\": 11.0, \"Stars\": 143.0, \"Forks\": 17.0, \"hasgan\": 1, \"cum_gans\": 109, \"Day\": 1, \"Date\": \"2017-05-01T00:00:00\"}, {\"Year\": 2017, \"Month\": 5, \"Abbr.\": \"ED//GAN\", \"Title\": \"Stabilizing Training of Generative Adversarial Networks through Regularization\", \"Arxiv\": \"https://arxiv.org/abs/1705.09367\", \"Official_Code\": \"-\", \"Watches\": null, \"Stars\": null, \"Forks\": null, \"hasgan\": 1, \"cum_gans\": 110, \"Day\": 1, \"Date\": \"2017-05-01T00:00:00\"}, {\"Year\": 2017, \"Month\": 5, \"Abbr.\": \"EGAN\", \"Title\": \"Enhanced Experience Replay Generation for Efficient Reinforcement Learning\", \"Arxiv\": \"https://arxiv.org/abs/1705.08245\", \"Official_Code\": \"-\", \"Watches\": null, \"Stars\": null, \"Forks\": null, \"hasgan\": 1, \"cum_gans\": 111, \"Day\": 1, \"Date\": \"2017-05-01T00:00:00\"}, {\"Year\": 2017, \"Month\": 5, \"Abbr.\": \"Fisher GAN\", \"Title\": \"Fisher GAN\", \"Arxiv\": \"https://arxiv.org/abs/1705.09675\", \"Official_Code\": \"-\", \"Watches\": null, \"Stars\": null, \"Forks\": null, \"hasgan\": 1, \"cum_gans\": 112, \"Day\": 1, \"Date\": \"2017-05-01T00:00:00\"}, {\"Year\": 2017, \"Month\": 5, \"Abbr.\": \"Flow-GAN\", \"Title\": \"Flow-GAN: Bridging implicit and prescribed learning in generative models\", \"Arxiv\": \"https://arxiv.org/abs/1705.08868\", \"Official_Code\": \"-\", \"Watches\": null, \"Stars\": null, \"Forks\": null, \"hasgan\": 1, \"cum_gans\": 113, \"Day\": 1, \"Date\": \"2017-05-01T00:00:00\"}, {\"Year\": 2017, \"Month\": 5, \"Abbr.\": \"GeneGAN\", \"Title\": \"GeneGAN: Learning Object Transfiguration and Attribute Subspace from Unpaired Data\", \"Arxiv\": \"https://arxiv.org/abs/1705.04932\", \"Official_Code\": \"https://github.com/Prinsphield/GeneGAN\", \"Watches\": 9.0, \"Stars\": 106.0, \"Forks\": 22.0, \"hasgan\": 1, \"cum_gans\": 114, \"Day\": 1, \"Date\": \"2017-05-01T00:00:00\"}, {\"Year\": 2017, \"Month\": 5, \"Abbr.\": \"Geometric GAN\", \"Title\": \"Geometric GAN\", \"Arxiv\": \"https://arxiv.org/abs/1705.02894\", \"Official_Code\": \"-\", \"Watches\": null, \"Stars\": null, \"Forks\": null, \"hasgan\": 1, \"cum_gans\": 115, \"Day\": 1, \"Date\": \"2017-05-01T00:00:00\"}, {\"Year\": 2017, \"Month\": 5, \"Abbr.\": \"IRGAN\", \"Title\": \"IRGAN: A Minimax Game for Unifying Generative and Discriminative Information Retrieval models\", \"Arxiv\": \"https://arxiv.org/abs/1705.10513v1\", \"Official_Code\": \"-\", \"Watches\": null, \"Stars\": null, \"Forks\": null, \"hasgan\": 1, \"cum_gans\": 116, \"Day\": 1, \"Date\": \"2017-05-01T00:00:00\"}, {\"Year\": 2017, \"Month\": 5, \"Abbr.\": \"MMD-GAN\", \"Title\": \"MMD GAN: Towards Deeper Understanding of Moment Matching Network\", \"Arxiv\": \"https://arxiv.org/abs/1705.08584\", \"Official_Code\": \"https://github.com/dougalsutherland/opt-mmd\", \"Watches\": 7.0, \"Stars\": 110.0, \"Forks\": 34.0, \"hasgan\": 1, \"cum_gans\": 117, \"Day\": 1, \"Date\": \"2017-05-01T00:00:00\"}, {\"Year\": 2017, \"Month\": 5, \"Abbr.\": \"ORGAN\", \"Title\": \"Objective-Reinforced Generative Adversarial Networks (ORGAN) for Sequence Generation Models \", \"Arxiv\": \"https://arxiv.org/abs/1705.10843\", \"Official_Code\": \"-\", \"Watches\": null, \"Stars\": null, \"Forks\": null, \"hasgan\": 1, \"cum_gans\": 118, \"Day\": 1, \"Date\": \"2017-05-01T00:00:00\"}, {\"Year\": 2017, \"Month\": 5, \"Abbr.\": \"Pose-GAN\", \"Title\": \"The Pose Knows: Video Forecasting by Generating Pose Futures\", \"Arxiv\": \"https://arxiv.org/abs/1705.00053\", \"Official_Code\": \"-\", \"Watches\": null, \"Stars\": null, \"Forks\": null, \"hasgan\": 1, \"cum_gans\": 119, \"Day\": 1, \"Date\": \"2017-05-01T00:00:00\"}, {\"Year\": 2017, \"Month\": 5, \"Abbr.\": \"PSGAN\", \"Title\": \"Learning Texture Manifolds with the Periodic Spatial GAN\", \"Arxiv\": \"http://arxiv.org/abs/1705.06566\", \"Official_Code\": \"-\", \"Watches\": null, \"Stars\": null, \"Forks\": null, \"hasgan\": 1, \"cum_gans\": 120, \"Day\": 1, \"Date\": \"2017-05-01T00:00:00\"}, {\"Year\": 2017, \"Month\": 5, \"Abbr.\": \"RankGAN\", \"Title\": \"Adversarial Ranking for Language Generation \", \"Arxiv\": \"https://arxiv.org/abs/1705.11001\", \"Official_Code\": \"-\", \"Watches\": null, \"Stars\": null, \"Forks\": null, \"hasgan\": 1, \"cum_gans\": 121, \"Day\": 1, \"Date\": \"2017-05-01T00:00:00\"}, {\"Year\": 2017, \"Month\": 5, \"Abbr.\": \"RPGAN\", \"Title\": \"Stabilizing GAN Training with Multiple Random Projections\", \"Arxiv\": \"https://arxiv.org/abs/1705.07831\", \"Official_Code\": \"https://github.com/ayanc/rpgan\", \"Watches\": 2.0, \"Stars\": 15.0, \"Forks\": 4.0, \"hasgan\": 1, \"cum_gans\": 122, \"Day\": 1, \"Date\": \"2017-05-01T00:00:00\"}, {\"Year\": 2017, \"Month\": 5, \"Abbr.\": \"RWGAN\", \"Title\": \"Relaxed Wasserstein with Applications to GANs\", \"Arxiv\": \"https://arxiv.org/abs/1705.07164\", \"Official_Code\": \"-\", \"Watches\": null, \"Stars\": null, \"Forks\": null, \"hasgan\": 1, \"cum_gans\": 123, \"Day\": 1, \"Date\": \"2017-05-01T00:00:00\"}, {\"Year\": 2017, \"Month\": 5, \"Abbr.\": \"SBADA-GAN\", \"Title\": \"From source to target and back: symmetric bi-directional adaptive GAN\", \"Arxiv\": \"https://arxiv.org/abs/1705.08824\", \"Official_Code\": \"-\", \"Watches\": null, \"Stars\": null, \"Forks\": null, \"hasgan\": 1, \"cum_gans\": 124, \"Day\": 1, \"Date\": \"2017-05-01T00:00:00\"}, {\"Year\": 2017, \"Month\": 5, \"Abbr.\": \"SD-GAN\", \"Title\": \"Semantically Decomposing the Latent Spaces of Generative Adversarial Networks\", \"Arxiv\": \"https://arxiv.org/abs/1705.07904\", \"Official_Code\": \"-\", \"Watches\": null, \"Stars\": null, \"Forks\": null, \"hasgan\": 1, \"cum_gans\": 125, \"Day\": 1, \"Date\": \"2017-05-01T00:00:00\"}, {\"Year\": 2017, \"Month\": 5, \"Abbr.\": \"VEEGAN\", \"Title\": \"VEEGAN: Reducing Mode Collapse in GANs using Implicit Variational Learning\", \"Arxiv\": \"https://arxiv.org/abs/1705.07761\", \"Official_Code\": \"https://github.com/akashgit/VEEGAN\", \"Watches\": 2.0, \"Stars\": 11.0, \"Forks\": 6.0, \"hasgan\": 1, \"cum_gans\": 126, \"Day\": 1, \"Date\": \"2017-05-01T00:00:00\"}, {\"Year\": 2017, \"Month\": 5, \"Abbr.\": \"WS-GAN\", \"Title\": \"Weakly Supervised Generative Adversarial Networks for 3D Reconstruction \", \"Arxiv\": \"https://arxiv.org/abs/1705.10904\", \"Official_Code\": \"-\", \"Watches\": null, \"Stars\": null, \"Forks\": null, \"hasgan\": 1, \"cum_gans\": 127, \"Day\": 1, \"Date\": \"2017-05-01T00:00:00\"}, {\"Year\": 2017, \"Month\": 6, \"Abbr.\": \"ARAE\", \"Title\": \"Adversarially Regularized Autoencoders for Generating Discrete Structures\", \"Arxiv\": \"https://arxiv.org/abs/1706.04223\", \"Official_Code\": \"https://github.com/jakezhaojb/ARAE\", \"Watches\": 17.0, \"Stars\": 260.0, \"Forks\": 62.0, \"hasgan\": 1, \"cum_gans\": 128, \"Day\": 1, \"Date\": \"2017-06-01T00:00:00\"}, {\"Year\": 2017, \"Month\": 6, \"Abbr.\": \"BCGAN\", \"Title\": \"Bayesian Conditional Generative Adverserial Networks\", \"Arxiv\": \"https://arxiv.org/abs/1706.05477\", \"Official_Code\": \"-\", \"Watches\": null, \"Stars\": null, \"Forks\": null, \"hasgan\": 1, \"cum_gans\": 129, \"Day\": 1, \"Date\": \"2017-06-01T00:00:00\"}, {\"Year\": 2017, \"Month\": 6, \"Abbr.\": \"CAN\", \"Title\": \"CAN: Creative Adversarial Networks, Generating Art by Learning About Styles and Deviating from Style Norms\", \"Arxiv\": \"https://arxiv.org/abs/1706.07068\", \"Official_Code\": \"-\", \"Watches\": null, \"Stars\": null, \"Forks\": null, \"hasgan\": 1, \"cum_gans\": 130, \"Day\": 1, \"Date\": \"2017-06-01T00:00:00\"}, {\"Year\": 2017, \"Month\": 6, \"Abbr.\": \"Chekhov GAN\", \"Title\": \"An Online Learning Approach to Generative Adversarial Networks\", \"Arxiv\": \"https://arxiv.org/abs/1706.03269\", \"Official_Code\": \"-\", \"Watches\": null, \"Stars\": null, \"Forks\": null, \"hasgan\": 1, \"cum_gans\": 131, \"Day\": 1, \"Date\": \"2017-06-01T00:00:00\"}, {\"Year\": 2017, \"Month\": 6, \"Abbr.\": \"crVAE-GAN\", \"Title\": \"Channel-Recurrent Variational Autoencoders\", \"Arxiv\": \"https://arxiv.org/abs/1706.03729\", \"Official_Code\": \"-\", \"Watches\": null, \"Stars\": null, \"Forks\": null, \"hasgan\": 1, \"cum_gans\": 132, \"Day\": 1, \"Date\": \"2017-06-01T00:00:00\"}, {\"Year\": 2017, \"Month\": 6, \"Abbr.\": \"DeliGAN\", \"Title\": \"DeLiGAN : Generative Adversarial Networks for Diverse and Limited Data\", \"Arxiv\": \"https://arxiv.org/abs/1706.02071\", \"Official_Code\": \"https://github.com/val-iisc/deligan\", \"Watches\": 4.0, \"Stars\": 74.0, \"Forks\": 25.0, \"hasgan\": 1, \"cum_gans\": 133, \"Day\": 1, \"Date\": \"2017-06-01T00:00:00\"}, {\"Year\": 2017, \"Month\": 6, \"Abbr.\": \"DistanceGAN\", \"Title\": \"One-Sided Unsupervised Domain Mapping\", \"Arxiv\": \"https://arxiv.org/abs/1706.00826\", \"Official_Code\": \"-\", \"Watches\": null, \"Stars\": null, \"Forks\": null, \"hasgan\": 1, \"cum_gans\": 134, \"Day\": 1, \"Date\": \"2017-06-01T00:00:00\"}, {\"Year\": 2017, \"Month\": 6, \"Abbr.\": \"DSP-GAN\", \"Title\": \"Depth Structure Preserving Scene Image Generation\", \"Arxiv\": \"https://arxiv.org/abs/1706.00212\", \"Official_Code\": \"-\", \"Watches\": null, \"Stars\": null, \"Forks\": null, \"hasgan\": 1, \"cum_gans\": 135, \"Day\": 1, \"Date\": \"2017-06-01T00:00:00\"}, {\"Year\": 2017, \"Month\": 6, \"Abbr.\": \"Dualing GAN\", \"Title\": \"Dualing GANs\", \"Arxiv\": \"https://arxiv.org/abs/1706.06216\", \"Official_Code\": \"-\", \"Watches\": null, \"Stars\": null, \"Forks\": null, \"hasgan\": 1, \"cum_gans\": 136, \"Day\": 1, \"Date\": \"2017-06-01T00:00:00\"}, {\"Year\": 2017, \"Month\": 6, \"Abbr.\": \"Fila-GAN\", \"Title\": \"Synthesizing Filamentary Structured Images with GANs\", \"Arxiv\": \"https://arxiv.org/abs/1706.02185\", \"Official_Code\": \"-\", \"Watches\": null, \"Stars\": null, \"Forks\": null, \"hasgan\": 1, \"cum_gans\": 137, \"Day\": 1, \"Date\": \"2017-06-01T00:00:00\"}, {\"Year\": 2017, \"Month\": 6, \"Abbr.\": \"GANCS\", \"Title\": \"Deep Generative Adversarial Networks for Compressed Sensing Automates MRI\", \"Arxiv\": \"https://arxiv.org/abs/1706.00051\", \"Official_Code\": \"-\", \"Watches\": null, \"Stars\": null, \"Forks\": null, \"hasgan\": 1, \"cum_gans\": 138, \"Day\": 1, \"Date\": \"2017-06-01T00:00:00\"}, {\"Year\": 2017, \"Month\": 6, \"Abbr.\": \"GMM-GAN\", \"Title\": \"Towards Understanding the Dynamics of Generative Adversarial Networks\", \"Arxiv\": \"https://arxiv.org/abs/1706.09884\", \"Official_Code\": \"-\", \"Watches\": null, \"Stars\": null, \"Forks\": null, \"hasgan\": 1, \"cum_gans\": 139, \"Day\": 1, \"Date\": \"2017-06-01T00:00:00\"}, {\"Year\": 2017, \"Month\": 6, \"Abbr.\": \"IWGAN\", \"Title\": \"On Unifying Deep Generative Models\", \"Arxiv\": \"https://arxiv.org/abs/1706.00550\", \"Official_Code\": \"-\", \"Watches\": null, \"Stars\": null, \"Forks\": null, \"hasgan\": 1, \"cum_gans\": 140, \"Day\": 1, \"Date\": \"2017-06-01T00:00:00\"}, {\"Year\": 2017, \"Month\": 6, \"Abbr.\": \"PAN\", \"Title\": \"Perceptual Adversarial Networks for Image-to-Image Transformation\", \"Arxiv\": \"https://arxiv.org/abs/1706.09138\", \"Official_Code\": \"-\", \"Watches\": null, \"Stars\": null, \"Forks\": null, \"hasgan\": 1, \"cum_gans\": 141, \"Day\": 1, \"Date\": \"2017-06-01T00:00:00\"}, {\"Year\": 2017, \"Month\": 6, \"Abbr.\": \"Perceptual GAN\", \"Title\": \"Perceptual Generative Adversarial Networks for Small Object Detection\", \"Arxiv\": \"https://arxiv.org/abs/1706.05274\", \"Official_Code\": \"-\", \"Watches\": null, \"Stars\": null, \"Forks\": null, \"hasgan\": 1, \"cum_gans\": 142, \"Day\": 1, \"Date\": \"2017-06-01T00:00:00\"}, {\"Year\": 2017, \"Month\": 6, \"Abbr.\": \"PixelGAN\", \"Title\": \"PixelGAN Autoencoders\", \"Arxiv\": \"https://arxiv.org/abs/1706.00531\", \"Official_Code\": \"-\", \"Watches\": null, \"Stars\": null, \"Forks\": null, \"hasgan\": 1, \"cum_gans\": 143, \"Day\": 1, \"Date\": \"2017-06-01T00:00:00\"}, {\"Year\": 2017, \"Month\": 6, \"Abbr.\": \"RCGAN\", \"Title\": \"Real-valued (Medical) Time Series Generation with Recurrent Conditional GANs\", \"Arxiv\": \"https://arxiv.org/abs/1706.02633\", \"Official_Code\": \"-\", \"Watches\": null, \"Stars\": null, \"Forks\": null, \"hasgan\": 1, \"cum_gans\": 144, \"Day\": 1, \"Date\": \"2017-06-01T00:00:00\"}, {\"Year\": 2017, \"Month\": 6, \"Abbr.\": \"RNN-WGAN\", \"Title\": \"Language Generation with Recurrent Generative Adversarial Networks without Pre-training\", \"Arxiv\": \"https://arxiv.org/abs/1706.01399\", \"Official_Code\": \"https://github.com/amirbar/rnn.wgan\", \"Watches\": 19.0, \"Stars\": 205.0, \"Forks\": 63.0, \"hasgan\": 1, \"cum_gans\": 145, \"Day\": 1, \"Date\": \"2017-06-01T00:00:00\"}, {\"Year\": 2017, \"Month\": 6, \"Abbr.\": \"SegAN\", \"Title\": \"SegAN: Adversarial Network with Multi-scale L1 Loss for Medical Image Segmentation\", \"Arxiv\": \"https://arxiv.org/abs/1706.01805\", \"Official_Code\": \"-\", \"Watches\": null, \"Stars\": null, \"Forks\": null, \"hasgan\": 1, \"cum_gans\": 146, \"Day\": 1, \"Date\": \"2017-06-01T00:00:00\"}, {\"Year\": 2017, \"Month\": 6, \"Abbr.\": \"TextureGAN\", \"Title\": \"TextureGAN: Controlling Deep Image Synthesis with Texture Patches\", \"Arxiv\": \"https://arxiv.org/abs/1706.02823\", \"Official_Code\": \"-\", \"Watches\": null, \"Stars\": null, \"Forks\": null, \"hasgan\": 1, \"cum_gans\": 147, \"Day\": 1, \"Date\": \"2017-06-01T00:00:00\"}, {\"Year\": 2017, \"Month\": 6, \"Abbr.\": \"\\u03b1-GAN\", \"Title\": \"Variational Approaches for Auto-Encoding Generative Adversarial Networks\", \"Arxiv\": \"https://arxiv.org/abs/1706.04987\", \"Official_Code\": \"https://github.com/victor-shepardson/alpha-GAN\", \"Watches\": 2.0, \"Stars\": 51.0, \"Forks\": 17.0, \"hasgan\": 1, \"cum_gans\": 148, \"Day\": 1, \"Date\": \"2017-06-01T00:00:00\"}, {\"Year\": 2017, \"Month\": 7, \"Abbr.\": \"3D-IWGAN\", \"Title\": \"Improved Adversarial Systems for 3D Object Generation and Reconstruction\", \"Arxiv\": \"https://arxiv.org/abs/1707.09557\", \"Official_Code\": \"https://github.com/EdwardSmith1884/3D-IWGAN\", \"Watches\": 7.0, \"Stars\": 70.0, \"Forks\": 23.0, \"hasgan\": 1, \"cum_gans\": 149, \"Day\": 1, \"Date\": \"2017-07-01T00:00:00\"}, {\"Year\": 2017, \"Month\": 7, \"Abbr.\": \"AE-GAN\", \"Title\": \"AE-GAN: adversarial eliminating with GAN\", \"Arxiv\": \"https://arxiv.org/abs/1707.05474\", \"Official_Code\": \"-\", \"Watches\": null, \"Stars\": null, \"Forks\": null, \"hasgan\": 1, \"cum_gans\": 150, \"Day\": 1, \"Date\": \"2017-07-01T00:00:00\"}, {\"Year\": 2017, \"Month\": 7, \"Abbr.\": \"AlignGAN\", \"Title\": \"AlignGAN: Learning to Align Cross-Domain Images with Conditional Generative Adversarial Networks\", \"Arxiv\": \"https://arxiv.org/abs/1707.01400\", \"Official_Code\": \"-\", \"Watches\": null, \"Stars\": null, \"Forks\": null, \"hasgan\": 1, \"cum_gans\": 151, \"Day\": 1, \"Date\": \"2017-07-01T00:00:00\"}, {\"Year\": 2017, \"Month\": 7, \"Abbr.\": \"APE-GAN\", \"Title\": \"APE-GAN: Adversarial Perturbation Elimination with GAN\", \"Arxiv\": \"https://arxiv.org/abs/1707.05474\", \"Official_Code\": \"-\", \"Watches\": null, \"Stars\": null, \"Forks\": null, \"hasgan\": 1, \"cum_gans\": 152, \"Day\": 1, \"Date\": \"2017-07-01T00:00:00\"}, {\"Year\": 2017, \"Month\": 7, \"Abbr.\": \"ARDA\", \"Title\": \"Adversarial Representation Learning for Domain Adaptation\", \"Arxiv\": \"https://arxiv.org/abs/1707.01217\", \"Official_Code\": \"-\", \"Watches\": null, \"Stars\": null, \"Forks\": null, \"hasgan\": 1, \"cum_gans\": 153, \"Day\": 1, \"Date\": \"2017-07-01T00:00:00\"}, {\"Year\": 2017, \"Month\": 7, \"Abbr.\": \"DAN\", \"Title\": \"Distributional Adversarial Networks\", \"Arxiv\": \"https://arxiv.org/abs/1706.09549\", \"Official_Code\": \"-\", \"Watches\": null, \"Stars\": null, \"Forks\": null, \"hasgan\": 1, \"cum_gans\": 154, \"Day\": 1, \"Date\": \"2017-07-01T00:00:00\"}, {\"Year\": 2017, \"Month\": 7, \"Abbr.\": \"l-GAN\", \"Title\": \"Representation Learning and Adversarial Generation of 3D Point Clouds\", \"Arxiv\": \"https://arxiv.org/abs/1707.02392\", \"Official_Code\": \"-\", \"Watches\": null, \"Stars\": null, \"Forks\": null, \"hasgan\": 1, \"cum_gans\": 155, \"Day\": 1, \"Date\": \"2017-07-01T00:00:00\"}, {\"Year\": 2017, \"Month\": 7, \"Abbr.\": \"LD-GAN\", \"Title\": \"Linear Discriminant Generative Adversarial Networks\", \"Arxiv\": \"https://arxiv.org/abs/1707.07831\", \"Official_Code\": \"-\", \"Watches\": null, \"Stars\": null, \"Forks\": null, \"hasgan\": 1, \"cum_gans\": 156, \"Day\": 1, \"Date\": \"2017-07-01T00:00:00\"}, {\"Year\": 2017, \"Month\": 7, \"Abbr.\": \"LeGAN\", \"Title\": \"Likelihood Estimation for Generative Adversarial Networks\", \"Arxiv\": \"https://arxiv.org/abs/1707.07530\", \"Official_Code\": \"-\", \"Watches\": null, \"Stars\": null, \"Forks\": null, \"hasgan\": 1, \"cum_gans\": 157, \"Day\": 1, \"Date\": \"2017-07-01T00:00:00\"}, {\"Year\": 2017, \"Month\": 7, \"Abbr.\": \"MMGAN\", \"Title\": \"MMGAN: Manifold Matching Generative Adversarial Network for Generating Images\", \"Arxiv\": \"https://arxiv.org/abs/1707.08273\", \"Official_Code\": \"-\", \"Watches\": null, \"Stars\": null, \"Forks\": null, \"hasgan\": 1, \"cum_gans\": 158, \"Day\": 1, \"Date\": \"2017-07-01T00:00:00\"}, {\"Year\": 2017, \"Month\": 7, \"Abbr.\": \"MoCoGAN\", \"Title\": \"MoCoGAN: Decomposing Motion and Content for Video Generation\", \"Arxiv\": \"https://arxiv.org/abs/1707.04993\", \"Official_Code\": \"https://github.com/sergeytulyakov/mocogan\", \"Watches\": 17.0, \"Stars\": 180.0, \"Forks\": 47.0, \"hasgan\": 1, \"cum_gans\": 159, \"Day\": 1, \"Date\": \"2017-07-01T00:00:00\"}, {\"Year\": 2017, \"Month\": 7, \"Abbr.\": \"ResGAN\", \"Title\": \"Generative Adversarial Network based on Resnet for Conditional Image Restoration\", \"Arxiv\": \"https://arxiv.org/abs/1707.04881\", \"Official_Code\": \"-\", \"Watches\": null, \"Stars\": null, \"Forks\": null, \"hasgan\": 1, \"cum_gans\": 160, \"Day\": 1, \"Date\": \"2017-07-01T00:00:00\"}, {\"Year\": 2017, \"Month\": 7, \"Abbr.\": \"SisGAN\", \"Title\": \"Semantic Image Synthesis via Adversarial Learning\", \"Arxiv\": \"https://arxiv.org/abs/1707.06873\", \"Official_Code\": \"-\", \"Watches\": null, \"Stars\": null, \"Forks\": null, \"hasgan\": 1, \"cum_gans\": 161, \"Day\": 1, \"Date\": \"2017-07-01T00:00:00\"}, {\"Year\": 2017, \"Month\": 7, \"Abbr.\": \"ss-InfoGAN\", \"Title\": \"Guiding InfoGAN with Semi-Supervision\", \"Arxiv\": \"https://arxiv.org/abs/1707.04487\", \"Official_Code\": \"-\", \"Watches\": null, \"Stars\": null, \"Forks\": null, \"hasgan\": 1, \"cum_gans\": 162, \"Day\": 1, \"Date\": \"2017-07-01T00:00:00\"}, {\"Year\": 2017, \"Month\": 7, \"Abbr.\": \"SSGAN\", \"Title\": \"SSGAN: Secure Steganography Based on Generative Adversarial Networks\", \"Arxiv\": \"https://arxiv.org/abs/1707.01613\", \"Official_Code\": \"-\", \"Watches\": null, \"Stars\": null, \"Forks\": null, \"hasgan\": 1, \"cum_gans\": 163, \"Day\": 1, \"Date\": \"2017-07-01T00:00:00\"}, {\"Year\": 2017, \"Month\": 7, \"Abbr.\": \"SteinGAN\", \"Title\": \"Learning Deep Energy Models: Contrastive Divergence vs. Amortized MLE\", \"Arxiv\": \"https://arxiv.org/abs/1707.00797\", \"Official_Code\": \"-\", \"Watches\": null, \"Stars\": null, \"Forks\": null, \"hasgan\": 1, \"cum_gans\": 164, \"Day\": 1, \"Date\": \"2017-07-01T00:00:00\"}, {\"Year\": 2017, \"Month\": 7, \"Abbr.\": \"VRAL\", \"Title\": \"Variance Regularizing Adversarial Learning\", \"Arxiv\": \"https://arxiv.org/abs/1707.00309\", \"Official_Code\": \"-\", \"Watches\": null, \"Stars\": null, \"Forks\": null, \"hasgan\": 1, \"cum_gans\": 165, \"Day\": 1, \"Date\": \"2017-07-01T00:00:00\"}, {\"Year\": 2017, \"Month\": 8, \"Abbr.\": \"3D-RecGAN\", \"Title\": \"3D Object Reconstruction from a Single Depth View with Adversarial Learning\", \"Arxiv\": \"https://arxiv.org/abs/1708.07969\", \"Official_Code\": \"https://github.com/Yang7879/3D-RecGAN\", \"Watches\": 8.0, \"Stars\": 65.0, \"Forks\": 27.0, \"hasgan\": 1, \"cum_gans\": 166, \"Day\": 1, \"Date\": \"2017-08-01T00:00:00\"}, {\"Year\": 2017, \"Month\": 8, \"Abbr.\": \"ABC-GAN\", \"Title\": \"ABC-GAN: Adaptive Blur and Control for improved training stability of Generative Adversarial Networks\", \"Arxiv\": \"https://drive.google.com/file/d/0B3wEP_lEl0laVTdGcHE2VnRiMlE/view\", \"Official_Code\": \"https://github.com/IgorSusmelj/ABC-GAN\", \"Watches\": 1.0, \"Stars\": 4.0, \"Forks\": 1.0, \"hasgan\": 1, \"cum_gans\": 167, \"Day\": 1, \"Date\": \"2017-08-01T00:00:00\"}, {\"Year\": 2017, \"Month\": 8, \"Abbr.\": \"ASDL-GAN\", \"Title\": \"Automatic Steganographic Distortion Learning Using a Generative Adversarial Network\", \"Arxiv\": \"https://ieeexplore.ieee.org/document/8017430/\", \"Official_Code\": \"-\", \"Watches\": null, \"Stars\": null, \"Forks\": null, \"hasgan\": 1, \"cum_gans\": 168, \"Day\": 1, \"Date\": \"2017-08-01T00:00:00\"}, {\"Year\": 2017, \"Month\": 8, \"Abbr.\": \"BGAN\", \"Title\": \"Binary Generative Adversarial Networks for Image Retrieval\", \"Arxiv\": \"https://arxiv.org/abs/1708.04150\", \"Official_Code\": \"https://github.com/htconquer/BGAN\", \"Watches\": 6.0, \"Stars\": 16.0, \"Forks\": 15.0, \"hasgan\": 1, \"cum_gans\": 169, \"Day\": 1, \"Date\": \"2017-08-01T00:00:00\"}, {\"Year\": 2017, \"Month\": 8, \"Abbr.\": \"CDcGAN\", \"Title\": \"Simultaneously Color-Depth Super-Resolution with Conditional Generative Adversarial Network\", \"Arxiv\": \"https://arxiv.org/abs/1708.09105\", \"Official_Code\": \"-\", \"Watches\": null, \"Stars\": null, \"Forks\": null, \"hasgan\": 1, \"cum_gans\": 170, \"Day\": 1, \"Date\": \"2017-08-01T00:00:00\"}, {\"Year\": 2017, \"Month\": 8, \"Abbr.\": \"CGAN\", \"Title\": \"Controllable Generative Adversarial Network\", \"Arxiv\": \"https://arxiv.org/abs/1708.00598\", \"Official_Code\": \"-\", \"Watches\": null, \"Stars\": null, \"Forks\": null, \"hasgan\": 1, \"cum_gans\": 171, \"Day\": 1, \"Date\": \"2017-08-01T00:00:00\"}, {\"Year\": 2017, \"Month\": 8, \"Abbr.\": \"constrast-GAN\", \"Title\": \"Generative Semantic Manipulation with Contrasting GAN\", \"Arxiv\": \"https://arxiv.org/abs/1708.00315\", \"Official_Code\": \"-\", \"Watches\": null, \"Stars\": null, \"Forks\": null, \"hasgan\": 1, \"cum_gans\": 172, \"Day\": 1, \"Date\": \"2017-08-01T00:00:00\"}, {\"Year\": 2017, \"Month\": 8, \"Abbr.\": \"Coulomb GAN\", \"Title\": \"Coulomb GANs: Provably Optimal Nash Equilibria via Potential Fields\", \"Arxiv\": \"https://arxiv.org/abs/1708.08819\", \"Official_Code\": \"-\", \"Watches\": null, \"Stars\": null, \"Forks\": null, \"hasgan\": 1, \"cum_gans\": 173, \"Day\": 1, \"Date\": \"2017-08-01T00:00:00\"}, {\"Year\": 2017, \"Month\": 8, \"Abbr.\": \"DM-GAN\", \"Title\": \"Dual Motion GAN for Future-Flow Embedded Video Prediction\", \"Arxiv\": \"https://arxiv.org/abs/1708.00284\", \"Official_Code\": \"-\", \"Watches\": null, \"Stars\": null, \"Forks\": null, \"hasgan\": 1, \"cum_gans\": 174, \"Day\": 1, \"Date\": \"2017-08-01T00:00:00\"}, {\"Year\": 2017, \"Month\": 8, \"Abbr.\": \"GAN-sep\", \"Title\": \"GANs for Biological Image Synthesis\", \"Arxiv\": \"https://arxiv.org/abs/1708.04692\", \"Official_Code\": \"https://github.com/aosokin/biogans\", \"Watches\": 5.0, \"Stars\": 82.0, \"Forks\": 12.0, \"hasgan\": 1, \"cum_gans\": 175, \"Day\": 1, \"Date\": \"2017-08-01T00:00:00\"}, {\"Year\": 2017, \"Month\": 8, \"Abbr.\": \"GAN-VFS\", \"Title\": \"Generative Adversarial Network-based Synthesis of Visible Faces from Polarimetric Thermal Faces\", \"Arxiv\": \"https://arxiv.org/abs/1708.02681\", \"Official_Code\": \"-\", \"Watches\": null, \"Stars\": null, \"Forks\": null, \"hasgan\": 1, \"cum_gans\": 176, \"Day\": 1, \"Date\": \"2017-08-01T00:00:00\"}, {\"Year\": 2017, \"Month\": 8, \"Abbr.\": \"MGGAN\", \"Title\": \"Multi-Generator Generative Adversarial Nets\", \"Arxiv\": \"https://arxiv.org/abs/1708.02556\", \"Official_Code\": \"-\", \"Watches\": null, \"Stars\": null, \"Forks\": null, \"hasgan\": 1, \"cum_gans\": 177, \"Day\": 1, \"Date\": \"2017-08-01T00:00:00\"}, {\"Year\": 2017, \"Month\": 8, \"Abbr.\": \"PGAN\", \"Title\": \"Probabilistic Generative Adversarial Networks\", \"Arxiv\": \"https://arxiv.org/abs/1708.01886\", \"Official_Code\": \"-\", \"Watches\": null, \"Stars\": null, \"Forks\": null, \"hasgan\": 1, \"cum_gans\": 178, \"Day\": 1, \"Date\": \"2017-08-01T00:00:00\"}, {\"Year\": 2017, \"Month\": 8, \"Abbr.\": \"SN-GAN\", \"Title\": \"Spectral Normalization for Generative Adversarial Networks\", \"Arxiv\": \"https://drive.google.com/file/d/0B8HZ50DPgR3eSVV6YlF3XzQxSjQ/view\", \"Official_Code\": \"https://github.com/pfnet-research/chainer-gan-lib\", \"Watches\": 33.0, \"Stars\": 297.0, \"Forks\": 62.0, \"hasgan\": 1, \"cum_gans\": 179, \"Day\": 1, \"Date\": \"2017-08-01T00:00:00\"}, {\"Year\": 2017, \"Month\": 8, \"Abbr.\": \"SS-GAN\", \"Title\": \"Semi-supervised Conditional GANs\", \"Arxiv\": \"https://arxiv.org/abs/1708.05789\", \"Official_Code\": \"-\", \"Watches\": null, \"Stars\": null, \"Forks\": null, \"hasgan\": 1, \"cum_gans\": 180, \"Day\": 1, \"Date\": \"2017-08-01T00:00:00\"}, {\"Year\": 2017, \"Month\": 8, \"Abbr.\": \"VIGAN\", \"Title\": \"VIGAN: Missing View Imputation with Generative Adversarial Networks\", \"Arxiv\": \"https://arxiv.org/abs/1708.06724\", \"Official_Code\": \"-\", \"Watches\": null, \"Stars\": null, \"Forks\": null, \"hasgan\": 1, \"cum_gans\": 181, \"Day\": 1, \"Date\": \"2017-08-01T00:00:00\"}, {\"Year\": 2017, \"Month\": 9, \"Abbr.\": \"ARIGAN\", \"Title\": \"ARIGAN: Synthetic Arabidopsis Plants using Generative Adversarial Network\", \"Arxiv\": \"https://arxiv.org/abs/1709.00938\", \"Official_Code\": \"-\", \"Watches\": null, \"Stars\": null, \"Forks\": null, \"hasgan\": 1, \"cum_gans\": 182, \"Day\": 1, \"Date\": \"2017-09-01T00:00:00\"}, {\"Year\": 2017, \"Month\": 9, \"Abbr.\": \"CausalGAN\", \"Title\": \"CausalGAN: Learning Causal Implicit Generative Models with Adversarial Training\", \"Arxiv\": \"https://arxiv.org/abs/1709.02023\", \"Official_Code\": \"-\", \"Watches\": null, \"Stars\": null, \"Forks\": null, \"hasgan\": 1, \"cum_gans\": 183, \"Day\": 1, \"Date\": \"2017-09-01T00:00:00\"}, {\"Year\": 2017, \"Month\": 9, \"Abbr.\": \"D2GAN\", \"Title\": \"Dual Discriminator Generative Adversarial Nets\", \"Arxiv\": \"http://arxiv.org/abs/1709.03831\", \"Official_Code\": \"-\", \"Watches\": null, \"Stars\": null, \"Forks\": null, \"hasgan\": 1, \"cum_gans\": 184, \"Day\": 1, \"Date\": \"2017-09-01T00:00:00\"}, {\"Year\": 2017, \"Month\": 9, \"Abbr.\": \"ExposureGAN\", \"Title\": \"Exposure: A White-Box Photo Post-Processing Framework\", \"Arxiv\": \"https://arxiv.org/abs/1709.09602\", \"Official_Code\": \"https://github.com/yuanming-hu/exposure\", \"Watches\": 12.0, \"Stars\": 205.0, \"Forks\": 43.0, \"hasgan\": 1, \"cum_gans\": 185, \"Day\": 1, \"Date\": \"2017-09-01T00:00:00\"}, {\"Year\": 2017, \"Month\": 9, \"Abbr.\": \"ExprGAN\", \"Title\": \"ExprGAN: Facial Expression Editing with Controllable Expression Intensity\", \"Arxiv\": \"https://arxiv.org/abs/1709.03842\", \"Official_Code\": \"-\", \"Watches\": null, \"Stars\": null, \"Forks\": null, \"hasgan\": 1, \"cum_gans\": 186, \"Day\": 1, \"Date\": \"2017-09-01T00:00:00\"}, {\"Year\": 2017, \"Month\": 9, \"Abbr.\": \"GAMN\", \"Title\": \"Generative Adversarial Mapping Networks\", \"Arxiv\": \"https://arxiv.org/abs/1709.09820\", \"Official_Code\": \"-\", \"Watches\": null, \"Stars\": null, \"Forks\": null, \"hasgan\": 1, \"cum_gans\": 187, \"Day\": 1, \"Date\": \"2017-09-01T00:00:00\"}, {\"Year\": 2017, \"Month\": 9, \"Abbr.\": \"GraspGAN\", \"Title\": \"Using Simulation and Domain Adaptation to Improve Efficiency of Deep Robotic Grasping\", \"Arxiv\": \"https://arxiv.org/abs/1709.07857\", \"Official_Code\": \"-\", \"Watches\": null, \"Stars\": null, \"Forks\": null, \"hasgan\": 1, \"cum_gans\": 188, \"Day\": 1, \"Date\": \"2017-09-01T00:00:00\"}, {\"Year\": 2017, \"Month\": 9, \"Abbr.\": \"LDAN\", \"Title\": \"Label Denoising Adversarial Network (LDAN) for Inverse Lighting of Face Images\", \"Arxiv\": \"https://arxiv.org/abs/1709.01993\", \"Official_Code\": \"-\", \"Watches\": null, \"Stars\": null, \"Forks\": null, \"hasgan\": 1, \"cum_gans\": 189, \"Day\": 1, \"Date\": \"2017-09-01T00:00:00\"}, {\"Year\": 2017, \"Month\": 9, \"Abbr.\": \"LeakGAN\", \"Title\": \"Long Text Generation via Adversarial Training with Leaked Information\", \"Arxiv\": \"https://arxiv.org/abs/1709.08624\", \"Official_Code\": \"-\", \"Watches\": null, \"Stars\": null, \"Forks\": null, \"hasgan\": 1, \"cum_gans\": 190, \"Day\": 1, \"Date\": \"2017-09-01T00:00:00\"}, {\"Year\": 2017, \"Month\": 9, \"Abbr.\": \"MD-GAN\", \"Title\": \"Learning to Generate Time-Lapse Videos Using Multi-Stage Dynamic Generative Adversarial Networks\", \"Arxiv\": \"https://arxiv.org/abs/1709.07592\", \"Official_Code\": \"-\", \"Watches\": null, \"Stars\": null, \"Forks\": null, \"hasgan\": 1, \"cum_gans\": 191, \"Day\": 1, \"Date\": \"2017-09-01T00:00:00\"}, {\"Year\": 2017, \"Month\": 9, \"Abbr.\": \"MuseGAN\", \"Title\": \"MuseGAN: Symbolic-domain Music Generation and Accompaniment with Multi-track Sequential Generative Adversarial Networks\", \"Arxiv\": \"https://arxiv.org/abs/1709.06298\", \"Official_Code\": \"-\", \"Watches\": null, \"Stars\": null, \"Forks\": null, \"hasgan\": 1, \"cum_gans\": 192, \"Day\": 1, \"Date\": \"2017-09-01T00:00:00\"}, {\"Year\": 2017, \"Month\": 9, \"Abbr.\": \"OptionGAN\", \"Title\": \"OptionGAN: Learning Joint Reward-Policy Options using Generative Adversarial Inverse Reinforcement Learning\", \"Arxiv\": \"https://arxiv.org/abs/1709.06683\", \"Official_Code\": \"-\", \"Watches\": null, \"Stars\": null, \"Forks\": null, \"hasgan\": 1, \"cum_gans\": 193, \"Day\": 1, \"Date\": \"2017-09-01T00:00:00\"}, {\"Year\": 2017, \"Month\": 9, \"Abbr.\": \"PassGAN\", \"Title\": \"PassGAN: A Deep Learning Approach for Password Guessing\", \"Arxiv\": \"https://arxiv.org/abs/1709.00440\", \"Official_Code\": \"-\", \"Watches\": null, \"Stars\": null, \"Forks\": null, \"hasgan\": 1, \"cum_gans\": 194, \"Day\": 1, \"Date\": \"2017-09-01T00:00:00\"}, {\"Year\": 2017, \"Month\": 9, \"Abbr.\": \"RefineGAN\", \"Title\": \"Compressed Sensing MRI Reconstruction with Cyclic Loss in Generative Adversarial Networks\", \"Arxiv\": \"https://arxiv.org/abs/1709.00753\", \"Official_Code\": \"-\", \"Watches\": null, \"Stars\": null, \"Forks\": null, \"hasgan\": 1, \"cum_gans\": 195, \"Day\": 1, \"Date\": \"2017-09-01T00:00:00\"}, {\"Year\": 2017, \"Month\": 9, \"Abbr.\": \"Splitting GAN\", \"Title\": \"Class-Splitting Generative Adversarial Networks\", \"Arxiv\": \"https://arxiv.org/abs/1709.07359\", \"Official_Code\": \"-\", \"Watches\": null, \"Stars\": null, \"Forks\": null, \"hasgan\": 1, \"cum_gans\": 196, \"Day\": 1, \"Date\": \"2017-09-01T00:00:00\"}, {\"Year\": 2017, \"Month\": 9, \"Abbr.\": \"\\u0394-GAN\", \"Title\": \"Triangle Generative Adversarial Networks\", \"Arxiv\": \"https://arxiv.org/abs/1709.06548\", \"Official_Code\": \"-\", \"Watches\": null, \"Stars\": null, \"Forks\": null, \"hasgan\": 1, \"cum_gans\": 197, \"Day\": 1, \"Date\": \"2017-09-01T00:00:00\"}, {\"Year\": 2017, \"Month\": 10, \"Abbr.\": \"CM-GAN\", \"Title\": \"CM-GANs: Cross-modal Generative Adversarial Networks for Common Representation Learning\", \"Arxiv\": \"https://arxiv.org/abs/1710.05106\", \"Official_Code\": \"-\", \"Watches\": null, \"Stars\": null, \"Forks\": null, \"hasgan\": 1, \"cum_gans\": 198, \"Day\": 1, \"Date\": \"2017-10-01T00:00:00\"}, {\"Year\": 2017, \"Month\": 10, \"Abbr.\": \"GAN-ATV\", \"Title\": \"A Novel Approach to Artistic Textual Visualization via GAN\", \"Arxiv\": \"https://arxiv.org/abs/1710.10553\", \"Official_Code\": \"-\", \"Watches\": null, \"Stars\": null, \"Forks\": null, \"hasgan\": 1, \"cum_gans\": 199, \"Day\": 1, \"Date\": \"2017-10-01T00:00:00\"}, {\"Year\": 2017, \"Month\": 10, \"Abbr.\": \"GAP\", \"Title\": \"Context-Aware Generative Adversarial Privacy\", \"Arxiv\": \"https://arxiv.org/abs/1710.09549\", \"Official_Code\": \"-\", \"Watches\": null, \"Stars\": null, \"Forks\": null, \"hasgan\": 1, \"cum_gans\": 200, \"Day\": 1, \"Date\": \"2017-10-01T00:00:00\"}, {\"Year\": 2017, \"Month\": 10, \"Abbr.\": \"GP-GAN\", \"Title\": \"GP-GAN: Gender Preserving GAN for Synthesizing Faces from Landmarks\", \"Arxiv\": \"https://arxiv.org/abs/1710.00962\", \"Official_Code\": \"-\", \"Watches\": null, \"Stars\": null, \"Forks\": null, \"hasgan\": 1, \"cum_gans\": 201, \"Day\": 1, \"Date\": \"2017-10-01T00:00:00\"}, {\"Year\": 2017, \"Month\": 10, \"Abbr.\": \"Progressive GAN\", \"Title\": \"Progressive Growing of GANs for Improved Quality, Stability, and Variation\", \"Arxiv\": \"https://arxiv.org/abs/1710.10196\", \"Official_Code\": \"https://github.com/tkarras/progressive_growing_of_gans\", \"Watches\": 232.0, \"Stars\": 3146.0, \"Forks\": 529.0, \"hasgan\": 1, \"cum_gans\": 202, \"Day\": 1, \"Date\": \"2017-10-01T00:00:00\"}, {\"Year\": 2017, \"Month\": 10, \"Abbr.\": \"PS\\u00b2-GAN\", \"Title\": \"High-Quality Facial Photo-Sketch Synthesis Using Multi-Adversarial Networks\", \"Arxiv\": \"https://arxiv.org/abs/1710.10182\", \"Official_Code\": \"-\", \"Watches\": null, \"Stars\": null, \"Forks\": null, \"hasgan\": 1, \"cum_gans\": 203, \"Day\": 1, \"Date\": \"2017-10-01T00:00:00\"}, {\"Year\": 2017, \"Month\": 10, \"Abbr.\": \"SVSGAN\", \"Title\": \"SVSGAN: Singing Voice Separation via Generative Adversarial Network\", \"Arxiv\": \"https://arxiv.org/abs/1710.11428\", \"Official_Code\": \"-\", \"Watches\": null, \"Stars\": null, \"Forks\": null, \"hasgan\": 1, \"cum_gans\": 204, \"Day\": 1, \"Date\": \"2017-10-01T00:00:00\"}, {\"Year\": 2017, \"Month\": 10, \"Abbr.\": \"TGAN\", \"Title\": \"Tensorizing Generative Adversarial Nets\", \"Arxiv\": \"https://arxiv.org/abs/1710.10772\", \"Official_Code\": \"-\", \"Watches\": null, \"Stars\": null, \"Forks\": null, \"hasgan\": 1, \"cum_gans\": 205, \"Day\": 1, \"Date\": \"2017-10-01T00:00:00\"}, {\"Year\": 2017, \"Month\": 11, \"Abbr.\": \"3D-ED-GAN\", \"Title\": \"Shape Inpainting using 3D Generative Adversarial Network and Recurrent Convolutional Networks\", \"Arxiv\": \"https://arxiv.org/abs/1711.06375\", \"Official_Code\": \"-\", \"Watches\": null, \"Stars\": null, \"Forks\": null, \"hasgan\": 1, \"cum_gans\": 206, \"Day\": 1, \"Date\": \"2017-11-01T00:00:00\"}, {\"Year\": 2017, \"Month\": 11, \"Abbr.\": \"ABC-GAN\", \"Title\": \"GANs for LIFE: Generative Adversarial Networks for Likelihood Free Inference\", \"Arxiv\": \"https://arxiv.org/abs/1711.11139\", \"Official_Code\": \"-\", \"Watches\": null, \"Stars\": null, \"Forks\": null, \"hasgan\": 1, \"cum_gans\": 207, \"Day\": 1, \"Date\": \"2017-11-01T00:00:00\"}, {\"Year\": 2017, \"Month\": 11, \"Abbr.\": \"ACtuAL\", \"Title\": \"ACtuAL: Actor-Critic Under Adversarial Learning\", \"Arxiv\": \"https://arxiv.org/abs/1711.04755\", \"Official_Code\": \"-\", \"Watches\": null, \"Stars\": null, \"Forks\": null, \"hasgan\": 1, \"cum_gans\": 208, \"Day\": 1, \"Date\": \"2017-11-01T00:00:00\"}, {\"Year\": 2017, \"Month\": 11, \"Abbr.\": \"AttGAN\", \"Title\": \"Arbitrary Facial Attribute Editing: Only Change What You Want\", \"Arxiv\": \"https://arxiv.org/abs/1711.10678\", \"Official_Code\": \"https://github.com/LynnHo/AttGAN-Tensorflow\", \"Watches\": 11.0, \"Stars\": 158.0, \"Forks\": 19.0, \"hasgan\": 1, \"cum_gans\": 209, \"Day\": 1, \"Date\": \"2017-11-01T00:00:00\"}, {\"Year\": 2017, \"Month\": 11, \"Abbr.\": \"AttnGAN\", \"Title\": \"AttnGAN: Fine-Grained Text to Image Generation with Attentional Generative Adversarial Networks\", \"Arxiv\": \"https://arxiv.org/abs/1711.10485\", \"Official_Code\": \"https://github.com/taoxugit/AttnGAN\", \"Watches\": 27.0, \"Stars\": 420.0, \"Forks\": 97.0, \"hasgan\": 1, \"cum_gans\": 210, \"Day\": 1, \"Date\": \"2017-11-01T00:00:00\"}, {\"Year\": 2017, \"Month\": 11, \"Abbr.\": \"BCGAN\", \"Title\": \"Bidirectional Conditional Generative Adversarial networks\", \"Arxiv\": \"https://arxiv.org/abs/1711.07461\", \"Official_Code\": \"-\", \"Watches\": null, \"Stars\": null, \"Forks\": null, \"hasgan\": 1, \"cum_gans\": 211, \"Day\": 1, \"Date\": \"2017-11-01T00:00:00\"}, {\"Year\": 2017, \"Month\": 11, \"Abbr.\": \"BicycleGAN\", \"Title\": \"Toward Multimodal Image-to-Image Translation\", \"Arxiv\": \"https://arxiv.org/abs/1711.11586\", \"Official_Code\": \"https://github.com/junyanz/BicycleGAN\", \"Watches\": 30.0, \"Stars\": 696.0, \"Forks\": 113.0, \"hasgan\": 1, \"cum_gans\": 212, \"Day\": 1, \"Date\": \"2017-11-01T00:00:00\"}, {\"Year\": 2017, \"Month\": 11, \"Abbr.\": \"CatGAN\", \"Title\": \"CatGAN: Coupled Adversarial Transfer for Domain Generation\", \"Arxiv\": \"https://arxiv.org/abs/1711.08904\", \"Official_Code\": \"-\", \"Watches\": null, \"Stars\": null, \"Forks\": null, \"hasgan\": 1, \"cum_gans\": 213, \"Day\": 1, \"Date\": \"2017-11-01T00:00:00\"}, {\"Year\": 2017, \"Month\": 11, \"Abbr.\": \"CoAtt-GAN\", \"Title\": \"Are You Talking to Me? Reasoned Visual Dialog Generation through Adversarial Learning\", \"Arxiv\": \"https://arxiv.org/abs/1711.07613\", \"Official_Code\": \"-\", \"Watches\": null, \"Stars\": null, \"Forks\": null, \"hasgan\": 1, \"cum_gans\": 214, \"Day\": 1, \"Date\": \"2017-11-01T00:00:00\"}, {\"Year\": 2017, \"Month\": 11, \"Abbr.\": \"ConceptGAN\", \"Title\": \"Learning Compositional Visual Concepts with Mutual Consistency\", \"Arxiv\": \"https://arxiv.org/abs/1711.06148\", \"Official_Code\": \"-\", \"Watches\": null, \"Stars\": null, \"Forks\": null, \"hasgan\": 1, \"cum_gans\": 215, \"Day\": 1, \"Date\": \"2017-11-01T00:00:00\"}, {\"Year\": 2017, \"Month\": 11, \"Abbr.\": \"Cover-GAN\", \"Title\": \"Generative Steganography with Kerckhoffs' Principle based on Generative Adversarial Networks\", \"Arxiv\": \"https://arxiv.org/abs/1711.04916\", \"Official_Code\": \"-\", \"Watches\": null, \"Stars\": null, \"Forks\": null, \"hasgan\": 1, \"cum_gans\": 216, \"Day\": 1, \"Date\": \"2017-11-01T00:00:00\"}, {\"Year\": 2017, \"Month\": 11, \"Abbr.\": \"D-GAN\", \"Title\": \"Differential Generative Adversarial Networks: Synthesizing Non-linear Facial Variations with Limited Number of Training Data\", \"Arxiv\": \"https://arxiv.org/abs/1711.10267\", \"Official_Code\": \"-\", \"Watches\": null, \"Stars\": null, \"Forks\": null, \"hasgan\": 1, \"cum_gans\": 217, \"Day\": 1, \"Date\": \"2017-11-01T00:00:00\"}, {\"Year\": 2017, \"Month\": 11, \"Abbr.\": \"DAGAN\", \"Title\": \"Data Augmentation Generative Adversarial Networks\", \"Arxiv\": \"https://arxiv.org/abs/1711.04340\", \"Official_Code\": \"-\", \"Watches\": null, \"Stars\": null, \"Forks\": null, \"hasgan\": 1, \"cum_gans\": 218, \"Day\": 1, \"Date\": \"2017-11-01T00:00:00\"}, {\"Year\": 2017, \"Month\": 11, \"Abbr.\": \"DeblurGAN\", \"Title\": \"DeblurGAN: Blind Motion Deblurring Using Conditional Adversarial Networks\", \"Arxiv\": \"https://arxiv.org/abs/1711.07064\", \"Official_Code\": \"https://github.com/KupynOrest/DeblurGAN\", \"Watches\": 35.0, \"Stars\": 971.0, \"Forks\": 204.0, \"hasgan\": 1, \"cum_gans\": 219, \"Day\": 1, \"Date\": \"2017-11-01T00:00:00\"}, {\"Year\": 2017, \"Month\": 11, \"Abbr.\": \"DNA-GAN\", \"Title\": \"DNA-GAN: Learning Disentangled Representations from Multi-Attribute Images\", \"Arxiv\": \"https://arxiv.org/abs/1711.05415\", \"Official_Code\": \"-\", \"Watches\": null, \"Stars\": null, \"Forks\": null, \"hasgan\": 1, \"cum_gans\": 220, \"Day\": 1, \"Date\": \"2017-11-01T00:00:00\"}, {\"Year\": 2017, \"Month\": 11, \"Abbr.\": \"DRPAN\", \"Title\": \"Discriminative Region Proposal Adversarial Networks for High-Quality Image-to-Image Translation\", \"Arxiv\": \"https://arxiv.org/abs/1711.09554\", \"Official_Code\": \"-\", \"Watches\": null, \"Stars\": null, \"Forks\": null, \"hasgan\": 1, \"cum_gans\": 221, \"Day\": 1, \"Date\": \"2017-11-01T00:00:00\"}, {\"Year\": 2017, \"Month\": 11, \"Abbr.\": \"FIGAN\", \"Title\": \"Frame Interpolation with Multi-Scale Deep Loss Functions and Generative Adversarial Networks\", \"Arxiv\": \"https://arxiv.org/abs/1711.06045\", \"Official_Code\": \"-\", \"Watches\": null, \"Stars\": null, \"Forks\": null, \"hasgan\": 1, \"cum_gans\": 222, \"Day\": 1, \"Date\": \"2017-11-01T00:00:00\"}, {\"Year\": 2017, \"Month\": 11, \"Abbr.\": \"FSEGAN\", \"Title\": \"Exploring Speech Enhancement with Generative Adversarial Networks for Robust Speech Recognition\", \"Arxiv\": \"https://arxiv.org/abs/1711.05747\", \"Official_Code\": \"-\", \"Watches\": null, \"Stars\": null, \"Forks\": null, \"hasgan\": 1, \"cum_gans\": 223, \"Day\": 1, \"Date\": \"2017-11-01T00:00:00\"}, {\"Year\": 2017, \"Month\": 11, \"Abbr.\": \"FTGAN\", \"Title\": \"Hierarchical Video Generation from Orthogonal Information: Optical Flow and Texture\", \"Arxiv\": \"https://arxiv.org/abs/1711.09618\", \"Official_Code\": \"-\", \"Watches\": null, \"Stars\": null, \"Forks\": null, \"hasgan\": 1, \"cum_gans\": 224, \"Day\": 1, \"Date\": \"2017-11-01T00:00:00\"}, {\"Year\": 2017, \"Month\": 11, \"Abbr.\": \"GANDI\", \"Title\": \"Guiding the search in continuous state-action spaces by learning an action sampling distribution from off-target samples\", \"Arxiv\": \"https://arxiv.org/abs/1711.01391\", \"Official_Code\": \"-\", \"Watches\": null, \"Stars\": null, \"Forks\": null, \"hasgan\": 1, \"cum_gans\": 225, \"Day\": 1, \"Date\": \"2017-11-01T00:00:00\"}, {\"Year\": 2017, \"Month\": 11, \"Abbr.\": \"GPU\", \"Title\": \"A generative adversarial framework for positive-unlabeled classification\", \"Arxiv\": \"https://arxiv.org/abs/1711.08054\", \"Official_Code\": \"-\", \"Watches\": null, \"Stars\": null, \"Forks\": null, \"hasgan\": 1, \"cum_gans\": 226, \"Day\": 1, \"Date\": \"2017-11-01T00:00:00\"}, {\"Year\": 2017, \"Month\": 11, \"Abbr.\": \"HAN\", \"Title\": \"Chinese Typeface Transformation with Hierarchical Adversarial Network\", \"Arxiv\": \"https://arxiv.org/abs/1711.06448\", \"Official_Code\": \"-\", \"Watches\": null, \"Stars\": null, \"Forks\": null, \"hasgan\": 1, \"cum_gans\": 227, \"Day\": 1, \"Date\": \"2017-11-01T00:00:00\"}, {\"Year\": 2017, \"Month\": 11, \"Abbr.\": \"HP-GAN\", \"Title\": \"HP-GAN: Probabilistic 3D human motion prediction via GAN\", \"Arxiv\": \"https://arxiv.org/abs/1711.09561\", \"Official_Code\": \"-\", \"Watches\": null, \"Stars\": null, \"Forks\": null, \"hasgan\": 1, \"cum_gans\": 228, \"Day\": 1, \"Date\": \"2017-11-01T00:00:00\"}, {\"Year\": 2017, \"Month\": 11, \"Abbr.\": \"HR-DCGAN\", \"Title\": \"High-Resolution Deep Convolutional Generative Adversarial Networks\", \"Arxiv\": \"https://arxiv.org/abs/1711.06491\", \"Official_Code\": \"-\", \"Watches\": null, \"Stars\": null, \"Forks\": null, \"hasgan\": 1, \"cum_gans\": 229, \"Day\": 1, \"Date\": \"2017-11-01T00:00:00\"}, {\"Year\": 2017, \"Month\": 11, \"Abbr.\": \"IFcVAEGAN\", \"Title\": \"Conditional Autoencoders with Adversarial Information Factorization\", \"Arxiv\": \"https://arxiv.org/abs/1711.05175\", \"Official_Code\": \"-\", \"Watches\": null, \"Stars\": null, \"Forks\": null, \"hasgan\": 1, \"cum_gans\": 230, \"Day\": 1, \"Date\": \"2017-11-01T00:00:00\"}, {\"Year\": 2017, \"Month\": 11, \"Abbr.\": \"In2I\", \"Title\": \"In2I : Unsupervised Multi-Image-to-Image Translation Using Generative Adversarial Networks\", \"Arxiv\": \"https://arxiv.org/abs/1711.09334\", \"Official_Code\": \"-\", \"Watches\": null, \"Stars\": null, \"Forks\": null, \"hasgan\": 1, \"cum_gans\": 231, \"Day\": 1, \"Date\": \"2017-11-01T00:00:00\"}, {\"Year\": 2017, \"Month\": 11, \"Abbr.\": \"Iterative-GAN\", \"Title\": \"Two Birds with One Stone: Iteratively Learn Facial Attributes with GANs\", \"Arxiv\": \"https://arxiv.org/abs/1711.06078\", \"Official_Code\": \"https://github.com/punkcure/Iterative-GAN\", \"Watches\": 1.0, \"Stars\": 8.0, \"Forks\": 4.0, \"hasgan\": 1, \"cum_gans\": 232, \"Day\": 1, \"Date\": \"2017-11-01T00:00:00\"}, {\"Year\": 2017, \"Month\": 11, \"Abbr.\": \"IVE-GAN\", \"Title\": \"IVE-GAN: Invariant Encoding Generative Adversarial Networks\", \"Arxiv\": \"https://arxiv.org/abs/1711.08646\", \"Official_Code\": \"-\", \"Watches\": null, \"Stars\": null, \"Forks\": null, \"hasgan\": 1, \"cum_gans\": 233, \"Day\": 1, \"Date\": \"2017-11-01T00:00:00\"}, {\"Year\": 2017, \"Month\": 11, \"Abbr.\": \"iVGAN\", \"Title\": \"Towards an Understanding of Our World by GANing Videos in the Wild\", \"Arxiv\": \"https://arxiv.org/abs/1711.11453\", \"Official_Code\": \"https://github.com/bernhard2202/improved-video-gan\", \"Watches\": 7.0, \"Stars\": 290.0, \"Forks\": 28.0, \"hasgan\": 1, \"cum_gans\": 234, \"Day\": 1, \"Date\": \"2017-11-01T00:00:00\"}, {\"Year\": 2017, \"Month\": 11, \"Abbr.\": \"KBGAN\", \"Title\": \"KBGAN: Adversarial Learning for Knowledge Graph Embeddings\", \"Arxiv\": \"https://arxiv.org/abs/1711.04071\", \"Official_Code\": \"-\", \"Watches\": null, \"Stars\": null, \"Forks\": null, \"hasgan\": 1, \"cum_gans\": 235, \"Day\": 1, \"Date\": \"2017-11-01T00:00:00\"}, {\"Year\": 2017, \"Month\": 11, \"Abbr.\": \"KGAN\", \"Title\": \"KGAN: How to Break The Minimax Game in GAN\", \"Arxiv\": \"https://arxiv.org/abs/1711.01744\", \"Official_Code\": \"-\", \"Watches\": null, \"Stars\": null, \"Forks\": null, \"hasgan\": 1, \"cum_gans\": 236, \"Day\": 1, \"Date\": \"2017-11-01T00:00:00\"}, {\"Year\": 2017, \"Month\": 11, \"Abbr.\": \"LGAN\", \"Title\": \"Global versus Localized Generative Adversarial Nets\", \"Arxiv\": \"https://arxiv.org/abs/1711.06020\", \"Official_Code\": \"-\", \"Watches\": null, \"Stars\": null, \"Forks\": null, \"hasgan\": 1, \"cum_gans\": 237, \"Day\": 1, \"Date\": \"2017-11-01T00:00:00\"}, {\"Year\": 2017, \"Month\": 11, \"Abbr.\": \"MLGAN\", \"Title\": \"Metric Learning-based Generative Adversarial Network\", \"Arxiv\": \"https://arxiv.org/abs/1711.02792\", \"Official_Code\": \"-\", \"Watches\": null, \"Stars\": null, \"Forks\": null, \"hasgan\": 1, \"cum_gans\": 238, \"Day\": 1, \"Date\": \"2017-11-01T00:00:00\"}, {\"Year\": 2017, \"Month\": 11, \"Abbr.\": \"ORGAN\", \"Title\": \"3D Reconstruction of Incomplete Archaeological Objects Using a Generative Adversary Network\", \"Arxiv\": \"https://arxiv.org/abs/1711.06363\", \"Official_Code\": \"-\", \"Watches\": null, \"Stars\": null, \"Forks\": null, \"hasgan\": 1, \"cum_gans\": 239, \"Day\": 1, \"Date\": \"2017-11-01T00:00:00\"}, {\"Year\": 2017, \"Month\": 11, \"Abbr.\": \"Pip-GAN\", \"Title\": \"Pipeline Generative Adversarial Networks for Facial Images Generation with Multiple Attributes\", \"Arxiv\": \"https://arxiv.org/abs/1711.10742\", \"Official_Code\": \"-\", \"Watches\": null, \"Stars\": null, \"Forks\": null, \"hasgan\": 1, \"cum_gans\": 240, \"Day\": 1, \"Date\": \"2017-11-01T00:00:00\"}, {\"Year\": 2017, \"Month\": 11, \"Abbr.\": \"pix2pixHD\", \"Title\": \"High-Resolution Image Synthesis and Semantic Manipulation with Conditional GANs\", \"Arxiv\": \"https://arxiv.org/abs/1711.11585\", \"Official_Code\": \"https://github.com/NVIDIA/pix2pixHD\", \"Watches\": 116.0, \"Stars\": 2426.0, \"Forks\": 424.0, \"hasgan\": 1, \"cum_gans\": 241, \"Day\": 1, \"Date\": \"2017-11-01T00:00:00\"}, {\"Year\": 2017, \"Month\": 11, \"Abbr.\": \"Sobolev GAN\", \"Title\": \"Sobolev GAN\", \"Arxiv\": \"https://arxiv.org/abs/1711.04894\", \"Official_Code\": \"-\", \"Watches\": null, \"Stars\": null, \"Forks\": null, \"hasgan\": 1, \"cum_gans\": 242, \"Day\": 1, \"Date\": \"2017-11-01T00:00:00\"}, {\"Year\": 2017, \"Month\": 11, \"Abbr.\": \"StarGAN\", \"Title\": \"StarGAN: Unified Generative Adversarial Networks for Multi-Domain Image-to-Image Translation\", \"Arxiv\": \"https://arxiv.org/abs/1711.09020\", \"Official_Code\": \"https://github.com/yunjey/StarGAN\", \"Watches\": 109.0, \"Stars\": 3047.0, \"Forks\": 491.0, \"hasgan\": 1, \"cum_gans\": 243, \"Day\": 1, \"Date\": \"2017-11-01T00:00:00\"}, {\"Year\": 2017, \"Month\": 11, \"Abbr.\": \"TGAN\", \"Title\": \"Tensor-Generative Adversarial Network with Two-dimensional Sparse Coding: Application to Real-time Indoor Localization\", \"Arxiv\": \"https://arxiv.org/abs/1711.02666\", \"Official_Code\": \"-\", \"Watches\": null, \"Stars\": null, \"Forks\": null, \"hasgan\": 1, \"cum_gans\": 244, \"Day\": 1, \"Date\": \"2017-11-01T00:00:00\"}, {\"Year\": 2017, \"Month\": 11, \"Abbr.\": \"tripletGAN\", \"Title\": \"TripletGAN: Training Generative Model with Triplet Loss\", \"Arxiv\": \"https://arxiv.org/abs/1711.05084\", \"Official_Code\": \"-\", \"Watches\": null, \"Stars\": null, \"Forks\": null, \"hasgan\": 1, \"cum_gans\": 245, \"Day\": 1, \"Date\": \"2017-11-01T00:00:00\"}, {\"Year\": 2017, \"Month\": 11, \"Abbr.\": \"VA-GAN\", \"Title\": \"Visual Feature Attribution using Wasserstein GANs\", \"Arxiv\": \"https://arxiv.org/abs/1711.08998\", \"Official_Code\": \"-\", \"Watches\": null, \"Stars\": null, \"Forks\": null, \"hasgan\": 1, \"cum_gans\": 246, \"Day\": 1, \"Date\": \"2017-11-01T00:00:00\"}, {\"Year\": 2017, \"Month\": 11, \"Abbr.\": \"XGAN\", \"Title\": \"XGAN: Unsupervised Image-to-Image Translation for many-to-many Mappings\", \"Arxiv\": \"https://arxiv.org/abs/1711.05139\", \"Official_Code\": \"-\", \"Watches\": null, \"Stars\": null, \"Forks\": null, \"hasgan\": 1, \"cum_gans\": 247, \"Day\": 1, \"Date\": \"2017-11-01T00:00:00\"}, {\"Year\": 2017, \"Month\": 11, \"Abbr.\": \"ZipNet-GAN\", \"Title\": \"ZipNet-GAN: Inferring Fine-grained Mobile Traffic Patterns via a Generative Adversarial Neural Network\", \"Arxiv\": \"https://arxiv.org/abs/1711.02413\", \"Official_Code\": \"-\", \"Watches\": null, \"Stars\": null, \"Forks\": null, \"hasgan\": 1, \"cum_gans\": 248, \"Day\": 1, \"Date\": \"2017-11-01T00:00:00\"}, {\"Year\": 2017, \"Month\": 12, \"Abbr.\": \"ACGAN\", \"Title\": \"Coverless Information Hiding Based on Generative adversarial networks\", \"Arxiv\": \"https://arxiv.org/abs/1712.06951\", \"Official_Code\": \"-\", \"Watches\": null, \"Stars\": null, \"Forks\": null, \"hasgan\": 1, \"cum_gans\": 249, \"Day\": 1, \"Date\": \"2017-12-01T00:00:00\"}, {\"Year\": 2017, \"Month\": 12, \"Abbr.\": \"CA-GAN\", \"Title\": \"Composition-aided Sketch-realistic Portrait Generation\", \"Arxiv\": \"https://arxiv.org/abs/1712.00899\", \"Official_Code\": \"-\", \"Watches\": null, \"Stars\": null, \"Forks\": null, \"hasgan\": 1, \"cum_gans\": 250, \"Day\": 1, \"Date\": \"2017-12-01T00:00:00\"}, {\"Year\": 2017, \"Month\": 12, \"Abbr.\": \"ComboGAN\", \"Title\": \"ComboGAN: Unrestrained Scalability for Image Domain Translation\", \"Arxiv\": \"https://arxiv.org/abs/1712.06909\", \"Official_Code\": \"https://github.com/AAnoosheh/ComboGAN\", \"Watches\": 5.0, \"Stars\": 84.0, \"Forks\": 15.0, \"hasgan\": 1, \"cum_gans\": 251, \"Day\": 1, \"Date\": \"2017-12-01T00:00:00\"}, {\"Year\": 2017, \"Month\": 12, \"Abbr.\": \"DF-GAN\", \"Title\": \"Learning Disentangling and Fusing Networks for Face Completion Under Structured Occlusions\", \"Arxiv\": \"https://arxiv.org/abs/1712.04646\", \"Official_Code\": \"-\", \"Watches\": null, \"Stars\": null, \"Forks\": null, \"hasgan\": 1, \"cum_gans\": 252, \"Day\": 1, \"Date\": \"2017-12-01T00:00:00\"}, {\"Year\": 2017, \"Month\": 12, \"Abbr.\": \"Dynamics Transfer GAN\", \"Title\": \"Dynamics Transfer GAN: Generating Video by Transferring Arbitrary Temporal Dynamics from a Source Video to a Single Target Image\", \"Arxiv\": \"https://arxiv.org/abs/1712.03534\", \"Official_Code\": \"-\", \"Watches\": null, \"Stars\": null, \"Forks\": null, \"hasgan\": 1, \"cum_gans\": 253, \"Day\": 1, \"Date\": \"2017-12-01T00:00:00\"}, {\"Year\": 2017, \"Month\": 12, \"Abbr.\": \"EnergyWGAN\", \"Title\": \"Energy-relaxed Wassertein GANs (EnergyWGAN): Towards More Stable and High Resolution Image Generation\", \"Arxiv\": \"https://arxiv.org/abs/1712.01026\", \"Official_Code\": \"-\", \"Watches\": null, \"Stars\": null, \"Forks\": null, \"hasgan\": 1, \"cum_gans\": 254, \"Day\": 1, \"Date\": \"2017-12-01T00:00:00\"}, {\"Year\": 2017, \"Month\": 12, \"Abbr.\": \"ExGAN\", \"Title\": \"Eye In-Painting with Exemplar Generative Adversarial Networks\", \"Arxiv\": \"https://arxiv.org/abs/1712.03999\", \"Official_Code\": \"-\", \"Watches\": null, \"Stars\": null, \"Forks\": null, \"hasgan\": 1, \"cum_gans\": 255, \"Day\": 1, \"Date\": \"2017-12-01T00:00:00\"}, {\"Year\": 2017, \"Month\": 12, \"Abbr.\": \"f-CLSWGAN\", \"Title\": \"Feature Generating Networks for Zero-Shot Learning\", \"Arxiv\": \"https://arxiv.org/abs/1712.00981\", \"Official_Code\": \"-\", \"Watches\": null, \"Stars\": null, \"Forks\": null, \"hasgan\": 1, \"cum_gans\": 256, \"Day\": 1, \"Date\": \"2017-12-01T00:00:00\"}, {\"Year\": 2017, \"Month\": 12, \"Abbr.\": \"FusionGAN\", \"Title\": \"Learning to Fuse Music Genres with Generative Adversarial Dual Learning\", \"Arxiv\": \"https://arxiv.org/abs/1712.01456\", \"Official_Code\": \"-\", \"Watches\": null, \"Stars\": null, \"Forks\": null, \"hasgan\": 1, \"cum_gans\": 257, \"Day\": 1, \"Date\": \"2017-12-01T00:00:00\"}, {\"Year\": 2017, \"Month\": 12, \"Abbr.\": \"G2-GAN\", \"Title\": \"Geometry Guided Adversarial Facial Expression Synthesis\", \"Arxiv\": \"https://arxiv.org/abs/1712.03474\", \"Official_Code\": \"-\", \"Watches\": null, \"Stars\": null, \"Forks\": null, \"hasgan\": 1, \"cum_gans\": 258, \"Day\": 1, \"Date\": \"2017-12-01T00:00:00\"}, {\"Year\": 2017, \"Month\": 12, \"Abbr.\": \"GAGAN\", \"Title\": \"GAGAN: Geometry-Aware Generative Adverserial Networks\", \"Arxiv\": \"https://arxiv.org/abs/1712.00684\", \"Official_Code\": \"-\", \"Watches\": null, \"Stars\": null, \"Forks\": null, \"hasgan\": 1, \"cum_gans\": 259, \"Day\": 1, \"Date\": \"2017-12-01T00:00:00\"}, {\"Year\": 2017, \"Month\": 12, \"Abbr.\": \"GAN-RS\", \"Title\": \"Towards Qualitative Advancement of Underwater Machine Vision with Generative Adversarial Networks\", \"Arxiv\": \"https://arxiv.org/abs/1712.00736\", \"Official_Code\": \"-\", \"Watches\": null, \"Stars\": null, \"Forks\": null, \"hasgan\": 1, \"cum_gans\": 260, \"Day\": 1, \"Date\": \"2017-12-01T00:00:00\"}, {\"Year\": 2017, \"Month\": 12, \"Abbr.\": \"GANG\", \"Title\": \"GANGs: Generative Adversarial Network Games\", \"Arxiv\": \"https://arxiv.org/abs/1712.00679\", \"Official_Code\": \"-\", \"Watches\": null, \"Stars\": null, \"Forks\": null, \"hasgan\": 1, \"cum_gans\": 261, \"Day\": 1, \"Date\": \"2017-12-01T00:00:00\"}, {\"Year\": 2017, \"Month\": 12, \"Abbr.\": \"GANosaic\", \"Title\": \"GANosaic: Mosaic Creation with Generative Texture Manifolds\", \"Arxiv\": \"https://arxiv.org/abs/1712.00269\", \"Official_Code\": \"-\", \"Watches\": null, \"Stars\": null, \"Forks\": null, \"hasgan\": 1, \"cum_gans\": 262, \"Day\": 1, \"Date\": \"2017-12-01T00:00:00\"}, {\"Year\": 2017, \"Month\": 12, \"Abbr.\": \"IdCycleGAN\", \"Title\": \"Face Translation between Images and Videos using Identity-aware CycleGAN\", \"Arxiv\": \"https://arxiv.org/abs/1712.00971\", \"Official_Code\": \"-\", \"Watches\": null, \"Stars\": null, \"Forks\": null, \"hasgan\": 1, \"cum_gans\": 263, \"Day\": 1, \"Date\": \"2017-12-01T00:00:00\"}, {\"Year\": 2017, \"Month\": 12, \"Abbr.\": \"manifold-WGAN\", \"Title\": \"Manifold-valued Image Generation with Wasserstein Adversarial Networks\", \"Arxiv\": \"https://arxiv.org/abs/1712.01551\", \"Official_Code\": \"-\", \"Watches\": null, \"Stars\": null, \"Forks\": null, \"hasgan\": 1, \"cum_gans\": 264, \"Day\": 1, \"Date\": \"2017-12-01T00:00:00\"}, {\"Year\": 2017, \"Month\": 12, \"Abbr.\": \"MC-GAN\", \"Title\": \"Multi-Content GAN for Few-Shot Font Style Transfer\", \"Arxiv\": \"https://arxiv.org/abs/1712.00516\", \"Official_Code\": \"https://github.com/azadis/MC-GAN\", \"Watches\": 9.0, \"Stars\": 167.0, \"Forks\": 54.0, \"hasgan\": 1, \"cum_gans\": 265, \"Day\": 1, \"Date\": \"2017-12-01T00:00:00\"}, {\"Year\": 2017, \"Month\": 12, \"Abbr.\": \"MIL-GAN\", \"Title\": \"Multimodal Storytelling via Generative Adversarial Imitation Learning\", \"Arxiv\": \"https://arxiv.org/abs/1712.01455\", \"Official_Code\": \"-\", \"Watches\": null, \"Stars\": null, \"Forks\": null, \"hasgan\": 1, \"cum_gans\": 266, \"Day\": 1, \"Date\": \"2017-12-01T00:00:00\"}, {\"Year\": 2017, \"Month\": 12, \"Abbr.\": \"MS-GAN\", \"Title\": \"Temporal Coherency based Criteria for Predicting Video Frames using Deep Multi-stage Generative Adversarial Networks\", \"Arxiv\": \"http://papers.nips.cc/paper/7014-temporal-coherency-based-criteria-for-predicting-video-frames-using-deep-multi-stage-generative-adversarial-networks\", \"Official_Code\": \"-\", \"Watches\": null, \"Stars\": null, \"Forks\": null, \"hasgan\": 1, \"cum_gans\": 267, \"Day\": 1, \"Date\": \"2017-12-01T00:00:00\"}, {\"Year\": 2017, \"Month\": 12, \"Abbr.\": \"PacGAN\", \"Title\": \"PacGAN: The power of two samples in generative adversarial networks\", \"Arxiv\": \"https://arxiv.org/abs/1712.04086\", \"Official_Code\": \"-\", \"Watches\": null, \"Stars\": null, \"Forks\": null, \"hasgan\": 1, \"cum_gans\": 268, \"Day\": 1, \"Date\": \"2017-12-01T00:00:00\"}, {\"Year\": 2017, \"Month\": 12, \"Abbr.\": \"PN-GAN\", \"Title\": \"Pose-Normalized Image Generation for Person Re-identification\", \"Arxiv\": \"https://arxiv.org/abs/1712.02225\", \"Official_Code\": \"-\", \"Watches\": null, \"Stars\": null, \"Forks\": null, \"hasgan\": 1, \"cum_gans\": 269, \"Day\": 1, \"Date\": \"2017-12-01T00:00:00\"}, {\"Year\": 2017, \"Month\": 12, \"Abbr.\": \"PPAN\", \"Title\": \"Privacy-Preserving Adversarial Networks\", \"Arxiv\": \"https://arxiv.org/abs/1712.07008\", \"Official_Code\": \"-\", \"Watches\": null, \"Stars\": null, \"Forks\": null, \"hasgan\": 1, \"cum_gans\": 270, \"Day\": 1, \"Date\": \"2017-12-01T00:00:00\"}, {\"Year\": 2017, \"Month\": 12, \"Abbr.\": \"RAN\", \"Title\": \"RAN4IQA: Restorative Adversarial Nets for No-Reference Image Quality Assessment\", \"Arxiv\": \"https://arxiv.org/abs/1712.05444\", \"Official_Code\": null, \"Watches\": null, \"Stars\": null, \"Forks\": null, \"hasgan\": 1, \"cum_gans\": 271, \"Day\": 1, \"Date\": \"2017-12-01T00:00:00\"}, {\"Year\": 2017, \"Month\": 12, \"Abbr.\": \"SGAN\", \"Title\": \"SGAN: An Alternative Training of Generative Adversarial Networks\", \"Arxiv\": \"https://arxiv.org/abs/1712.02330\", \"Official_Code\": \"-\", \"Watches\": null, \"Stars\": null, \"Forks\": null, \"hasgan\": 1, \"cum_gans\": 272, \"Day\": 1, \"Date\": \"2017-12-01T00:00:00\"}, {\"Year\": 2017, \"Month\": 12, \"Abbr.\": \"SRPGAN\", \"Title\": \"SRPGAN: Perceptual Generative Adversarial Network for Single Image Super Resolution\", \"Arxiv\": \"https://arxiv.org/abs/1712.05927\", \"Official_Code\": \"-\", \"Watches\": null, \"Stars\": null, \"Forks\": null, \"hasgan\": 1, \"cum_gans\": 273, \"Day\": 1, \"Date\": \"2017-12-01T00:00:00\"}, {\"Year\": 2017, \"Month\": 12, \"Abbr.\": \"ST-CGAN\", \"Title\": \"Stacked Conditional Generative Adversarial Networks for Jointly Learning Shadow Detection and Shadow Removal\", \"Arxiv\": \"https://arxiv.org/abs/1712.02478\", \"Official_Code\": \"-\", \"Watches\": null, \"Stars\": null, \"Forks\": null, \"hasgan\": 1, \"cum_gans\": 274, \"Day\": 1, \"Date\": \"2017-12-01T00:00:00\"}, {\"Year\": 2017, \"Month\": 12, \"Abbr.\": \"Super-FAN\", \"Title\": \"Super-FAN: Integrated facial landmark localization and super-resolution of real-world low resolution faces in arbitrary poses with GANs\", \"Arxiv\": \"https://arxiv.org/abs/1712.02765\", \"Official_Code\": \"-\", \"Watches\": null, \"Stars\": null, \"Forks\": null, \"hasgan\": 1, \"cum_gans\": 275, \"Day\": 1, \"Date\": \"2017-12-01T00:00:00\"}, {\"Year\": 2017, \"Month\": 12, \"Abbr.\": \"TV-GAN\", \"Title\": \"TV-GAN: Generative Adversarial Network Based Thermal to Visible Face Recognition\", \"Arxiv\": \"https://arxiv.org/abs/1712.02514\", \"Official_Code\": \"-\", \"Watches\": null, \"Stars\": null, \"Forks\": null, \"hasgan\": 1, \"cum_gans\": 276, \"Day\": 1, \"Date\": \"2017-12-01T00:00:00\"}, {\"Year\": 2017, \"Month\": 12, \"Abbr.\": \"UGACH\", \"Title\": \"Unsupervised Generative Adversarial Cross-modal Hashing\", \"Arxiv\": \"https://arxiv.org/abs/1712.00358\", \"Official_Code\": \"-\", \"Watches\": null, \"Stars\": null, \"Forks\": null, \"hasgan\": 1, \"cum_gans\": 277, \"Day\": 1, \"Date\": \"2017-12-01T00:00:00\"}, {\"Year\": 2017, \"Month\": 12, \"Abbr.\": \"UV-GAN\", \"Title\": \"UV-GAN: Adversarial Facial UV Map Completion for Pose-invariant Face Recognition\", \"Arxiv\": \"https://arxiv.org/abs/1712.04695\", \"Official_Code\": \"-\", \"Watches\": null, \"Stars\": null, \"Forks\": null, \"hasgan\": 1, \"cum_gans\": 278, \"Day\": 1, \"Date\": \"2017-12-01T00:00:00\"}, {\"Year\": 2017, \"Month\": 12, \"Abbr.\": \"VGAN\", \"Title\": \"Text Generation Based on Generative Adversarial Nets with Latent Variable\", \"Arxiv\": \"https://arxiv.org/abs/1712.00170\", \"Official_Code\": \"-\", \"Watches\": null, \"Stars\": null, \"Forks\": null, \"hasgan\": 1, \"cum_gans\": 279, \"Day\": 1, \"Date\": \"2017-12-01T00:00:00\"}, {\"Year\": 2017, \"Month\": 12, \"Abbr.\": \"weGAN\", \"Title\": \"Generative Adversarial Nets for Multiple Text Corpora\", \"Arxiv\": \"https://arxiv.org/abs/1712.09127\", \"Official_Code\": \"-\", \"Watches\": null, \"Stars\": null, \"Forks\": null, \"hasgan\": 1, \"cum_gans\": 280, \"Day\": 1, \"Date\": \"2017-12-01T00:00:00\"}, {\"Year\": 2018, \"Month\": 1, \"Abbr.\": \"AdvGAN\", \"Title\": \"Generating adversarial examples with adversarial networks\", \"Arxiv\": \"https://arxiv.org/abs/1801.02610\", \"Official_Code\": \"-\", \"Watches\": null, \"Stars\": null, \"Forks\": null, \"hasgan\": 1, \"cum_gans\": 281, \"Day\": 1, \"Date\": \"2018-01-01T00:00:00\"}, {\"Year\": 2018, \"Month\": 1, \"Abbr.\": \"CFG-GAN\", \"Title\": \"Composite Functional Gradient Learning of Generative Adversarial Models\", \"Arxiv\": \"https://arxiv.org/abs/1801.06309\", \"Official_Code\": \"-\", \"Watches\": null, \"Stars\": null, \"Forks\": null, \"hasgan\": 1, \"cum_gans\": 282, \"Day\": 1, \"Date\": \"2018-01-01T00:00:00\"}, {\"Year\": 2018, \"Month\": 1, \"Abbr.\": \"CipherGAN\", \"Title\": \"Unsupervised Cipher Cracking Using Discrete GANs\", \"Arxiv\": \"https://arxiv.org/abs/1801.04883\", \"Official_Code\": \"-\", \"Watches\": null, \"Stars\": null, \"Forks\": null, \"hasgan\": 1, \"cum_gans\": 283, \"Day\": 1, \"Date\": \"2018-01-01T00:00:00\"}, {\"Year\": 2018, \"Month\": 1, \"Abbr.\": \"Cross-GAN\", \"Title\": \"Crossing Generative Adversarial Networks for Cross-View Person Re-identification\", \"Arxiv\": \"https://arxiv.org/abs/1801.01760\", \"Official_Code\": \"-\", \"Watches\": null, \"Stars\": null, \"Forks\": null, \"hasgan\": 1, \"cum_gans\": 284, \"Day\": 1, \"Date\": \"2018-01-01T00:00:00\"}, {\"Year\": 2018, \"Month\": 1, \"Abbr.\": \"dp-GAN\", \"Title\": \"Differentially Private Releasing via Deep Generative Model\", \"Arxiv\": \"https://arxiv.org/abs/1801.01594\", \"Official_Code\": \"-\", \"Watches\": null, \"Stars\": null, \"Forks\": null, \"hasgan\": 1, \"cum_gans\": 285, \"Day\": 1, \"Date\": \"2018-01-01T00:00:00\"}, {\"Year\": 2018, \"Month\": 1, \"Abbr.\": \"ecGAN\", \"Title\": \"eCommerceGAN : A Generative Adversarial Network for E-commerce\", \"Arxiv\": \"https://arxiv.org/abs/1801.03244\", \"Official_Code\": \"-\", \"Watches\": null, \"Stars\": null, \"Forks\": null, \"hasgan\": 1, \"cum_gans\": 286, \"Day\": 1, \"Date\": \"2018-01-01T00:00:00\"}, {\"Year\": 2018, \"Month\": 1, \"Abbr.\": \"FusedGAN\", \"Title\": \"Semi-supervised FusedGAN for Conditional Image Generation\", \"Arxiv\": \"https://arxiv.org/abs/1801.05551\", \"Official_Code\": \"-\", \"Watches\": null, \"Stars\": null, \"Forks\": null, \"hasgan\": 1, \"cum_gans\": 287, \"Day\": 1, \"Date\": \"2018-01-01T00:00:00\"}, {\"Year\": 2018, \"Month\": 1, \"Abbr.\": \"GeoGAN\", \"Title\": \"Generating Instance Segmentation Annotation by Geometry-guided GAN \", \"Arxiv\": \"https://arxiv.org/abs/1801.08839 \", \"Official_Code\": \"-\", \"Watches\": null, \"Stars\": null, \"Forks\": null, \"hasgan\": 1, \"cum_gans\": 288, \"Day\": 1, \"Date\": \"2018-01-01T00:00:00\"}, {\"Year\": 2018, \"Month\": 1, \"Abbr.\": \"GLCA-GAN\", \"Title\": \"Global and Local Consistent Age Generative Adversarial Networks \", \"Arxiv\": \"https://arxiv.org/abs/1801.08390\", \"Official_Code\": \"-\", \"Watches\": null, \"Stars\": null, \"Forks\": null, \"hasgan\": 1, \"cum_gans\": 289, \"Day\": 1, \"Date\": \"2018-01-01T00:00:00\"}, {\"Year\": 2018, \"Month\": 1, \"Abbr.\": \"LAC-GAN\", \"Title\": \"Grounded Language Understanding for Manipulation Instructions Using GAN-Based Classification\", \"Arxiv\": \"https://arxiv.org/abs/1801.05096\", \"Official_Code\": \"-\", \"Watches\": null, \"Stars\": null, \"Forks\": null, \"hasgan\": 1, \"cum_gans\": 290, \"Day\": 1, \"Date\": \"2018-01-01T00:00:00\"}, {\"Year\": 2018, \"Month\": 1, \"Abbr.\": \"MaskGAN\", \"Title\": \"MaskGAN: Better Text Generation via Filling in the ______ \", \"Arxiv\": \"https://arxiv.org/abs/1801.07736 \", \"Official_Code\": \"-\", \"Watches\": null, \"Stars\": null, \"Forks\": null, \"hasgan\": 1, \"cum_gans\": 291, \"Day\": 1, \"Date\": \"2018-01-01T00:00:00\"}, {\"Year\": 2018, \"Month\": 1, \"Abbr.\": \"SG-GAN\", \"Title\": \"Semantic-aware Grad-GAN for Virtual-to-Real Urban Scene Adaption\", \"Arxiv\": \"https://arxiv.org/abs/1801.01726\", \"Official_Code\": \"https://github.com/Peilun-Li/SG-GAN\", \"Watches\": 5.0, \"Stars\": 36.0, \"Forks\": 8.0, \"hasgan\": 1, \"cum_gans\": 292, \"Day\": 1, \"Date\": \"2018-01-01T00:00:00\"}, {\"Year\": 2018, \"Month\": 1, \"Abbr.\": \"SketchyGAN\", \"Title\": \"SketchyGAN: Towards Diverse and Realistic Sketch to Image Synthesis\", \"Arxiv\": \"https://arxiv.org/abs/1801.02753\", \"Official_Code\": \"-\", \"Watches\": null, \"Stars\": null, \"Forks\": null, \"hasgan\": 1, \"cum_gans\": 293, \"Day\": 1, \"Date\": \"2018-01-01T00:00:00\"}, {\"Year\": 2018, \"Month\": 1, \"Abbr.\": \"tempoGAN\", \"Title\": \"tempoGAN: A Temporally Coherent, Volumetric GAN for Super-resolution Fluid Flow\", \"Arxiv\": \"https://arxiv.org/abs/1801.09710\", \"Official_Code\": \"-\", \"Watches\": null, \"Stars\": null, \"Forks\": null, \"hasgan\": 1, \"cum_gans\": 294, \"Day\": 1, \"Date\": \"2018-01-01T00:00:00\"}, {\"Year\": 2018, \"Month\": 1, \"Abbr.\": \"UGAN\", \"Title\": \"Enhancing Underwater Imagery using Generative Adversarial Networks\", \"Arxiv\": \"https://arxiv.org/abs/1801.04011\", \"Official_Code\": \"-\", \"Watches\": null, \"Stars\": null, \"Forks\": null, \"hasgan\": 1, \"cum_gans\": 295, \"Day\": 1, \"Date\": \"2018-01-01T00:00:00\"}, {\"Year\": 2018, \"Month\": 2, \"Abbr.\": \"AmbientGAN\", \"Title\": \"AmbientGAN: Generative models from lossy measurements\", \"Arxiv\": \"https://openreview.net/forum?id=Hy7fDog0b\", \"Official_Code\": \"https://github.com/AshishBora/ambient-gan\", \"Watches\": 2.0, \"Stars\": 57.0, \"Forks\": 17.0, \"hasgan\": 1, \"cum_gans\": 296, \"Day\": 1, \"Date\": \"2018-02-01T00:00:00\"}, {\"Year\": 2018, \"Month\": 2, \"Abbr.\": \"ATA-GAN\", \"Title\": \"Attention-Aware Generative Adversarial Networks (ATA-GANs)\", \"Arxiv\": \"https://arxiv.org/abs/1802.09070\", \"Official_Code\": \"-\", \"Watches\": null, \"Stars\": null, \"Forks\": null, \"hasgan\": 1, \"cum_gans\": 297, \"Day\": 1, \"Date\": \"2018-02-01T00:00:00\"}, {\"Year\": 2018, \"Month\": 2, \"Abbr.\": \"C-GAN \", \"Title\": \"Face Aging with Contextual Generative Adversarial Nets \", \"Arxiv\": \"https://arxiv.org/abs/1802.00237 \", \"Official_Code\": \"-\", \"Watches\": null, \"Stars\": null, \"Forks\": null, \"hasgan\": 1, \"cum_gans\": 298, \"Day\": 1, \"Date\": \"2018-02-01T00:00:00\"}, {\"Year\": 2018, \"Month\": 2, \"Abbr.\": \"CapsuleGAN\", \"Title\": \"CapsuleGAN: Generative Adversarial Capsule Network \", \"Arxiv\": \"http://arxiv.org/abs/1802.06167\", \"Official_Code\": \"-\", \"Watches\": null, \"Stars\": null, \"Forks\": null, \"hasgan\": 1, \"cum_gans\": 299, \"Day\": 1, \"Date\": \"2018-02-01T00:00:00\"}, {\"Year\": 2018, \"Month\": 2, \"Abbr.\": \"DA-GAN \", \"Title\": \"DA-GAN: Instance-level Image Translation by Deep Attention Generative Adversarial Networks (with Supplementary Materials)\", \"Arxiv\": \"http://arxiv.org/abs/1802.06454\", \"Official_Code\": \"-\", \"Watches\": null, \"Stars\": null, \"Forks\": null, \"hasgan\": 1, \"cum_gans\": 300, \"Day\": 1, \"Date\": \"2018-02-01T00:00:00\"}, {\"Year\": 2018, \"Month\": 2, \"Abbr.\": \"DP-GAN\", \"Title\": \"DP-GAN: Diversity-Promoting Generative Adversarial Network for Generating Informative and Diversified Text \", \"Arxiv\": \"https://arxiv.org/abs/1802.01345 \", \"Official_Code\": \"-\", \"Watches\": null, \"Stars\": null, \"Forks\": null, \"hasgan\": 1, \"cum_gans\": 301, \"Day\": 1, \"Date\": \"2018-02-01T00:00:00\"}, {\"Year\": 2018, \"Month\": 2, \"Abbr.\": \"DPGAN \", \"Title\": \"Differentially Private Generative Adversarial Network \", \"Arxiv\": \"http://arxiv.org/abs/1802.06739\", \"Official_Code\": \"-\", \"Watches\": null, \"Stars\": null, \"Forks\": null, \"hasgan\": 1, \"cum_gans\": 302, \"Day\": 1, \"Date\": \"2018-02-01T00:00:00\"}, {\"Year\": 2018, \"Month\": 2, \"Abbr.\": \"First Order GAN \", \"Title\": \"First Order Generative Adversarial Networks \", \"Arxiv\": \"https://arxiv.org/abs/1802.04591\", \"Official_Code\": \"https://github.com/zalandoresearch/first_order_gan\", \"Watches\": 5.0, \"Stars\": 23.0, \"Forks\": 7.0, \"hasgan\": 1, \"cum_gans\": 303, \"Day\": 1, \"Date\": \"2018-02-01T00:00:00\"}, {\"Year\": 2018, \"Month\": 2, \"Abbr.\": \"GC-GAN\", \"Title\": \"Geometry-Contrastive Generative Adversarial Network for Facial Expression Synthesis\", \"Arxiv\": \"https://arxiv.org/abs/1802.01822 \", \"Official_Code\": \"-\", \"Watches\": null, \"Stars\": null, \"Forks\": null, \"hasgan\": 1, \"cum_gans\": 304, \"Day\": 1, \"Date\": \"2018-02-01T00:00:00\"}, {\"Year\": 2018, \"Month\": 2, \"Abbr.\": \"LB-GAN\", \"Title\": \"Load Balanced GANs for Multi-view Face Image Synthesis\", \"Arxiv\": \"http://arxiv.org/abs/1802.07447\", \"Official_Code\": \"-\", \"Watches\": null, \"Stars\": null, \"Forks\": null, \"hasgan\": 1, \"cum_gans\": 305, \"Day\": 1, \"Date\": \"2018-02-01T00:00:00\"}, {\"Year\": 2018, \"Month\": 2, \"Abbr.\": \"MAGAN\", \"Title\": \"MAGAN: Aligning Biological Manifolds\", \"Arxiv\": \"https://arxiv.org/abs/1803.00385\", \"Official_Code\": \"-\", \"Watches\": null, \"Stars\": null, \"Forks\": null, \"hasgan\": 1, \"cum_gans\": 306, \"Day\": 1, \"Date\": \"2018-02-01T00:00:00\"}, {\"Year\": 2018, \"Month\": 2, \"Abbr.\": \"ND-GAN\", \"Title\": \"Novelty Detection with GAN\", \"Arxiv\": \"https://arxiv.org/abs/1802.10560\", \"Official_Code\": \"-\", \"Watches\": null, \"Stars\": null, \"Forks\": null, \"hasgan\": 1, \"cum_gans\": 307, \"Day\": 1, \"Date\": \"2018-02-01T00:00:00\"}, {\"Year\": 2018, \"Month\": 2, \"Abbr.\": \"PGD-GAN\", \"Title\": \"Solving Linear Inverse Problems Using GAN Priors: An Algorithm with Provable Guarantees\", \"Arxiv\": \"https://arxiv.org/abs/1802.08406\", \"Official_Code\": \"-\", \"Watches\": null, \"Stars\": null, \"Forks\": null, \"hasgan\": 1, \"cum_gans\": 308, \"Day\": 1, \"Date\": \"2018-02-01T00:00:00\"}, {\"Year\": 2018, \"Month\": 2, \"Abbr.\": \"RadialGAN\", \"Title\": \"RadialGAN: Leveraging multiple datasets to improve target-specific predictive models using Generative Adversarial Networks \", \"Arxiv\": \"http://arxiv.org/abs/1802.06403\", \"Official_Code\": \"-\", \"Watches\": null, \"Stars\": null, \"Forks\": null, \"hasgan\": 1, \"cum_gans\": 309, \"Day\": 1, \"Date\": \"2018-02-01T00:00:00\"}, {\"Year\": 2018, \"Month\": 2, \"Abbr.\": \"SAR-GAN\", \"Title\": \"Generating High Quality Visible Images from SAR Images Using CNNs\", \"Arxiv\": \"https://arxiv.org/abs/1802.10036\", \"Official_Code\": \"-\", \"Watches\": null, \"Stars\": null, \"Forks\": null, \"hasgan\": 1, \"cum_gans\": 310, \"Day\": 1, \"Date\": \"2018-02-01T00:00:00\"}, {\"Year\": 2018, \"Month\": 2, \"Abbr.\": \"SCH-GAN\", \"Title\": \"SCH-GAN: Semi-supervised Cross-modal Hashing by Generative Adversarial Network \", \"Arxiv\": \"https://arxiv.org/abs/1802.02488 \", \"Official_Code\": \"-\", \"Watches\": null, \"Stars\": null, \"Forks\": null, \"hasgan\": 1, \"cum_gans\": 311, \"Day\": 1, \"Date\": \"2018-02-01T00:00:00\"}, {\"Year\": 2018, \"Month\": 2, \"Abbr.\": \"StainGAN\", \"Title\": \"StainGAN: Stain Style Transfer for Digital Histological Images\", \"Arxiv\": \"https://arxiv.org/abs/1804.01601\", \"Official_Code\": \"-\", \"Watches\": null, \"Stars\": null, \"Forks\": null, \"hasgan\": 1, \"cum_gans\": 312, \"Day\": 1, \"Date\": \"2018-02-01T00:00:00\"}, {\"Year\": 2018, \"Month\": 2, \"Abbr.\": \"SWGAN\", \"Title\": \"Solving Approximate Wasserstein GANs to Stationarity\", \"Arxiv\": \"https://arxiv.org/abs/1802.08249\", \"Official_Code\": \"-\", \"Watches\": null, \"Stars\": null, \"Forks\": null, \"hasgan\": 1, \"cum_gans\": 313, \"Day\": 1, \"Date\": \"2018-02-01T00:00:00\"}, {\"Year\": 2018, \"Month\": 2, \"Abbr.\": \"VoiceGAN\", \"Title\": \"Voice Impersonation using Generative Adversarial Networks \", \"Arxiv\": \"http://arxiv.org/abs/1802.06840\", \"Official_Code\": \"-\", \"Watches\": null, \"Stars\": null, \"Forks\": null, \"hasgan\": 1, \"cum_gans\": 314, \"Day\": 1, \"Date\": \"2018-02-01T00:00:00\"}, {\"Year\": 2018, \"Month\": 2, \"Abbr.\": \"WaveGAN\", \"Title\": \"Synthesizing Audio with Generative Adversarial Networks \", \"Arxiv\": \"https://arxiv.org/abs/1802.04208\", \"Official_Code\": \"-\", \"Watches\": null, \"Stars\": null, \"Forks\": null, \"hasgan\": 1, \"cum_gans\": 315, \"Day\": 1, \"Date\": \"2018-02-01T00:00:00\"}, {\"Year\": 2018, \"Month\": 3, \"Abbr.\": \"Attention-GAN\", \"Title\": \"Attention-GAN for Object Transfiguration in Wild Images\", \"Arxiv\": \"https://arxiv.org/abs/1803.06798\", \"Official_Code\": \"-\", \"Watches\": null, \"Stars\": null, \"Forks\": null, \"hasgan\": 1, \"cum_gans\": 316, \"Day\": 1, \"Date\": \"2018-03-01T00:00:00\"}, {\"Year\": 2018, \"Month\": 3, \"Abbr.\": \"B-DCGAN\", \"Title\": \"B-DCGAN:Evaluation of Binarized DCGAN for FPGA\", \"Arxiv\": \"https://arxiv.org/abs/1803.10930\", \"Official_Code\": \"-\", \"Watches\": null, \"Stars\": null, \"Forks\": null, \"hasgan\": 1, \"cum_gans\": 317, \"Day\": 1, \"Date\": \"2018-03-01T00:00:00\"}, {\"Year\": 2018, \"Month\": 3, \"Abbr.\": \"BAGAN\", \"Title\": \"BAGAN: Data Augmentation with Balancing GAN\", \"Arxiv\": \"https://arxiv.org/abs/1803.09655\", \"Official_Code\": \"-\", \"Watches\": null, \"Stars\": null, \"Forks\": null, \"hasgan\": 1, \"cum_gans\": 318, \"Day\": 1, \"Date\": \"2018-03-01T00:00:00\"}, {\"Year\": 2018, \"Month\": 3, \"Abbr.\": \"BranchGAN\", \"Title\": \"Branched Generative Adversarial Networks for Multi-Scale Image Manifold Learning\", \"Arxiv\": \"https://arxiv.org/abs/1803.08467\", \"Official_Code\": \"-\", \"Watches\": null, \"Stars\": null, \"Forks\": null, \"hasgan\": 1, \"cum_gans\": 319, \"Day\": 1, \"Date\": \"2018-03-01T00:00:00\"}, {\"Year\": 2018, \"Month\": 3, \"Abbr.\": \"D2IA-GAN\", \"Title\": \"Tagging like Humans: Diverse and Distinct Image Annotation\", \"Arxiv\": \"https://arxiv.org/abs/1804.00113\", \"Official_Code\": \"-\", \"Watches\": null, \"Stars\": null, \"Forks\": null, \"hasgan\": 1, \"cum_gans\": 320, \"Day\": 1, \"Date\": \"2018-03-01T00:00:00\"}, {\"Year\": 2018, \"Month\": 3, \"Abbr.\": \"DBLRGAN\", \"Title\": \"Adversarial Spatio-Temporal Learning for Video Deblurring\", \"Arxiv\": \"https://arxiv.org/abs/1804.00533\", \"Official_Code\": \"-\", \"Watches\": null, \"Stars\": null, \"Forks\": null, \"hasgan\": 1, \"cum_gans\": 321, \"Day\": 1, \"Date\": \"2018-03-01T00:00:00\"}, {\"Year\": 2018, \"Month\": 3, \"Abbr.\": \"E-GAN\", \"Title\": \"Evolutionary Generative Adversarial Networks\", \"Arxiv\": \"https://arxiv.org/abs/1803.00657\", \"Official_Code\": \"-\", \"Watches\": null, \"Stars\": null, \"Forks\": null, \"hasgan\": 1, \"cum_gans\": 322, \"Day\": 1, \"Date\": \"2018-03-01T00:00:00\"}, {\"Year\": 2018, \"Month\": 3, \"Abbr.\": \"ELEGANT\", \"Title\": \"ELEGANT: Exchanging Latent Encodings with GAN for Transferring Multiple Face Attributes\", \"Arxiv\": \"https://arxiv.org/abs/1803.10562\", \"Official_Code\": \"-\", \"Watches\": null, \"Stars\": null, \"Forks\": null, \"hasgan\": 1, \"cum_gans\": 323, \"Day\": 1, \"Date\": \"2018-03-01T00:00:00\"}, {\"Year\": 2018, \"Month\": 3, \"Abbr.\": \"Fictitious GAN\", \"Title\": \"Fictitious GAN: Training GANs with Historical Models\", \"Arxiv\": \"https://arxiv.org/abs/1803.08647\", \"Official_Code\": \"-\", \"Watches\": null, \"Stars\": null, \"Forks\": null, \"hasgan\": 1, \"cum_gans\": 324, \"Day\": 1, \"Date\": \"2018-03-01T00:00:00\"}, {\"Year\": 2018, \"Month\": 3, \"Abbr.\": \"GAAN\", \"Title\": \"Generative Adversarial Autoencoder Networks\", \"Arxiv\": \"https://arxiv.org/abs/1803.08887\", \"Official_Code\": \"-\", \"Watches\": null, \"Stars\": null, \"Forks\": null, \"hasgan\": 1, \"cum_gans\": 325, \"Day\": 1, \"Date\": \"2018-03-01T00:00:00\"}, {\"Year\": 2018, \"Month\": 3, \"Abbr.\": \"GONet\", \"Title\": \"GONet: A Semi-Supervised Deep Learning Approach For Traversability Estimation\", \"Arxiv\": \"https://arxiv.org/abs/1803.03254\", \"Official_Code\": \"-\", \"Watches\": null, \"Stars\": null, \"Forks\": null, \"hasgan\": 1, \"cum_gans\": 326, \"Day\": 1, \"Date\": \"2018-03-01T00:00:00\"}, {\"Year\": 2018, \"Month\": 3, \"Abbr.\": \"memoryGAN\", \"Title\": \"Memorization Precedes Generation: Learning Unsupervised GANs with Memory Networks\", \"Arxiv\": \"https://arxiv.org/abs/1803.01500\", \"Official_Code\": \"-\", \"Watches\": null, \"Stars\": null, \"Forks\": null, \"hasgan\": 1, \"cum_gans\": 327, \"Day\": 1, \"Date\": \"2018-03-01T00:00:00\"}, {\"Year\": 2018, \"Month\": 3, \"Abbr.\": \"MTGAN\", \"Title\": \"MTGAN: Speaker Verification through Multitasking Triplet Generative Adversarial Networks\", \"Arxiv\": \"https://arxiv.org/abs/1803.09059\", \"Official_Code\": \"-\", \"Watches\": null, \"Stars\": null, \"Forks\": null, \"hasgan\": 1, \"cum_gans\": 328, \"Day\": 1, \"Date\": \"2018-03-01T00:00:00\"}, {\"Year\": 2018, \"Month\": 3, \"Abbr.\": \"NCE-GAN\", \"Title\": \"Dihedral angle prediction using generative adversarial networks\", \"Arxiv\": \"https://arxiv.org/abs/1803.10996\", \"Official_Code\": \"-\", \"Watches\": null, \"Stars\": null, \"Forks\": null, \"hasgan\": 1, \"cum_gans\": 329, \"Day\": 1, \"Date\": \"2018-03-01T00:00:00\"}, {\"Year\": 2018, \"Month\": 3, \"Abbr.\": \"NetGAN\", \"Title\": \"NetGAN: Generating Graphs via Random Walks\", \"Arxiv\": \"https://arxiv.org/abs/1803.00816\", \"Official_Code\": \"-\", \"Watches\": null, \"Stars\": null, \"Forks\": null, \"hasgan\": 1, \"cum_gans\": 330, \"Day\": 1, \"Date\": \"2018-03-01T00:00:00\"}, {\"Year\": 2018, \"Month\": 3, \"Abbr.\": \"OCAN\", \"Title\": \"One-Class Adversarial Nets for Fraud Detection\", \"Arxiv\": \"https://arxiv.org/abs/1803.01798\", \"Official_Code\": \"-\", \"Watches\": null, \"Stars\": null, \"Forks\": null, \"hasgan\": 1, \"cum_gans\": 331, \"Day\": 1, \"Date\": \"2018-03-01T00:00:00\"}, {\"Year\": 2018, \"Month\": 3, \"Abbr.\": \"OT-GAN\", \"Title\": \"Improving GANs Using Optimal Transport\", \"Arxiv\": \"https://arxiv.org/abs/1803.05573\", \"Official_Code\": \"-\", \"Watches\": null, \"Stars\": null, \"Forks\": null, \"hasgan\": 1, \"cum_gans\": 332, \"Day\": 1, \"Date\": \"2018-03-01T00:00:00\"}, {\"Year\": 2018, \"Month\": 3, \"Abbr.\": \"PGGAN\", \"Title\": \"Patch-Based Image Inpainting with Generative Adversarial Networks\", \"Arxiv\": \"https://arxiv.org/abs/1803.07422\", \"Official_Code\": \"-\", \"Watches\": null, \"Stars\": null, \"Forks\": null, \"hasgan\": 1, \"cum_gans\": 333, \"Day\": 1, \"Date\": \"2018-03-01T00:00:00\"}, {\"Year\": 2018, \"Month\": 3, \"Abbr.\": \"Sdf-GAN\", \"Title\": \"Sdf-GAN: Semi-supervised Depth Fusion with Multi-scale Adversarial Networks\", \"Arxiv\": \"https://arxiv.org/abs/1803.06657\", \"Official_Code\": \"-\", \"Watches\": null, \"Stars\": null, \"Forks\": null, \"hasgan\": 1, \"cum_gans\": 334, \"Day\": 1, \"Date\": \"2018-03-01T00:00:00\"}, {\"Year\": 2018, \"Month\": 3, \"Abbr.\": \"Social GAN\", \"Title\": \"Social GAN: Socially Acceptable Trajectories with Generative Adversarial Networks\", \"Arxiv\": \"https://arxiv.org/abs/1803.10892\", \"Official_Code\": \"-\", \"Watches\": null, \"Stars\": null, \"Forks\": null, \"hasgan\": 1, \"cum_gans\": 335, \"Day\": 1, \"Date\": \"2018-03-01T00:00:00\"}, {\"Year\": 2018, \"Month\": 3, \"Abbr.\": \"Spike-GAN\", \"Title\": \"Synthesizing realistic neural population activity patterns using Generative Adversarial Networks\", \"Arxiv\": \"https://arxiv.org/abs/1803.00338\", \"Official_Code\": \"-\", \"Watches\": null, \"Stars\": null, \"Forks\": null, \"hasgan\": 1, \"cum_gans\": 336, \"Day\": 1, \"Date\": \"2018-03-01T00:00:00\"}, {\"Year\": 2018, \"Month\": 3, \"Abbr.\": \"ST-GAN\", \"Title\": \"ST-GAN: Spatial Transformer Generative Adversarial Networks for Image Compositing\", \"Arxiv\": \"https://arxiv.org/abs/1803.01837\", \"Official_Code\": \"-\", \"Watches\": null, \"Stars\": null, \"Forks\": null, \"hasgan\": 1, \"cum_gans\": 337, \"Day\": 1, \"Date\": \"2018-03-01T00:00:00\"}, {\"Year\": 2018, \"Month\": 3, \"Abbr.\": \"Text2Shape\", \"Title\": \"Text2Shape: Generating Shapes from Natural Language by Learning Joint Embeddings\", \"Arxiv\": \"https://arxiv.org/abs/1803.08495\", \"Official_Code\": \"-\", \"Watches\": null, \"Stars\": null, \"Forks\": null, \"hasgan\": 1, \"cum_gans\": 338, \"Day\": 1, \"Date\": \"2018-03-01T00:00:00\"}, {\"Year\": 2018, \"Month\": 3, \"Abbr.\": \"tiny-GAN\", \"Title\": \"Analysis of Nonautonomous Adversarial Systems\", \"Arxiv\": \"https://arxiv.org/abs/1803.05045\", \"Official_Code\": \"-\", \"Watches\": null, \"Stars\": null, \"Forks\": null, \"hasgan\": 1, \"cum_gans\": 339, \"Day\": 1, \"Date\": \"2018-03-01T00:00:00\"}, {\"Year\": 2018, \"Month\": 3, \"Abbr.\": \"VOS-GAN\", \"Title\": \"VOS-GAN: Adversarial Learning of Visual-Temporal Dynamics for Unsupervised Dense Prediction in Videos\", \"Arxiv\": \"https://arxiv.org/abs/1803.09092\", \"Official_Code\": \"-\", \"Watches\": null, \"Stars\": null, \"Forks\": null, \"hasgan\": 1, \"cum_gans\": 340, \"Day\": 1, \"Date\": \"2018-03-01T00:00:00\"}, {\"Year\": 2018, \"Month\": 4, \"Abbr.\": \"3D-PhysNet\", \"Title\": \"3D-PhysNet: Learning the Intuitive Physics of Non-Rigid Object Deformations\", \"Arxiv\": \"https://arxiv.org/abs/1805.00328\", \"Official_Code\": \"-\", \"Watches\": null, \"Stars\": null, \"Forks\": null, \"hasgan\": 1, \"cum_gans\": 341, \"Day\": 1, \"Date\": \"2018-04-01T00:00:00\"}, {\"Year\": 2018, \"Month\": 4, \"Abbr.\": \"AF-DCGAN\", \"Title\": \"AF-DCGAN: Amplitude Feature Deep Convolutional GAN for Fingerprint Construction in Indoor Localization System\", \"Arxiv\": \"https://arxiv.org/abs/1804.05347\", \"Official_Code\": \"-\", \"Watches\": null, \"Stars\": null, \"Forks\": null, \"hasgan\": 1, \"cum_gans\": 342, \"Day\": 1, \"Date\": \"2018-04-01T00:00:00\"}, {\"Year\": 2018, \"Month\": 4, \"Abbr.\": \"BEAM\", \"Title\": \"Boltzmann Encoded Adversarial Machines\", \"Arxiv\": \"https://arxiv.org/abs/1804.08682\", \"Official_Code\": \"-\", \"Watches\": null, \"Stars\": null, \"Forks\": null, \"hasgan\": 1, \"cum_gans\": 343, \"Day\": 1, \"Date\": \"2018-04-01T00:00:00\"}, {\"Year\": 2018, \"Month\": 4, \"Abbr.\": \"CorrGAN\", \"Title\": \"Correlated discrete data generation using adversarial training\", \"Arxiv\": \"https://arxiv.org/abs/1804.00925\", \"Official_Code\": \"-\", \"Watches\": null, \"Stars\": null, \"Forks\": null, \"hasgan\": 1, \"cum_gans\": 344, \"Day\": 1, \"Date\": \"2018-04-01T00:00:00\"}, {\"Year\": 2018, \"Month\": 4, \"Abbr.\": \"D-WCGAN\", \"Title\": \"I-vector Transformation Using Conditional Generative Adversarial Networks for Short Utterance Speaker Verification\", \"Arxiv\": \"https://arxiv.org/abs/1804.00290\", \"Official_Code\": \"-\", \"Watches\": null, \"Stars\": null, \"Forks\": null, \"hasgan\": 1, \"cum_gans\": 345, \"Day\": 1, \"Date\": \"2018-04-01T00:00:00\"}, {\"Year\": 2018, \"Month\": 4, \"Abbr.\": \"Defo-Net\", \"Title\": \"Defo-Net: Learning Body Deformation using Generative Adversarial Networks\", \"Arxiv\": \"https://arxiv.org/abs/1804.05928\", \"Official_Code\": \"-\", \"Watches\": null, \"Stars\": null, \"Forks\": null, \"hasgan\": 1, \"cum_gans\": 346, \"Day\": 1, \"Date\": \"2018-04-01T00:00:00\"}, {\"Year\": 2018, \"Month\": 4, \"Abbr.\": \"DSH-GAN\", \"Title\": \"Deep Semantic Hashing with Generative Adversarial Networks\", \"Arxiv\": \"https://arxiv.org/abs/1804.08275\", \"Official_Code\": \"-\", \"Watches\": null, \"Stars\": null, \"Forks\": null, \"hasgan\": 1, \"cum_gans\": 347, \"Day\": 1, \"Date\": \"2018-04-01T00:00:00\"}, {\"Year\": 2018, \"Month\": 4, \"Abbr.\": \"DTR-GAN\", \"Title\": \"DTR-GAN: Dilated Temporal Relational Adversarial Network for Video Summarization\", \"Arxiv\": \"https://arxiv.org/abs/1804.11228\", \"Official_Code\": \"-\", \"Watches\": null, \"Stars\": null, \"Forks\": null, \"hasgan\": 1, \"cum_gans\": 348, \"Day\": 1, \"Date\": \"2018-04-01T00:00:00\"}, {\"Year\": 2018, \"Month\": 4, \"Abbr.\": \"DVGAN\", \"Title\": \"Human Motion Modeling using DVGANs\", \"Arxiv\": \"https://arxiv.org/abs/1804.10652\", \"Official_Code\": \"-\", \"Watches\": null, \"Stars\": null, \"Forks\": null, \"hasgan\": 1, \"cum_gans\": 349, \"Day\": 1, \"Date\": \"2018-04-01T00:00:00\"}, {\"Year\": 2018, \"Month\": 4, \"Abbr.\": \"EAR\", \"Title\": \"Generative Model for Heterogeneous Inference\", \"Arxiv\": \"https://arxiv.org/abs/1804.09858\", \"Official_Code\": \"-\", \"Watches\": null, \"Stars\": null, \"Forks\": null, \"hasgan\": 1, \"cum_gans\": 350, \"Day\": 1, \"Date\": \"2018-04-01T00:00:00\"}, {\"Year\": 2018, \"Month\": 4, \"Abbr.\": \"FBGAN\", \"Title\": \"Feedback GAN (FBGAN) for DNA: a Novel Feedback-Loop Architecture for Optimizing Protein Functions\", \"Arxiv\": \"https://arxiv.org/abs/1804.01694\", \"Official_Code\": \"-\", \"Watches\": null, \"Stars\": null, \"Forks\": null, \"hasgan\": 1, \"cum_gans\": 351, \"Day\": 1, \"Date\": \"2018-04-01T00:00:00\"}, {\"Year\": 2018, \"Month\": 4, \"Abbr.\": \"FusionGAN\", \"Title\": \"Generating a Fusion Image: One's Identity and Another's Shape\", \"Arxiv\": \"https://arxiv.org/abs/1804.07455\", \"Official_Code\": \"-\", \"Watches\": null, \"Stars\": null, \"Forks\": null, \"hasgan\": 1, \"cum_gans\": 352, \"Day\": 1, \"Date\": \"2018-04-01T00:00:00\"}, {\"Year\": 2018, \"Month\": 4, \"Abbr.\": \"Graphical-GAN\", \"Title\": \"Graphical Generative Adversarial Networks\", \"Arxiv\": \"https://arxiv.org/abs/1804.03429\", \"Official_Code\": \"-\", \"Watches\": null, \"Stars\": null, \"Forks\": null, \"hasgan\": 1, \"cum_gans\": 353, \"Day\": 1, \"Date\": \"2018-04-01T00:00:00\"}, {\"Year\": 2018, \"Month\": 4, \"Abbr.\": \"IterGAN\", \"Title\": \"IterGANs: Iterative GANs to Learn and Control 3D Object Transformation\", \"Arxiv\": \"https://arxiv.org/abs/1804.05651\", \"Official_Code\": \"-\", \"Watches\": null, \"Stars\": null, \"Forks\": null, \"hasgan\": 1, \"cum_gans\": 354, \"Day\": 1, \"Date\": \"2018-04-01T00:00:00\"}, {\"Year\": 2018, \"Month\": 4, \"Abbr.\": \"M-AAE\", \"Title\": \"Mask-aware Photorealistic Face Attribute Manipulation\", \"Arxiv\": \"https://arxiv.org/abs/1804.08882\", \"Official_Code\": \"-\", \"Watches\": null, \"Stars\": null, \"Forks\": null, \"hasgan\": 1, \"cum_gans\": 355, \"Day\": 1, \"Date\": \"2018-04-01T00:00:00\"}, {\"Year\": 2018, \"Month\": 4, \"Abbr.\": \"MelanoGAN\", \"Title\": \"MelanoGANs: High Resolution Skin Lesion Synthesis with GANs\", \"Arxiv\": \"https://arxiv.org/abs/1804.04338\", \"Official_Code\": \"-\", \"Watches\": null, \"Stars\": null, \"Forks\": null, \"hasgan\": 1, \"cum_gans\": 356, \"Day\": 1, \"Date\": \"2018-04-01T00:00:00\"}, {\"Year\": 2018, \"Month\": 4, \"Abbr.\": \"MGGAN\", \"Title\": \"MGGAN: Solving Mode Collapse using Manifold Guided Training\", \"Arxiv\": \"https://arxiv.org/abs/1804.04391\", \"Official_Code\": \"-\", \"Watches\": null, \"Stars\": null, \"Forks\": null, \"hasgan\": 1, \"cum_gans\": 357, \"Day\": 1, \"Date\": \"2018-04-01T00:00:00\"}, {\"Year\": 2018, \"Month\": 4, \"Abbr.\": \"ModularGAN\", \"Title\": \"Modular Generative Adversarial Networks\", \"Arxiv\": \"https://arxiv.org/abs/1804.03343\", \"Official_Code\": \"-\", \"Watches\": null, \"Stars\": null, \"Forks\": null, \"hasgan\": 1, \"cum_gans\": 358, \"Day\": 1, \"Date\": \"2018-04-01T00:00:00\"}, {\"Year\": 2018, \"Month\": 4, \"Abbr.\": \"NAN\", \"Title\": \"Understanding Humans in Crowded Scenes: Deep Nested Adversarial Learning and A New Benchmark for Multi-Human Parsing\", \"Arxiv\": \"https://arxiv.org/abs/1804.03287\", \"Official_Code\": \"-\", \"Watches\": null, \"Stars\": null, \"Forks\": null, \"hasgan\": 1, \"cum_gans\": 359, \"Day\": 1, \"Date\": \"2018-04-01T00:00:00\"}, {\"Year\": 2018, \"Month\": 4, \"Abbr.\": \"PM-GAN\", \"Title\": \"PM-GANs: Discriminative Representation Learning for Action Recognition Using Partial-modalities\", \"Arxiv\": \"https://arxiv.org/abs/1804.06248\", \"Official_Code\": \"-\", \"Watches\": null, \"Stars\": null, \"Forks\": null, \"hasgan\": 1, \"cum_gans\": 360, \"Day\": 1, \"Date\": \"2018-04-01T00:00:00\"}, {\"Year\": 2018, \"Month\": 4, \"Abbr.\": \"ProGanSR\", \"Title\": \"A Fully Progressive Approach to Single-Image Super-Resolution\", \"Arxiv\": \"https://arxiv.org/abs/1804.02900\", \"Official_Code\": \"-\", \"Watches\": null, \"Stars\": null, \"Forks\": null, \"hasgan\": 1, \"cum_gans\": 361, \"Day\": 1, \"Date\": \"2018-04-01T00:00:00\"}, {\"Year\": 2018, \"Month\": 4, \"Abbr.\": \"PS-GAN\", \"Title\": \"Pedestrian-Synthesis-GAN: Generating Pedestrian Data in Real Scene and Beyond\", \"Arxiv\": \"https://arxiv.org/abs/1804.02047\", \"Official_Code\": \"-\", \"Watches\": null, \"Stars\": null, \"Forks\": null, \"hasgan\": 1, \"cum_gans\": 362, \"Day\": 1, \"Date\": \"2018-04-01T00:00:00\"}, {\"Year\": 2018, \"Month\": 4, \"Abbr.\": \"ReConNN\", \"Title\": \"Reconstruction of Simulation-Based Physical Field with Limited Samples by Reconstruction Neural Network\", \"Arxiv\": \"https://arxiv.org/abs/1805.00528\", \"Official_Code\": \"-\", \"Watches\": null, \"Stars\": null, \"Forks\": null, \"hasgan\": 1, \"cum_gans\": 363, \"Day\": 1, \"Date\": \"2018-04-01T00:00:00\"}, {\"Year\": 2018, \"Month\": 4, \"Abbr.\": \"SAGA\", \"Title\": \"Generative Adversarial Learning for Spectrum Sensing\", \"Arxiv\": \"https://arxiv.org/abs/1804.00709\", \"Official_Code\": \"-\", \"Watches\": null, \"Stars\": null, \"Forks\": null, \"hasgan\": 1, \"cum_gans\": 364, \"Day\": 1, \"Date\": \"2018-04-01T00:00:00\"}, {\"Year\": 2018, \"Month\": 4, \"Abbr.\": \"sGAN \", \"Title\": \"Generative Adversarial Training for MRA Image Synthesis Using Multi-Contrast MRI\", \"Arxiv\": \"https://arxiv.org/abs/1804.04366\", \"Official_Code\": \"-\", \"Watches\": null, \"Stars\": null, \"Forks\": null, \"hasgan\": 1, \"cum_gans\": 365, \"Day\": 1, \"Date\": \"2018-04-01T00:00:00\"}, {\"Year\": 2018, \"Month\": 4, \"Abbr.\": \"Sketcher-Refiner GAN\", \"Title\": \"Learning Myelin Content in Multiple Sclerosis from Multimodal MRI through Adversarial Training\", \"Arxiv\": \"https://arxiv.org/abs/1804.08039\", \"Official_Code\": \"-\", \"Watches\": null, \"Stars\": null, \"Forks\": null, \"hasgan\": 1, \"cum_gans\": 366, \"Day\": 1, \"Date\": \"2018-04-01T00:00:00\"}, {\"Year\": 2018, \"Month\": 4, \"Abbr.\": \"SyncGAN\", \"Title\": \"SyncGAN: Synchronize the Latent Space of Cross-modal Generative Adversarial Networks\", \"Arxiv\": \"https://arxiv.org/abs/1804.00410\", \"Official_Code\": \"-\", \"Watches\": null, \"Stars\": null, \"Forks\": null, \"hasgan\": 1, \"cum_gans\": 367, \"Day\": 1, \"Date\": \"2018-04-01T00:00:00\"}, {\"Year\": 2018, \"Month\": 4, \"Abbr.\": \"TGANs-C\", \"Title\": \"To Create What You Tell: Generating Videos from Captions\", \"Arxiv\": \"https://arxiv.org/abs/1804.08264\", \"Official_Code\": \"-\", \"Watches\": null, \"Stars\": null, \"Forks\": null, \"hasgan\": 1, \"cum_gans\": 368, \"Day\": 1, \"Date\": \"2018-04-01T00:00:00\"}, {\"Year\": 2018, \"Month\": 4, \"Abbr.\": \"UT-SCA-GAN\", \"Title\": \"Spatial Image Steganography Based on Generative Adversarial Network\", \"Arxiv\": \"https://arxiv.org/abs/1804.07939\", \"Official_Code\": \"-\", \"Watches\": null, \"Stars\": null, \"Forks\": null, \"hasgan\": 1, \"cum_gans\": 369, \"Day\": 1, \"Date\": \"2018-04-01T00:00:00\"}, {\"Year\": 2018, \"Month\": 5, \"Abbr.\": \"AdvEntuRe\", \"Title\": \"AdvEntuRe: Adversarial Training for Textual Entailment with Knowledge-Guided Examples\", \"Arxiv\": \"https://arxiv.org/abs/1805.04680\", \"Official_Code\": \"-\", \"Watches\": null, \"Stars\": null, \"Forks\": null, \"hasgan\": 1, \"cum_gans\": 370, \"Day\": 1, \"Date\": \"2018-05-01T00:00:00\"}, {\"Year\": 2018, \"Month\": 5, \"Abbr.\": \"AVID\", \"Title\": \"AVID: Adversarial Visual Irregularity Detection\", \"Arxiv\": \"https://arxiv.org/abs/1805.09521\", \"Official_Code\": \"-\", \"Watches\": null, \"Stars\": null, \"Forks\": null, \"hasgan\": 1, \"cum_gans\": 371, \"Day\": 1, \"Date\": \"2018-05-01T00:00:00\"}, {\"Year\": 2018, \"Month\": 5, \"Abbr.\": \"BourGAN\", \"Title\": \"BourGAN: Generative Networks with Metric Embeddings\", \"Arxiv\": \"https://arxiv.org/abs/1805.07674\", \"Official_Code\": \"-\", \"Watches\": null, \"Stars\": null, \"Forks\": null, \"hasgan\": 1, \"cum_gans\": 372, \"Day\": 1, \"Date\": \"2018-05-01T00:00:00\"}, {\"Year\": 2018, \"Month\": 5, \"Abbr.\": \"BRE\", \"Title\": \"Improving GAN Training via Binarized Representation Entropy (BRE) Regularization\", \"Arxiv\": \"https://arxiv.org/abs/1805.03644\", \"Official_Code\": \"https://github.com/BorealisAI/bre-gan\", \"Watches\": 3.0, \"Stars\": 7.0, \"Forks\": 2.0, \"hasgan\": 1, \"cum_gans\": 373, \"Day\": 1, \"Date\": \"2018-05-01T00:00:00\"}, {\"Year\": 2018, \"Month\": 5, \"Abbr.\": \"cd-GAN\", \"Title\": \"Conditional Image-to-Image Translation\", \"Arxiv\": \"https://arxiv.org/abs/1805.00251\", \"Official_Code\": \"-\", \"Watches\": null, \"Stars\": null, \"Forks\": null, \"hasgan\": 1, \"cum_gans\": 374, \"Day\": 1, \"Date\": \"2018-05-01T00:00:00\"}, {\"Year\": 2018, \"Month\": 5, \"Abbr.\": \"cowboy\", \"Title\": \"Defending Against Adversarial Attacks by Leveraging an Entire GAN\", \"Arxiv\": \"https://arxiv.org/abs/1805.10652\", \"Official_Code\": \"-\", \"Watches\": null, \"Stars\": null, \"Forks\": null, \"hasgan\": 1, \"cum_gans\": 375, \"Day\": 1, \"Date\": \"2018-05-01T00:00:00\"}, {\"Year\": 2018, \"Month\": 5, \"Abbr.\": \"CSG\", \"Title\": \"Speech-Driven Expressive Talking Lips with Conditional Sequential Generative Adversarial Networks\", \"Arxiv\": \"https://arxiv.org/abs/1806.00154\", \"Official_Code\": \"-\", \"Watches\": null, \"Stars\": null, \"Forks\": null, \"hasgan\": 1, \"cum_gans\": 376, \"Day\": 1, \"Date\": \"2018-05-01T00:00:00\"}, {\"Year\": 2018, \"Month\": 5, \"Abbr.\": \"Defense-GAN\", \"Title\": \"Defense-GAN: Protecting Classifiers Against Adversarial Attacks Using Generative Models \", \"Arxiv\": \"https://arxiv.org/abs/1805.06605 \", \"Official_Code\": \"https://github.com/kabkabm/defensegan\", \"Watches\": 2.0, \"Stars\": 35.0, \"Forks\": 8.0, \"hasgan\": 1, \"cum_gans\": 377, \"Day\": 1, \"Date\": \"2018-05-01T00:00:00\"}, {\"Year\": 2018, \"Month\": 5, \"Abbr.\": \"DialogWAE\", \"Title\": \"DialogWAE: Multimodal Response Generation with Conditional Wasserstein Auto-Encoder\", \"Arxiv\": \"https://arxiv.org/abs/1805.12352\", \"Official_Code\": \"-\", \"Watches\": null, \"Stars\": null, \"Forks\": null, \"hasgan\": 1, \"cum_gans\": 378, \"Day\": 1, \"Date\": \"2018-05-01T00:00:00\"}, {\"Year\": 2018, \"Month\": 5, \"Abbr.\": \"DTLC-GAN\", \"Title\": \"Generative Adversarial Image Synthesis with Decision Tree Latent Controller\", \"Arxiv\": \"https://arxiv.org/abs/1805.10603\", \"Official_Code\": \"-\", \"Watches\": null, \"Stars\": null, \"Forks\": null, \"hasgan\": 1, \"cum_gans\": 379, \"Day\": 1, \"Date\": \"2018-05-01T00:00:00\"}, {\"Year\": 2018, \"Month\": 5, \"Abbr.\": \"FairGAN\", \"Title\": \"FairGAN: Fairness-aware Generative Adversarial Networks\", \"Arxiv\": \"https://arxiv.org/abs/1805.11202\", \"Official_Code\": \"-\", \"Watches\": null, \"Stars\": null, \"Forks\": null, \"hasgan\": 1, \"cum_gans\": 380, \"Day\": 1, \"Date\": \"2018-05-01T00:00:00\"}, {\"Year\": 2018, \"Month\": 5, \"Abbr.\": \"Fairness GAN\", \"Title\": \"Fairness GAN\", \"Arxiv\": \"https://arxiv.org/abs/1805.09910\", \"Official_Code\": \"-\", \"Watches\": null, \"Stars\": null, \"Forks\": null, \"hasgan\": 1, \"cum_gans\": 381, \"Day\": 1, \"Date\": \"2018-05-01T00:00:00\"}, {\"Year\": 2018, \"Month\": 5, \"Abbr.\": \"FakeGAN\", \"Title\": \"Detecting Deceptive Reviews using Generative Adversarial Networks\", \"Arxiv\": \"https://arxiv.org/abs/1805.10364\", \"Official_Code\": \"-\", \"Watches\": null, \"Stars\": null, \"Forks\": null, \"hasgan\": 1, \"cum_gans\": 382, \"Day\": 1, \"Date\": \"2018-05-01T00:00:00\"}, {\"Year\": 2018, \"Month\": 5, \"Abbr.\": \"FBGAN\", \"Title\": \"Featurized Bidirectional GAN: Adversarial Defense via Adversarially Learned Semantic Inference\", \"Arxiv\": \"https://arxiv.org/abs/1805.07862\", \"Official_Code\": \"-\", \"Watches\": null, \"Stars\": null, \"Forks\": null, \"hasgan\": 1, \"cum_gans\": 383, \"Day\": 1, \"Date\": \"2018-05-01T00:00:00\"}, {\"Year\": 2018, \"Month\": 5, \"Abbr.\": \"FC-GAN\", \"Title\": \"Fast-converging Conditional Generative Adversarial Networks for Image Synthesis\", \"Arxiv\": \"https://arxiv.org/abs/1805.01972\", \"Official_Code\": \"-\", \"Watches\": null, \"Stars\": null, \"Forks\": null, \"hasgan\": 1, \"cum_gans\": 384, \"Day\": 1, \"Date\": \"2018-05-01T00:00:00\"}, {\"Year\": 2018, \"Month\": 5, \"Abbr.\": \"GAF\", \"Title\": \"Generative Adversarial Forests for Better Conditioned Adversarial Learning\", \"Arxiv\": \"https://arxiv.org/abs/1805.05185\", \"Official_Code\": \"-\", \"Watches\": null, \"Stars\": null, \"Forks\": null, \"hasgan\": 1, \"cum_gans\": 385, \"Day\": 1, \"Date\": \"2018-05-01T00:00:00\"}, {\"Year\": 2018, \"Month\": 5, \"Abbr.\": \"GAN Q-learning\", \"Title\": \"GAN Q-learning\", \"Arxiv\": \"https://arxiv.org/abs/1805.04874\", \"Official_Code\": \"-\", \"Watches\": null, \"Stars\": null, \"Forks\": null, \"hasgan\": 1, \"cum_gans\": 386, \"Day\": 1, \"Date\": \"2018-05-01T00:00:00\"}, {\"Year\": 2018, \"Month\": 5, \"Abbr.\": \"GAN-SD\", \"Title\": \"Virtual-Taobao: Virtualizing Real-world Online Retail Environment for Reinforcement Learning\", \"Arxiv\": \"https://arxiv.org/abs/1805.10000\", \"Official_Code\": \"-\", \"Watches\": null, \"Stars\": null, \"Forks\": null, \"hasgan\": 1, \"cum_gans\": 387, \"Day\": 1, \"Date\": \"2018-05-01T00:00:00\"}, {\"Year\": 2018, \"Month\": 5, \"Abbr.\": \"GAN-Word2Vec\", \"Title\": \"Adversarial Training of Word2Vec for Basket Completion\", \"Arxiv\": \"https://arxiv.org/abs/1805.08720\", \"Official_Code\": \"-\", \"Watches\": null, \"Stars\": null, \"Forks\": null, \"hasgan\": 1, \"cum_gans\": 388, \"Day\": 1, \"Date\": \"2018-05-01T00:00:00\"}, {\"Year\": 2018, \"Month\": 5, \"Abbr.\": \"GANAX\", \"Title\": \"GANAX: A Unified MIMD-SIMD Acceleration for Generative Adversarial Networks\", \"Arxiv\": \"https://arxiv.org/abs/1806.01107\", \"Official_Code\": \"-\", \"Watches\": null, \"Stars\": null, \"Forks\": null, \"hasgan\": 1, \"cum_gans\": 389, \"Day\": 1, \"Date\": \"2018-05-01T00:00:00\"}, {\"Year\": 2018, \"Month\": 5, \"Abbr.\": \"GT-GAN\", \"Title\": \"Deep Graph Translation\", \"Arxiv\": \"https://arxiv.org/abs/1805.09980\", \"Official_Code\": \"-\", \"Watches\": null, \"Stars\": null, \"Forks\": null, \"hasgan\": 1, \"cum_gans\": 390, \"Day\": 1, \"Date\": \"2018-05-01T00:00:00\"}, {\"Year\": 2018, \"Month\": 5, \"Abbr.\": \"HAN\", \"Title\": \"Bidirectional Learning for Robust Neural Networks\", \"Arxiv\": \"https://arxiv.org/abs/1805.08006\", \"Official_Code\": \"-\", \"Watches\": null, \"Stars\": null, \"Forks\": null, \"hasgan\": 1, \"cum_gans\": 391, \"Day\": 1, \"Date\": \"2018-05-01T00:00:00\"}, {\"Year\": 2018, \"Month\": 5, \"Abbr.\": \"HiGAN\", \"Title\": \"Exploiting Images for Video Recognition with Hierarchical Generative Adversarial Networks\", \"Arxiv\": \"https://arxiv.org/abs/1805.04384\", \"Official_Code\": \"-\", \"Watches\": null, \"Stars\": null, \"Forks\": null, \"hasgan\": 1, \"cum_gans\": 392, \"Day\": 1, \"Date\": \"2018-05-01T00:00:00\"}, {\"Year\": 2018, \"Month\": 5, \"Abbr.\": \"hredGAN\", \"Title\": \"Multi-turn Dialogue Response Generation in an Adversarial Learning framework\", \"Arxiv\": \"https://arxiv.org/abs/1805.11752\", \"Official_Code\": \"-\", \"Watches\": null, \"Stars\": null, \"Forks\": null, \"hasgan\": 1, \"cum_gans\": 393, \"Day\": 1, \"Date\": \"2018-05-01T00:00:00\"}, {\"Year\": 2018, \"Month\": 5, \"Abbr.\": \"MC-GAN\", \"Title\": \"MC-GAN: Multi-conditional Generative Adversarial Network for Image Synthesis\", \"Arxiv\": \"https://arxiv.org/abs/1805.01123\", \"Official_Code\": \"-\", \"Watches\": null, \"Stars\": null, \"Forks\": null, \"hasgan\": 1, \"cum_gans\": 394, \"Day\": 1, \"Date\": \"2018-05-01T00:00:00\"}, {\"Year\": 2018, \"Month\": 5, \"Abbr.\": \"MEGAN\", \"Title\": \"MEGAN: Mixture of Experts of Generative Adversarial Networks for Multimodal Image Generation\", \"Arxiv\": \"https://arxiv.org/abs/1805.02481\", \"Official_Code\": \"-\", \"Watches\": null, \"Stars\": null, \"Forks\": null, \"hasgan\": 1, \"cum_gans\": 395, \"Day\": 1, \"Date\": \"2018-05-01T00:00:00\"}, {\"Year\": 2018, \"Month\": 5, \"Abbr.\": \"MolGAN\", \"Title\": \"MolGAN: An implicit generative model for small molecular graphs\", \"Arxiv\": \"https://arxiv.org/abs/1805.11973\", \"Official_Code\": \"-\", \"Watches\": null, \"Stars\": null, \"Forks\": null, \"hasgan\": 1, \"cum_gans\": 396, \"Day\": 1, \"Date\": \"2018-05-01T00:00:00\"}, {\"Year\": 2018, \"Month\": 5, \"Abbr.\": \"N2RPP\", \"Title\": \"N2RPP: An Adversarial Network to Rebuild Plantar Pressure for ACLD Patients\", \"Arxiv\": \"https://arxiv.org/abs/1805.02825\", \"Official_Code\": \"-\", \"Watches\": null, \"Stars\": null, \"Forks\": null, \"hasgan\": 1, \"cum_gans\": 397, \"Day\": 1, \"Date\": \"2018-05-01T00:00:00\"}, {\"Year\": 2018, \"Month\": 5, \"Abbr.\": \"PD-WGAN\", \"Title\": \"Primal-Dual Wasserstein GAN\", \"Arxiv\": \"https://arxiv.org/abs/1805.09575\", \"Official_Code\": \"-\", \"Watches\": null, \"Stars\": null, \"Forks\": null, \"hasgan\": 1, \"cum_gans\": 398, \"Day\": 1, \"Date\": \"2018-05-01T00:00:00\"}, {\"Year\": 2018, \"Month\": 5, \"Abbr.\": \"POGAN\", \"Title\": \"Perceptually Optimized Generative Adversarial Network for Single Image Dehazing\", \"Arxiv\": \"https://arxiv.org/abs/1805.01084\", \"Official_Code\": \"-\", \"Watches\": null, \"Stars\": null, \"Forks\": null, \"hasgan\": 1, \"cum_gans\": 399, \"Day\": 1, \"Date\": \"2018-05-01T00:00:00\"}, {\"Year\": 2018, \"Month\": 5, \"Abbr.\": \"PSGAN\", \"Title\": \"PSGAN: A Generative Adversarial Network for Remote Sensing Image Pan-Sharpening\", \"Arxiv\": \"https://arxiv.org/abs/1805.03371\", \"Official_Code\": \"-\", \"Watches\": null, \"Stars\": null, \"Forks\": null, \"hasgan\": 1, \"cum_gans\": 400, \"Day\": 1, \"Date\": \"2018-05-01T00:00:00\"}, {\"Year\": 2018, \"Month\": 5, \"Abbr.\": \"ReGAN\", \"Title\": \"ReGAN: RE[LAX|BAR|INFORCE] based Sequence Generation using GANs\", \"Arxiv\": \"https://arxiv.org/abs/1805.02788\", \"Official_Code\": \"https://github.com/TalkToTheGAN/REGAN\", \"Watches\": 2.0, \"Stars\": 24.0, \"Forks\": 2.0, \"hasgan\": 1, \"cum_gans\": 401, \"Day\": 1, \"Date\": \"2018-05-01T00:00:00\"}, {\"Year\": 2018, \"Month\": 5, \"Abbr.\": \"RegCGAN\", \"Title\": \"Unpaired Multi-Domain Image Generation via Regularized Conditional GANs\", \"Arxiv\": \"https://arxiv.org/abs/1805.02456\", \"Official_Code\": \"-\", \"Watches\": null, \"Stars\": null, \"Forks\": null, \"hasgan\": 1, \"cum_gans\": 402, \"Day\": 1, \"Date\": \"2018-05-01T00:00:00\"}, {\"Year\": 2018, \"Month\": 5, \"Abbr.\": \"RoCGAN\", \"Title\": \"Robust Conditional Generative Adversarial Networks\", \"Arxiv\": \"https://arxiv.org/abs/1805.08657\", \"Official_Code\": \"-\", \"Watches\": null, \"Stars\": null, \"Forks\": null, \"hasgan\": 1, \"cum_gans\": 403, \"Day\": 1, \"Date\": \"2018-05-01T00:00:00\"}, {\"Year\": 2018, \"Month\": 5, \"Abbr.\": \"SAGAN\", \"Title\": \"Self-Attention Generative Adversarial Networks\", \"Arxiv\": \"https://arxiv.org/abs/1805.08318\", \"Official_Code\": \"-\", \"Watches\": null, \"Stars\": null, \"Forks\": null, \"hasgan\": 1, \"cum_gans\": 404, \"Day\": 1, \"Date\": \"2018-05-01T00:00:00\"}, {\"Year\": 2018, \"Month\": 5, \"Abbr.\": \"SG-GAN\", \"Title\": \"Sparsely Grouped Multi-task Generative Adversarial Networks for Facial Attribute Manipulation\", \"Arxiv\": \"https://arxiv.org/abs/1805.07509\", \"Official_Code\": \"-\", \"Watches\": null, \"Stars\": null, \"Forks\": null, \"hasgan\": 1, \"cum_gans\": 405, \"Day\": 1, \"Date\": \"2018-05-01T00:00:00\"}, {\"Year\": 2018, \"Month\": 5, \"Abbr.\": \"speech-driven animation GAN\", \"Title\": \"End-to-End Speech-Driven Facial Animation with Temporal GANs\", \"Arxiv\": \"https://arxiv.org/abs/1805.09313\", \"Official_Code\": \"-\", \"Watches\": null, \"Stars\": null, \"Forks\": null, \"hasgan\": 1, \"cum_gans\": 406, \"Day\": 1, \"Date\": \"2018-05-01T00:00:00\"}, {\"Year\": 2018, \"Month\": 5, \"Abbr.\": \"WGAN-CLS\", \"Title\": \"Text to Image Synthesis Using Generative Adversarial Networks\", \"Arxiv\": \"https://arxiv.org/abs/1805.00676\", \"Official_Code\": \"-\", \"Watches\": null, \"Stars\": null, \"Forks\": null, \"hasgan\": 1, \"cum_gans\": 407, \"Day\": 1, \"Date\": \"2018-05-01T00:00:00\"}, {\"Year\": 2018, \"Month\": 6, \"Abbr.\": \"Adaptive GAN\", \"Title\": \"Customizing an Adversarial Example Generator with Class-Conditional GANs\", \"Arxiv\": \"https://arxiv.org/abs/1806.10496\", \"Official_Code\": \"-\", \"Watches\": null, \"Stars\": null, \"Forks\": null, \"hasgan\": 1, \"cum_gans\": 408, \"Day\": 1, \"Date\": \"2018-06-01T00:00:00\"}, {\"Year\": 2018, \"Month\": 6, \"Abbr.\": \"APD\", \"Title\": \"Adversarial Distillation of Bayesian Neural Network Posteriors\", \"Arxiv\": \"https://arxiv.org/abs/1806.10317\", \"Official_Code\": \"-\", \"Watches\": null, \"Stars\": null, \"Forks\": null, \"hasgan\": 1, \"cum_gans\": 409, \"Day\": 1, \"Date\": \"2018-06-01T00:00:00\"}, {\"Year\": 2018, \"Month\": 6, \"Abbr.\": \"BinGAN\", \"Title\": \"BinGAN: Learning Compact Binary Descriptors with a Regularized GAN\", \"Arxiv\": \"https://arxiv.org/abs/1806.06778\", \"Official_Code\": \"-\", \"Watches\": null, \"Stars\": null, \"Forks\": null, \"hasgan\": 1, \"cum_gans\": 410, \"Day\": 1, \"Date\": \"2018-06-01T00:00:00\"}, {\"Year\": 2018, \"Month\": 6, \"Abbr.\": \"BWGAN\", \"Title\": \"Banach Wasserstein GAN\", \"Arxiv\": \"https://arxiv.org/abs/1806.06621\", \"Official_Code\": \"-\", \"Watches\": null, \"Stars\": null, \"Forks\": null, \"hasgan\": 1, \"cum_gans\": 411, \"Day\": 1, \"Date\": \"2018-06-01T00:00:00\"}, {\"Year\": 2018, \"Month\": 6, \"Abbr.\": \"CapsGAN\", \"Title\": \"CapsGAN: Using Dynamic Routing for Generative Adversarial Networks\", \"Arxiv\": \"https://arxiv.org/abs/1806.03968\", \"Official_Code\": \"-\", \"Watches\": null, \"Stars\": null, \"Forks\": null, \"hasgan\": 1, \"cum_gans\": 412, \"Day\": 1, \"Date\": \"2018-06-01T00:00:00\"}, {\"Year\": 2018, \"Month\": 6, \"Abbr.\": \"CR-GAN\", \"Title\": \"CR-GAN: Learning Complete Representations for Multi-view Generation\", \"Arxiv\": \"https://arxiv.org/abs/1806.11191\", \"Official_Code\": \"-\", \"Watches\": null, \"Stars\": null, \"Forks\": null, \"hasgan\": 1, \"cum_gans\": 413, \"Day\": 1, \"Date\": \"2018-06-01T00:00:00\"}, {\"Year\": 2018, \"Month\": 6, \"Abbr.\": \"DMGAN\", \"Title\": \"Disconnected Manifold Learning for Generative Adversarial Networks\", \"Arxiv\": \"https://arxiv.org/abs/1806.00880\", \"Official_Code\": \"-\", \"Watches\": null, \"Stars\": null, \"Forks\": null, \"hasgan\": 1, \"cum_gans\": 414, \"Day\": 1, \"Date\": \"2018-06-01T00:00:00\"}, {\"Year\": 2018, \"Month\": 6, \"Abbr.\": \"EL-GAN\", \"Title\": \"EL-GAN: Embedding Loss Driven Generative Adversarial Networks for Lane Detection\", \"Arxiv\": \"https://arxiv.org/abs/1806.05525\", \"Official_Code\": \"-\", \"Watches\": null, \"Stars\": null, \"Forks\": null, \"hasgan\": 1, \"cum_gans\": 415, \"Day\": 1, \"Date\": \"2018-06-01T00:00:00\"}, {\"Year\": 2018, \"Month\": 6, \"Abbr.\": \"FrankenGAN\", \"Title\": \"rankenGAN: Guided Detail Synthesis for Building Mass-Models Using Style-Synchonized GANs\", \"Arxiv\": \"https://arxiv.org/abs/1806.07179\", \"Official_Code\": \"-\", \"Watches\": null, \"Stars\": null, \"Forks\": null, \"hasgan\": 1, \"cum_gans\": 416, \"Day\": 1, \"Date\": \"2018-06-01T00:00:00\"}, {\"Year\": 2018, \"Month\": 6, \"Abbr.\": \"GAIN \", \"Title\": \"GAIN: Missing Data Imputation using Generative Adversarial Nets\", \"Arxiv\": \"https://arxiv.org/abs/1806.02920\", \"Official_Code\": \"-\", \"Watches\": null, \"Stars\": null, \"Forks\": null, \"hasgan\": 1, \"cum_gans\": 417, \"Day\": 1, \"Date\": \"2018-06-01T00:00:00\"}, {\"Year\": 2018, \"Month\": 6, \"Abbr.\": \"GANG\", \"Title\": \"Beyond Local Nash Equilibria for Adversarial Networks\", \"Arxiv\": \"https://arxiv.org/abs/1806.07268\", \"Official_Code\": \"-\", \"Watches\": null, \"Stars\": null, \"Forks\": null, \"hasgan\": 1, \"cum_gans\": 418, \"Day\": 1, \"Date\": \"2018-06-01T00:00:00\"}, {\"Year\": 2018, \"Month\": 6, \"Abbr.\": \"GATS\", \"Title\": \"Sample-Efficient Deep RL with Generative Adversarial Tree Search\", \"Arxiv\": \"https://arxiv.org/abs/1806.05780\", \"Official_Code\": \"-\", \"Watches\": null, \"Stars\": null, \"Forks\": null, \"hasgan\": 1, \"cum_gans\": 419, \"Day\": 1, \"Date\": \"2018-06-01T00:00:00\"}, {\"Year\": 2018, \"Month\": 6, \"Abbr.\": \"IR2VI\", \"Title\": \"IR2VI: Enhanced Night Environmental Perception by Unsupervised Thermal Image Translation\", \"Arxiv\": \"https://arxiv.org/abs/1806.09565\", \"Official_Code\": \"-\", \"Watches\": null, \"Stars\": null, \"Forks\": null, \"hasgan\": 1, \"cum_gans\": 420, \"Day\": 1, \"Date\": \"2018-06-01T00:00:00\"}, {\"Year\": 2018, \"Month\": 6, \"Abbr.\": \"IRGAN\", \"Title\": \"Generative Adversarial Nets for Information Retrieval: Fundamentals and Advances\", \"Arxiv\": \"https://arxiv.org/abs/1806.03577\", \"Official_Code\": \"-\", \"Watches\": null, \"Stars\": null, \"Forks\": null, \"hasgan\": 1, \"cum_gans\": 421, \"Day\": 1, \"Date\": \"2018-06-01T00:00:00\"}, {\"Year\": 2018, \"Month\": 6, \"Abbr.\": \"JointGAN\", \"Title\": \"JointGAN: Multi-Domain Joint Distribution Learning with Generative Adversarial Nets\", \"Arxiv\": \"https://arxiv.org/abs/1806.02978\", \"Official_Code\": \"-\", \"Watches\": null, \"Stars\": null, \"Forks\": null, \"hasgan\": 1, \"cum_gans\": 422, \"Day\": 1, \"Date\": \"2018-06-01T00:00:00\"}, {\"Year\": 2018, \"Month\": 6, \"Abbr.\": \"JR-GAN\", \"Title\": \"JR-GAN: Jacobian Regularization for Generative Adversarial Networks\", \"Arxiv\": \"https://arxiv.org/abs/1806.09235\", \"Official_Code\": \"-\", \"Watches\": null, \"Stars\": null, \"Forks\": null, \"hasgan\": 1, \"cum_gans\": 423, \"Day\": 1, \"Date\": \"2018-06-01T00:00:00\"}, {\"Year\": 2018, \"Month\": 6, \"Abbr.\": \"LCC-GAN\", \"Title\": \"Adversarial Learning with Local Coordinate Coding\", \"Arxiv\": \"https://arxiv.org/abs/1806.04895\", \"Official_Code\": \"-\", \"Watches\": null, \"Stars\": null, \"Forks\": null, \"hasgan\": 1, \"cum_gans\": 424, \"Day\": 1, \"Date\": \"2018-06-01T00:00:00\"}, {\"Year\": 2018, \"Month\": 6, \"Abbr.\": \"MedGAN\", \"Title\": \"MedGAN: Medical Image Translation using GANs\", \"Arxiv\": \"https://arxiv.org/abs/1806.06397\", \"Official_Code\": \"-\", \"Watches\": null, \"Stars\": null, \"Forks\": null, \"hasgan\": 1, \"cum_gans\": 425, \"Day\": 1, \"Date\": \"2018-06-01T00:00:00\"}, {\"Year\": 2018, \"Month\": 6, \"Abbr.\": \"MMC-GAN\", \"Title\": \"A Multimodal Classifier Generative Adversarial Network for Carry and Place Tasks from Ambiguous Language Instructions\", \"Arxiv\": \"https://arxiv.org/abs/1806.03847\", \"Official_Code\": \"-\", \"Watches\": null, \"Stars\": null, \"Forks\": null, \"hasgan\": 1, \"cum_gans\": 426, \"Day\": 1, \"Date\": \"2018-06-01T00:00:00\"}, {\"Year\": 2018, \"Month\": 6, \"Abbr.\": \"Modified GAN-CLS\", \"Title\": \"Generate the corresponding Image from Text Description using Modified GAN-CLS Algorithm\", \"Arxiv\": \"https://arxiv.org/abs/1806.11302\", \"Official_Code\": \"-\", \"Watches\": null, \"Stars\": null, \"Forks\": null, \"hasgan\": 1, \"cum_gans\": 427, \"Day\": 1, \"Date\": \"2018-06-01T00:00:00\"}, {\"Year\": 2018, \"Month\": 6, \"Abbr.\": \"PP-GAN\", \"Title\": \"Privacy-Protective-GAN for Face De-identification\", \"Arxiv\": \"https://arxiv.org/abs/1806.08906\", \"Official_Code\": \"-\", \"Watches\": null, \"Stars\": null, \"Forks\": null, \"hasgan\": 1, \"cum_gans\": 428, \"Day\": 1, \"Date\": \"2018-06-01T00:00:00\"}, {\"Year\": 2018, \"Month\": 6, \"Abbr.\": \"SeUDA\", \"Title\": \"Semantic-Aware Generative Adversarial Nets for Unsupervised Domain Adaptation in Chest X-ray Segmentation\", \"Arxiv\": \"https://arxiv.org/abs/1806.00600\", \"Official_Code\": \"-\", \"Watches\": null, \"Stars\": null, \"Forks\": null, \"hasgan\": 1, \"cum_gans\": 429, \"Day\": 1, \"Date\": \"2018-06-01T00:00:00\"}, {\"Year\": 2018, \"Month\": 6, \"Abbr.\": \"SN-DCGAN\", \"Title\": \"Generative Adversarial Networks for Unsupervised Object Co-localization\", \"Arxiv\": \"https://arxiv.org/abs/1806.00236\", \"Official_Code\": \"-\", \"Watches\": null, \"Stars\": null, \"Forks\": null, \"hasgan\": 1, \"cum_gans\": 430, \"Day\": 1, \"Date\": \"2018-06-01T00:00:00\"}, {\"Year\": 2018, \"Month\": 6, \"Abbr.\": \"SN-PatchGAN\", \"Title\": \"Free-Form Image Inpainting with Gated Convolution\", \"Arxiv\": \"https://arxiv.org/abs/1806.03589\", \"Official_Code\": \"-\", \"Watches\": null, \"Stars\": null, \"Forks\": null, \"hasgan\": 1, \"cum_gans\": 431, \"Day\": 1, \"Date\": \"2018-06-01T00:00:00\"}, {\"Year\": 2018, \"Month\": 6, \"Abbr.\": \"SoPhie\", \"Title\": \"SoPhie: An Attentive GAN for Predicting Paths Compliant to Social and Physical Constraints\", \"Arxiv\": \"https://arxiv.org/abs/1806.01482\", \"Official_Code\": \"-\", \"Watches\": null, \"Stars\": null, \"Forks\": null, \"hasgan\": 1, \"cum_gans\": 432, \"Day\": 1, \"Date\": \"2018-06-01T00:00:00\"}, {\"Year\": 2018, \"Month\": 6, \"Abbr.\": \"SR-CNN-VAE-GAN\", \"Title\": \"Semi-Recurrent CNN-based VAE-GAN for Sequential Data Generation\", \"Arxiv\": \"https://arxiv.org/abs/1806.00509\", \"Official_Code\": \"https://github.com/makbari7/SR-CNN-VAE-GAN\", \"Watches\": 2.0, \"Stars\": 8.0, \"Forks\": 3.0, \"hasgan\": 1, \"cum_gans\": 433, \"Day\": 1, \"Date\": \"2018-06-01T00:00:00\"}, {\"Year\": 2018, \"Month\": 6, \"Abbr.\": \"StarGAN-VC\", \"Title\": \"StarGAN-VC: Non-parallel many-to-many voice conversion with star generative adversarial networks \", \"Arxiv\": \"https://arxiv.org/abs/1806.02169\", \"Official_Code\": \"-\", \"Watches\": null, \"Stars\": null, \"Forks\": null, \"hasgan\": 1, \"cum_gans\": 434, \"Day\": 1, \"Date\": \"2018-06-01T00:00:00\"}, {\"Year\": 2018, \"Month\": 6, \"Abbr.\": \"table-GAN\", \"Title\": \"Data Synthesis based on Generative Adversarial Networks\", \"Arxiv\": \"https://arxiv.org/abs/1806.03384\", \"Official_Code\": \"-\", \"Watches\": null, \"Stars\": null, \"Forks\": null, \"hasgan\": 1, \"cum_gans\": 435, \"Day\": 1, \"Date\": \"2018-06-01T00:00:00\"}, {\"Year\": 2018, \"Month\": 6, \"Abbr.\": \"tcGAN\", \"Title\": \"Cross-modal Hallucination for Few-shot Fine-grained Recognition\", \"Arxiv\": \"https://arxiv.org/abs/1806.05147\", \"Official_Code\": \"-\", \"Watches\": null, \"Stars\": null, \"Forks\": null, \"hasgan\": 1, \"cum_gans\": 436, \"Day\": 1, \"Date\": \"2018-06-01T00:00:00\"}, {\"Year\": 2018, \"Month\": 6, \"Abbr.\": \"TD-GAN\", \"Title\": \"Task Driven Generative Modeling for Unsupervised Domain Adaptation: Application to X-ray Image Segmentation\", \"Arxiv\": \"https://arxiv.org/abs/1806.07201\", \"Official_Code\": \"-\", \"Watches\": null, \"Stars\": null, \"Forks\": null, \"hasgan\": 1, \"cum_gans\": 437, \"Day\": 1, \"Date\": \"2018-06-01T00:00:00\"}, {\"Year\": 2018, \"Month\": 6, \"Abbr.\": \"tempCycleGAN\", \"Title\": \"Improving Surgical Training Phantoms by Hyperrealism: Deep Unpaired Image-to-Image Translation from Real Surgeries\", \"Arxiv\": \"https://arxiv.org/abs/1806.03627\", \"Official_Code\": \"-\", \"Watches\": null, \"Stars\": null, \"Forks\": null, \"hasgan\": 1, \"cum_gans\": 438, \"Day\": 1, \"Date\": \"2018-06-01T00:00:00\"}, {\"Year\": 2018, \"Month\": 6, \"Abbr.\": \"VAC+GAN \", \"Title\": \"Versatile Auxiliary Classifier with Generative Adversarial Network (VAC+GAN), Multi Class Scenarios\", \"Arxiv\": \"https://arxiv.org/abs/1806.07751\", \"Official_Code\": \"-\", \"Watches\": null, \"Stars\": null, \"Forks\": null, \"hasgan\": 1, \"cum_gans\": 439, \"Day\": 1, \"Date\": \"2018-06-01T00:00:00\"}, {\"Year\": 2018, \"Month\": 7, \"Abbr.\": \"acGAN\", \"Title\": \"On-line Adaptative Curriculum Learning for GANs\", \"Arxiv\": \"https://arxiv.org/abs/1808.00020\", \"Official_Code\": \"-\", \"Watches\": null, \"Stars\": null, \"Forks\": null, \"hasgan\": 1, \"cum_gans\": 440, \"Day\": 1, \"Date\": \"2018-07-01T00:00:00\"}, {\"Year\": 2018, \"Month\": 7, \"Abbr.\": \"AlphaGAN\", \"Title\": \"AlphaGAN: Generative adversarial networks for natural image matting\", \"Arxiv\": \"https://arxiv.org/abs/1807.10088\", \"Official_Code\": \"-\", \"Watches\": null, \"Stars\": null, \"Forks\": null, \"hasgan\": 1, \"cum_gans\": 441, \"Day\": 1, \"Date\": \"2018-07-01T00:00:00\"}, {\"Year\": 2018, \"Month\": 7, \"Abbr.\": \"AMC-GAN\", \"Title\": \"Video Prediction with Appearance and Motion Conditions\", \"Arxiv\": \"https://arxiv.org/abs/1807.02635\", \"Official_Code\": \"-\", \"Watches\": null, \"Stars\": null, \"Forks\": null, \"hasgan\": 1, \"cum_gans\": 442, \"Day\": 1, \"Date\": \"2018-07-01T00:00:00\"}, {\"Year\": 2018, \"Month\": 7, \"Abbr.\": \"CE-GAN\", \"Title\": \"Deep Learning for Imbalance Data Classification using Class Expert Generative Adversarial Network\", \"Arxiv\": \"https://arxiv.org/abs/1807.04585\", \"Official_Code\": \"-\", \"Watches\": null, \"Stars\": null, \"Forks\": null, \"hasgan\": 1, \"cum_gans\": 443, \"Day\": 1, \"Date\": \"2018-07-01T00:00:00\"}, {\"Year\": 2018, \"Month\": 7, \"Abbr.\": \"ciGAN\", \"Title\": \"Conditional Infilling GANs for Data Augmentation in Mammogram Classification\", \"Arxiv\": \"https://arxiv.org/abs/1807.08093\", \"Official_Code\": \"-\", \"Watches\": null, \"Stars\": null, \"Forks\": null, \"hasgan\": 1, \"cum_gans\": 444, \"Day\": 1, \"Date\": \"2018-07-01T00:00:00\"}, {\"Year\": 2018, \"Month\": 7, \"Abbr.\": \"CT-GAN\", \"Title\": \"CT-GAN: Conditional Transformation Generative Adversarial Network for Image Attribute Modification\", \"Arxiv\": \"https://arxiv.org/abs/1807.04812\", \"Official_Code\": \"-\", \"Watches\": null, \"Stars\": null, \"Forks\": null, \"hasgan\": 1, \"cum_gans\": 445, \"Day\": 1, \"Date\": \"2018-07-01T00:00:00\"}, {\"Year\": 2018, \"Month\": 7, \"Abbr.\": \"DE-GAN\", \"Title\": \"Generative Adversarial Networks with Decoder-Encoder Output Noise\", \"Arxiv\": \"https://arxiv.org/abs/1807.03923\", \"Official_Code\": \"-\", \"Watches\": null, \"Stars\": null, \"Forks\": null, \"hasgan\": 1, \"cum_gans\": 446, \"Day\": 1, \"Date\": \"2018-07-01T00:00:00\"}, {\"Year\": 2018, \"Month\": 7, \"Abbr.\": \"Dropout-GAN\", \"Title\": \"Dropout-GAN: Learning from a Dynamic Ensemble of Discriminators\", \"Arxiv\": \"https://arxiv.org/abs/1807.11346\", \"Official_Code\": \"-\", \"Watches\": null, \"Stars\": null, \"Forks\": null, \"hasgan\": 1, \"cum_gans\": 447, \"Day\": 1, \"Date\": \"2018-07-01T00:00:00\"}, {\"Year\": 2018, \"Month\": 7, \"Abbr.\": \"Editable GAN\", \"Title\": \"Editable Generative Adversarial Networks: Generating and Editing Faces Simultaneously\", \"Arxiv\": \"https://arxiv.org/abs/1807.07700\", \"Official_Code\": \"-\", \"Watches\": null, \"Stars\": null, \"Forks\": null, \"hasgan\": 1, \"cum_gans\": 448, \"Day\": 1, \"Date\": \"2018-07-01T00:00:00\"}, {\"Year\": 2018, \"Month\": 7, \"Abbr.\": \"FGGAN\", \"Title\": \"Adversarial Learning for Fine-grained Image Search\", \"Arxiv\": \"https://arxiv.org/abs/1807.02247\", \"Official_Code\": \"-\", \"Watches\": null, \"Stars\": null, \"Forks\": null, \"hasgan\": 1, \"cum_gans\": 449, \"Day\": 1, \"Date\": \"2018-07-01T00:00:00\"}, {\"Year\": 2018, \"Month\": 7, \"Abbr.\": \"GAIA\", \"Title\": \"Generative adversarial interpolative autoencoding: adversarial training on latent space interpolations encourage convex latent distributions\", \"Arxiv\": \"https://arxiv.org/abs/1807.06650\", \"Official_Code\": \"-\", \"Watches\": null, \"Stars\": null, \"Forks\": null, \"hasgan\": 1, \"cum_gans\": 450, \"Day\": 1, \"Date\": \"2018-07-01T00:00:00\"}, {\"Year\": 2018, \"Month\": 7, \"Abbr.\": \"GAP\", \"Title\": \"Generative Adversarial Privacy\", \"Arxiv\": \"https://arxiv.org/abs/1807.05306\", \"Official_Code\": \"-\", \"Watches\": null, \"Stars\": null, \"Forks\": null, \"hasgan\": 1, \"cum_gans\": 451, \"Day\": 1, \"Date\": \"2018-07-01T00:00:00\"}, {\"Year\": 2018, \"Month\": 7, \"Abbr.\": \"IntroVAE\", \"Title\": \"IntroVAE: Introspective Variational Autoencoders for Photographic Image Synthesis\", \"Arxiv\": \"https://arxiv.org/abs/1807.06358\", \"Official_Code\": \"-\", \"Watches\": null, \"Stars\": null, \"Forks\": null, \"hasgan\": 1, \"cum_gans\": 452, \"Day\": 1, \"Date\": \"2018-07-01T00:00:00\"}, {\"Year\": 2018, \"Month\": 7, \"Abbr.\": \"ISGAN\", \"Title\": \"Invisible Steganography via Generative Adversarial Network\", \"Arxiv\": \"https://arxiv.org/abs/1807.08571\", \"Official_Code\": \"-\", \"Watches\": null, \"Stars\": null, \"Forks\": null, \"hasgan\": 1, \"cum_gans\": 453, \"Day\": 1, \"Date\": \"2018-07-01T00:00:00\"}, {\"Year\": 2018, \"Month\": 7, \"Abbr.\": \"LBT\", \"Title\": \"Learning Implicit Generative Models by Teaching Explicit Ones\", \"Arxiv\": \"https://arxiv.org/abs/1807.03870\", \"Official_Code\": \"-\", \"Watches\": null, \"Stars\": null, \"Forks\": null, \"hasgan\": 1, \"cum_gans\": 454, \"Day\": 1, \"Date\": \"2018-07-01T00:00:00\"}, {\"Year\": 2018, \"Month\": 7, \"Abbr.\": \"Lipizzaner\", \"Title\": \"Towards Distributed Coevolutionary GANs\", \"Arxiv\": \"https://arxiv.org/abs/1807.08194\", \"Official_Code\": \"-\", \"Watches\": null, \"Stars\": null, \"Forks\": null, \"hasgan\": 1, \"cum_gans\": 455, \"Day\": 1, \"Date\": \"2018-07-01T00:00:00\"}, {\"Year\": 2018, \"Month\": 7, \"Abbr.\": \"MIXGAN\", \"Title\": \"MIXGAN: Learning Concepts from Different Domains for Mixture Generation\", \"Arxiv\": \"https://arxiv.org/abs/1807.01659\", \"Official_Code\": \"-\", \"Watches\": null, \"Stars\": null, \"Forks\": null, \"hasgan\": 1, \"cum_gans\": 456, \"Day\": 1, \"Date\": \"2018-07-01T00:00:00\"}, {\"Year\": 2018, \"Month\": 7, \"Abbr.\": \"PIONEER\", \"Title\": \"Pioneer Networks: Progressively Growing Generative Autoencoder\", \"Arxiv\": \"https://arxiv.org/abs/1807.03026\", \"Official_Code\": \"-\", \"Watches\": null, \"Stars\": null, \"Forks\": null, \"hasgan\": 1, \"cum_gans\": 457, \"Day\": 1, \"Date\": \"2018-07-01T00:00:00\"}, {\"Year\": 2018, \"Month\": 7, \"Abbr.\": \"RaGAN\", \"Title\": \"The relativistic discriminator: a key element missing from standard GAN\", \"Arxiv\": \"https://arxiv.org/abs/1807.00734\", \"Official_Code\": \"-\", \"Watches\": null, \"Stars\": null, \"Forks\": null, \"hasgan\": 1, \"cum_gans\": 458, \"Day\": 1, \"Date\": \"2018-07-01T00:00:00\"}, {\"Year\": 2018, \"Month\": 7, \"Abbr.\": \"Resembled GAN\", \"Title\": \"Resembled Generative Adversarial Networks: Two Domains with Similar Attributes\", \"Arxiv\": \"https://arxiv.org/abs/1807.00947\", \"Official_Code\": \"-\", \"Watches\": null, \"Stars\": null, \"Forks\": null, \"hasgan\": 1, \"cum_gans\": 459, \"Day\": 1, \"Date\": \"2018-07-01T00:00:00\"}, {\"Year\": 2018, \"Month\": 7, \"Abbr.\": \"sAOG\", \"Title\": \"Deep Structured Generative Models\", \"Arxiv\": \"https://arxiv.org/abs/1807.03877\", \"Official_Code\": \"-\", \"Watches\": null, \"Stars\": null, \"Forks\": null, \"hasgan\": 1, \"cum_gans\": 460, \"Day\": 1, \"Date\": \"2018-07-01T00:00:00\"}, {\"Year\": 2018, \"Month\": 7, \"Abbr.\": \"Sem-GAN\", \"Title\": \"Sem-GAN: Semantically-Consistent Image-to-Image Translation\", \"Arxiv\": \"https://arxiv.org/abs/1807.04409\", \"Official_Code\": \"-\", \"Watches\": null, \"Stars\": null, \"Forks\": null, \"hasgan\": 1, \"cum_gans\": 461, \"Day\": 1, \"Date\": \"2018-07-01T00:00:00\"}, {\"Year\": 2018, \"Month\": 7, \"Abbr.\": \"SGAN\", \"Title\": \"CT Image Enhancement Using Stacked Generative Adversarial Networks and Transfer Learning for Lesion Segmentation Improvement\", \"Arxiv\": \"https://arxiv.org/abs/1807.07144\", \"Official_Code\": \"-\", \"Watches\": null, \"Stars\": null, \"Forks\": null, \"hasgan\": 1, \"cum_gans\": 462, \"Day\": 1, \"Date\": \"2018-07-01T00:00:00\"}, {\"Year\": 2018, \"Month\": 7, \"Abbr.\": \"SiGAN\", \"Title\": \"SiGAN: Siamese Generative Adversarial Network for Identity-Preserving Face Hallucination\", \"Arxiv\": \"https://arxiv.org/abs/1807.08370\", \"Official_Code\": \"-\", \"Watches\": null, \"Stars\": null, \"Forks\": null, \"hasgan\": 1, \"cum_gans\": 463, \"Day\": 1, \"Date\": \"2018-07-01T00:00:00\"}, {\"Year\": 2018, \"Month\": 7, \"Abbr.\": \"TequilaGAN\", \"Title\": \"TequilaGAN: How to easily identify GAN samples\", \"Arxiv\": \"https://arxiv.org/abs/1807.04919\", \"Official_Code\": \"-\", \"Watches\": null, \"Stars\": null, \"Forks\": null, \"hasgan\": 1, \"cum_gans\": 464, \"Day\": 1, \"Date\": \"2018-07-01T00:00:00\"}, {\"Year\": 2018, \"Month\": 7, \"Abbr.\": \"WGAN-L1\", \"Title\": \"Subsampled Turbulence Removal Network\", \"Arxiv\": \"https://arxiv.org/abs/1807.04418\", \"Official_Code\": \"-\", \"Watches\": null, \"Stars\": null, \"Forks\": null, \"hasgan\": 1, \"cum_gans\": 465, \"Day\": 1, \"Date\": \"2018-07-01T00:00:00\"}, {\"Year\": 2018, \"Month\": 8, \"Abbr.\": \"BEGAN-CS\", \"Title\": \"Escaping from Collapsing Modes in a Constrained Space\", \"Arxiv\": \"https://arxiv.org/abs/1808.07258\", \"Official_Code\": \"-\", \"Watches\": null, \"Stars\": null, \"Forks\": null, \"hasgan\": 1, \"cum_gans\": 466, \"Day\": 1, \"Date\": \"2018-08-01T00:00:00\"}, {\"Year\": 2018, \"Month\": 8, \"Abbr.\": \"Bellman GAN\", \"Title\": \"Distributional Multivariate Policy Evaluation and Exploration with the Bellman GAN\", \"Arxiv\": \"https://arxiv.org/abs/1808.01960\", \"Official_Code\": \"-\", \"Watches\": null, \"Stars\": null, \"Forks\": null, \"hasgan\": 1, \"cum_gans\": 467, \"Day\": 1, \"Date\": \"2018-08-01T00:00:00\"}, {\"Year\": 2018, \"Month\": 8, \"Abbr.\": \"BridgeGAN\", \"Title\": \"Generative Adversarial Frontal View to Bird View Synthesis\", \"Arxiv\": \"https://arxiv.org/abs/1808.00327\", \"Official_Code\": \"-\", \"Watches\": null, \"Stars\": null, \"Forks\": null, \"hasgan\": 1, \"cum_gans\": 468, \"Day\": 1, \"Date\": \"2018-08-01T00:00:00\"}, {\"Year\": 2018, \"Month\": 8, \"Abbr.\": \"DOPING\", \"Title\": \"DOPING: Generative Data Augmentation for Unsupervised Anomaly Detection with GAN\", \"Arxiv\": \"https://arxiv.org/abs/1808.07632\", \"Official_Code\": \"-\", \"Watches\": null, \"Stars\": null, \"Forks\": null, \"hasgan\": 1, \"cum_gans\": 469, \"Day\": 1, \"Date\": \"2018-08-01T00:00:00\"}, {\"Year\": 2018, \"Month\": 8, \"Abbr.\": \"GIN\", \"Title\": \"Generative Invertible Networks (GIN): Pathophysiology-Interpretable Feature Mapping and Virtual Patient Generation\", \"Arxiv\": \"https://arxiv.org/abs/1808.04495\", \"Official_Code\": \"-\", \"Watches\": null, \"Stars\": null, \"Forks\": null, \"hasgan\": 1, \"cum_gans\": 470, \"Day\": 1, \"Date\": \"2018-08-01T00:00:00\"}, {\"Year\": 2018, \"Month\": 8, \"Abbr.\": \"GM-GAN\", \"Title\": \"Gaussian Mixture Generative Adversarial Networks for Diverse Datasets, and the Unsupervised Clustering of Images\", \"Arxiv\": \"https://arxiv.org/abs/1808.10356\", \"Official_Code\": \"-\", \"Watches\": null, \"Stars\": null, \"Forks\": null, \"hasgan\": 1, \"cum_gans\": 471, \"Day\": 1, \"Date\": \"2018-08-01T00:00:00\"}, {\"Year\": 2018, \"Month\": 8, \"Abbr.\": \"ISP-GPM\", \"Title\": \"Inner Space Preserving Generative Pose Machine\", \"Arxiv\": \"https://arxiv.org/abs/1808.02104\", \"Official_Code\": \"-\", \"Watches\": null, \"Stars\": null, \"Forks\": null, \"hasgan\": 1, \"cum_gans\": 472, \"Day\": 1, \"Date\": \"2018-08-01T00:00:00\"}, {\"Year\": 2018, \"Month\": 8, \"Abbr.\": \"MinLGAN\", \"Title\": \"Anomaly Detection via Minimum Likelihood Generative Adversarial Networks\", \"Arxiv\": \"https://arxiv.org/abs/1808.00200\", \"Official_Code\": \"-\", \"Watches\": null, \"Stars\": null, \"Forks\": null, \"hasgan\": 1, \"cum_gans\": 473, \"Day\": 1, \"Date\": \"2018-08-01T00:00:00\"}, {\"Year\": 2018, \"Month\": 8, \"Abbr.\": \"Recycle-GAN\", \"Title\": \"Recycle-GAN: Unsupervised Video Retargeting\", \"Arxiv\": \"https://arxiv.org/abs/1808.05174\", \"Official_Code\": \"-\", \"Watches\": null, \"Stars\": null, \"Forks\": null, \"hasgan\": 1, \"cum_gans\": 474, \"Day\": 1, \"Date\": \"2018-08-01T00:00:00\"}, {\"Year\": 2018, \"Month\": 8, \"Abbr.\": \"ScarGAN\", \"Title\": \"ScarGAN: Chained Generative Adversarial Networks to Simulate Pathological Tissue on Cardiovascular MR Scans\", \"Arxiv\": \"https://arxiv.org/abs/1808.04500\", \"Official_Code\": \"-\", \"Watches\": null, \"Stars\": null, \"Forks\": null, \"hasgan\": 1, \"cum_gans\": 475, \"Day\": 1, \"Date\": \"2018-08-01T00:00:00\"}, {\"Year\": 2018, \"Month\": 8, \"Abbr.\": \"Skip-Thought GAN\", \"Title\": \"Generating Text through Adversarial Training using Skip-Thought Vectors\", \"Arxiv\": \"https://arxiv.org/abs/1808.08703\", \"Official_Code\": \"-\", \"Watches\": null, \"Stars\": null, \"Forks\": null, \"hasgan\": 1, \"cum_gans\": 476, \"Day\": 1, \"Date\": \"2018-08-01T00:00:00\"}, {\"Year\": 2018, \"Month\": 8, \"Abbr.\": \"StepGAN\", \"Title\": \"Improving Conditional Sequence Generative Adversarial Networks by Stepwise Evaluation\", \"Arxiv\": \"https://arxiv.org/abs/1808.05599\", \"Official_Code\": \"-\", \"Watches\": null, \"Stars\": null, \"Forks\": null, \"hasgan\": 1, \"cum_gans\": 477, \"Day\": 1, \"Date\": \"2018-08-01T00:00:00\"}, {\"Year\": 2018, \"Month\": 8, \"Abbr.\": \"T2Net\", \"Title\": \"T2Net: Synthetic-to-Realistic Translation for Solving Single-Image Depth Estimation Tasks\", \"Arxiv\": \"https://arxiv.org/abs/1808.01454\", \"Official_Code\": \"-\", \"Watches\": null, \"Stars\": null, \"Forks\": null, \"hasgan\": 1, \"cum_gans\": 478, \"Day\": 1, \"Date\": \"2018-08-01T00:00:00\"}, {\"Year\": 2018, \"Month\": 8, \"Abbr.\": \"TreeGAN\", \"Title\": \"TreeGAN: Syntax-Aware Sequence Generation with Generative Adversarial Networks\", \"Arxiv\": \"https://arxiv.org/abs/1808.07582\", \"Official_Code\": \"-\", \"Watches\": null, \"Stars\": null, \"Forks\": null, \"hasgan\": 1, \"cum_gans\": 479, \"Day\": 1, \"Date\": \"2018-08-01T00:00:00\"}, {\"Year\": 2018, \"Month\": 8, \"Abbr.\": \"X-GANs\", \"Title\": \"X-GANs: Image Reconstruction Made Easy for Extreme Cases\", \"Arxiv\": \"https://arxiv.org/abs/1808.04432\", \"Official_Code\": \"-\", \"Watches\": null, \"Stars\": null, \"Forks\": null, \"hasgan\": 1, \"cum_gans\": 480, \"Day\": 1, \"Date\": \"2018-08-01T00:00:00\"}, {\"Year\": 2018, \"Month\": 9, \"Abbr.\": \"AE-OT\", \"Title\": \"Latent Space Optimal Transport for Generative Models\", \"Arxiv\": \"https://arxiv.org/abs/1809.05964\", \"Official_Code\": \"-\", \"Watches\": null, \"Stars\": null, \"Forks\": null, \"hasgan\": 1, \"cum_gans\": 481, \"Day\": 1, \"Date\": \"2018-09-01T00:00:00\"}, {\"Year\": 2018, \"Month\": 9, \"Abbr.\": \"AIM\", \"Title\": \"Generating Informative and Diverse Conversational Responses via Adversarial Information Maximization\", \"Arxiv\": \"https://arxiv.org/abs/1809.05972\", \"Official_Code\": \"-\", \"Watches\": null, \"Stars\": null, \"Forks\": null, \"hasgan\": 1, \"cum_gans\": 482, \"Day\": 1, \"Date\": \"2018-09-01T00:00:00\"}, {\"Year\": 2018, \"Month\": 9, \"Abbr.\": \"Bi-GAN\", \"Title\": \"Autonomously and Simultaneously Refining Deep Neural Network Parameters by a Bi-Generative Adversarial Network Aided Genetic Algorithm\", \"Arxiv\": \"https://arxiv.org/abs/1809.10244\", \"Official_Code\": \"-\", \"Watches\": null, \"Stars\": null, \"Forks\": null, \"hasgan\": 1, \"cum_gans\": 483, \"Day\": 1, \"Date\": \"2018-09-01T00:00:00\"}, {\"Year\": 2018, \"Month\": 9, \"Abbr.\": \"BubGAN\", \"Title\": \"BubGAN: Bubble Generative Adversarial Networks for Synthesizing Realistic Bubbly Flow Images\", \"Arxiv\": \"https://arxiv.org/abs/1809.02266\", \"Official_Code\": \"-\", \"Watches\": null, \"Stars\": null, \"Forks\": null, \"hasgan\": 1, \"cum_gans\": 484, \"Day\": 1, \"Date\": \"2018-09-01T00:00:00\"}, {\"Year\": 2018, \"Month\": 9, \"Abbr.\": \"CinCGAN\", \"Title\": \"Unsupervised Image Super-Resolution using Cycle-in-Cycle Generative Adversarial Networks\", \"Arxiv\": \"https://arxiv.org/abs/1809.00437\", \"Official_Code\": \"-\", \"Watches\": null, \"Stars\": null, \"Forks\": null, \"hasgan\": 1, \"cum_gans\": 485, \"Day\": 1, \"Date\": \"2018-09-01T00:00:00\"}, {\"Year\": 2018, \"Month\": 9, \"Abbr.\": \"ClusterGAN\", \"Title\": \"ClusterGAN : Latent Space Clustering in Generative Adversarial Networks\", \"Arxiv\": \"https://arxiv.org/abs/1809.03627\", \"Official_Code\": \"-\", \"Watches\": null, \"Stars\": null, \"Forks\": null, \"hasgan\": 1, \"cum_gans\": 486, \"Day\": 1, \"Date\": \"2018-09-01T00:00:00\"}, {\"Year\": 2018, \"Month\": 9, \"Abbr.\": \"DADA\", \"Title\": \"DADA: Deep Adversarial Data Augmentation for Extremely Low Data Regime Classification\", \"Arxiv\": \"https://arxiv.org/abs/1809.00981\", \"Official_Code\": \"-\", \"Watches\": null, \"Stars\": null, \"Forks\": null, \"hasgan\": 1, \"cum_gans\": 487, \"Day\": 1, \"Date\": \"2018-09-01T00:00:00\"}, {\"Year\": 2018, \"Month\": 9, \"Abbr.\": \"DeepFD\", \"Title\": \"Learning to Detect Fake Face Images in the Wild\", \"Arxiv\": \"https://arxiv.org/abs/1809.08754\", \"Official_Code\": \"-\", \"Watches\": null, \"Stars\": null, \"Forks\": null, \"hasgan\": 1, \"cum_gans\": 488, \"Day\": 1, \"Date\": \"2018-09-01T00:00:00\"}, {\"Year\": 2018, \"Month\": 9, \"Abbr.\": \"ESRGAN\", \"Title\": \"ESRGAN: Enhanced Super-Resolution Generative Adversarial Networks\", \"Arxiv\": \"https://arxiv.org/abs/1809.00219\", \"Official_Code\": \"-\", \"Watches\": null, \"Stars\": null, \"Forks\": null, \"hasgan\": 1, \"cum_gans\": 489, \"Day\": 1, \"Date\": \"2018-09-01T00:00:00\"}, {\"Year\": 2018, \"Month\": 9, \"Abbr.\": \"GAN Lab\", \"Title\": \"GAN Lab: Understanding Complex Deep Generative Models using Interactive Visual Experimentation\", \"Arxiv\": \"https://arxiv.org/abs/1809.01587\", \"Official_Code\": \"-\", \"Watches\": null, \"Stars\": null, \"Forks\": null, \"hasgan\": 1, \"cum_gans\": 490, \"Day\": 1, \"Date\": \"2018-09-01T00:00:00\"}, {\"Year\": 2018, \"Month\": 9, \"Abbr.\": \"GAN-AD\", \"Title\": \"Anomaly Detection with Generative Adversarial Networks for Multivariate Time Series\", \"Arxiv\": \"https://arxiv.org/abs/1809.04758\", \"Official_Code\": \"-\", \"Watches\": null, \"Stars\": null, \"Forks\": null, \"hasgan\": 1, \"cum_gans\": 491, \"Day\": 1, \"Date\": \"2018-09-01T00:00:00\"}, {\"Year\": 2018, \"Month\": 9, \"Abbr.\": \"GANVO\", \"Title\": \"GANVO: Unsupervised Deep Monocular Visual Odometry and Depth Estimation with Generative Adversarial Networks\", \"Arxiv\": \"https://arxiv.org/abs/1809.05786\", \"Official_Code\": \"-\", \"Watches\": null, \"Stars\": null, \"Forks\": null, \"hasgan\": 1, \"cum_gans\": 492, \"Day\": 1, \"Date\": \"2018-09-01T00:00:00\"}, {\"Year\": 2018, \"Month\": 9, \"Abbr.\": \"GcGAN\", \"Title\": \"Geometry-Consistent Adversarial Networks for One-Sided Unsupervised Domain Mapping\", \"Arxiv\": \"https://arxiv.org/abs/1809.05852\", \"Official_Code\": \"-\", \"Watches\": null, \"Stars\": null, \"Forks\": null, \"hasgan\": 1, \"cum_gans\": 493, \"Day\": 1, \"Date\": \"2018-09-01T00:00:00\"}, {\"Year\": 2018, \"Month\": 9, \"Abbr.\": \"GraphSGAN\", \"Title\": \"Semi-supervised Learning on Graphs with Generative Adversarial Nets\", \"Arxiv\": \"https://arxiv.org/abs/1809.00130\", \"Official_Code\": \"-\", \"Watches\": null, \"Stars\": null, \"Forks\": null, \"hasgan\": 1, \"cum_gans\": 494, \"Day\": 1, \"Date\": \"2018-09-01T00:00:00\"}, {\"Year\": 2018, \"Month\": 9, \"Abbr.\": \"IGMM-GAN\", \"Title\": \"Coupled IGMM-GANs for deep multimodal anomaly detection in human mobility data\", \"Arxiv\": \"https://arxiv.org/abs/1809.02728\", \"Official_Code\": \"-\", \"Watches\": null, \"Stars\": null, \"Forks\": null, \"hasgan\": 1, \"cum_gans\": 495, \"Day\": 1, \"Date\": \"2018-09-01T00:00:00\"}, {\"Year\": 2018, \"Month\": 9, \"Abbr.\": \"MeRGAN\", \"Title\": \"Memory Replay GANs: learning to generate images from new categories without forgetting\", \"Arxiv\": \"https://arxiv.org/abs/1809.02058\", \"Official_Code\": \"-\", \"Watches\": null, \"Stars\": null, \"Forks\": null, \"hasgan\": 1, \"cum_gans\": 496, \"Day\": 1, \"Date\": \"2018-09-01T00:00:00\"}, {\"Year\": 2018, \"Month\": 9, \"Abbr.\": \"SAM\", \"Title\": \"Sample-Efficient Imitation Learning via Generative Adversarial Nets\", \"Arxiv\": \"https://arxiv.org/abs/1809.02064\", \"Official_Code\": \"-\", \"Watches\": null, \"Stars\": null, \"Forks\": null, \"hasgan\": 1, \"cum_gans\": 497, \"Day\": 1, \"Date\": \"2018-09-01T00:00:00\"}, {\"Year\": 2018, \"Month\": 9, \"Abbr.\": \"SiftingGAN\", \"Title\": \"SiftingGAN: Generating and Sifting Labeled Samples to Improve the Remote Sensing Image Scene Classification Baseline in vitro\", \"Arxiv\": \"https://arxiv.org/abs/1809.04985\", \"Official_Code\": \"-\", \"Watches\": null, \"Stars\": null, \"Forks\": null, \"hasgan\": 1, \"cum_gans\": 498, \"Day\": 1, \"Date\": \"2018-09-01T00:00:00\"}, {\"Year\": 2018, \"Month\": 9, \"Abbr.\": \"SLSR\", \"Title\": \"Sparse Label Smoothing for Semi-supervised Person Re-Identification\", \"Arxiv\": \"https://arxiv.org/abs/1809.04976\", \"Official_Code\": \"-\", \"Watches\": null, \"Stars\": null, \"Forks\": null, \"hasgan\": 1, \"cum_gans\": 499, \"Day\": 1, \"Date\": \"2018-09-01T00:00:00\"}, {\"Year\": 2018, \"Month\": 9, \"Abbr.\": \"Twin-GAN\", \"Title\": \"Twin-GAN -- Unpaired Cross-Domain Image Translation with Weight-Sharing GANs\", \"Arxiv\": \"https://arxiv.org/abs/1809.00946\", \"Official_Code\": \"-\", \"Watches\": null, \"Stars\": null, \"Forks\": null, \"hasgan\": 1, \"cum_gans\": 500, \"Day\": 1, \"Date\": \"2018-09-01T00:00:00\"}, {\"Year\": 2018, \"Month\": 9, \"Abbr.\": \"WaveletGLCA-GAN\", \"Title\": \"Global and Local Consistent Wavelet-domain Age Synthesis\", \"Arxiv\": \"https://arxiv.org/abs/1809.07764\", \"Official_Code\": \"-\", \"Watches\": null, \"Stars\": null, \"Forks\": null, \"hasgan\": 1, \"cum_gans\": 501, \"Day\": 1, \"Date\": \"2018-09-01T00:00:00\"}]}};\n",
              "      var embedOpt = {\"mode\": \"vega-lite\"};\n",
              "\n",
              "      function showError(el, error){\n",
              "          el.innerHTML = ('<div class=\"error\" style=\"color:red;\">'\n",
              "                          + '<p>JavaScript Error: ' + error.message + '</p>'\n",
              "                          + \"<p>This usually means there's a typo in your chart specification. \"\n",
              "                          + \"See the javascript console for the full traceback.</p>\"\n",
              "                          + '</div>');\n",
              "          throw error;\n",
              "      }\n",
              "      const el = document.getElementById('altair-viz');\n",
              "      vegaEmbed(\"#altair-viz\", spec, embedOpt)\n",
              "        .catch(error => showError(el, error));\n",
              "    })(vegaEmbed);\n",
              "\n",
              "  </script>\n",
              "</body>\n",
              "</html>"
            ]
          },
          "metadata": {
            "tags": []
          },
          "execution_count": 240
        }
      ]
    },
    {
      "cell_type": "code",
      "metadata": {
        "id": "MQxULcopeQy_",
        "colab_type": "code",
        "colab": {}
      },
      "source": [
        "img_source = 'https://raw.githubusercontent.com/btlewisusabtlewis/DataVisualizationClass/master/AI%20progress%20-%20ImageNet%20trends.csv'"
      ],
      "execution_count": 0,
      "outputs": []
    },
    {
      "cell_type": "code",
      "metadata": {
        "id": "-Z9xEbaq66sp",
        "colab_type": "code",
        "colab": {}
      },
      "source": [
        "imagenet_raw = pd.read_csv(img_source)"
      ],
      "execution_count": 0,
      "outputs": []
    },
    {
      "cell_type": "code",
      "metadata": {
        "id": "39ACsUzz7Bdm",
        "colab_type": "code",
        "colab": {
          "base_uri": "https://localhost:8080/",
          "height": 204
        },
        "outputId": "08657afd-4895-431b-9dde-dbc068156294"
      },
      "source": [
        "imagenet_raw.head()"
      ],
      "execution_count": 243,
      "outputs": [
        {
          "output_type": "execute_result",
          "data": {
            "text/html": [
              "<div>\n",
              "<style scoped>\n",
              "    .dataframe tbody tr th:only-of-type {\n",
              "        vertical-align: middle;\n",
              "    }\n",
              "\n",
              "    .dataframe tbody tr th {\n",
              "        vertical-align: top;\n",
              "    }\n",
              "\n",
              "    .dataframe thead th {\n",
              "        text-align: right;\n",
              "    }\n",
              "</style>\n",
              "<table border=\"1\" class=\"dataframe\">\n",
              "  <thead>\n",
              "    <tr style=\"text-align: right;\">\n",
              "      <th></th>\n",
              "      <th>Year</th>\n",
              "      <th>Best AI System</th>\n",
              "      <th>Human Performance</th>\n",
              "      <th>AI Localization Accuracy</th>\n",
              "      <th>AI Classification Error</th>\n",
              "      <th>Human Classification Error</th>\n",
              "    </tr>\n",
              "  </thead>\n",
              "  <tbody>\n",
              "    <tr>\n",
              "      <th>0</th>\n",
              "      <td>2010</td>\n",
              "      <td>0.718</td>\n",
              "      <td>0.949</td>\n",
              "      <td>NaN</td>\n",
              "      <td>28.19%</td>\n",
              "      <td>5.10%</td>\n",
              "    </tr>\n",
              "    <tr>\n",
              "      <th>1</th>\n",
              "      <td>2011</td>\n",
              "      <td>0.742</td>\n",
              "      <td>0.949</td>\n",
              "      <td>57.50%</td>\n",
              "      <td>25.77%</td>\n",
              "      <td>5.10%</td>\n",
              "    </tr>\n",
              "    <tr>\n",
              "      <th>2</th>\n",
              "      <td>2012</td>\n",
              "      <td>0.847</td>\n",
              "      <td>0.949</td>\n",
              "      <td>66.45%</td>\n",
              "      <td>15.31%</td>\n",
              "      <td>5.10%</td>\n",
              "    </tr>\n",
              "    <tr>\n",
              "      <th>3</th>\n",
              "      <td>2013</td>\n",
              "      <td>0.888</td>\n",
              "      <td>0.949</td>\n",
              "      <td>70.12%</td>\n",
              "      <td>11.20%</td>\n",
              "      <td>5.10%</td>\n",
              "    </tr>\n",
              "    <tr>\n",
              "      <th>4</th>\n",
              "      <td>2014</td>\n",
              "      <td>0.933</td>\n",
              "      <td>0.949</td>\n",
              "      <td>74.68%</td>\n",
              "      <td>6.66%</td>\n",
              "      <td>5.10%</td>\n",
              "    </tr>\n",
              "  </tbody>\n",
              "</table>\n",
              "</div>"
            ],
            "text/plain": [
              "   Year  Best AI System  ...  AI Classification Error Human Classification Error\n",
              "0  2010           0.718  ...                   28.19%                      5.10%\n",
              "1  2011           0.742  ...                   25.77%                      5.10%\n",
              "2  2012           0.847  ...                   15.31%                      5.10%\n",
              "3  2013           0.888  ...                   11.20%                      5.10%\n",
              "4  2014           0.933  ...                    6.66%                      5.10%\n",
              "\n",
              "[5 rows x 6 columns]"
            ]
          },
          "metadata": {
            "tags": []
          },
          "execution_count": 243
        }
      ]
    },
    {
      "cell_type": "code",
      "metadata": {
        "id": "yGjEockV7Dkv",
        "colab_type": "code",
        "colab": {}
      },
      "source": [
        "imagenet_raw = imagenet_raw.fillna(0)"
      ],
      "execution_count": 0,
      "outputs": []
    },
    {
      "cell_type": "code",
      "metadata": {
        "id": "w4ccalWE7PrP",
        "colab_type": "code",
        "colab": {
          "base_uri": "https://localhost:8080/",
          "height": 204
        },
        "outputId": "fb2f91a2-9358-4d54-b9e4-04cff5a08ba5"
      },
      "source": [
        "imagenet_raw.head()"
      ],
      "execution_count": 245,
      "outputs": [
        {
          "output_type": "execute_result",
          "data": {
            "text/html": [
              "<div>\n",
              "<style scoped>\n",
              "    .dataframe tbody tr th:only-of-type {\n",
              "        vertical-align: middle;\n",
              "    }\n",
              "\n",
              "    .dataframe tbody tr th {\n",
              "        vertical-align: top;\n",
              "    }\n",
              "\n",
              "    .dataframe thead th {\n",
              "        text-align: right;\n",
              "    }\n",
              "</style>\n",
              "<table border=\"1\" class=\"dataframe\">\n",
              "  <thead>\n",
              "    <tr style=\"text-align: right;\">\n",
              "      <th></th>\n",
              "      <th>Year</th>\n",
              "      <th>Best AI System</th>\n",
              "      <th>Human Performance</th>\n",
              "      <th>AI Localization Accuracy</th>\n",
              "      <th>AI Classification Error</th>\n",
              "      <th>Human Classification Error</th>\n",
              "    </tr>\n",
              "  </thead>\n",
              "  <tbody>\n",
              "    <tr>\n",
              "      <th>0</th>\n",
              "      <td>2010</td>\n",
              "      <td>0.718</td>\n",
              "      <td>0.949</td>\n",
              "      <td>0</td>\n",
              "      <td>28.19%</td>\n",
              "      <td>5.10%</td>\n",
              "    </tr>\n",
              "    <tr>\n",
              "      <th>1</th>\n",
              "      <td>2011</td>\n",
              "      <td>0.742</td>\n",
              "      <td>0.949</td>\n",
              "      <td>57.50%</td>\n",
              "      <td>25.77%</td>\n",
              "      <td>5.10%</td>\n",
              "    </tr>\n",
              "    <tr>\n",
              "      <th>2</th>\n",
              "      <td>2012</td>\n",
              "      <td>0.847</td>\n",
              "      <td>0.949</td>\n",
              "      <td>66.45%</td>\n",
              "      <td>15.31%</td>\n",
              "      <td>5.10%</td>\n",
              "    </tr>\n",
              "    <tr>\n",
              "      <th>3</th>\n",
              "      <td>2013</td>\n",
              "      <td>0.888</td>\n",
              "      <td>0.949</td>\n",
              "      <td>70.12%</td>\n",
              "      <td>11.20%</td>\n",
              "      <td>5.10%</td>\n",
              "    </tr>\n",
              "    <tr>\n",
              "      <th>4</th>\n",
              "      <td>2014</td>\n",
              "      <td>0.933</td>\n",
              "      <td>0.949</td>\n",
              "      <td>74.68%</td>\n",
              "      <td>6.66%</td>\n",
              "      <td>5.10%</td>\n",
              "    </tr>\n",
              "  </tbody>\n",
              "</table>\n",
              "</div>"
            ],
            "text/plain": [
              "   Year  Best AI System  ...  AI Classification Error Human Classification Error\n",
              "0  2010           0.718  ...                   28.19%                      5.10%\n",
              "1  2011           0.742  ...                   25.77%                      5.10%\n",
              "2  2012           0.847  ...                   15.31%                      5.10%\n",
              "3  2013           0.888  ...                   11.20%                      5.10%\n",
              "4  2014           0.933  ...                    6.66%                      5.10%\n",
              "\n",
              "[5 rows x 6 columns]"
            ]
          },
          "metadata": {
            "tags": []
          },
          "execution_count": 245
        }
      ]
    },
    {
      "cell_type": "code",
      "metadata": {
        "id": "CJZ8ZXJSCLcj",
        "colab_type": "code",
        "colab": {}
      },
      "source": [
        "imagenet_raw['AI Accuracy Percent'] = imagenet_raw['Best AI System'].mul(100).round(1).astype(str) + '%'"
      ],
      "execution_count": 0,
      "outputs": []
    },
    {
      "cell_type": "code",
      "metadata": {
        "id": "mBrvqTyDCcvt",
        "colab_type": "code",
        "colab": {
          "base_uri": "https://localhost:8080/",
          "height": 204
        },
        "outputId": "3c97afe4-0acb-4d52-8852-e385371f7e6b"
      },
      "source": [
        "imagenet_raw.head()"
      ],
      "execution_count": 247,
      "outputs": [
        {
          "output_type": "execute_result",
          "data": {
            "text/html": [
              "<div>\n",
              "<style scoped>\n",
              "    .dataframe tbody tr th:only-of-type {\n",
              "        vertical-align: middle;\n",
              "    }\n",
              "\n",
              "    .dataframe tbody tr th {\n",
              "        vertical-align: top;\n",
              "    }\n",
              "\n",
              "    .dataframe thead th {\n",
              "        text-align: right;\n",
              "    }\n",
              "</style>\n",
              "<table border=\"1\" class=\"dataframe\">\n",
              "  <thead>\n",
              "    <tr style=\"text-align: right;\">\n",
              "      <th></th>\n",
              "      <th>Year</th>\n",
              "      <th>Best AI System</th>\n",
              "      <th>Human Performance</th>\n",
              "      <th>AI Localization Accuracy</th>\n",
              "      <th>AI Classification Error</th>\n",
              "      <th>Human Classification Error</th>\n",
              "      <th>AI Accuracy Percent</th>\n",
              "    </tr>\n",
              "  </thead>\n",
              "  <tbody>\n",
              "    <tr>\n",
              "      <th>0</th>\n",
              "      <td>2010</td>\n",
              "      <td>0.718</td>\n",
              "      <td>0.949</td>\n",
              "      <td>0</td>\n",
              "      <td>28.19%</td>\n",
              "      <td>5.10%</td>\n",
              "      <td>71.8%</td>\n",
              "    </tr>\n",
              "    <tr>\n",
              "      <th>1</th>\n",
              "      <td>2011</td>\n",
              "      <td>0.742</td>\n",
              "      <td>0.949</td>\n",
              "      <td>57.50%</td>\n",
              "      <td>25.77%</td>\n",
              "      <td>5.10%</td>\n",
              "      <td>74.2%</td>\n",
              "    </tr>\n",
              "    <tr>\n",
              "      <th>2</th>\n",
              "      <td>2012</td>\n",
              "      <td>0.847</td>\n",
              "      <td>0.949</td>\n",
              "      <td>66.45%</td>\n",
              "      <td>15.31%</td>\n",
              "      <td>5.10%</td>\n",
              "      <td>84.7%</td>\n",
              "    </tr>\n",
              "    <tr>\n",
              "      <th>3</th>\n",
              "      <td>2013</td>\n",
              "      <td>0.888</td>\n",
              "      <td>0.949</td>\n",
              "      <td>70.12%</td>\n",
              "      <td>11.20%</td>\n",
              "      <td>5.10%</td>\n",
              "      <td>88.8%</td>\n",
              "    </tr>\n",
              "    <tr>\n",
              "      <th>4</th>\n",
              "      <td>2014</td>\n",
              "      <td>0.933</td>\n",
              "      <td>0.949</td>\n",
              "      <td>74.68%</td>\n",
              "      <td>6.66%</td>\n",
              "      <td>5.10%</td>\n",
              "      <td>93.3%</td>\n",
              "    </tr>\n",
              "  </tbody>\n",
              "</table>\n",
              "</div>"
            ],
            "text/plain": [
              "   Year  Best AI System  ...  Human Classification Error AI Accuracy Percent\n",
              "0  2010           0.718  ...                       5.10%               71.8%\n",
              "1  2011           0.742  ...                       5.10%               74.2%\n",
              "2  2012           0.847  ...                       5.10%               84.7%\n",
              "3  2013           0.888  ...                       5.10%               88.8%\n",
              "4  2014           0.933  ...                       5.10%               93.3%\n",
              "\n",
              "[5 rows x 7 columns]"
            ]
          },
          "metadata": {
            "tags": []
          },
          "execution_count": 247
        }
      ]
    },
    {
      "cell_type": "code",
      "metadata": {
        "id": "hBjFdYa87ga2",
        "colab_type": "code",
        "colab": {}
      },
      "source": [
        "imn_bars = Chart(imagenet_raw, title=\"ImageNet Image Classification Accuracy 2010-2017\").properties(\n",
        "    width=600, \n",
        "    height=500\n",
        ").mark_bar(\n",
        "    size=42,\n",
        "    color='blue'\n",
        ").encode(\n",
        "    y=alt.Y('Best AI System:Q', title = 'Accuracy', axis=alt.Axis(format='.0%', tickCount=5)),\n",
        "    x=\"Year:O\"\n",
        ")"
      ],
      "execution_count": 0,
      "outputs": []
    },
    {
      "cell_type": "code",
      "metadata": {
        "id": "w1TwUotW8hbs",
        "colab_type": "code",
        "colab": {}
      },
      "source": [
        "imn_text = imn_bars.mark_text(\n",
        "    align='center',\n",
        "    baseline='top',\n",
        "    dy=-15,  # Nudges text to right so it doesn't appear on top of the bar\n",
        "    color='black'\n",
        ").encode(\n",
        "    text='AI Accuracy Percent:N'\n",
        ")"
      ],
      "execution_count": 0,
      "outputs": []
    },
    {
      "cell_type": "code",
      "metadata": {
        "id": "3JZWUPlQEr-3",
        "colab_type": "code",
        "colab": {}
      },
      "source": [
        "imn_rule = Chart(imagenet_raw).mark_rule(color='red', size=4).encode(\n",
        "    y='Human Performance:Q'\n",
        ")"
      ],
      "execution_count": 0,
      "outputs": []
    },
    {
      "cell_type": "code",
      "metadata": {
        "id": "imePnEI28z2i",
        "colab_type": "code",
        "colab": {
          "base_uri": "https://localhost:8080/",
          "height": 641
        },
        "outputId": "b5a0d2d1-5da1-4458-99cb-f8d3e1bfb805"
      },
      "source": [
        "(imn_bars + imn_text + imn_rule).properties(height=500)"
      ],
      "execution_count": 309,
      "outputs": [
        {
          "output_type": "execute_result",
          "data": {
            "text/plain": [
              "alt.LayerChart(...)"
            ],
            "text/html": [
              "<!DOCTYPE html>\n",
              "<html>\n",
              "<head>\n",
              "  <style>\n",
              "    .vega-actions a {\n",
              "        margin-right: 12px;\n",
              "        color: #757575;\n",
              "        font-weight: normal;\n",
              "        font-size: 13px;\n",
              "    }\n",
              "    .error {\n",
              "        color: red;\n",
              "    }\n",
              "  </style>\n",
              "  <script type=\"text/javascript\" src=\"https://cdn.jsdelivr.net/npm//vega@5\"></script>\n",
              "  <script type=\"text/javascript\" src=\"https://cdn.jsdelivr.net/npm//vega-lite@3.4.0\"></script>\n",
              "  <script type=\"text/javascript\" src=\"https://cdn.jsdelivr.net/npm//vega-embed@4\"></script>\n",
              "</head>\n",
              "<body>\n",
              "  <div id=\"altair-viz\"></div>\n",
              "  <script>\n",
              "    (function(vegaEmbed) {\n",
              "      var spec = {\"usermeta\": {\"embedOptions\": {\"theme\": \"fivethirtyeight\"}}, \"config\": {\"view\": {\"width\": 400, \"height\": 300}, \"mark\": {\"tooltip\": null}}, \"layer\": [{\"mark\": {\"type\": \"bar\", \"color\": \"blue\", \"size\": 42}, \"encoding\": {\"x\": {\"type\": \"ordinal\", \"field\": \"Year\"}, \"y\": {\"type\": \"quantitative\", \"axis\": {\"format\": \".0%\", \"tickCount\": 5}, \"field\": \"Best AI System\", \"title\": \"Accuracy\"}}, \"height\": 500, \"title\": \"ImageNet Image Classification Accuracy 2010-2017\", \"width\": 600}, {\"mark\": {\"type\": \"text\", \"align\": \"center\", \"baseline\": \"top\", \"color\": \"black\", \"dy\": -15}, \"encoding\": {\"text\": {\"type\": \"nominal\", \"field\": \"AI Accuracy Percent\"}, \"x\": {\"type\": \"ordinal\", \"field\": \"Year\"}, \"y\": {\"type\": \"quantitative\", \"axis\": {\"format\": \".0%\", \"tickCount\": 5}, \"field\": \"Best AI System\", \"title\": \"Accuracy\"}}, \"height\": 500, \"title\": \"ImageNet Image Classification Accuracy 2010-2017\", \"width\": 600}, {\"mark\": {\"type\": \"rule\", \"color\": \"red\", \"size\": 4}, \"encoding\": {\"y\": {\"type\": \"quantitative\", \"field\": \"Human Performance\"}}}], \"data\": {\"name\": \"data-90dbe1c3dcd5b6e845ef684943c7efaf\"}, \"height\": 500, \"$schema\": \"https://vega.github.io/schema/vega-lite/v3.4.0.json\", \"datasets\": {\"data-90dbe1c3dcd5b6e845ef684943c7efaf\": [{\"Year\": 2010, \"Best AI System\": 0.718, \"Human Performance\": 0.9490000000000001, \"AI Localization Accuracy\": 0, \"AI Classification Error\": \"28.19%\", \"Human Classification Error\": \"5.10%\", \"AI Accuracy Percent\": \"71.8%\"}, {\"Year\": 2011, \"Best AI System\": 0.742, \"Human Performance\": 0.9490000000000001, \"AI Localization Accuracy\": \"57.50%\", \"AI Classification Error\": \"25.77%\", \"Human Classification Error\": \"5.10%\", \"AI Accuracy Percent\": \"74.2%\"}, {\"Year\": 2012, \"Best AI System\": 0.847, \"Human Performance\": 0.9490000000000001, \"AI Localization Accuracy\": \"66.45%\", \"AI Classification Error\": \"15.31%\", \"Human Classification Error\": \"5.10%\", \"AI Accuracy Percent\": \"84.7%\"}, {\"Year\": 2013, \"Best AI System\": 0.888, \"Human Performance\": 0.9490000000000001, \"AI Localization Accuracy\": \"70.12%\", \"AI Classification Error\": \"11.20%\", \"Human Classification Error\": \"5.10%\", \"AI Accuracy Percent\": \"88.8%\"}, {\"Year\": 2014, \"Best AI System\": 0.9329999999999999, \"Human Performance\": 0.9490000000000001, \"AI Localization Accuracy\": \"74.68%\", \"AI Classification Error\": \"6.66%\", \"Human Classification Error\": \"5.10%\", \"AI Accuracy Percent\": \"93.3%\"}, {\"Year\": 2015, \"Best AI System\": 0.9640000000000001, \"Human Performance\": 0.9490000000000001, \"AI Localization Accuracy\": \"90.98%\", \"AI Classification Error\": \"3.57%\", \"Human Classification Error\": \"5.10%\", \"AI Accuracy Percent\": \"96.4%\"}, {\"Year\": 2016, \"Best AI System\": 0.97, \"Human Performance\": 0.9490000000000001, \"AI Localization Accuracy\": \"92.29%\", \"AI Classification Error\": \"2.99%\", \"Human Classification Error\": \"5.10%\", \"AI Accuracy Percent\": \"97.0%\"}, {\"Year\": 2017, \"Best AI System\": 0.978, \"Human Performance\": 0.9490000000000001, \"AI Localization Accuracy\": \"93.77%\", \"AI Classification Error\": \"2.25%\", \"Human Classification Error\": \"5.10%\", \"AI Accuracy Percent\": \"97.8%\"}]}};\n",
              "      var embedOpt = {\"mode\": \"vega-lite\"};\n",
              "\n",
              "      function showError(el, error){\n",
              "          el.innerHTML = ('<div class=\"error\" style=\"color:red;\">'\n",
              "                          + '<p>JavaScript Error: ' + error.message + '</p>'\n",
              "                          + \"<p>This usually means there's a typo in your chart specification. \"\n",
              "                          + \"See the javascript console for the full traceback.</p>\"\n",
              "                          + '</div>');\n",
              "          throw error;\n",
              "      }\n",
              "      const el = document.getElementById('altair-viz');\n",
              "      vegaEmbed(\"#altair-viz\", spec, embedOpt)\n",
              "        .catch(error => showError(el, error));\n",
              "    })(vegaEmbed);\n",
              "\n",
              "  </script>\n",
              "</body>\n",
              "</html>"
            ]
          },
          "metadata": {
            "tags": []
          },
          "execution_count": 309
        }
      ]
    },
    {
      "cell_type": "code",
      "metadata": {
        "id": "9PY-Er7K846e",
        "colab_type": "code",
        "colab": {}
      },
      "source": [
        "gan_uses = pd.DataFrame({\"Category\":['Synthesis', 'Reconstruction', 'Segmentation', 'Classification', 'Detection', 'Registration', 'Others'], \n",
        "                         \"Percent\":[.46, .20, .17, .08, .03, .03, .03]})"
      ],
      "execution_count": 0,
      "outputs": []
    },
    {
      "cell_type": "code",
      "metadata": {
        "id": "cUKIdKSOUcq_",
        "colab_type": "code",
        "colab": {
          "base_uri": "https://localhost:8080/",
          "height": 266
        },
        "outputId": "8923be44-6e43-42a3-b750-5656f62744c3"
      },
      "source": [
        "gan_uses"
      ],
      "execution_count": 253,
      "outputs": [
        {
          "output_type": "execute_result",
          "data": {
            "text/html": [
              "<div>\n",
              "<style scoped>\n",
              "    .dataframe tbody tr th:only-of-type {\n",
              "        vertical-align: middle;\n",
              "    }\n",
              "\n",
              "    .dataframe tbody tr th {\n",
              "        vertical-align: top;\n",
              "    }\n",
              "\n",
              "    .dataframe thead th {\n",
              "        text-align: right;\n",
              "    }\n",
              "</style>\n",
              "<table border=\"1\" class=\"dataframe\">\n",
              "  <thead>\n",
              "    <tr style=\"text-align: right;\">\n",
              "      <th></th>\n",
              "      <th>Category</th>\n",
              "      <th>Percent</th>\n",
              "    </tr>\n",
              "  </thead>\n",
              "  <tbody>\n",
              "    <tr>\n",
              "      <th>0</th>\n",
              "      <td>Synthesis</td>\n",
              "      <td>0.46</td>\n",
              "    </tr>\n",
              "    <tr>\n",
              "      <th>1</th>\n",
              "      <td>Reconstruction</td>\n",
              "      <td>0.20</td>\n",
              "    </tr>\n",
              "    <tr>\n",
              "      <th>2</th>\n",
              "      <td>Segmentation</td>\n",
              "      <td>0.17</td>\n",
              "    </tr>\n",
              "    <tr>\n",
              "      <th>3</th>\n",
              "      <td>Classification</td>\n",
              "      <td>0.08</td>\n",
              "    </tr>\n",
              "    <tr>\n",
              "      <th>4</th>\n",
              "      <td>Detection</td>\n",
              "      <td>0.03</td>\n",
              "    </tr>\n",
              "    <tr>\n",
              "      <th>5</th>\n",
              "      <td>Registration</td>\n",
              "      <td>0.03</td>\n",
              "    </tr>\n",
              "    <tr>\n",
              "      <th>6</th>\n",
              "      <td>Others</td>\n",
              "      <td>0.03</td>\n",
              "    </tr>\n",
              "  </tbody>\n",
              "</table>\n",
              "</div>"
            ],
            "text/plain": [
              "         Category  Percent\n",
              "0       Synthesis     0.46\n",
              "1  Reconstruction     0.20\n",
              "2    Segmentation     0.17\n",
              "3  Classification     0.08\n",
              "4       Detection     0.03\n",
              "5    Registration     0.03\n",
              "6          Others     0.03"
            ]
          },
          "metadata": {
            "tags": []
          },
          "execution_count": 253
        }
      ]
    },
    {
      "cell_type": "code",
      "metadata": {
        "id": "y-jGPh4uPp45",
        "colab_type": "code",
        "colab": {
          "base_uri": "https://localhost:8080/",
          "height": 524
        },
        "outputId": "035d50ad-7dbc-427d-b54c-c5e6129567dc"
      },
      "source": [
        "Chart(gan_uses, title=\"Uses of GANs in GAN-Related Papers\").properties(\n",
        "    width=800, \n",
        "    height=400,\n",
        "    background='#F9F9F9'\n",
        ").mark_bar(\n",
        "    size=40,\n",
        "    color='blue'\n",
        ").encode(\n",
        "    x=alt.X('Percent:Q', \n",
        "            axis=alt.Axis(format='%'),\n",
        "            scale=alt.Scale(domain=[0.0, 0.5]), \n",
        "            title = 'Percentage of GAN-Related Papers'\n",
        "    ),\n",
        "    y=alt.Y(\"Category:N\", \n",
        "            sort=alt.SortField(\n",
        "                field=\"Percent:Q\",  # The field to use for the sort\n",
        "                order=\"descending\"  # The order to sort in\n",
        "            ),\n",
        "            title = 'Useage Category'\n",
        "    )\n",
        ").configure_axis(\n",
        "    labelFontSize=11,\n",
        "    labelColor='black'\n",
        ")"
      ],
      "execution_count": 254,
      "outputs": [
        {
          "output_type": "execute_result",
          "data": {
            "text/plain": [
              "alt.Chart(...)"
            ],
            "text/html": [
              "<!DOCTYPE html>\n",
              "<html>\n",
              "<head>\n",
              "  <style>\n",
              "    .vega-actions a {\n",
              "        margin-right: 12px;\n",
              "        color: #757575;\n",
              "        font-weight: normal;\n",
              "        font-size: 13px;\n",
              "    }\n",
              "    .error {\n",
              "        color: red;\n",
              "    }\n",
              "  </style>\n",
              "  <script type=\"text/javascript\" src=\"https://cdn.jsdelivr.net/npm//vega@5\"></script>\n",
              "  <script type=\"text/javascript\" src=\"https://cdn.jsdelivr.net/npm//vega-lite@3.4.0\"></script>\n",
              "  <script type=\"text/javascript\" src=\"https://cdn.jsdelivr.net/npm//vega-embed@4\"></script>\n",
              "</head>\n",
              "<body>\n",
              "  <div id=\"altair-viz\"></div>\n",
              "  <script>\n",
              "    (function(vegaEmbed) {\n",
              "      var spec = {\"usermeta\": {\"embedOptions\": {\"theme\": \"fivethirtyeight\"}}, \"config\": {\"view\": {\"width\": 400, \"height\": 300}, \"mark\": {\"tooltip\": null}, \"axis\": {\"labelColor\": \"black\", \"labelFontSize\": 11}}, \"data\": {\"name\": \"data-5a15248bf6d756fe4039cb463daf6139\"}, \"mark\": {\"type\": \"bar\", \"color\": \"blue\", \"size\": 40}, \"background\": \"#F9F9F9\", \"encoding\": {\"x\": {\"type\": \"quantitative\", \"axis\": {\"format\": \"%\"}, \"field\": \"Percent\", \"scale\": {\"domain\": [0.0, 0.5]}, \"title\": \"Percentage of GAN-Related Papers\"}, \"y\": {\"type\": \"nominal\", \"field\": \"Category\", \"sort\": {\"field\": \"Percent:Q\", \"order\": \"descending\"}, \"title\": \"Useage Category\"}}, \"height\": 400, \"title\": \"Uses of GANs in GAN-Related Papers\", \"width\": 800, \"$schema\": \"https://vega.github.io/schema/vega-lite/v3.4.0.json\", \"datasets\": {\"data-5a15248bf6d756fe4039cb463daf6139\": [{\"Category\": \"Synthesis\", \"Percent\": 0.46}, {\"Category\": \"Reconstruction\", \"Percent\": 0.2}, {\"Category\": \"Segmentation\", \"Percent\": 0.17}, {\"Category\": \"Classification\", \"Percent\": 0.08}, {\"Category\": \"Detection\", \"Percent\": 0.03}, {\"Category\": \"Registration\", \"Percent\": 0.03}, {\"Category\": \"Others\", \"Percent\": 0.03}]}};\n",
              "      var embedOpt = {\"mode\": \"vega-lite\"};\n",
              "\n",
              "      function showError(el, error){\n",
              "          el.innerHTML = ('<div class=\"error\" style=\"color:red;\">'\n",
              "                          + '<p>JavaScript Error: ' + error.message + '</p>'\n",
              "                          + \"<p>This usually means there's a typo in your chart specification. \"\n",
              "                          + \"See the javascript console for the full traceback.</p>\"\n",
              "                          + '</div>');\n",
              "          throw error;\n",
              "      }\n",
              "      const el = document.getElementById('altair-viz');\n",
              "      vegaEmbed(\"#altair-viz\", spec, embedOpt)\n",
              "        .catch(error => showError(el, error));\n",
              "    })(vegaEmbed);\n",
              "\n",
              "  </script>\n",
              "</body>\n",
              "</html>"
            ]
          },
          "metadata": {
            "tags": []
          },
          "execution_count": 254
        }
      ]
    },
    {
      "cell_type": "code",
      "metadata": {
        "id": "6V4yZFe-Qz22",
        "colab_type": "code",
        "colab": {}
      },
      "source": [
        "nlp_source = 'https://raw.githubusercontent.com/btlewisusabtlewis/DataVisualizationClass/master/SuperGLUE%20NLP%20Leaderboard%202019.csv'"
      ],
      "execution_count": 0,
      "outputs": []
    },
    {
      "cell_type": "code",
      "metadata": {
        "id": "YOulJe54ui8Q",
        "colab_type": "code",
        "colab": {}
      },
      "source": [
        "nlp = pd.read_csv(nlp_source)"
      ],
      "execution_count": 0,
      "outputs": []
    },
    {
      "cell_type": "code",
      "metadata": {
        "id": "OWfXz895u8IF",
        "colab_type": "code",
        "colab": {
          "base_uri": "https://localhost:8080/",
          "height": 204
        },
        "outputId": "c255b1dd-ea68-4686-f94d-bb55e5e8c071"
      },
      "source": [
        "nlp.head()"
      ],
      "execution_count": 257,
      "outputs": [
        {
          "output_type": "execute_result",
          "data": {
            "text/html": [
              "<div>\n",
              "<style scoped>\n",
              "    .dataframe tbody tr th:only-of-type {\n",
              "        vertical-align: middle;\n",
              "    }\n",
              "\n",
              "    .dataframe tbody tr th {\n",
              "        vertical-align: top;\n",
              "    }\n",
              "\n",
              "    .dataframe thead th {\n",
              "        text-align: right;\n",
              "    }\n",
              "</style>\n",
              "<table border=\"1\" class=\"dataframe\">\n",
              "  <thead>\n",
              "    <tr style=\"text-align: right;\">\n",
              "      <th></th>\n",
              "      <th>Model</th>\n",
              "      <th>Score</th>\n",
              "      <th>BoolQ</th>\n",
              "      <th>CB</th>\n",
              "      <th>COPA</th>\n",
              "      <th>MultiRC</th>\n",
              "      <th>ReCoRD</th>\n",
              "      <th>RTE</th>\n",
              "      <th>WiC</th>\n",
              "      <th>WSC</th>\n",
              "      <th>AX-b</th>\n",
              "      <th>AX-g</th>\n",
              "    </tr>\n",
              "  </thead>\n",
              "  <tbody>\n",
              "    <tr>\n",
              "      <th>0</th>\n",
              "      <td>SuperGLUE Human Baselines</td>\n",
              "      <td>89.8</td>\n",
              "      <td>89.0</td>\n",
              "      <td>95.8/98.9</td>\n",
              "      <td>100.0</td>\n",
              "      <td>81.8/51.9</td>\n",
              "      <td>91.7/91.3</td>\n",
              "      <td>93.6</td>\n",
              "      <td>80.0</td>\n",
              "      <td>100.0</td>\n",
              "      <td>76.6</td>\n",
              "      <td>99.3/99.7</td>\n",
              "    </tr>\n",
              "    <tr>\n",
              "      <th>1</th>\n",
              "      <td>Google: T5 Team</td>\n",
              "      <td>88.9</td>\n",
              "      <td>91.0</td>\n",
              "      <td>93.0/96.4</td>\n",
              "      <td>94.8</td>\n",
              "      <td>88.2/62.3</td>\n",
              "      <td>93.3/92.5</td>\n",
              "      <td>92.5</td>\n",
              "      <td>76.1</td>\n",
              "      <td>93.8</td>\n",
              "      <td>65.6</td>\n",
              "      <td>92.7/91.9</td>\n",
              "    </tr>\n",
              "    <tr>\n",
              "      <th>2</th>\n",
              "      <td>Facebook AI: RoBERTa</td>\n",
              "      <td>84.6</td>\n",
              "      <td>87.1</td>\n",
              "      <td>90.5/95.2</td>\n",
              "      <td>90.6</td>\n",
              "      <td>84.4/52.5</td>\n",
              "      <td>90.6/90.0</td>\n",
              "      <td>88.2</td>\n",
              "      <td>69.9</td>\n",
              "      <td>89.0</td>\n",
              "      <td>57.9</td>\n",
              "      <td>91.0/78.1</td>\n",
              "    </tr>\n",
              "    <tr>\n",
              "      <th>3</th>\n",
              "      <td>IBM Research AI: BERT-mtl</td>\n",
              "      <td>73.5</td>\n",
              "      <td>84.8</td>\n",
              "      <td>89.6/94.0</td>\n",
              "      <td>73.8</td>\n",
              "      <td>73.2/30.5</td>\n",
              "      <td>74.6/74.0</td>\n",
              "      <td>84.1</td>\n",
              "      <td>66.2</td>\n",
              "      <td>61.0</td>\n",
              "      <td>29.6</td>\n",
              "      <td>97.8/57.3</td>\n",
              "    </tr>\n",
              "    <tr>\n",
              "      <th>4</th>\n",
              "      <td>Baseline: BERT++</td>\n",
              "      <td>71.5</td>\n",
              "      <td>79.0</td>\n",
              "      <td>84.8/90.4</td>\n",
              "      <td>73.8</td>\n",
              "      <td>70.0/24.1</td>\n",
              "      <td>72.0/71.3</td>\n",
              "      <td>79.0</td>\n",
              "      <td>69.6</td>\n",
              "      <td>64.4</td>\n",
              "      <td>38.0</td>\n",
              "      <td>99.4/51.4</td>\n",
              "    </tr>\n",
              "  </tbody>\n",
              "</table>\n",
              "</div>"
            ],
            "text/plain": [
              "                       Model  Score  BoolQ  ...    WSC  AX-b       AX-g\n",
              "0  SuperGLUE Human Baselines   89.8   89.0  ...  100.0  76.6  99.3/99.7\n",
              "1            Google: T5 Team   88.9   91.0  ...   93.8  65.6  92.7/91.9\n",
              "2       Facebook AI: RoBERTa   84.6   87.1  ...   89.0  57.9  91.0/78.1\n",
              "3  IBM Research AI: BERT-mtl   73.5   84.8  ...   61.0  29.6  97.8/57.3\n",
              "4           Baseline: BERT++   71.5   79.0  ...   64.4  38.0  99.4/51.4\n",
              "\n",
              "[5 rows x 12 columns]"
            ]
          },
          "metadata": {
            "tags": []
          },
          "execution_count": 257
        }
      ]
    },
    {
      "cell_type": "code",
      "metadata": {
        "id": "q4c7hEiBu9rJ",
        "colab_type": "code",
        "colab": {}
      },
      "source": [
        "nlp['NormalizedScore'] = nlp['Score']/89.8"
      ],
      "execution_count": 0,
      "outputs": []
    },
    {
      "cell_type": "code",
      "metadata": {
        "id": "sz1SNItEvclE",
        "colab_type": "code",
        "colab": {
          "base_uri": "https://localhost:8080/",
          "height": 204
        },
        "outputId": "44eaf5d4-fd67-4604-b2ce-bfdbcbfc60ca"
      },
      "source": [
        "nlp.head()"
      ],
      "execution_count": 259,
      "outputs": [
        {
          "output_type": "execute_result",
          "data": {
            "text/html": [
              "<div>\n",
              "<style scoped>\n",
              "    .dataframe tbody tr th:only-of-type {\n",
              "        vertical-align: middle;\n",
              "    }\n",
              "\n",
              "    .dataframe tbody tr th {\n",
              "        vertical-align: top;\n",
              "    }\n",
              "\n",
              "    .dataframe thead th {\n",
              "        text-align: right;\n",
              "    }\n",
              "</style>\n",
              "<table border=\"1\" class=\"dataframe\">\n",
              "  <thead>\n",
              "    <tr style=\"text-align: right;\">\n",
              "      <th></th>\n",
              "      <th>Model</th>\n",
              "      <th>Score</th>\n",
              "      <th>BoolQ</th>\n",
              "      <th>CB</th>\n",
              "      <th>COPA</th>\n",
              "      <th>MultiRC</th>\n",
              "      <th>ReCoRD</th>\n",
              "      <th>RTE</th>\n",
              "      <th>WiC</th>\n",
              "      <th>WSC</th>\n",
              "      <th>AX-b</th>\n",
              "      <th>AX-g</th>\n",
              "      <th>NormalizedScore</th>\n",
              "    </tr>\n",
              "  </thead>\n",
              "  <tbody>\n",
              "    <tr>\n",
              "      <th>0</th>\n",
              "      <td>SuperGLUE Human Baselines</td>\n",
              "      <td>89.8</td>\n",
              "      <td>89.0</td>\n",
              "      <td>95.8/98.9</td>\n",
              "      <td>100.0</td>\n",
              "      <td>81.8/51.9</td>\n",
              "      <td>91.7/91.3</td>\n",
              "      <td>93.6</td>\n",
              "      <td>80.0</td>\n",
              "      <td>100.0</td>\n",
              "      <td>76.6</td>\n",
              "      <td>99.3/99.7</td>\n",
              "      <td>1.000000</td>\n",
              "    </tr>\n",
              "    <tr>\n",
              "      <th>1</th>\n",
              "      <td>Google: T5 Team</td>\n",
              "      <td>88.9</td>\n",
              "      <td>91.0</td>\n",
              "      <td>93.0/96.4</td>\n",
              "      <td>94.8</td>\n",
              "      <td>88.2/62.3</td>\n",
              "      <td>93.3/92.5</td>\n",
              "      <td>92.5</td>\n",
              "      <td>76.1</td>\n",
              "      <td>93.8</td>\n",
              "      <td>65.6</td>\n",
              "      <td>92.7/91.9</td>\n",
              "      <td>0.989978</td>\n",
              "    </tr>\n",
              "    <tr>\n",
              "      <th>2</th>\n",
              "      <td>Facebook AI: RoBERTa</td>\n",
              "      <td>84.6</td>\n",
              "      <td>87.1</td>\n",
              "      <td>90.5/95.2</td>\n",
              "      <td>90.6</td>\n",
              "      <td>84.4/52.5</td>\n",
              "      <td>90.6/90.0</td>\n",
              "      <td>88.2</td>\n",
              "      <td>69.9</td>\n",
              "      <td>89.0</td>\n",
              "      <td>57.9</td>\n",
              "      <td>91.0/78.1</td>\n",
              "      <td>0.942094</td>\n",
              "    </tr>\n",
              "    <tr>\n",
              "      <th>3</th>\n",
              "      <td>IBM Research AI: BERT-mtl</td>\n",
              "      <td>73.5</td>\n",
              "      <td>84.8</td>\n",
              "      <td>89.6/94.0</td>\n",
              "      <td>73.8</td>\n",
              "      <td>73.2/30.5</td>\n",
              "      <td>74.6/74.0</td>\n",
              "      <td>84.1</td>\n",
              "      <td>66.2</td>\n",
              "      <td>61.0</td>\n",
              "      <td>29.6</td>\n",
              "      <td>97.8/57.3</td>\n",
              "      <td>0.818486</td>\n",
              "    </tr>\n",
              "    <tr>\n",
              "      <th>4</th>\n",
              "      <td>Baseline: BERT++</td>\n",
              "      <td>71.5</td>\n",
              "      <td>79.0</td>\n",
              "      <td>84.8/90.4</td>\n",
              "      <td>73.8</td>\n",
              "      <td>70.0/24.1</td>\n",
              "      <td>72.0/71.3</td>\n",
              "      <td>79.0</td>\n",
              "      <td>69.6</td>\n",
              "      <td>64.4</td>\n",
              "      <td>38.0</td>\n",
              "      <td>99.4/51.4</td>\n",
              "      <td>0.796214</td>\n",
              "    </tr>\n",
              "  </tbody>\n",
              "</table>\n",
              "</div>"
            ],
            "text/plain": [
              "                       Model  Score  BoolQ  ...  AX-b       AX-g NormalizedScore\n",
              "0  SuperGLUE Human Baselines   89.8   89.0  ...  76.6  99.3/99.7        1.000000\n",
              "1            Google: T5 Team   88.9   91.0  ...  65.6  92.7/91.9        0.989978\n",
              "2       Facebook AI: RoBERTa   84.6   87.1  ...  57.9  91.0/78.1        0.942094\n",
              "3  IBM Research AI: BERT-mtl   73.5   84.8  ...  29.6  97.8/57.3        0.818486\n",
              "4           Baseline: BERT++   71.5   79.0  ...  38.0  99.4/51.4        0.796214\n",
              "\n",
              "[5 rows x 13 columns]"
            ]
          },
          "metadata": {
            "tags": []
          },
          "execution_count": 259
        }
      ]
    },
    {
      "cell_type": "code",
      "metadata": {
        "id": "S7CD16ouRGXb",
        "colab_type": "code",
        "colab": {}
      },
      "source": [
        "nlp['NormalizedScore Text'] = nlp['NormalizedScore'].mul(100).round(1).astype(str) + '%'\n",
        "nlp['Human Score'] = 1.0"
      ],
      "execution_count": 0,
      "outputs": []
    },
    {
      "cell_type": "code",
      "metadata": {
        "id": "-69_-frqRYyR",
        "colab_type": "code",
        "colab": {
          "base_uri": "https://localhost:8080/",
          "height": 204
        },
        "outputId": "66b02a15-5faa-471a-a516-eba4cb766435"
      },
      "source": [
        "nlp.head()"
      ],
      "execution_count": 261,
      "outputs": [
        {
          "output_type": "execute_result",
          "data": {
            "text/html": [
              "<div>\n",
              "<style scoped>\n",
              "    .dataframe tbody tr th:only-of-type {\n",
              "        vertical-align: middle;\n",
              "    }\n",
              "\n",
              "    .dataframe tbody tr th {\n",
              "        vertical-align: top;\n",
              "    }\n",
              "\n",
              "    .dataframe thead th {\n",
              "        text-align: right;\n",
              "    }\n",
              "</style>\n",
              "<table border=\"1\" class=\"dataframe\">\n",
              "  <thead>\n",
              "    <tr style=\"text-align: right;\">\n",
              "      <th></th>\n",
              "      <th>Model</th>\n",
              "      <th>Score</th>\n",
              "      <th>BoolQ</th>\n",
              "      <th>CB</th>\n",
              "      <th>COPA</th>\n",
              "      <th>MultiRC</th>\n",
              "      <th>ReCoRD</th>\n",
              "      <th>RTE</th>\n",
              "      <th>WiC</th>\n",
              "      <th>WSC</th>\n",
              "      <th>AX-b</th>\n",
              "      <th>AX-g</th>\n",
              "      <th>NormalizedScore</th>\n",
              "      <th>NormalizedScore Text</th>\n",
              "      <th>Human Score</th>\n",
              "    </tr>\n",
              "  </thead>\n",
              "  <tbody>\n",
              "    <tr>\n",
              "      <th>0</th>\n",
              "      <td>SuperGLUE Human Baselines</td>\n",
              "      <td>89.8</td>\n",
              "      <td>89.0</td>\n",
              "      <td>95.8/98.9</td>\n",
              "      <td>100.0</td>\n",
              "      <td>81.8/51.9</td>\n",
              "      <td>91.7/91.3</td>\n",
              "      <td>93.6</td>\n",
              "      <td>80.0</td>\n",
              "      <td>100.0</td>\n",
              "      <td>76.6</td>\n",
              "      <td>99.3/99.7</td>\n",
              "      <td>1.000000</td>\n",
              "      <td>100.0%</td>\n",
              "      <td>1.0</td>\n",
              "    </tr>\n",
              "    <tr>\n",
              "      <th>1</th>\n",
              "      <td>Google: T5 Team</td>\n",
              "      <td>88.9</td>\n",
              "      <td>91.0</td>\n",
              "      <td>93.0/96.4</td>\n",
              "      <td>94.8</td>\n",
              "      <td>88.2/62.3</td>\n",
              "      <td>93.3/92.5</td>\n",
              "      <td>92.5</td>\n",
              "      <td>76.1</td>\n",
              "      <td>93.8</td>\n",
              "      <td>65.6</td>\n",
              "      <td>92.7/91.9</td>\n",
              "      <td>0.989978</td>\n",
              "      <td>99.0%</td>\n",
              "      <td>1.0</td>\n",
              "    </tr>\n",
              "    <tr>\n",
              "      <th>2</th>\n",
              "      <td>Facebook AI: RoBERTa</td>\n",
              "      <td>84.6</td>\n",
              "      <td>87.1</td>\n",
              "      <td>90.5/95.2</td>\n",
              "      <td>90.6</td>\n",
              "      <td>84.4/52.5</td>\n",
              "      <td>90.6/90.0</td>\n",
              "      <td>88.2</td>\n",
              "      <td>69.9</td>\n",
              "      <td>89.0</td>\n",
              "      <td>57.9</td>\n",
              "      <td>91.0/78.1</td>\n",
              "      <td>0.942094</td>\n",
              "      <td>94.2%</td>\n",
              "      <td>1.0</td>\n",
              "    </tr>\n",
              "    <tr>\n",
              "      <th>3</th>\n",
              "      <td>IBM Research AI: BERT-mtl</td>\n",
              "      <td>73.5</td>\n",
              "      <td>84.8</td>\n",
              "      <td>89.6/94.0</td>\n",
              "      <td>73.8</td>\n",
              "      <td>73.2/30.5</td>\n",
              "      <td>74.6/74.0</td>\n",
              "      <td>84.1</td>\n",
              "      <td>66.2</td>\n",
              "      <td>61.0</td>\n",
              "      <td>29.6</td>\n",
              "      <td>97.8/57.3</td>\n",
              "      <td>0.818486</td>\n",
              "      <td>81.8%</td>\n",
              "      <td>1.0</td>\n",
              "    </tr>\n",
              "    <tr>\n",
              "      <th>4</th>\n",
              "      <td>Baseline: BERT++</td>\n",
              "      <td>71.5</td>\n",
              "      <td>79.0</td>\n",
              "      <td>84.8/90.4</td>\n",
              "      <td>73.8</td>\n",
              "      <td>70.0/24.1</td>\n",
              "      <td>72.0/71.3</td>\n",
              "      <td>79.0</td>\n",
              "      <td>69.6</td>\n",
              "      <td>64.4</td>\n",
              "      <td>38.0</td>\n",
              "      <td>99.4/51.4</td>\n",
              "      <td>0.796214</td>\n",
              "      <td>79.6%</td>\n",
              "      <td>1.0</td>\n",
              "    </tr>\n",
              "  </tbody>\n",
              "</table>\n",
              "</div>"
            ],
            "text/plain": [
              "                       Model  Score  ...  NormalizedScore Text Human Score\n",
              "0  SuperGLUE Human Baselines   89.8  ...                100.0%         1.0\n",
              "1            Google: T5 Team   88.9  ...                 99.0%         1.0\n",
              "2       Facebook AI: RoBERTa   84.6  ...                 94.2%         1.0\n",
              "3  IBM Research AI: BERT-mtl   73.5  ...                 81.8%         1.0\n",
              "4           Baseline: BERT++   71.5  ...                 79.6%         1.0\n",
              "\n",
              "[5 rows x 15 columns]"
            ]
          },
          "metadata": {
            "tags": []
          },
          "execution_count": 261
        }
      ]
    },
    {
      "cell_type": "code",
      "metadata": {
        "id": "07roWVH-ve8i",
        "colab_type": "code",
        "colab": {
          "base_uri": "https://localhost:8080/",
          "height": 577
        },
        "outputId": "7ef716d0-eac2-42c8-d182-2e1b175be4ef"
      },
      "source": [
        "bars = Chart(nlp, title=\"SuperGLUE Natural Language Understanding Results 2019\").properties(\n",
        "    width=800, \n",
        "    height=450\n",
        ").mark_bar(\n",
        "    size=38,\n",
        "    color='blue'\n",
        ").encode(\n",
        "    x=alt.X('NormalizedScore:Q', \n",
        "            axis=alt.Axis(format='%'),\n",
        "            #scale=alt.Scale(domain=[0.0, 0.5]), \n",
        "            title = 'SuperGLUE Benchmark Score, Rescaled With Human Performance at 100%'\n",
        "    ),\n",
        "    y=alt.Y(\"Model:N\", \n",
        "            sort=alt.SortField(\n",
        "                field=\"NormalizedScore:Q\",  # The field to use for the sort\n",
        "                order=\"descending\"  # The order to sort in\n",
        "            ),\n",
        "            title = 'Model'\n",
        "    )\n",
        ")\n",
        "\n",
        "text = bars.mark_text(\n",
        "    align='left',\n",
        "    baseline='middle',\n",
        "    dx=3,  # Nudges text to right so it doesn't appear on top of the bar\n",
        "    color='black'\n",
        ").encode(\n",
        "    text='NormalizedScore Text:N'\n",
        ")\n",
        "\n",
        "rule = Chart(nlp).mark_rule(color='red', size=4).encode(\n",
        "    x='Human Score:Q'\n",
        ")\n",
        "\n",
        "(bars + text + rule).properties(height=450)"
      ],
      "execution_count": 310,
      "outputs": [
        {
          "output_type": "execute_result",
          "data": {
            "text/plain": [
              "alt.LayerChart(...)"
            ],
            "text/html": [
              "<!DOCTYPE html>\n",
              "<html>\n",
              "<head>\n",
              "  <style>\n",
              "    .vega-actions a {\n",
              "        margin-right: 12px;\n",
              "        color: #757575;\n",
              "        font-weight: normal;\n",
              "        font-size: 13px;\n",
              "    }\n",
              "    .error {\n",
              "        color: red;\n",
              "    }\n",
              "  </style>\n",
              "  <script type=\"text/javascript\" src=\"https://cdn.jsdelivr.net/npm//vega@5\"></script>\n",
              "  <script type=\"text/javascript\" src=\"https://cdn.jsdelivr.net/npm//vega-lite@3.4.0\"></script>\n",
              "  <script type=\"text/javascript\" src=\"https://cdn.jsdelivr.net/npm//vega-embed@4\"></script>\n",
              "</head>\n",
              "<body>\n",
              "  <div id=\"altair-viz\"></div>\n",
              "  <script>\n",
              "    (function(vegaEmbed) {\n",
              "      var spec = {\"usermeta\": {\"embedOptions\": {\"theme\": \"fivethirtyeight\"}}, \"config\": {\"view\": {\"width\": 400, \"height\": 300}, \"mark\": {\"tooltip\": null}}, \"layer\": [{\"mark\": {\"type\": \"bar\", \"color\": \"blue\", \"size\": 38}, \"encoding\": {\"x\": {\"type\": \"quantitative\", \"axis\": {\"format\": \"%\"}, \"field\": \"NormalizedScore\", \"title\": \"SuperGLUE Benchmark Score, Rescaled With Human Performance at 100%\"}, \"y\": {\"type\": \"nominal\", \"field\": \"Model\", \"sort\": {\"field\": \"NormalizedScore:Q\", \"order\": \"descending\"}, \"title\": \"Model\"}}, \"height\": 450, \"title\": \"SuperGLUE Natural Language Understanding Results 2019\", \"width\": 800}, {\"mark\": {\"type\": \"text\", \"align\": \"left\", \"baseline\": \"middle\", \"color\": \"black\", \"dx\": 3}, \"encoding\": {\"text\": {\"type\": \"nominal\", \"field\": \"NormalizedScore Text\"}, \"x\": {\"type\": \"quantitative\", \"axis\": {\"format\": \"%\"}, \"field\": \"NormalizedScore\", \"title\": \"SuperGLUE Benchmark Score, Rescaled With Human Performance at 100%\"}, \"y\": {\"type\": \"nominal\", \"field\": \"Model\", \"sort\": {\"field\": \"NormalizedScore:Q\", \"order\": \"descending\"}, \"title\": \"Model\"}}, \"height\": 450, \"title\": \"SuperGLUE Natural Language Understanding Results 2019\", \"width\": 800}, {\"mark\": {\"type\": \"rule\", \"color\": \"red\", \"size\": 4}, \"encoding\": {\"x\": {\"type\": \"quantitative\", \"field\": \"Human Score\"}}}], \"data\": {\"name\": \"data-3c905c355ddb23b628fa415e9ec7e083\"}, \"height\": 450, \"$schema\": \"https://vega.github.io/schema/vega-lite/v3.4.0.json\", \"datasets\": {\"data-3c905c355ddb23b628fa415e9ec7e083\": [{\"Model\": \"SuperGLUE Human Baselines\", \"Score\": 89.8, \"BoolQ\": 89.0, \"CB\": \"95.8/98.9\", \"COPA\": 100.0, \"MultiRC\": \"81.8/51.9\", \"ReCoRD\": \"91.7/91.3\", \"RTE\": 93.6, \"WiC\": 80.0, \"WSC\": 100.0, \"AX-b\": 76.6, \"AX-g\": \"99.3/99.7\", \"NormalizedScore\": 1.0, \"NormalizedScore Text\": \"100.0%\", \"Human Score\": 1.0}, {\"Model\": \"Google: T5 Team\", \"Score\": 88.9, \"BoolQ\": 91.0, \"CB\": \"93.0/96.4\", \"COPA\": 94.8, \"MultiRC\": \"88.2/62.3\", \"ReCoRD\": \"93.3/92.5\", \"RTE\": 92.5, \"WiC\": 76.1, \"WSC\": 93.8, \"AX-b\": 65.6, \"AX-g\": \"92.7/91.9\", \"NormalizedScore\": 0.989977728285078, \"NormalizedScore Text\": \"99.0%\", \"Human Score\": 1.0}, {\"Model\": \"Facebook AI: RoBERTa\", \"Score\": 84.6, \"BoolQ\": 87.1, \"CB\": \"90.5/95.2\", \"COPA\": 90.6, \"MultiRC\": \"84.4/52.5\", \"ReCoRD\": \"90.6/90.0\", \"RTE\": 88.2, \"WiC\": 69.9, \"WSC\": 89.0, \"AX-b\": 57.9, \"AX-g\": \"91.0/78.1\", \"NormalizedScore\": 0.9420935412026725, \"NormalizedScore Text\": \"94.2%\", \"Human Score\": 1.0}, {\"Model\": \"IBM Research AI: BERT-mtl\", \"Score\": 73.5, \"BoolQ\": 84.8, \"CB\": \"89.6/94.0\", \"COPA\": 73.8, \"MultiRC\": \"73.2/30.5\", \"ReCoRD\": \"74.6/74.0\", \"RTE\": 84.1, \"WiC\": 66.2, \"WSC\": 61.0, \"AX-b\": 29.6, \"AX-g\": \"97.8/57.3\", \"NormalizedScore\": 0.8184855233853007, \"NormalizedScore Text\": \"81.8%\", \"Human Score\": 1.0}, {\"Model\": \"Baseline: BERT++\", \"Score\": 71.5, \"BoolQ\": 79.0, \"CB\": \"84.8/90.4\", \"COPA\": 73.8, \"MultiRC\": \"70.0/24.1\", \"ReCoRD\": \"72.0/71.3\", \"RTE\": 79.0, \"WiC\": 69.6, \"WSC\": 64.4, \"AX-b\": 38.0, \"AX-g\": \"99.4/51.4\", \"NormalizedScore\": 0.7962138084632517, \"NormalizedScore Text\": \"79.6%\", \"Human Score\": 1.0}, {\"Model\": \"Baseline: BERT\", \"Score\": 69.0, \"BoolQ\": 77.4, \"CB\": \"75.7/83.6\", \"COPA\": 70.6, \"MultiRC\": \"70.0/24.1\", \"ReCoRD\": \"72.0/71.3\", \"RTE\": 71.7, \"WiC\": 69.6, \"WSC\": 64.4, \"AX-b\": 23.0, \"AX-g\": \"97.8/51.7\", \"NormalizedScore\": 0.7683741648106904, \"NormalizedScore Text\": \"76.8%\", \"Human Score\": 1.0}, {\"Model\": \"Baseline: Most Frequent Class\", \"Score\": 47.1, \"BoolQ\": 62.3, \"CB\": \"21.7/48.4\", \"COPA\": 50.0, \"MultiRC\": \"61.1/0.3\", \"ReCoRD\": \"33.4/32.5\", \"RTE\": 50.3, \"WiC\": 50.0, \"WSC\": 65.1, \"AX-b\": 0.0, \"AX-g\": \"100.0/50.0\", \"NormalizedScore\": 0.5244988864142539, \"NormalizedScore Text\": \"52.4%\", \"Human Score\": 1.0}, {\"Model\": \"Baseline: CBoW\", \"Score\": 44.5, \"BoolQ\": 62.2, \"CB\": \"49.0/71.2\", \"COPA\": 51.6, \"MultiRC\": \"0.0/0.5\", \"ReCoRD\": \"14.0/13.6\", \"RTE\": 49.7, \"WiC\": 53.1, \"WSC\": 65.1, \"AX-b\": -0.4, \"AX-g\": \"100.0/50.0\", \"NormalizedScore\": 0.4955456570155902, \"NormalizedScore Text\": \"49.6%\", \"Human Score\": 1.0}]}};\n",
              "      var embedOpt = {\"mode\": \"vega-lite\"};\n",
              "\n",
              "      function showError(el, error){\n",
              "          el.innerHTML = ('<div class=\"error\" style=\"color:red;\">'\n",
              "                          + '<p>JavaScript Error: ' + error.message + '</p>'\n",
              "                          + \"<p>This usually means there's a typo in your chart specification. \"\n",
              "                          + \"See the javascript console for the full traceback.</p>\"\n",
              "                          + '</div>');\n",
              "          throw error;\n",
              "      }\n",
              "      const el = document.getElementById('altair-viz');\n",
              "      vegaEmbed(\"#altair-viz\", spec, embedOpt)\n",
              "        .catch(error => showError(el, error));\n",
              "    })(vegaEmbed);\n",
              "\n",
              "  </script>\n",
              "</body>\n",
              "</html>"
            ]
          },
          "metadata": {
            "tags": []
          },
          "execution_count": 310
        }
      ]
    },
    {
      "cell_type": "code",
      "metadata": {
        "id": "7VVg6iiOwn3W",
        "colab_type": "code",
        "colab": {}
      },
      "source": [
        ""
      ],
      "execution_count": 0,
      "outputs": []
    }
  ]
}